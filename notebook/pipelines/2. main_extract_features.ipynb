{
 "cells": [
  {
   "cell_type": "code",
   "execution_count": 1,
   "id": "b9acbd6a",
   "metadata": {},
   "outputs": [],
   "source": [
    "import sys\n",
    "import glob, os\n",
    "import json\n",
    "\n",
    "import pandas as pd\n",
    "sys.path.insert(1, '/scratch/cinthiasouza/mv-text-summarizer')\n"
   ]
  },
  {
   "cell_type": "code",
   "execution_count": 2,
   "id": "9b90a862",
   "metadata": {},
   "outputs": [
    {
     "name": "stdout",
     "output_type": "stream",
     "text": [
      "oi\n"
     ]
    }
   ],
   "source": [
    "print('oi')"
   ]
  },
  {
   "cell_type": "code",
   "execution_count": 7,
   "id": "9023aae1",
   "metadata": {},
   "outputs": [
    {
     "name": "stdout",
     "output_type": "stream",
     "text": [
      "The autoreload extension is already loaded. To reload it, use:\n",
      "  %reload_ext autoreload\n"
     ]
    }
   ],
   "source": [
    "%load_ext autoreload\n",
    "%autoreload 2\n",
    "\n",
    "from src import main_extract_features\n",
    "from src import preprocess\n",
    "from src import extract_features\n",
    "from src import tokenizer\n",
    "from src import create_features_df\n",
    "from src import transform_data\n",
    "from src import loader\n",
    "from src import utils\n",
    "#from src import gradient_boo"
   ]
  },
  {
   "cell_type": "code",
   "execution_count": 15,
   "id": "57e9e912",
   "metadata": {},
   "outputs": [],
   "source": [
    "path_base = \"/scratch/cinthiasouza/arxiv-dataset/train\"\n",
    "path_pp_data = '../../../arxiv-dataset/train'"
   ]
  },
  {
   "cell_type": "code",
   "execution_count": 4,
   "id": "791f0b1e",
   "metadata": {},
   "outputs": [],
   "source": [
    "path_base = \"/scratch/cinthiasouza/plosone/train\"\n",
    "path_pp_data = '../../../plosone/train'"
   ]
  },
  {
   "cell_type": "code",
   "execution_count": 22,
   "id": "5969c0b9",
   "metadata": {},
   "outputs": [],
   "source": [
    "path_base = \"/scratch/cinthiasouza/plosone/train\"\n",
    "path_pp_data = '../../../pubmed-dataset/train'"
   ]
  },
  {
   "cell_type": "code",
   "execution_count": 5,
   "id": "e25bd331",
   "metadata": {},
   "outputs": [],
   "source": [
    "sections = ['introduction', 'materials', 'conclusion']"
   ]
  },
  {
   "cell_type": "code",
   "execution_count": 12,
   "id": "01211912",
   "metadata": {},
   "outputs": [],
   "source": [
    "path_to_remove=['batch_40000.txt']"
   ]
  },
  {
   "cell_type": "code",
   "execution_count": null,
   "id": "95a6c21a",
   "metadata": {
    "scrolled": true
   },
   "outputs": [],
   "source": [
    "main_extract_features.main(sections, path_base, path_pp_data,  dataset='plosonev2')"
   ]
  },
  {
   "cell_type": "code",
   "execution_count": null,
   "id": "c79e7776",
   "metadata": {},
   "outputs": [],
   "source": []
  }
 ],
 "metadata": {
  "kernelspec": {
   "display_name": "Python 3",
   "language": "python",
   "name": "python3"
  },
  "language_info": {
   "codemirror_mode": {
    "name": "ipython",
    "version": 3
   },
   "file_extension": ".py",
   "mimetype": "text/x-python",
   "name": "python",
   "nbconvert_exporter": "python",
   "pygments_lexer": "ipython3",
   "version": "3.8.8"
  }
 },
 "nbformat": 4,
 "nbformat_minor": 5
}
