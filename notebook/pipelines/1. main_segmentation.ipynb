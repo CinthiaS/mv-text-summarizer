{
 "cells": [
  {
   "cell_type": "code",
   "execution_count": 1,
   "id": "eaee9e0a",
   "metadata": {},
   "outputs": [],
   "source": [
    "import pandas as pd\n",
    "import json\n",
    "import os\n",
    "import sys\n",
    "\n",
    "import itertools\n",
    "\n",
    "import pandas as pd\n",
    "sys.path.insert(1, '/scratch/cinthiasouza/mv-text-summarizer')\n"
   ]
  },
  {
   "cell_type": "code",
   "execution_count": 2,
   "id": "e266ff80",
   "metadata": {},
   "outputs": [],
   "source": [
    "%load_ext autoreload\n",
    "%autoreload 2\n",
    "\n",
    "from src import preprocess\n",
    "from src import tokenizer"
   ]
  },
  {
   "cell_type": "code",
   "execution_count": 3,
   "id": "a0df55d9",
   "metadata": {},
   "outputs": [],
   "source": [
    "def get_id_sections (data, sections, key_name='section_names'):\n",
    "\n",
    "    section_id = {}\n",
    "    for key, values in sections.items():\n",
    "        controle=False\n",
    "        aux = []\n",
    "        for name in values:\n",
    "            for i in range(len(data[key_name])):\n",
    "                if data[key_name][i].find(name) != -1:\n",
    "                    aux.append(i)\n",
    "        try:\n",
    "            section_id[key] = min(aux)\n",
    "        except ValueError:\n",
    "            pass\n",
    "    \n",
    "    return section_id"
   ]
  },
  {
   "cell_type": "code",
   "execution_count": 4,
   "id": "44ff1b29",
   "metadata": {},
   "outputs": [],
   "source": [
    "def get_section_by_id(data, section_id):\n",
    "    \n",
    "    article = {'id': data['article_id'], 'abstract': ' '.join(data['abstract_text'])}\n",
    "\n",
    "    for key, values in section_id.items():\n",
    "\n",
    "        if key == 'introduction':\n",
    "            try:\n",
    "                aux = data['sections'][values:section_id['materials']]\n",
    "                merged  = list(itertools.chain(*aux))\n",
    "                article[key] = merged\n",
    "            except KeyError:\n",
    "                article[key] = data['sections'][values]\n",
    "        elif key == 'materials':\n",
    "            try:\n",
    "                aux = data['sections'][values:section_id['conclusion']]\n",
    "                merged  = list(itertools.chain(*aux))\n",
    "                article[key] = merged\n",
    "            except KeyError:\n",
    "                article[key] = data['sections'][values]\n",
    "        elif key == 'conclusion':\n",
    "            \n",
    "                sections_names = data['section_names']\n",
    "                if data['section_names'][-1].find('acknowledgment') != -1:\n",
    "                    sections_names = data['section_names'][:len(data['section_names'])-1]\n",
    "                    \n",
    "                aux = data['sections'][values: len(sections_names)]\n",
    "                merged  = list(itertools.chain(*aux))\n",
    "                article[key] = merged\n",
    "                \n",
    "    return article\n"
   ]
  },
  {
   "cell_type": "code",
   "execution_count": 5,
   "id": "452fc332",
   "metadata": {},
   "outputs": [],
   "source": [
    "def get_sections_plosone(article, section_id):\n",
    "    \n",
    "    data = {'journal_title': article['journal_title'],\n",
    "            'id': article['id'],\n",
    "            'doi': article['doi'],\n",
    "            'title': article['title'],\n",
    "            'keywords': article['keywords'],\n",
    "            'abstract': article['abstract'],\n",
    "            'title_sections': article['title_sections']}\n",
    "\n",
    "    for key, item in section_id.items():\n",
    "\n",
    "        if key == 'introduction':\n",
    "            aux = []\n",
    "            try:\n",
    "                for i in range(item,  section_id.get('materials')):\n",
    "                    aux.append(article[article['title_sections'][i]])\n",
    "                \n",
    "                text = str(\" \".join(aux))\n",
    "                text = preprocess.format_xml(text)\n",
    "                text = preprocess.xml_to_text(text)\n",
    "                text = preprocess.format_intro(text)\n",
    "                text = (text.encode('ascii', 'ignore')).decode(\"utf-8\")\n",
    "\n",
    "                text = tokenizer.split_sentences([text])\n",
    "                text = list(map(str, text[0]))\n",
    "\n",
    "                data[key] = text\n",
    "                \n",
    "                \n",
    "            except TypeError:\n",
    "                try:\n",
    "                    for i in range(item,  section_id.get('conclusion')):\n",
    "                        aux.append(article[article['title_sections'][i]])\n",
    "                    \n",
    "                    text = str(\" \".join(aux))\n",
    "                    text = preprocess.format_xml(text)\n",
    "                    text = preprocess.xml_to_text(text)\n",
    "                    text = (text.encode('ascii', 'ignore')).decode(\"utf-8\")\n",
    "            \n",
    "                    text = tokenizer.split_sentences([text])\n",
    "                    text = list(map(str, text[0]))\n",
    "            \n",
    "                    data[key] = text\n",
    "                \n",
    "                except TypeError:\n",
    "                    for i in range(item,  len(article['title_sections'])):\n",
    "                        if (article['title_sections'][i] != 'acknowledgements') and (article['title_sections'][i] != 'references'):\n",
    "                            aux.append(article[article['title_sections'][i]])\n",
    "                    \n",
    "                    text = str(\" \".join(aux))\n",
    "                    text = preprocess.format_xml(text)\n",
    "                    text = preprocess.xml_to_text(text)\n",
    "                    text = (text.encode('ascii', 'ignore')).decode(\"utf-8\")\n",
    "            \n",
    "                    text = tokenizer.split_sentences([text])\n",
    "                    text = list(map(str, text[0]))\n",
    "            \n",
    "                    data[key] = text\n",
    "                    \n",
    "        elif key == 'materials':\n",
    "            aux = []\n",
    "            try:\n",
    "                for i in range(item,  section_id.get('conclusion')):\n",
    "                    aux.append(article[article['title_sections'][i]])\n",
    "            except TypeError:\n",
    "                for i in range(item,  len(article['title_sections'])):\n",
    "                    if (article['title_sections'][i] != 'acknowledgements') and (article['title_sections'][i] != 'references'):\n",
    "                        aux.append(article[article['title_sections'][i]])\n",
    "\n",
    "            text = str(\" \".join(aux))\n",
    "            text = preprocess.format_xml(text)\n",
    "            text = preprocess.xml_to_text(text)\n",
    "            text = (text.encode('ascii', 'ignore')).decode(\"utf-8\")\n",
    "            \n",
    "            text = tokenizer.split_sentences([text])\n",
    "            text = list(map(str, text[0]))\n",
    "            \n",
    "            data[key] = text\n",
    "            \n",
    "        elif key == 'conclusion':\n",
    "            aux = []\n",
    "            for i in range(item,  len(article['title_sections'])):\n",
    "                if (article['title_sections'][i] != 'acknowledgements') and (article['title_sections'][i] != 'references'):\n",
    "                    aux.append(article[article['title_sections'][i]])\n",
    "\n",
    "            text = str(\" \".join(aux))\n",
    "            text = preprocess.format_xml(text)\n",
    "            text = preprocess.xml_to_text(text)\n",
    "            text = preprocess.remove_unicode(text)\n",
    "            text = (text.encode('ascii', 'ignore')).decode(\"utf-8\")\n",
    "            \n",
    "            text = tokenizer.split_sentences([text])\n",
    "            text = list(map(str, text[0]))\n",
    "            \n",
    "            data[key] = text\n",
    "            \n",
    "    return data"
   ]
  },
  {
   "cell_type": "code",
   "execution_count": 6,
   "id": "7f652da5",
   "metadata": {},
   "outputs": [],
   "source": [
    "def main_segmentation(path_to_read, path_to_write, dataset='plosone'):\n",
    "    \n",
    "    articles = []\n",
    "    \n",
    "    if (dataset == 'arxiv') or (dataset == 'pubmed'):\n",
    "        with open(path_to_read, 'r') as f:\n",
    "            data = f.readlines()\n",
    "    elif dataset == 'plosone':\n",
    "        data = os.listdir(path_to_read)\n",
    "\n",
    "\n",
    "    sections = {'introduction':['introduction'],\n",
    "    'materials': ['subject', 'experiment', 'method', 'material', 'procedur'],\n",
    "    'conclusion': ['analysis', 'discuss', 'result', 'conclusion', 'experiments', 'review']}\n",
    "\n",
    "    batch_files = []\n",
    "    count = 0\n",
    "\n",
    "    for i in range(len(data)):\n",
    "\n",
    "        if (dataset == \"arxiv\") or (dataset == 'pubmed'):\n",
    "            \n",
    "            article = json.loads(data[i])\n",
    "            sections_id = get_id_sections (article, sections, key_name='section_names')\n",
    "            article_segmented = get_section_by_id(article, sections_id)\n",
    "            \n",
    "            batch_files.append(article_segmented)\n",
    "                                    \n",
    "        elif dataset == \"plosone\":\n",
    "            try:\n",
    "                with open(\"{}/{}\".format(path_to_read, data[i]), 'r') as f:\n",
    "                    article = json.load(f)\n",
    "                \n",
    "                sections_id = get_id_sections (article, sections, key_name='title_sections')\n",
    "                article_segmented = get_sections_plosone(article, sections_id)\n",
    "                \n",
    "                batch_files.append(article_segmented)\n",
    "            except:\n",
    "                \n",
    "                pass\n",
    "\n",
    "        if (count % 10000 == 0) or (count == len(data)-1):\n",
    "\n",
    "            print(\"Número de arquivos salvos: {}\".format(count))\n",
    "\n",
    "            with open(\"{}/batch_{}.txt\".format(path_to_write, count), 'w', encoding='utf-8') as f:\n",
    "                for text in batch_files:\n",
    "                    aux = json.dumps(text)\n",
    "                    f.write(aux)\n",
    "                    f.write(\"\\n\")\n",
    "\n",
    "            batch_files = []\n",
    "\n",
    "        count+=1"
   ]
  },
  {
   "cell_type": "code",
   "execution_count": 7,
   "id": "3fd517ca",
   "metadata": {},
   "outputs": [],
   "source": [
    "paths = ['PMC001xxxxxx_pp', 'PMC002xxxxxx_pp', 'PMC003xxxxxx_pp', 'PMC004xxxxxx_pp', 'PMC005xxxxxx_pp', 'PMC006xxxxxx_pp', 'PMC007xxxxxx_pp']"
   ]
  },
  {
   "cell_type": "code",
   "execution_count": 8,
   "id": "cfbf1570",
   "metadata": {},
   "outputs": [],
   "source": [
    "path_to_read = \"../../../plosone/PMC001xxxxxx_pp/\"\n",
    "path_to_write = '../../../plosone/test'"
   ]
  },
  {
   "cell_type": "code",
   "execution_count": 16,
   "id": "0bfcc16e",
   "metadata": {},
   "outputs": [],
   "source": [
    "path_to_read = \"../../../pubmed-dataset/val.txt\"\n",
    "path_to_write = '../../../pubmed-dataset/valid'"
   ]
  },
  {
   "cell_type": "code",
   "execution_count": 14,
   "id": "87e059e3",
   "metadata": {},
   "outputs": [],
   "source": [
    "path_to_read = \"../../../arxiv-dataset/val.txt\"\n",
    "path_to_write = '../../../arxiv-dataset/valid'"
   ]
  },
  {
   "cell_type": "code",
   "execution_count": 17,
   "id": "8f93fd4f",
   "metadata": {
    "scrolled": true
   },
   "outputs": [
    {
     "name": "stdout",
     "output_type": "stream",
     "text": [
      "Número de arquivos salvos: 0\n",
      "Número de arquivos salvos: 6632\n"
     ]
    }
   ],
   "source": [
    "main_segmentation(path_to_read, path_to_write, dataset='pubmed')"
   ]
  },
  {
   "cell_type": "code",
   "execution_count": 9,
   "id": "0d38d4c2",
   "metadata": {},
   "outputs": [],
   "source": [
    "path_base='../../../plosone/train'"
   ]
  },
  {
   "cell_type": "code",
   "execution_count": 10,
   "id": "942cd5c3",
   "metadata": {},
   "outputs": [],
   "source": [
    "with open('{}/{}'.format(path_base, 'batch_0.txt', 'r')) as f:\n",
    "    files = f.readlines()"
   ]
  },
  {
   "cell_type": "code",
   "execution_count": 11,
   "id": "5ac50fb7",
   "metadata": {},
   "outputs": [],
   "source": [
    "data = json.loads(files[0])"
   ]
  },
  {
   "cell_type": "code",
   "execution_count": 12,
   "id": "66401652",
   "metadata": {},
   "outputs": [
    {
     "data": {
      "text/plain": [
       "'introductionThere is much current interest in investigating the ability of redox-inactive metal ions to modulate redox reactions by virtue of their Lewis acidity, particularly with respect to their possible roles in O2 evolution1 and activation.2,3 For example, the oxygen-evolving complex of Photosystem II requires a redox-inactive Ca2+ ion to produce O2.1 In addition, redox-inactive ions have been found to affect the stability and reactivities of high-valent metal-oxo complexes in biomimetic systems2 as well as to accelerate O2 activation by FeII and MnII complexes.3'"
      ]
     },
     "execution_count": 12,
     "metadata": {},
     "output_type": "execute_result"
    }
   ],
   "source": [
    "data['introduction'][0]"
   ]
  }
 ],
 "metadata": {
  "kernelspec": {
   "display_name": "Python 3",
   "language": "python",
   "name": "python3"
  },
  "language_info": {
   "codemirror_mode": {
    "name": "ipython",
    "version": 3
   },
   "file_extension": ".py",
   "mimetype": "text/x-python",
   "name": "python",
   "nbconvert_exporter": "python",
   "pygments_lexer": "ipython3",
   "version": "3.8.8"
  }
 },
 "nbformat": 4,
 "nbformat_minor": 5
}
