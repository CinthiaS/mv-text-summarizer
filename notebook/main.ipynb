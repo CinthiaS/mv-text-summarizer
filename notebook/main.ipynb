{
 "metadata": {
  "language_info": {
   "codemirror_mode": {
    "name": "ipython",
    "version": 3
   },
   "file_extension": ".py",
   "mimetype": "text/x-python",
   "name": "python",
   "nbconvert_exporter": "python",
   "pygments_lexer": "ipython3",
   "version": 3
  },
  "orig_nbformat": 4
 },
 "nbformat": 4,
 "nbformat_minor": 2,
 "cells": [
  {
   "cell_type": "code",
   "execution_count": null,
   "metadata": {},
   "outputs": [],
   "source": [
    "from sumeval.metrics.rouge import RougeCalculator\n",
    "from nubia_score.nubia import Nubia\n",
    "\n",
    "nubia = Nubia()\n",
    "rouge = RougeCalculator(stopwords=True, lang=\"en\")"
   ]
  },
  {
   "cell_type": "code",
   "execution_count": null,
   "metadata": {},
   "outputs": [],
   "source": [
    "nlp_sm = spacy.load(\"en_core_web_sm\")\n",
    "nlp_md = en_core_web_md.load()"
   ]
  },
  {
   "cell_type": "code",
   "execution_count": null,
   "metadata": {},
   "outputs": [],
   "source": [
    "result = []\n",
    "all_scores_df =[ ]\n",
    "all_labels = []\n",
    "\n",
    "select_features = True\n",
    "valid = True\n",
    "\n",
    "\n",
    "for i in range(1):\n",
    "\n",
    "  print(i)\n",
    "  number_text = 10\n",
    "  xml = format_xml(str(introductions[number_text]))\n",
    "  text = format_text(str(introductions[number_text]), post_processing=False)\n",
    "  reference = format_text(str(abstract[number_text]), post_processing=True)\n",
    "\n",
    "  bibs = get_citations(xml)\n",
    "  text = exclude_bib(text, bibs)\n",
    "  text = format_text(text, post_processing=True)\n",
    "\n",
    "  soup = BeautifulSoup(text)\n",
    "  text = soup.get_text()\n",
    "\n",
    "  sentences = split_sentences([text])\n",
    "  sentences = list(map(str, sentences[0]))\n",
    "  sentences = format_sentences(sentences)\n",
    "\n",
    "  try: \n",
    "    if select_features:\n",
    "      features = main(sentences, xml, article_keyword, nlp, nlp_st)\n",
    "      features_df = format_df (sentences, features)\n",
    "      result.append(features_df)\n",
    "\n",
    "    if valid:\n",
    "      sentences_ref = split_sentences([reference])\n",
    "      sentences_ref = list(map(str, sentences_ref[0]))\n",
    "      scores_df, label = main_create_label(sentences, sentences_ref, rouge, nubia)\n",
    "      scores_df['label'] = label\n",
    "\n",
    "      all_scores_df.append(scores_df)\n",
    "      all_labels.append(label)\n",
    "\n",
    "  except ValueError as error:\n",
    "      print(repr(error))\n",
    "      pass"
   ]
  },
  {
   "cell_type": "code",
   "execution_count": null,
   "metadata": {},
   "outputs": [],
   "source": [
    "for i in range(len(result)):\n",
    "  df = pd.DataFrame(result[i])\n",
    "  df.to_csv(\"features_df/df_{}.csv\".format(i), index=False)"
   ]
  },
  {
   "cell_type": "code",
   "execution_count": null,
   "metadata": {},
   "outputs": [],
   "source": [
    "for i in range(len(all_scores_df)):\n",
    "  df = pd.DataFrame(all_scores_df[i])\n",
    "  df.to_csv(\"features_df/score_df_{}.csv\".format(i), index=False)"
   ]
  }
 ]
}