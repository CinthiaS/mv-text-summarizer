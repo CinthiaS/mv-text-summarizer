{
 "metadata": {
  "language_info": {
   "codemirror_mode": {
    "name": "ipython",
    "version": 3
   },
   "file_extension": ".py",
   "mimetype": "text/x-python",
   "name": "python",
   "nbconvert_exporter": "python",
   "pygments_lexer": "ipython3",
   "version": "3.8.10"
  },
  "orig_nbformat": 4,
  "kernelspec": {
   "name": "python3",
   "display_name": "Python 3.8.10 64-bit ('mv-summarization': conda)"
  },
  "interpreter": {
   "hash": "5dd7fce1a8cb8d97b2536bbe54fd7faa274378c3acb961864d5bd989f2d52777"
  }
 },
 "nbformat": 4,
 "nbformat_minor": 2,
 "cells": [
  {
   "cell_type": "code",
   "execution_count": 11,
   "metadata": {},
   "outputs": [],
   "source": [
    "import sys\n",
    "sys.path.insert(1, '/media/cinthia/Dados/Mestrado/mv-text-summarizer')\n",
    "\n",
    "import pandas as pd\n",
    "import json\n",
    "import spacy\n",
    "import nltk\n",
    "\n",
    "from sumeval.metrics.rouge import RougeCalculator\n",
    "from bs4 import BeautifulSoup\n",
    "from pysbd.utils import PySBDFactory\n",
    "\n",
    "from src import preprocess\n",
    "from src import extract_features\n",
    "from src import tokenizer\n",
    "from src import create_features_df\n",
    "from src import transform_data\n",
    "\n",
    "rouge = RougeCalculator(stopwords=True, lang=\"en\")"
   ]
  },
  {
   "cell_type": "code",
   "execution_count": 2,
   "metadata": {},
   "outputs": [
    {
     "output_type": "stream",
     "name": "stderr",
     "text": [
      "[nltk_data] Downloading package averaged_perceptron_tagger to\n[nltk_data]     /home/cinthia/nltk_data...\n[nltk_data]   Package averaged_perceptron_tagger is already up-to-\n[nltk_data]       date!\n[nltk_data] Downloading package maxent_ne_chunker to\n[nltk_data]     /home/cinthia/nltk_data...\n[nltk_data]   Package maxent_ne_chunker is already up-to-date!\n[nltk_data] Downloading package words to /home/cinthia/nltk_data...\n[nltk_data]   Package words is already up-to-date!\n[nltk_data] Downloading package punkt to /home/cinthia/nltk_data...\n[nltk_data]   Package punkt is already up-to-date!\n"
     ]
    },
    {
     "output_type": "execute_result",
     "data": {
      "text/plain": [
       "True"
      ]
     },
     "metadata": {},
     "execution_count": 2
    }
   ],
   "source": [
    "nltk.download('averaged_perceptron_tagger')\n",
    "nltk.download('maxent_ne_chunker')\n",
    "nltk.download('words')\n",
    "nltk.download('punkt')"
   ]
  },
  {
   "cell_type": "code",
   "execution_count": 3,
   "metadata": {},
   "outputs": [
    {
     "output_type": "stream",
     "name": "stdout",
     "text": [
      "Collecting en_core_web_sm==2.1.0\n",
      "  Downloading https://github.com/explosion/spacy-models/releases/download/en_core_web_sm-2.1.0/en_core_web_sm-2.1.0.tar.gz (11.1 MB)\n",
      "\u001b[K     |████████████████████████████████| 11.1 MB 2.3 MB/s \n",
      "\u001b[?25h\u001b[38;5;2m✔ Download and installation successful\u001b[0m\n",
      "You can now load the model via spacy.load('en_core_web_sm')\n"
     ]
    }
   ],
   "source": [
    "!python -m spacy download en_core_web_sm\n",
    "nlp_sm = spacy.load('en_core_web_sm')"
   ]
  },
  {
   "cell_type": "code",
   "execution_count": 4,
   "metadata": {},
   "outputs": [
    {
     "output_type": "stream",
     "name": "stdout",
     "text": [
      "Collecting en_core_web_md==2.1.0\n",
      "  Downloading https://github.com/explosion/spacy-models/releases/download/en_core_web_md-2.1.0/en_core_web_md-2.1.0.tar.gz (95.4 MB)\n",
      "\u001b[K     |████████████████████████████████| 95.4 MB 14.2 MB/s \n",
      "\u001b[?25h\u001b[38;5;2m✔ Download and installation successful\u001b[0m\n",
      "You can now load the model via spacy.load('en_core_web_md')\n"
     ]
    }
   ],
   "source": [
    "!python -m spacy download en_core_web_md\n",
    "nlp_md = spacy.load('en_core_web_md')"
   ]
  },
  {
   "cell_type": "code",
   "execution_count": 5,
   "metadata": {},
   "outputs": [],
   "source": [
    "path_base = \"../sample\"\n",
    "files = os.listdir(path_base)"
   ]
  },
  {
   "cell_type": "code",
   "execution_count": 6,
   "metadata": {},
   "outputs": [],
   "source": [
    "texts = []\n",
    "for file in files:\n",
    "  texts.append(json.load(open('{}/{}'.format(path_base, file))))"
   ]
  },
  {
   "cell_type": "code",
   "execution_count": 7,
   "metadata": {},
   "outputs": [],
   "source": [
    "introductions = [preprocess.format_intro(i.get('sec_introduction')) for i in texts]\n",
    "abstract = [preprocess.format_intro(i.get('sec_abstract')) for i in texts]\n",
    "article_keyword = [i.get('sec_keyword') for i in texts]"
   ]
  },
  {
   "cell_type": "code",
   "execution_count": 8,
   "metadata": {},
   "outputs": [
    {
     "output_type": "stream",
     "name": "stdout",
     "text": [
      "0\nP2X receptors for ATP are ligand gated cation channels and form from the homo  or heterotrimeric assembly of seven different receptor subunits (P2X1 7) to give a range of phenotypes . They are expressed widely in the nervous system and contribute to gut peristalsis , neuronal hypoxia reflexes , mechanotransduction , and pain sensation (; ; ; ). P2X receptors do not contain common consensus ATP binding sequences e.g. the Walker motif  and the structure and organisation of the binding site is unclear. A model incorporating four co ordinates for ATP action at the P2X1 receptor; with positively charged lysines K68 and K309 co ordinating binding of the phosphate tail of ATP, and the adenine ring sandwiched between the domains incorporating phenylalanine (F) residues F185, T186 and N290, F291, R292 with R292 co ordinating the binding of the α phosphate has been proposed . This model is supported by mutagenesis data from P2X2  and P2X7 receptors . In the model the residues associated with ATP binding are at least 18 20 amino acid residues from the TM2 region that forms part of the ion conducting transmembrane pore of the channel. The model predicts that the region between K309 and the second transmembrane segment contributes to the transduction of agonist binding to channel gating. However to substantiate models of the receptor it is also important to consider the contribution of adjacent non conserved residues. The variation in agonist potency and other pharmacological properties between P2X receptor subtypes indicates that non conserved amino acid residues contribute to drug action at the receptor and may lead to subunit specific localised changes in the agonist binding environment or channel properties. To address further the role of N290, F291, R292 and K309, adjacent non conserved amino acid residues and the contribution of the 20 amino acid region before the second transmembrane segment we have undertaken substituted cysteine scanning mutagenesis of the region S286 I329 of the human P2X1 receptor. This approach has been used to study the structure of a range of ion channels and proteins  including P2X receptors (; ; ; ; ) and the ATP binding site of Kir6.2 . Analysis of effects of P2X1 receptor substituted cysteine mutants on the time course, ATP potency, binding of radiolabelled 2 azido ATP, regulation by charged methanethiosulfonate (MTS) compounds  and determination of the accessibility of residues in a MTSEA biotinylation assay has allowed us to identify amino acid residues involved in ATP binding, channel properties and information on the secondary structure of this section of the extracellular segment . \n"
     ]
    }
   ],
   "source": [
    "result = []\n",
    "all_scores_df =[ ]\n",
    "all_labels = []\n",
    "\n",
    "select_features = True\n",
    "valid = True\n",
    "\n",
    "\n",
    "for i in range(1):\n",
    "\n",
    "  print(i)\n",
    "  number_text = i\n",
    "\n",
    "  xml = preprocess.format_xml(str(introductions[number_text]))\n",
    "  text = preprocess.format_text(str(introductions[number_text]), post_processing=False)\n",
    "  reference = preprocess.format_text(str(abstract[number_text]), post_processing=True)\n",
    "\n",
    "  bibs = extract_features.get_citations(xml)\n",
    "  text = preprocess.exclude_bib(text, bibs)\n",
    "  text = preprocess.format_text(text, post_processing=True)\n",
    "\n",
    "  soup = BeautifulSoup(text)\n",
    "  text = soup.get_text()\n",
    "\n",
    "  sentences = tokenizer.split_sentences([text])\n",
    "  sentences = list(map(str, sentences[0]))\n",
    "  sentences = preprocess.format_sentences(sentences)\n",
    "\n",
    "  try: \n",
    "    if select_features:\n",
    "      features = create_features_df.main(sentences, xml, article_keyword,number_text, nlp_sm, nlp_md)\n",
    "      features_df = create_features_df.format_df (sentences, features)\n",
    "      result.append(features_df)\n",
    "\n",
    "    if valid:\n",
    "      sentences_ref = tokenizer.split_sentences([reference])\n",
    "      sentences_ref = list(map(str, sentences_ref[0]))\n",
    "      scores_df, label = transform_data.main_create_label(sentences, sentences_ref, rouge)\n",
    "      scores_df['label'] = label\n",
    "\n",
    "      all_scores_df.append(scores_df)\n",
    "      all_labels.append(label)\n",
    "\n",
    "  except ValueError as error:\n",
    "      print(repr(error))\n",
    "      pass"
   ]
  },
  {
   "cell_type": "code",
   "execution_count": 9,
   "metadata": {},
   "outputs": [
    {
     "output_type": "execute_result",
     "data": {
      "text/plain": [
       "     rouge_1   rouge_2   rouge_l  label\n",
       "0   0.358974  0.216216  0.358974      0\n",
       "1   0.062500  0.000000  0.062500      0\n",
       "2   0.615385  0.333333  0.461538      1\n",
       "3   0.258065  0.066667  0.161290      0\n",
       "4   0.105263  0.000000  0.105263      0\n",
       "5   0.260870  0.153846  0.243902      0\n",
       "6   0.258065  0.090909  0.166667      0\n",
       "7   0.129032  0.000000  0.105263      0\n",
       "8   0.250000  0.086957  0.166667      0\n",
       "9   0.456140  0.254545  0.192308      1\n",
       "10  0.370370  0.240000  0.296296      0\n",
       "11  0.523077  0.349206  0.461538      1"
      ],
      "text/html": "<div>\n<style scoped>\n    .dataframe tbody tr th:only-of-type {\n        vertical-align: middle;\n    }\n\n    .dataframe tbody tr th {\n        vertical-align: top;\n    }\n\n    .dataframe thead th {\n        text-align: right;\n    }\n</style>\n<table border=\"1\" class=\"dataframe\">\n  <thead>\n    <tr style=\"text-align: right;\">\n      <th></th>\n      <th>rouge_1</th>\n      <th>rouge_2</th>\n      <th>rouge_l</th>\n      <th>label</th>\n    </tr>\n  </thead>\n  <tbody>\n    <tr>\n      <th>0</th>\n      <td>0.358974</td>\n      <td>0.216216</td>\n      <td>0.358974</td>\n      <td>0</td>\n    </tr>\n    <tr>\n      <th>1</th>\n      <td>0.062500</td>\n      <td>0.000000</td>\n      <td>0.062500</td>\n      <td>0</td>\n    </tr>\n    <tr>\n      <th>2</th>\n      <td>0.615385</td>\n      <td>0.333333</td>\n      <td>0.461538</td>\n      <td>1</td>\n    </tr>\n    <tr>\n      <th>3</th>\n      <td>0.258065</td>\n      <td>0.066667</td>\n      <td>0.161290</td>\n      <td>0</td>\n    </tr>\n    <tr>\n      <th>4</th>\n      <td>0.105263</td>\n      <td>0.000000</td>\n      <td>0.105263</td>\n      <td>0</td>\n    </tr>\n    <tr>\n      <th>5</th>\n      <td>0.260870</td>\n      <td>0.153846</td>\n      <td>0.243902</td>\n      <td>0</td>\n    </tr>\n    <tr>\n      <th>6</th>\n      <td>0.258065</td>\n      <td>0.090909</td>\n      <td>0.166667</td>\n      <td>0</td>\n    </tr>\n    <tr>\n      <th>7</th>\n      <td>0.129032</td>\n      <td>0.000000</td>\n      <td>0.105263</td>\n      <td>0</td>\n    </tr>\n    <tr>\n      <th>8</th>\n      <td>0.250000</td>\n      <td>0.086957</td>\n      <td>0.166667</td>\n      <td>0</td>\n    </tr>\n    <tr>\n      <th>9</th>\n      <td>0.456140</td>\n      <td>0.254545</td>\n      <td>0.192308</td>\n      <td>1</td>\n    </tr>\n    <tr>\n      <th>10</th>\n      <td>0.370370</td>\n      <td>0.240000</td>\n      <td>0.296296</td>\n      <td>0</td>\n    </tr>\n    <tr>\n      <th>11</th>\n      <td>0.523077</td>\n      <td>0.349206</td>\n      <td>0.461538</td>\n      <td>1</td>\n    </tr>\n  </tbody>\n</table>\n</div>"
     },
     "metadata": {},
     "execution_count": 9
    }
   ],
   "source": [
    "scores_df"
   ]
  },
  {
   "cell_type": "code",
   "execution_count": 12,
   "metadata": {},
   "outputs": [],
   "source": [
    "for i in range(len(result)):\n",
    "  df = pd.DataFrame(result[i])\n",
    "  df.to_csv(\"../result/features_{}.csv\".format(i), index=False)"
   ]
  },
  {
   "cell_type": "code",
   "execution_count": 13,
   "metadata": {},
   "outputs": [],
   "source": [
    "for i in range(len(all_scores_df)):\n",
    "  df = pd.DataFrame(all_scores_df[i])\n",
    "  df.to_csv(\"../result/score_{}.csv\".format(i), index=False)"
   ]
  },
  {
   "cell_type": "code",
   "execution_count": null,
   "metadata": {},
   "outputs": [],
   "source": []
  }
 ]
}