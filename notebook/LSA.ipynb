{
 "cells": [
  {
   "cell_type": "code",
   "execution_count": 1,
   "id": "292debd7",
   "metadata": {},
   "outputs": [],
   "source": [
    "from __future__ import absolute_import\n",
    "from __future__ import division, print_function, unicode_literals\n",
    "\n",
    "import sys\n",
    "sys.path.insert(0, '/scratch/cinthiasouza/mv-text-summarizer')\n",
    "\n",
    "from sumy.sumy.parsers.plaintext import PlaintextParser\n",
    "from sumy.sumy.nlp.tokenizers import Tokenizer\n",
    "from sumy.sumy.summarizers.lsa import LsaSummarizer as SummarizerLsa\n",
    "from sumy.sumy.summarizers.lex_rank import LexRankSummarizer as SummarizerLex\n",
    "from sumy.sumy.summarizers.sum_basic import SumBasicSummarizer as SummarizerSumBasic\n",
    "from sumy.sumy.summarizers.text_rank import TextRankSummarizer  as SummarizerTextrank\n",
    "from sumy.sumy.nlp.stemmers import Stemmer\n",
    "from sumy.sumy.utils import get_stop_words\n",
    "\n",
    "LANGUAGE = \"english\"\n",
    "SENTENCES_COUNT=3"
   ]
  },
  {
   "cell_type": "code",
   "execution_count": 2,
   "id": "9cc0c058",
   "metadata": {},
   "outputs": [],
   "source": [
    "import re\n",
    "import numpy as np\n",
    "import pandas as pd\n",
    "import pickle"
   ]
  },
  {
   "cell_type": "code",
   "execution_count": 9,
   "id": "ebe1c3e8",
   "metadata": {},
   "outputs": [],
   "source": [
    "def load_data(section):\n",
    "    section='conclusion'\n",
    "\n",
    "    with open('dataset/dataset_{}.pkl'.format('features'), 'rb') as fp:\n",
    "        dataset = pickle.load(fp)\n",
    "    \n",
    "    train = dataset[section][4][['sentences', 'articles', 'rouge_1']]\n",
    "    test = dataset[section][5][['sentences', 'articles', 'rouge_1']]\n",
    "    \n",
    "    return train, test"
   ]
  },
  {
   "cell_type": "code",
   "execution_count": 5,
   "id": "45f5fb24",
   "metadata": {},
   "outputs": [],
   "source": [
    "def summarizer_lsa(parser, stemmer):\n",
    "    \n",
    "    lsa = SummarizerLsa(stemmer)\n",
    "    lsa.stop_words = get_stop_words(LANGUAGE)\n",
    "\n",
    "    result = lsa(parser.document, SENTENCES_COUNT)\n",
    "    \n",
    "    return result"
   ]
  },
  {
   "cell_type": "code",
   "execution_count": 6,
   "id": "958f24f4",
   "metadata": {},
   "outputs": [],
   "source": [
    "def summarizer_lex(parser, stemmer):\n",
    "    \n",
    "    lex = SummarizerLex(stemmer)\n",
    "    lex.stop_words = get_stop_words(LANGUAGE)\n",
    "\n",
    "    result = lex(parser.document, SENTENCES_COUNT)\n",
    "    \n",
    "    return result"
   ]
  },
  {
   "cell_type": "code",
   "execution_count": 7,
   "id": "3978a9ee",
   "metadata": {},
   "outputs": [],
   "source": [
    "def summarizer_text(parser, stemmer):\n",
    "    \n",
    "    text = SummarizerTextrank(stemmer)\n",
    "    text.stop_words = get_stop_words(LANGUAGE)\n",
    "\n",
    "    result = text(parser.document, SENTENCES_COUNT)\n",
    "    \n",
    "    return result"
   ]
  },
  {
   "cell_type": "code",
   "execution_count": 19,
   "id": "6ae56f9a",
   "metadata": {},
   "outputs": [],
   "source": [
    "train, test = load_data(section='introduction')\n",
    "articles_id = pd.unique(train['articles'])\n",
    "\n",
    "test['sentences'] = test['sentences'].astype('str')"
   ]
  },
  {
   "cell_type": "code",
   "execution_count": 11,
   "id": "d1c1048e",
   "metadata": {},
   "outputs": [],
   "source": [
    "stemmer = Stemmer(LANGUAGE)\n",
    "\n",
    "df_lsa = []\n",
    "df_text = []\n",
    "df_lex = []\n",
    "    \n",
    "\n",
    "for article_id in articles_id:\n",
    "\n",
    "    aux = train.loc[train['articles'] == article_id]\n",
    "    text = \" \".join(aux['sentences'].tolist())\n",
    "    \n",
    "    parser = PlaintextParser(text, Tokenizer(LANGUAGE))\n",
    "    df_lsa.append(summarizer_lsa(parser, stemmer))\n",
    "    #df_text.append(summarizer_text(parser, stemmer))"
   ]
  },
  {
   "cell_type": "code",
   "execution_count": 18,
   "id": "d7d9c8ba",
   "metadata": {},
   "outputs": [],
   "source": [
    "train_lsa = pd.concat(df_lsa)"
   ]
  }
 ],
 "metadata": {
  "kernelspec": {
   "display_name": "Python 3",
   "language": "python",
   "name": "python3"
  },
  "language_info": {
   "codemirror_mode": {
    "name": "ipython",
    "version": 3
   },
   "file_extension": ".py",
   "mimetype": "text/x-python",
   "name": "python",
   "nbconvert_exporter": "python",
   "pygments_lexer": "ipython3",
   "version": "3.8.8"
  }
 },
 "nbformat": 4,
 "nbformat_minor": 5
}
