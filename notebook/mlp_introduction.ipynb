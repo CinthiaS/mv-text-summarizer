{
 "cells": [
  {
   "cell_type": "code",
   "execution_count": 1,
   "id": "45b27135",
   "metadata": {},
   "outputs": [],
   "source": [
    "from sklearn.model_selection import StratifiedKFold\n",
    "from sklearn.model_selection import cross_val_score\n",
    "from sklearn.metrics import classification_report\n",
    "from sklearn.model_selection import train_test_split\n",
    "\n",
    "import pickle\n",
    "from tensorflow.keras.optimizers import Adadelta\n",
    "from tensorflow.keras.models import Model\n",
    "from tensorflow.keras.layers import Dense, Flatten, concatenate, Dropout, Input"
   ]
  },
  {
   "cell_type": "code",
   "execution_count": 2,
   "id": "1960e3ee",
   "metadata": {},
   "outputs": [],
   "source": [
    "from tensorflow import keras\n",
    "from tensorflow.keras.optimizers import Adam\n",
    "from tensorflow.keras.layers import Dense, Flatten, Dropout, InputLayer, Embedding, Input, Concatenate\n",
    "from tensorflow.keras.models import Sequential\n",
    "from tensorflow.keras.models import model_from_json\n",
    "import numpy as np\n",
    "import pandas as pd\n",
    "\n",
    "from tensorflow.keras.utils import to_categorical\n",
    "from tensorflow.keras.callbacks import EarlyStopping, LearningRateScheduler\n",
    "from tensorflow.math import exp"
   ]
  },
  {
   "cell_type": "code",
   "execution_count": 3,
   "id": "5eb9681f",
   "metadata": {},
   "outputs": [],
   "source": [
    "def shuffle_dataset(X, y):\n",
    "    \n",
    "    idx = np.random.permutation(len(X))\n",
    "\n",
    "    X = X[idx]\n",
    "    y = np.array(y)[idx]\n",
    "    \n",
    "    return X, y"
   ]
  },
  {
   "cell_type": "code",
   "execution_count": 4,
   "id": "4f371941",
   "metadata": {},
   "outputs": [],
   "source": [
    "from tensorflow.keras.callbacks import Callback\n",
    "\n",
    "class TerminateOnBaseline(Callback):\n",
    "    \"\"\"Callback that terminates training when either acc or val_acc reaches a specified baseline\n",
    "    \"\"\"\n",
    "    def __init__(self, monitor='accuracy', baseline=0.9):\n",
    "        super(TerminateOnBaseline, self).__init__()\n",
    "        self.monitor = monitor\n",
    "        self.baseline = baseline\n",
    "\n",
    "    def on_epoch_end(self, epoch, logs=None):\n",
    "        logs = logs or {}\n",
    "        acc = logs.get(self.monitor)\n",
    "        if acc is not None:\n",
    "            if acc >= self.baseline:\n",
    "                print('Epoch %d: Reached baseline, terminating training' % (epoch))\n",
    "                self.model.stop_training = True"
   ]
  },
  {
   "cell_type": "code",
   "execution_count": 5,
   "id": "7424f783",
   "metadata": {},
   "outputs": [],
   "source": [
    "def scheduler(epoch, lr):\n",
    "    if epoch < 10:\n",
    "        return lr\n",
    "    else:\n",
    "        return lr * exp(-0.1)"
   ]
  },
  {
   "cell_type": "code",
   "execution_count": 29,
   "id": "ef452a68",
   "metadata": {},
   "outputs": [],
   "source": [
    "parameters_mlp = { \n",
    "    'introduction':  [ 0.2, 200, 8],\n",
    "    'materials':     [ 0.2, 200, 8],\n",
    "    'conclusion':  [ 0.2, 200, 8],\n",
    "    'concat':  [ 0.2, 200, 8]}"
   ]
  },
  {
   "cell_type": "code",
   "execution_count": 27,
   "id": "a4339985",
   "metadata": {},
   "outputs": [],
   "source": [
    "columns = list(range(0, 383))\n",
    "columns = list(map(str, columns))\n",
    "\n",
    "section='concat'\n",
    "\n",
    "folder_to_save = 'models_v1'\n",
    "path_to_save = \"/scratch/cinthiasouza/mv-text-summarizer/notebook/{}\".format(folder_to_save)\n",
    "\n",
    "#X_embedd = pd.read_csv(\"dataset/embed_bert_{}_train.csv\".format(section))\n",
    "\n",
    "#y_embedd = X_embedd['label']\n",
    "#X_embedd = X_embedd[columns]"
   ]
  },
  {
   "cell_type": "code",
   "execution_count": 31,
   "id": "3f69063f",
   "metadata": {},
   "outputs": [
    {
     "name": "stdout",
     "output_type": "stream",
     "text": [
      "Epoch 1/5\n",
      "11529/11529 [==============================] - 602s 52ms/step - loss: 0.6946 - precision_8: 0.5012 - val_loss: 0.6932 - val_precision_8: 0.5000\n",
      "Epoch 2/5\n",
      "11529/11529 [==============================] - 550s 48ms/step - loss: 0.6942 - precision_8: 0.5047 - val_loss: 0.6931 - val_precision_8: 0.5037\n",
      "Epoch 3/5\n",
      "11529/11529 [==============================] - 566s 49ms/step - loss: 0.6959 - precision_8: 0.4998 - val_loss: 0.6932 - val_precision_8: 0.5000\n",
      "Epoch 4/5\n",
      "11529/11529 [==============================] - 568s 49ms/step - loss: 0.6938 - precision_8: 0.4948 - val_loss: 0.6934 - val_precision_8: 0.5000\n",
      "Epoch 5/5\n",
      "11529/11529 [==============================] - 551s 48ms/step - loss: 0.6936 - precision_8: 0.4991 - val_loss: 0.6932 - val_precision_8: 0.5000\n"
     ]
    },
    {
     "data": {
      "text/plain": [
       "<tensorflow.python.keras.callbacks.History at 0x7f8a0018c220>"
      ]
     },
     "execution_count": 31,
     "metadata": {},
     "output_type": "execute_result"
    }
   ],
   "source": [
    "with open('dataset/dataset_{}.pkl'.format('features'), 'rb') as fp:\n",
    "    dataset = pickle.load(fp)\n",
    "\n",
    "path_to_save = \"/scratch/cinthiasouza/mv-text-summarizer/notebook/models_v6\"\n",
    "class_weight={0:1, 1:1}\n",
    "\n",
    "section='concat'\n",
    "\n",
    "X = dataset[section][0]\n",
    "y = dataset[section][2]\n",
    "\n",
    "\n",
    "model = Sequential()\n",
    "model.add(Dense(64, input_dim=X.shape[1], activation='relu'))\n",
    "model.add(Dropout(.2))\n",
    "model.add(Dense(128, activation='relu'))\n",
    "model.add(Dropout(.2))\n",
    "model.add(Dense(256, activation='relu'))\n",
    "model.add(Dropout(.2))\n",
    "model.add(Dense(256, activation='relu'))\n",
    "model.add(Dropout(.2))\n",
    "model.add(Dense(512, activation='relu'))\n",
    "model.add(Dropout(.3))\n",
    "model.add(Dense(512, activation='relu'))\n",
    "model.add(Dropout(.3))\n",
    "model.add(Dense(512, activation='relu'))\n",
    "model.add(Dropout(.3))\n",
    "model.add(Dense(512, activation='relu'))\n",
    "model.add(Dropout(.3))\n",
    "model.add(Dense(1024, activation='relu'))\n",
    "model.add(Dropout(.5))\n",
    "model.add(Dense(1024, activation='relu'))\n",
    "model.add(Dropout(.5))\n",
    "model.add(Dense(512, activation='relu'))\n",
    "model.add(Dropout(.3))\n",
    "model.add(Dense(512, activation='relu'))\n",
    "model.add(Dropout(.3))\n",
    "model.add(Dense(512, activation='relu'))\n",
    "model.add(Dropout(.3))\n",
    "model.add(Dense(512, activation='relu'))\n",
    "model.add(Dropout(.3))\n",
    "model.add(Dense(256, activation='relu'))\n",
    "model.add(Dropout(.2))\n",
    "model.add(Dense(256, activation='relu'))\n",
    "model.add(Dropout(.2))\n",
    "model.add(Dense(128, activation='relu'))\n",
    "model.add(Dropout(.2))\n",
    "model.add(Dense(64, activation='relu'))\n",
    "model.add(Dropout(.2))\n",
    "model.add(Dense(2, activation='sigmoid'))\n",
    "\n",
    "\n",
    "model.compile(loss='categorical_crossentropy', optimizer=keras.optimizers.Adam(\n",
    "                learning_rate=0.001), metrics=[keras.metrics.Precision()])\n",
    "\n",
    "one_hot_label = to_categorical(y)\n",
    "\n",
    "test_size, epochs, batch_size =parameters_mlp.get(section)\n",
    "\n",
    "X_train, X_valid, y_train, y_valid = train_test_split(X, one_hot_label, stratify=one_hot_label, test_size=test_size)\n",
    "\n",
    "my_callbacks = [EarlyStopping(patience=20)]\n",
    "\n",
    "my_callbacks = [EarlyStopping(patience=10, restore_best_weights=True),\n",
    "                keras.callbacks.LearningRateScheduler(scheduler),\n",
    "                TerminateOnBaseline(monitor='val_precision', baseline=0.9)]\n",
    "model.fit(\n",
    "            np.array(X_train), np.array(y_train), validation_data=(X_valid,y_valid), epochs=5,\n",
    "             batch_size=batch_size, class_weight=class_weight, callbacks=my_callbacks, verbose=True)\n"
   ]
  },
  {
   "cell_type": "code",
   "execution_count": null,
   "id": "5a358c20",
   "metadata": {},
   "outputs": [],
   "source": [
    "path_to_save = \"/scratch/cinthiasouza/mv-text-summarizer/notebook/models_v1\"\n",
    "model_json = model.to_json()\n",
    "with open('{}/mlp_embed_{}.json'.format(path_to_save, section), \"w\") as json_file:\n",
    "    json_file.write(model_json)\n",
    "# serialize weights to HDF5\n",
    "model.save_weights('{}/mlp_embed_{}.h5'.format(path_to_save, section))\n",
    "print(\"Saved model to disk\")"
   ]
  },
  {
   "cell_type": "code",
   "execution_count": 17,
   "id": "ee1b5b01",
   "metadata": {},
   "outputs": [
    {
     "name": "stdout",
     "output_type": "stream",
     "text": [
      "Saved model to disk\n"
     ]
    }
   ],
   "source": [
    "path_to_save = \"/scratch/cinthiasouza/mv-text-summarizer/notebook/models_v1\"\n",
    "model_json = model.to_json()\n",
    "with open('{}/mlp_{}.json'.format(path_to_save, section), \"w\") as json_file:\n",
    "    json_file.write(model_json)\n",
    "# serialize weights to HDF5\n",
    "model.save_weights('{}/mlp_{}.h5'.format(path_to_save, section))\n",
    "print(\"Saved model to disk\")"
   ]
  },
  {
   "cell_type": "code",
   "execution_count": 20,
   "id": "5f6aeb3c",
   "metadata": {},
   "outputs": [
    {
     "name": "stdout",
     "output_type": "stream",
     "text": [
      "Loaded model from disk\n"
     ]
    }
   ],
   "source": [
    "json_file = open('{}/mlp_{}.json'.format(path_to_save, section), 'r')\n",
    "loaded_model_json = json_file.read()\n",
    "json_file.close()\n",
    "loaded_model = model_from_json(loaded_model_json)\n",
    "# load weights into new model\n",
    "loaded_model.load_weights('{}/mlp_{}.h5'.format(path_to_save, section))\n",
    "print(\"Loaded model from disk\")\n",
    "loaded_model.compile(loss='categorical_crossentropy', optimizer=keras.optimizers.Adam(\n",
    "                learning_rate=0.001), metrics=[keras.metrics.Precision()])"
   ]
  }
 ],
 "metadata": {
  "kernelspec": {
   "display_name": "Python 3",
   "language": "python",
   "name": "python3"
  },
  "language_info": {
   "codemirror_mode": {
    "name": "ipython",
    "version": 3
   },
   "file_extension": ".py",
   "mimetype": "text/x-python",
   "name": "python",
   "nbconvert_exporter": "python",
   "pygments_lexer": "ipython3",
   "version": "3.8.8"
  }
 },
 "nbformat": 4,
 "nbformat_minor": 5
}
