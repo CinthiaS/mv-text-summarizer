{
 "cells": [
  {
   "cell_type": "code",
   "execution_count": 6,
   "id": "45b27135",
   "metadata": {},
   "outputs": [],
   "source": [
    "from sklearn.model_selection import StratifiedKFold\n",
    "from sklearn.model_selection import cross_val_score\n",
    "from sklearn.metrics import classification_report\n",
    "from sklearn.model_selection import train_test_split\n",
    "\n",
    "import pickle\n",
    "from tensorflow.keras.optimizers import Adadelta\n",
    "from tensorflow.keras.models import Model\n",
    "from tensorflow.keras.layers import Dense, Flatten, concatenate, Dropout, Input"
   ]
  },
  {
   "cell_type": "code",
   "execution_count": 7,
   "id": "1960e3ee",
   "metadata": {},
   "outputs": [],
   "source": [
    "from tensorflow import keras\n",
    "from tensorflow.keras.optimizers import Adam\n",
    "from tensorflow.keras.layers import Dense, Flatten, Dropout, InputLayer, Embedding\n",
    "from tensorflow.keras.models import Sequential\n",
    "from tensorflow.keras.models import model_from_json\n",
    "import numpy as np\n",
    "import pandas as pd\n",
    "\n",
    "from tensorflow.keras.utils import to_categorical\n",
    "from tensorflow.keras.callbacks import EarlyStopping, LearningRateScheduler"
   ]
  },
  {
   "cell_type": "code",
   "execution_count": 8,
   "id": "28d2d561",
   "metadata": {},
   "outputs": [],
   "source": [
    "from tensorflow.math import exp\n",
    "\n",
    "def scheduler(epoch, lr):\n",
    "    if epoch < 20:\n",
    "        return lr\n",
    "    else:\n",
    "        return lr * exp(-0.1)"
   ]
  },
  {
   "cell_type": "code",
   "execution_count": 9,
   "id": "f6d40cda",
   "metadata": {},
   "outputs": [],
   "source": [
    "from tensorflow.keras.callbacks import Callback\n",
    "\n",
    "class TerminateOnBaseline(Callback):\n",
    "    \"\"\"Callback that terminates training when either acc or val_acc reaches a specified baseline\n",
    "    \"\"\"\n",
    "    def __init__(self, monitor='accuracy', baseline=0.9):\n",
    "        super(TerminateOnBaseline, self).__init__()\n",
    "        self.monitor = monitor\n",
    "        self.baseline = baseline\n",
    "\n",
    "    def on_epoch_end(self, epoch, logs=None):\n",
    "        logs = logs or {}\n",
    "        acc = logs.get(self.monitor)\n",
    "        if acc is not None:\n",
    "            if acc >= self.baseline:\n",
    "                print('Epoch %d: Reached baseline, terminating training' % (epoch))\n",
    "                self.model.stop_training = True"
   ]
  },
  {
   "cell_type": "code",
   "execution_count": 10,
   "id": "ef452a68",
   "metadata": {},
   "outputs": [],
   "source": [
    "parameters_mlp = { \n",
    "    'introduction':  [ 0.2, 100, 8],\n",
    "    'materials':     [ 0.2, 100, 8],\n",
    "    'conclusion':  [ 0.2, 100, 8]}"
   ]
  },
  {
   "cell_type": "markdown",
   "id": "a7402b3e",
   "metadata": {},
   "source": [
    "# MV"
   ]
  },
  {
   "cell_type": "code",
   "execution_count": 11,
   "id": "8974ce69",
   "metadata": {},
   "outputs": [],
   "source": [
    "section='materials'\n",
    "\n",
    "with open('dataset/dataset_{}.pkl'.format('features'), 'rb') as fp:\n",
    "    dataset = pickle.load(fp)\n",
    "\n",
    "X_features = dataset[section][0]\n",
    "y_features = dataset[section][2]\n",
    "\n",
    "\n",
    "columns = list(range(0, 383))\n",
    "columns = list(map(str, columns))\n",
    "\n",
    "folder_to_save = 'models_v1'\n",
    "path_to_save = \"/scratch/cinthiasouza/mv-text-summarizer/notebook/{}\".format(folder_to_save)\n",
    "\n",
    "X_embedd = pd.read_csv(\"dataset/embed_bert_{}_train.csv\".format(section))\n",
    "\n",
    "y_embedd = X_embedd['label']\n",
    "X_embedd = X_embedd[columns]"
   ]
  },
  {
   "cell_type": "code",
   "execution_count": 25,
   "id": "b8e9d92a",
   "metadata": {},
   "outputs": [],
   "source": [
    "sequence_input = Input(shape=(X_embedd.shape[1],), dtype='int32')\n",
    "\n",
    "S_1 = Dense(512, activation='tanh')(sequence_input)\n",
    "S_1 = Dense(512, activation='linear')(S_1)\n",
    "S_1 = Dense(512, activation=\"softmax\")(S_1)\n",
    "layer1 = S_1\n",
    "S_1 = Flatten()(S_1)\n",
    "\n",
    "sequence_input2 = Input(shape=(X_features.shape[1],), dtype='int32')\n",
    "\n",
    "S_2 = Dense(512, activation='relu')(sequence_input2)\n",
    "S_2 = Dense(512, activation='relu')(S_2)\n",
    "S_2 = Dense(512, activation='relu')(S_2)\n",
    "S_2 = Flatten()(S_2)\n",
    "\n",
    "S_3 = Dense(512, activation='relu')(sequence_input2)\n",
    "S_3 = Dense(512, activation='relu')(S_3)\n",
    "S_3 = Dense(512, activation=\"relu\")(S_3)\n",
    "S_3 = Flatten()(S_3)\n",
    "\n",
    "v_1 = S_1\n",
    "\n",
    "v_2_concat = concatenate([v_1, S_2])\n",
    "v_2 = Dense(512, activation='relu')(v_2_concat)\n",
    "\n",
    "v_3_concat = concatenate([v_1, v_2, S_3])\n",
    "v_3 = Dense(512, activation='relu')(v_3_concat)\n",
    "\n",
    "concat_layer = concatenate([v_1, v_2, v_3])\n",
    "perceptron_1 = Dense(256, activation='relu')(concat_layer)\n",
    "dropout1 = Dropout(.2)(perceptron_1)\n",
    "perceptron_2 = Dense(256, activation='relu')(dropout1)\n",
    "dropout2 = Dropout(.2)(perceptron_2)\n",
    "perceptron_3 = Dense(512, activation='relu')(dropout2)\n",
    "dropout3 = Dropout(.3)(perceptron_3)\n",
    "perceptron_4 = Dense(512, activation='relu')(dropout3)\n",
    "dropout4 = Dropout(.3)(perceptron_4)\n",
    "perceptron_5 = Dense(1024, activation='relu')(dropout4)\n",
    "dropout5 = Dropout(.5)(perceptron_5)\n",
    "perceptron_6 = Dense(1024, activation='relu')(dropout5)\n",
    "dropout6 = Dropout(.5)(perceptron_6)\n",
    "perceptron_7 = Dense(512, activation='relu')(dropout6)\n",
    "dropout7 = Dropout(.3)(perceptron_7)\n",
    "perceptron_8 = Dense(256, activation='relu')(dropout7)\n",
    "dropout8 = Dropout(.3)(perceptron_8)\n",
    "perceptron_9 = Dense(128, activation='relu')(dropout8)\n",
    "dropout9 = Dropout(.2)(perceptron_3)\n",
    "\n",
    "preds = Dense(2, activation='sigmoid')(dropout9)\n",
    "\n",
    "model = Model(inputs=[sequence_input, sequence_input2], outputs=preds)\n",
    "\n",
    "my_callbacks = [keras.callbacks.LearningRateScheduler(scheduler),\n",
    "                TerminateOnBaseline(monitor='val_precision', baseline=0.9)]\n",
    "\n",
    "model.compile(loss='categorical_crossentropy', optimizer=keras.optimizers.Adam(\n",
    "                learning_rate=0.0001), metrics=['accuracy'])"
   ]
  },
  {
   "cell_type": "code",
   "execution_count": null,
   "id": "8590368d",
   "metadata": {},
   "outputs": [
    {
     "name": "stdout",
     "output_type": "stream",
     "text": [
      "Epoch 1/5\n",
      "13672/13672 [==============================] - 1043s 76ms/step - loss: 0.6276 - accuracy: 0.6453 - val_loss: 0.6132 - val_accuracy: 0.6615\n",
      "Epoch 2/5\n",
      " 8647/13672 [=================>............] - ETA: 6:50 - loss: 0.6111 - accuracy: 0.6586 ETA: "
     ]
    }
   ],
   "source": [
    "one_hot_label = to_categorical(y_embedd)\n",
    "X_train_embedd, X_valid_embedd, y_train_embedd, y_valid_embedd = train_test_split(\n",
    "    X_embedd, one_hot_label, stratify=one_hot_label, shuffle=True, test_size=0.1)\n",
    "\n",
    "one_hot_label = to_categorical(y_features)\n",
    "X_train_features, X_valid_features, y_train_features, y_valid_features = train_test_split(\n",
    "    X_features, one_hot_label, stratify=one_hot_label, shuffle=True, test_size=0.1)\n",
    "\n",
    "history= model.fit(\n",
    "\tx=[X_train_embedd, X_train_features], y=y_train_features,\n",
    "\tepochs=5, validation_data=([X_valid_embedd, X_valid_features], y_valid_features),\n",
    "    callbacks=my_callbacks, shuffle=True, batch_size=4)"
   ]
  },
  {
   "cell_type": "code",
   "execution_count": 12,
   "id": "b7f8777f",
   "metadata": {},
   "outputs": [
    {
     "data": {
      "text/plain": [
       "'materials'"
      ]
     },
     "execution_count": 12,
     "metadata": {},
     "output_type": "execute_result"
    }
   ],
   "source": [
    "section"
   ]
  },
  {
   "cell_type": "code",
   "execution_count": 27,
   "id": "82d8a109",
   "metadata": {},
   "outputs": [
    {
     "name": "stdout",
     "output_type": "stream",
     "text": [
      "Saved model to disk\n"
     ]
    }
   ],
   "source": [
    "model_json = model.to_json()\n",
    "with open('{}/mv_mlp_bert_{}.json'.format(path_to_save, section), \"w\") as json_file:\n",
    "    json_file.write(model_json)\n",
    "# serialize weights to HDF5\n",
    "model.save_weights('{}/mv_mlp_bert_{}.h5'.format(path_to_save, section))\n",
    "print(\"Saved model to disk\")"
   ]
  },
  {
   "cell_type": "code",
   "execution_count": 10,
   "id": "6f7eea7d",
   "metadata": {},
   "outputs": [
    {
     "name": "stdout",
     "output_type": "stream",
     "text": [
      "1845/1845 [==============================] - 7s 4ms/step - loss: 0.5964 - precision: 0.6765\n"
     ]
    },
    {
     "data": {
      "text/plain": [
       "[0.5964375734329224, 0.6765419840812683]"
      ]
     },
     "execution_count": 10,
     "metadata": {},
     "output_type": "execute_result"
    }
   ],
   "source": [
    "model.evaluate(x=[X_train_embedd, X_train_features], y=y_train_features)"
   ]
  }
 ],
 "metadata": {
  "kernelspec": {
   "display_name": "Python 3",
   "language": "python",
   "name": "python3"
  },
  "language_info": {
   "codemirror_mode": {
    "name": "ipython",
    "version": 3
   },
   "file_extension": ".py",
   "mimetype": "text/x-python",
   "name": "python",
   "nbconvert_exporter": "python",
   "pygments_lexer": "ipython3",
   "version": "3.8.8"
  }
 },
 "nbformat": 4,
 "nbformat_minor": 5
}
