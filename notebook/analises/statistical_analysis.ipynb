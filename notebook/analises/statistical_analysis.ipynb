{
 "cells": [
  {
   "cell_type": "code",
   "execution_count": 3,
   "id": "b460f3fe",
   "metadata": {},
   "outputs": [],
   "source": [
    "import pandas as pd\n",
    "import numpy as np\n",
    "from scipy import stats\n",
    "import scikit_posthocs as sp\n",
    "import numpy as np\n",
    "import numpy as np\n",
    "import pandas as pd\n",
    "import matplotlib.pyplot as plt\n",
    "from autorank import autorank, plot_stats, create_report, latex_table"
   ]
  },
  {
   "cell_type": "code",
   "execution_count": 34,
   "id": "d39f69e6",
   "metadata": {},
   "outputs": [],
   "source": [
    "tests = {'mv_models_f1':'embed'}"
   ]
  },
  {
   "cell_type": "code",
   "execution_count": 35,
   "id": "2ff31e7b",
   "metadata": {},
   "outputs": [],
   "source": [
    "name_models=['knn', 'rf', 'ab', 'cb', 'gb', 'mlp']"
   ]
  },
  {
   "cell_type": "code",
   "execution_count": 36,
   "id": "648dff90",
   "metadata": {},
   "outputs": [],
   "source": [
    "name_models=['knn', 'rf']"
   ]
  },
  {
   "cell_type": "code",
   "execution_count": 37,
   "id": "48e6b31c",
   "metadata": {},
   "outputs": [],
   "source": [
    "metrics=['rouge-1', 'rouge-2', 'rouge-l']"
   ]
  },
  {
   "cell_type": "code",
   "execution_count": 38,
   "id": "ee5a7391",
   "metadata": {},
   "outputs": [],
   "source": [
    "columns = [ \"{}_{}\".format(i,j) for i in name_models for j in metrics]"
   ]
  },
  {
   "cell_type": "code",
   "execution_count": 39,
   "id": "d8da867e",
   "metadata": {},
   "outputs": [],
   "source": [
    "results = []\n",
    "for num_test in range(1,31):\n",
    "    \n",
    "    for name_test, approach in tests.items():\n",
    "        \n",
    "        path_to_save = \"/scratch/cinthiasouza/mv-text-summarizer/notebook/{}\".format(name_test)\n",
    "        result_comb = pd.read_csv(\"{}/test_{}/summaries/{}.csv\".format(path_to_save, num_test, 'comb'))\n",
    "                                  \n",
    "        results.append(result_comb.describe().T['mean'])"
   ]
  },
  {
   "cell_type": "code",
   "execution_count": 40,
   "id": "163a21dc",
   "metadata": {},
   "outputs": [],
   "source": [
    "df = pd.concat(results, axis=1).T"
   ]
  },
  {
   "cell_type": "code",
   "execution_count": 11,
   "id": "88090f06",
   "metadata": {},
   "outputs": [
    {
     "data": {
      "text/html": [
       "<div>\n",
       "<style scoped>\n",
       "    .dataframe tbody tr th:only-of-type {\n",
       "        vertical-align: middle;\n",
       "    }\n",
       "\n",
       "    .dataframe tbody tr th {\n",
       "        vertical-align: top;\n",
       "    }\n",
       "\n",
       "    .dataframe thead th {\n",
       "        text-align: right;\n",
       "    }\n",
       "</style>\n",
       "<table border=\"1\" class=\"dataframe\">\n",
       "  <thead>\n",
       "    <tr style=\"text-align: right;\">\n",
       "      <th></th>\n",
       "      <th>mean</th>\n",
       "      <th>std</th>\n",
       "    </tr>\n",
       "  </thead>\n",
       "  <tbody>\n",
       "    <tr>\n",
       "      <th>knn_rouge-1</th>\n",
       "      <td>0.455790</td>\n",
       "      <td>2.258405e-16</td>\n",
       "    </tr>\n",
       "    <tr>\n",
       "      <th>knn_rouge-2</th>\n",
       "      <td>0.167076</td>\n",
       "      <td>0.000000e+00</td>\n",
       "    </tr>\n",
       "    <tr>\n",
       "      <th>knn_rouge-l</th>\n",
       "      <td>0.287406</td>\n",
       "      <td>2.258405e-16</td>\n",
       "    </tr>\n",
       "    <tr>\n",
       "      <th>rf_rouge-1</th>\n",
       "      <td>0.467260</td>\n",
       "      <td>1.562590e-03</td>\n",
       "    </tr>\n",
       "    <tr>\n",
       "      <th>rf_rouge-2</th>\n",
       "      <td>0.187720</td>\n",
       "      <td>1.478210e-03</td>\n",
       "    </tr>\n",
       "    <tr>\n",
       "      <th>rf_rouge-l</th>\n",
       "      <td>0.299805</td>\n",
       "      <td>1.183201e-03</td>\n",
       "    </tr>\n",
       "    <tr>\n",
       "      <th>ab_rouge-1</th>\n",
       "      <td>0.469739</td>\n",
       "      <td>1.693804e-16</td>\n",
       "    </tr>\n",
       "    <tr>\n",
       "      <th>ab_rouge-2</th>\n",
       "      <td>0.189274</td>\n",
       "      <td>2.823006e-17</td>\n",
       "    </tr>\n",
       "    <tr>\n",
       "      <th>ab_rouge-l</th>\n",
       "      <td>0.301486</td>\n",
       "      <td>2.258405e-16</td>\n",
       "    </tr>\n",
       "    <tr>\n",
       "      <th>gb_rouge-1</th>\n",
       "      <td>0.472384</td>\n",
       "      <td>2.258405e-16</td>\n",
       "    </tr>\n",
       "    <tr>\n",
       "      <th>gb_rouge-2</th>\n",
       "      <td>0.193109</td>\n",
       "      <td>2.823006e-17</td>\n",
       "    </tr>\n",
       "    <tr>\n",
       "      <th>gb_rouge-l</th>\n",
       "      <td>0.304188</td>\n",
       "      <td>0.000000e+00</td>\n",
       "    </tr>\n",
       "    <tr>\n",
       "      <th>cb_rouge-1</th>\n",
       "      <td>0.470998</td>\n",
       "      <td>5.646013e-17</td>\n",
       "    </tr>\n",
       "    <tr>\n",
       "      <th>cb_rouge-2</th>\n",
       "      <td>0.191155</td>\n",
       "      <td>8.469019e-17</td>\n",
       "    </tr>\n",
       "    <tr>\n",
       "      <th>cb_rouge-l</th>\n",
       "      <td>0.302141</td>\n",
       "      <td>1.129203e-16</td>\n",
       "    </tr>\n",
       "    <tr>\n",
       "      <th>mlp_rouge-1</th>\n",
       "      <td>0.446742</td>\n",
       "      <td>1.633858e-02</td>\n",
       "    </tr>\n",
       "    <tr>\n",
       "      <th>mlp_rouge-2</th>\n",
       "      <td>0.167661</td>\n",
       "      <td>1.489101e-02</td>\n",
       "    </tr>\n",
       "    <tr>\n",
       "      <th>mlp_rouge-l</th>\n",
       "      <td>0.284738</td>\n",
       "      <td>1.172902e-02</td>\n",
       "    </tr>\n",
       "  </tbody>\n",
       "</table>\n",
       "</div>"
      ],
      "text/plain": [
       "                 mean           std\n",
       "knn_rouge-1  0.455790  2.258405e-16\n",
       "knn_rouge-2  0.167076  0.000000e+00\n",
       "knn_rouge-l  0.287406  2.258405e-16\n",
       "rf_rouge-1   0.467260  1.562590e-03\n",
       "rf_rouge-2   0.187720  1.478210e-03\n",
       "rf_rouge-l   0.299805  1.183201e-03\n",
       "ab_rouge-1   0.469739  1.693804e-16\n",
       "ab_rouge-2   0.189274  2.823006e-17\n",
       "ab_rouge-l   0.301486  2.258405e-16\n",
       "gb_rouge-1   0.472384  2.258405e-16\n",
       "gb_rouge-2   0.193109  2.823006e-17\n",
       "gb_rouge-l   0.304188  0.000000e+00\n",
       "cb_rouge-1   0.470998  5.646013e-17\n",
       "cb_rouge-2   0.191155  8.469019e-17\n",
       "cb_rouge-l   0.302141  1.129203e-16\n",
       "mlp_rouge-1  0.446742  1.633858e-02\n",
       "mlp_rouge-2  0.167661  1.489101e-02\n",
       "mlp_rouge-l  0.284738  1.172902e-02"
      ]
     },
     "execution_count": 11,
     "metadata": {},
     "output_type": "execute_result"
    }
   ],
   "source": [
    "df.describe().T[['mean', 'std']]"
   ]
  },
  {
   "cell_type": "code",
   "execution_count": 28,
   "id": "ad8a6b83",
   "metadata": {},
   "outputs": [
    {
     "data": {
      "text/plain": [
       "Index(['knn_f2', 'rf_f2', 'ab_f2', 'gb_f2', 'cb_f2', 'kmlp_f2', 'knn_f1',\n",
       "       'rf_f1', 'ab_f1', 'gb_f1', 'cb_f1', 'kmlp_f1', 'mlp_f1'],\n",
       "      dtype='object')"
      ]
     },
     "execution_count": 28,
     "metadata": {},
     "output_type": "execute_result"
    }
   ],
   "source": [
    "aux.columns"
   ]
  },
  {
   "cell_type": "code",
   "execution_count": 41,
   "id": "2bcf0031",
   "metadata": {
    "scrolled": false
   },
   "outputs": [
    {
     "name": "stdout",
     "output_type": "stream",
     "text": [
      "\n",
      "\n",
      " Metric: rouge-1 \n",
      "\n",
      "\n",
      "FriedmanchisquareResult(statistic=118.51428571428573, pvalue=6.4769576459031926e-24)\n",
      "\n",
      "\n",
      "          0         1         2         3         4         5\n",
      "0  1.000000  0.203269  0.001000  0.128313  0.001000  0.512576\n",
      "1  0.203269  1.000000  0.001000  0.001000  0.001000  0.001000\n",
      "2  0.001000  0.001000  1.000000  0.267024  0.043566  0.043566\n",
      "3  0.128313  0.001000  0.267024  1.000000  0.001000  0.900000\n",
      "4  0.001000  0.001000  0.043566  0.001000  1.000000  0.001000\n",
      "5  0.512576  0.001000  0.043566  0.900000  0.001000  1.000000\n",
      "\n",
      "\n"
     ]
    },
    {
     "name": "stderr",
     "output_type": "stream",
     "text": [
      "/scratch/cinthiasouza/anaconda3/lib/python3.8/site-packages/scipy/stats/morestats.py:1678: UserWarning: Input data for shapiro has range zero. The results may not be accurate.\n",
      "  warnings.warn(\"Input data for shapiro has range zero. The results \"\n"
     ]
    },
    {
     "name": "stdout",
     "output_type": "stream",
     "text": [
      "The statistical analysis was conducted for 6 populations with 30 paired samples.\n",
      "The family-wise significance level of the tests is alpha=0.050.\n",
      "We rejected the null hypothesis that the population is normal for the population mlp_rouge-1 (p=0.000). Therefore, we assume that not all populations are normal.\n",
      "Because we have more than two populations and the populations and one of them is not normal, we use the non-parametric Friedman test as omnibus test to determine if there are any significant differences between the median values of the populations. We use the post-hoc Nemenyi test to infer which differences are significant. We report the median (MD), the median absolute deviation (MAD) and the mean rank (MR) among all populations over the samples. Differences between populations are significant, if the difference of the mean rank is greater than the critical distance CD=1.377 of the Nemenyi test.\n",
      "We reject the null hypothesis (p=0.000) of the Friedman test that there is no difference in the central tendency of the populations rf_rouge-1 (MD=0.457+-0.003, MAD=0.002, MR=5.733), knn_rouge-1 (MD=0.462+-0.000, MAD=0.000, MR=4.633), mlp_rouge-1 (MD=0.464+-0.010, MAD=0.003, MR=3.800), cb_rouge-1 (MD=0.464+-0.000, MAD=0.000, MR=3.433), ab_rouge-1 (MD=0.466+-0.000, MAD=0.000, MR=2.400), and gb_rouge-1 (MD=0.472+-0.000, MAD=0.000, MR=1.000). Therefore, we assume that there is a statistically significant difference between the median values of the populations.\n",
      "Based on the post-hoc Nemenyi test, we assume that there are no significant differences within the following groups: rf_rouge-1 and knn_rouge-1; knn_rouge-1, mlp_rouge-1, and cb_rouge-1; cb_rouge-1 and ab_rouge-1. All other differences are significant.\n",
      "None\n",
      "\n",
      "\n",
      "RankResult(rankdf=\n",
      "             meanrank    median       mad  ci_lower  ci_upper effect_size  \\\n",
      "rf_rouge-1   5.733333  0.456694  0.001771   0.45469  0.459743         0.0   \n",
      "knn_rouge-1  4.633333  0.462248       0.0  0.462248  0.462248   -2.990885   \n",
      "mlp_rouge-1  3.800000  0.463813  0.003444  0.448071  0.467976   -1.753285   \n",
      "cb_rouge-1   3.433333  0.464461       0.0  0.464461  0.464461   -4.182489   \n",
      "ab_rouge-1   2.400000  0.465835       0.0  0.465835  0.465835   -4.922717   \n",
      "gb_rouge-1   1.000000  0.472396       0.0  0.472396  0.472396    -8.45608   \n",
      "\n",
      "              magnitude  \n",
      "rf_rouge-1   negligible  \n",
      "knn_rouge-1       large  \n",
      "mlp_rouge-1       large  \n",
      "cb_rouge-1        large  \n",
      "ab_rouge-1        large  \n",
      "gb_rouge-1        large  \n",
      "pvalue=6.4769576459031926e-24\n",
      "cd=1.3765208105413766\n",
      "omnibus=friedman\n",
      "posthoc=nemenyi\n",
      "all_normal=False\n",
      "pvals_shapiro=[0.8388208746910095, 1.0, 0.00016009331739041954, 1.0, 1.0, 1.0]\n",
      "homoscedastic=False\n",
      "pval_homogeneity=3.119689537382331e-16\n",
      "homogeneity_test=levene\n",
      "alpha=0.05\n",
      "alpha_normality=0.008333333333333333\n",
      "num_samples=30\n",
      "posterior_matrix=\n",
      "None\n",
      "decision_matrix=\n",
      "None\n",
      "rope=None\n",
      "rope_mode=None\n",
      "effect_size=akinshin_gamma)\n",
      "\n",
      "\n",
      " Metric: rouge-2 \n",
      "\n",
      "\n",
      "FriedmanchisquareResult(statistic=117.7714285714286, pvalue=9.303643006289999e-24)\n",
      "\n",
      "\n",
      "          0         1         2         3         4         5\n",
      "0  1.000000  0.900000  0.001000  0.001000  0.001000  0.009412\n",
      "1  0.900000  1.000000  0.018776  0.001000  0.001000  0.175491\n",
      "2  0.001000  0.018776  1.000000  0.150798  0.001000  0.900000\n",
      "3  0.001000  0.001000  0.150798  1.000000  0.109172  0.015002\n",
      "4  0.001000  0.001000  0.001000  0.109172  1.000000  0.001000\n",
      "5  0.009412  0.175491  0.900000  0.015002  0.001000  1.000000\n",
      "\n",
      "\n",
      "The statistical analysis was conducted for 6 populations with 30 paired samples.\n",
      "The family-wise significance level of the tests is alpha=0.050.\n",
      "We rejected the null hypothesis that the population is normal for the population rf_rouge-2 (p=0.002). Therefore, we assume that not all populations are normal.\n",
      "Because we have more than two populations and the populations and one of them is not normal, we use the non-parametric Friedman test as omnibus test to determine if there are any significant differences between the median values of the populations. We use the post-hoc Nemenyi test to infer which differences are significant. We report the median (MD), the median absolute deviation (MAD) and the mean rank (MR) among all populations over the samples. Differences between populations are significant, if the difference of the mean rank is greater than the critical distance CD=1.377 of the Nemenyi test.\n",
      "We reject the null hypothesis (p=0.000) of the Friedman test that there is no difference in the central tendency of the populations knn_rouge-2 (MD=0.177+-0.000, MAD=0.000, MR=5.467), rf_rouge-2 (MD=0.178+-0.002, MAD=0.002, MR=4.967), mlp_rouge-2 (MD=0.184+-0.011, MAD=0.004, MR=3.833), ab_rouge-2 (MD=0.185+-0.000, MAD=0.000, MR=3.433), cb_rouge-2 (MD=0.187+-0.000, MAD=0.000, MR=2.267), and gb_rouge-2 (MD=0.193+-0.000, MAD=0.000, MR=1.033). Therefore, we assume that there is a statistically significant difference between the median values of the populations.\n",
      "Based on the post-hoc Nemenyi test, we assume that there are no significant differences within the following groups: knn_rouge-2 and rf_rouge-2; rf_rouge-2 and mlp_rouge-2; mlp_rouge-2 and ab_rouge-2; ab_rouge-2 and cb_rouge-2; cb_rouge-2 and gb_rouge-2. All other differences are significant.\n",
      "None\n",
      "\n",
      "\n",
      "RankResult(rankdf=\n",
      "             meanrank    median       mad  ci_lower  ci_upper effect_size  \\\n",
      "knn_rouge-2  5.466667  0.176869       0.0  0.176869  0.176869         NaN   \n",
      "rf_rouge-2   4.966667  0.178330   0.00183  0.176499  0.181204   -0.761439   \n",
      "mlp_rouge-2  3.833333  0.184237  0.004074  0.167679   0.18903    -1.72496   \n",
      "ab_rouge-2   3.433333  0.185049       0.0  0.185049  0.185049        -inf   \n",
      "cb_rouge-2   2.266667  0.186805       0.0  0.186805  0.186805        -inf   \n",
      "gb_rouge-2   1.033333  0.192642       0.0  0.192642  0.192642        -inf   \n",
      "\n",
      "            magnitude  \n",
      "knn_rouge-2     large  \n",
      "rf_rouge-2     medium  \n",
      "mlp_rouge-2     large  \n",
      "ab_rouge-2      large  \n",
      "cb_rouge-2      large  \n",
      "gb_rouge-2      large  \n",
      "pvalue=9.303643006289999e-24\n",
      "cd=1.3765208105413766\n",
      "omnibus=friedman\n",
      "posthoc=nemenyi\n",
      "all_normal=False\n",
      "pvals_shapiro=[0.6126084327697754, 0.0024781490210443735, 1.0, 1.0, 1.0, 1.0]\n",
      "homoscedastic=False\n",
      "pval_homogeneity=3.476250330375017e-18\n",
      "homogeneity_test=levene\n",
      "alpha=0.05\n",
      "alpha_normality=0.008333333333333333\n",
      "num_samples=30\n",
      "posterior_matrix=\n",
      "None\n",
      "decision_matrix=\n",
      "None\n",
      "rope=None\n",
      "rope_mode=None\n",
      "effect_size=akinshin_gamma)\n",
      "\n",
      "\n",
      " Metric: rouge-l \n",
      "\n",
      "\n",
      "FriedmanchisquareResult(statistic=118.22857142857151, pvalue=7.445040614694081e-24)\n",
      "\n",
      "\n",
      "          0         1         2         3         4         5\n",
      "0  1.000000  0.791568  0.001000  0.001000  0.001000  0.001000\n",
      "1  0.791568  1.000000  0.028926  0.001000  0.001000  0.052973\n",
      "2  0.001000  0.028926  1.000000  0.128313  0.001000  0.900000\n",
      "3  0.001000  0.001000  0.128313  1.000000  0.109172  0.077164\n",
      "4  0.001000  0.001000  0.001000  0.109172  1.000000  0.001000\n",
      "5  0.001000  0.052973  0.900000  0.077164  0.001000  1.000000\n",
      "\n",
      "\n"
     ]
    },
    {
     "name": "stderr",
     "output_type": "stream",
     "text": [
      "/scratch/cinthiasouza/anaconda3/lib/python3.8/site-packages/scipy/stats/morestats.py:1678: UserWarning: Input data for shapiro has range zero. The results may not be accurate.\n",
      "  warnings.warn(\"Input data for shapiro has range zero. The results \"\n",
      "/scratch/cinthiasouza/anaconda3/lib/python3.8/site-packages/autorank/_util.py:112: RuntimeWarning: invalid value encountered in double_scalars\n",
      "  return (np.median(x) - np.median(y)) / _pooled_mad(x, y)\n",
      "/scratch/cinthiasouza/anaconda3/lib/python3.8/site-packages/autorank/_util.py:112: RuntimeWarning: divide by zero encountered in double_scalars\n",
      "  return (np.median(x) - np.median(y)) / _pooled_mad(x, y)\n",
      "/scratch/cinthiasouza/anaconda3/lib/python3.8/site-packages/scipy/stats/morestats.py:1678: UserWarning: Input data for shapiro has range zero. The results may not be accurate.\n",
      "  warnings.warn(\"Input data for shapiro has range zero. The results \"\n"
     ]
    },
    {
     "name": "stdout",
     "output_type": "stream",
     "text": [
      "The statistical analysis was conducted for 6 populations with 30 paired samples.\n",
      "The family-wise significance level of the tests is alpha=0.050.\n",
      "We rejected the null hypothesis that the population is normal for the population rf_rouge-l (p=0.001). Therefore, we assume that not all populations are normal.\n",
      "Because we have more than two populations and the populations and one of them is not normal, we use the non-parametric Friedman test as omnibus test to determine if there are any significant differences between the median values of the populations. We use the post-hoc Nemenyi test to infer which differences are significant. We report the median (MD), the median absolute deviation (MAD) and the mean rank (MR) among all populations over the samples. Differences between populations are significant, if the difference of the mean rank is greater than the critical distance CD=1.377 of the Nemenyi test.\n",
      "We reject the null hypothesis (p=0.000) of the Friedman test that there is no difference in the central tendency of the populations knn_rouge-l (MD=0.291+-0.000, MAD=0.000, MR=5.567), rf_rouge-l (MD=0.293+-0.002, MAD=0.001, MR=4.967), mlp_rouge-l (MD=0.298+-0.007, MAD=0.003, MR=3.600), ab_rouge-l (MD=0.298+-0.000, MAD=0.000, MR=3.500), cb_rouge-l (MD=0.300+-0.000, MAD=0.000, MR=2.300), and gb_rouge-l (MD=0.303+-0.000, MAD=0.000, MR=1.067). Therefore, we assume that there is a statistically significant difference between the median values of the populations.\n",
      "Based on the post-hoc Nemenyi test, we assume that there are no significant differences within the following groups: knn_rouge-l and rf_rouge-l; rf_rouge-l and mlp_rouge-l; mlp_rouge-l, ab_rouge-l, and cb_rouge-l; cb_rouge-l and gb_rouge-l. All other differences are significant.\n",
      "None\n",
      "\n",
      "\n",
      "RankResult(rankdf=\n",
      "             meanrank    median       mad  ci_lower  ci_upper effect_size  \\\n",
      "knn_rouge-l  5.566667  0.291369       0.0  0.291369  0.291369         NaN   \n",
      "rf_rouge-l   4.966667  0.292533  0.001228  0.291243  0.294943   -0.904111   \n",
      "mlp_rouge-l  3.600000  0.298190   0.00307  0.287186  0.301898   -2.119021   \n",
      "ab_rouge-l   3.500000  0.298171       0.0  0.298171  0.298171        -inf   \n",
      "cb_rouge-l   2.300000  0.299695       0.0  0.299695  0.299695        -inf   \n",
      "gb_rouge-l   1.066667  0.303149       0.0  0.303149  0.303149        -inf   \n",
      "\n",
      "            magnitude  \n",
      "knn_rouge-l     large  \n",
      "rf_rouge-l      large  \n",
      "mlp_rouge-l     large  \n",
      "ab_rouge-l      large  \n",
      "cb_rouge-l      large  \n",
      "gb_rouge-l      large  \n",
      "pvalue=7.445040614694081e-24\n",
      "cd=1.3765208105413766\n",
      "omnibus=friedman\n",
      "posthoc=nemenyi\n",
      "all_normal=False\n",
      "pvals_shapiro=[0.9392817616462708, 0.00134766916744411, 1.0, 1.0, 1.0, 1.0]\n",
      "homoscedastic=False\n",
      "pval_homogeneity=9.322903881305068e-17\n",
      "homogeneity_test=levene\n",
      "alpha=0.05\n",
      "alpha_normality=0.008333333333333333\n",
      "num_samples=30\n",
      "posterior_matrix=\n",
      "None\n",
      "decision_matrix=\n",
      "None\n",
      "rope=None\n",
      "rope_mode=None\n",
      "effect_size=akinshin_gamma)\n"
     ]
    },
    {
     "name": "stderr",
     "output_type": "stream",
     "text": [
      "/scratch/cinthiasouza/anaconda3/lib/python3.8/site-packages/autorank/_util.py:112: RuntimeWarning: invalid value encountered in double_scalars\n",
      "  return (np.median(x) - np.median(y)) / _pooled_mad(x, y)\n",
      "/scratch/cinthiasouza/anaconda3/lib/python3.8/site-packages/autorank/_util.py:112: RuntimeWarning: divide by zero encountered in double_scalars\n",
      "  return (np.median(x) - np.median(y)) / _pooled_mad(x, y)\n"
     ]
    }
   ],
   "source": [
    "for metric in metrics:\n",
    "    \n",
    "    print(\"\\n\\n Metric: {} \\n\\n\".format(metric))\n",
    "    \n",
    "    knn =  df['knn_{}'.format(metric)].to_list()\n",
    "    rf = df['rf_{}'.format(metric)].to_list()\n",
    "    ab = df['ab_{}'.format(metric)].to_list()\n",
    "    cb = df['cb_{}'.format(metric)].to_list()\n",
    "    gb = df['gb_{}'.format(metric)].to_list()\n",
    "    mlp = df['mlp_{}'.format(metric)].to_list()\n",
    "\n",
    "    columns=['mlp_{}'.format(metric), 'knn_{}'.format(metric), 'rf_{}'.format(metric), 'ab_{}'.format(metric), 'cb_{}'.format(metric), 'gb_{}'.format(metric)]\n",
    "\n",
    "    x = np.array([knn, rf, ab, cb, gb, mlp])\n",
    "\n",
    "    print(stats.friedmanchisquare(knn, rf, ab, cb, gb, mlp))\n",
    "    print(\"\\n\")\n",
    "\n",
    "    result = sp.posthoc_nemenyi_friedman(x.T)\n",
    "    print(result)\n",
    "    print(\"\\n\")\n",
    "\n",
    "    data = df[columns]\n",
    "    result = autorank(data, alpha=0.05, verbose=False, approach='frequentist')\n",
    "\n",
    "    print(create_report(result))\n",
    "    print(\"\\n\")\n",
    "    print(result)"
   ]
  },
  {
   "cell_type": "code",
   "execution_count": null,
   "id": "a748da40",
   "metadata": {},
   "outputs": [],
   "source": [
    "rf_rouge-1   5.733333  0.456694  0.001771   0.45469  0.459743         0.0   \n",
    "knn_rouge-1  4.633333  0.462248       0.0  0.462248  0.462248   -2.990885   \n",
    "mlp_rouge-1  3.800000  0.463813  0.003444  0.448071  0.467976   -1.753285   \n",
    "cb_rouge-1   3.433333  0.464461       0.0  0.464461  0.464461   -4.182489   \n",
    "ab_rouge-1   2.400000  0.465835       0.0  0.465835  0.465835   -4.922717   \n",
    "gb_rouge-1   1.000000  0.472396       0.0  0.472396  0.472396    -8.45608   \n"
   ]
  },
  {
   "cell_type": "code",
   "execution_count": 42,
   "id": "30179db2",
   "metadata": {},
   "outputs": [
    {
     "data": {
      "text/plain": [
       "1.4"
      ]
     },
     "execution_count": 42,
     "metadata": {},
     "output_type": "execute_result"
    }
   ],
   "source": [
    "3.8-2.4"
   ]
  },
  {
   "cell_type": "code",
   "execution_count": 44,
   "id": "3490c861",
   "metadata": {},
   "outputs": [
    {
     "data": {
      "image/png": "[encoded data removed]",
      "text/plain": [
       "<Figure size 432x129.6 with 1 Axes>"
      ]
     },
     "metadata": {
      "needs_background": "light"
     },
     "output_type": "display_data"
    }
   ],
   "source": [
    "import matplotlib.pyplot as plt\n",
    "\n",
    "# input data\n",
    "cd = 1.376\n",
    "knn = 4.63\n",
    "mlp = 3.8\n",
    "rf = 5.73\n",
    "ab = 2.4\n",
    "cb = 3.43\n",
    "gb = 1\n",
    "limits=(6,1)\n",
    "\n",
    "fig, ax = plt.subplots(figsize=(6,1.8))\n",
    "plt.subplots_adjust(left=0.2, right=0.8)\n",
    "\n",
    "# set up plot\n",
    "ax.set_xlim(limits)\n",
    "ax.set_ylim(0,1)\n",
    "ax.spines['top'].set_position(('axes', 0.6))\n",
    "#ax.xaxis.tick_top()\n",
    "ax.xaxis.set_ticks_position('top')\n",
    "ax.yaxis.set_visible(False)\n",
    "for pos in [\"bottom\", \"left\", \"right\"]:\n",
    "    ax.spines[pos].set_visible(False)\n",
    "\n",
    "# CD bar\n",
    "ax.plot([limits[0],limits[0]-cd], [.9,.9], color=\"k\")\n",
    "ax.plot([limits[0],limits[0]], [.9-0.03,.9+0.03], color=\"k\")\n",
    "ax.plot([limits[0]-cd,limits[0]-cd], [.9-0.03,.9+0.03], color=\"k\") \n",
    "ax.text(limits[0]-cd/2., 0.92, \"CD\", ha=\"center\", va=\"bottom\") \n",
    "\n",
    "# annotations\n",
    "bbox_props = dict(boxstyle=\"square,pad=0.3\", fc=\"w\", ec=\"k\", lw=0.72)\n",
    "arrowprops=dict(arrowstyle=\"-\",connectionstyle=\"angle,angleA=0,angleB=90\")\n",
    "kw = dict(xycoords='data',textcoords=\"axes fraction\",\n",
    "          arrowprops=arrowprops, bbox=bbox_props, va=\"center\")\n",
    "ax.annotate(\"kNN\", xy=(knn, 0.6), xytext=(-0.25,0),ha=\"right\",  **kw)\n",
    "ax.annotate(\"RF\", xy=(rf, 0.6), xytext=(-0.25,-0.25),ha=\"right\",  **kw)\n",
    "ax.annotate(\"AB\", xy=(ab, 0.6), xytext=(1.25, -0.25),ha=\"left\",  **kw)\n",
    "ax.annotate(\"CB\", xy=(cb, 0.6), xytext=(1.25,0),ha=\"left\",  **kw)\n",
    "ax.annotate(\"GB\", xy=(gb, 0.6), xytext=(1.25,-0.5),ha=\"left\",  **kw)\n",
    "ax.annotate(\"MLP\", xy=(mlp, 0.6), xytext=(-0.25, -0.5),ha=\"left\",  **kw)\n",
    "\n",
    "#bars\n",
    "ax.plot([knn, mlp],[0.3,0.3], color=\"k\", lw=3)\n",
    "ax.plot([knn,rf],[0.2,0.2], color=\"k\", lw=3)\n",
    "ax.plot([ab,cb],[0.4,0.4], color=\"k\", lw=3)\n",
    "\n",
    "plt.show()"
   ]
  },
  {
   "cell_type": "code",
   "execution_count": 33,
   "id": "188c0f27",
   "metadata": {},
   "outputs": [
    {
     "data": {
      "text/plain": [
       "3.233333"
      ]
     },
     "execution_count": 33,
     "metadata": {},
     "output_type": "execute_result"
    }
   ],
   "source": [
    "10.733333 -  7.500000"
   ]
  },
  {
   "cell_type": "code",
   "execution_count": 236,
   "id": "d4762246",
   "metadata": {},
   "outputs": [
    {
     "data": {
      "image/png": "[encoded data removed]",
      "text/plain": [
       "<Figure size 432x154.8 with 1 Axes>"
      ]
     },
     "metadata": {},
     "output_type": "display_data"
    }
   ],
   "source": [
    "RankResult(rankdf=\n",
    "          meanrank    median       mad  ci_lower  ci_upper effect_size  \\\n",
    "knn_f2   10.733333  0.455790       0.0   0.45579   0.45579         NaN   \n",
    "kmlp_f2  10.533333  0.449594  0.011464   0.43198  0.464594    0.515537   \n",
    "rf_f1    10.333333  0.456694  0.001771  0.454619  0.460298    -0.48722   \n",
    "knn_f1    8.800000  0.462248       0.0  0.462248  0.462248        -inf   \n",
    "mlp_f1    8.000000  0.463813  0.003444  0.445933  0.468473   -2.222105   \n",
    "cb_f1     7.500000  0.464461       0.0  0.464461  0.464461        -inf   \n",
    "ab_f1     6.333333  0.465835       0.0  0.465835  0.465835        -inf   \n",
    "rf_f2     5.433333  0.467286   0.00093  0.466178  0.469365  -11.796801   \n",
    "ab_f2     4.166667  0.469739       0.0  0.469739  0.469739        -inf   \n",
    "cb_f2     3.100000  0.470998       0.0  0.470998  0.470998        -inf   \n",
    "gb_f2     2.033333  0.472384       0.0  0.472384  0.472384        -inf   \n",
    "gb_f1     1.033333  0.472396       0.0  0.472396  0.472396        -in"
   ]
  },
  {
   "cell_type": "markdown",
   "id": "0f4d9c18",
   "metadata": {},
   "source": [
    "Critical difference (CD) diagram of the post-hoc Nemenyi test (α = 0.10). The difference between two algorithms is significant if the gap between their ranks is larger than CD. There is a line between two algorithms if the\n",
    "rank gap between them is smaller than CD."
   ]
  },
  {
   "cell_type": "code",
   "execution_count": 288,
   "id": "31b870b1",
   "metadata": {},
   "outputs": [
    {
     "data": {
      "text/plain": [
       "1.37"
      ]
     },
     "execution_count": 288,
     "metadata": {},
     "output_type": "execute_result"
    }
   ],
   "source": [
    "Critical difference diagram of the post-hoc Nemenyi test (\\alpha = 0.5).  The difference between two algorithms is statisticamente significant if the gap between their ranks is larger than CD. There is a line between two algorithms if the rank gap between them is smaller than CD."
   ]
  },
  {
   "cell_type": "code",
   "execution_count": null,
   "id": "2e22382e",
   "metadata": {},
   "outputs": [],
   "source": [
    "RankResult(rankdf=\n",
    "             meanrank      mean           std  ci_lower  ci_upper effect_size  \\\n",
    "rf_rouge-1   6.000000  0.454165  1.113028e-03  0.453589   0.45474         0.0   \n",
    "knn_rouge-1  4.633333  0.474582  2.258405e-16  0.474582  0.474582  -25.941731   \n",
    "mlp_rouge-1  4.366667  0.474940  1.146622e-03  0.474347  0.475533  -18.385839   \n",
    "cb_rouge-1   3.000000  0.481768  3.952209e-16  0.481768  0.481768  -35.072329   \n",
    "gb_rouge-1   2.000000  0.487850  2.823006e-16   0.48785   0.48785  -42.800694   \n",
    "ab_rouge-1   1.000000  0.490332  1.693804e-16  0.490332  0.490332    -45.9542  "
   ]
  }
 ],
 "metadata": {
  "kernelspec": {
   "display_name": "Python 3",
   "language": "python",
   "name": "python3"
  },
  "language_info": {
   "codemirror_mode": {
    "name": "ipython",
    "version": 3
   },
   "file_extension": ".py",
   "mimetype": "text/x-python",
   "name": "python",
   "nbconvert_exporter": "python",
   "pygments_lexer": "ipython3",
   "version": "3.8.8"
  }
 },
 "nbformat": 4,
 "nbformat_minor": 5
}
