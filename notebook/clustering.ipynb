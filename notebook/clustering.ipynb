{
 "cells": [
  {
   "cell_type": "code",
   "execution_count": null,
   "id": "b8a50b48",
   "metadata": {},
   "outputs": [],
   "source": [
    "import pandas as pd\n",
    "import numpy as np\n",
    "from sklearn.cluster import MiniBatchKMeans\n",
    "from sklearn.feature_extraction.text import TfidfVectorizer\n",
    "from sklearn.decomposition import PCA\n",
    "import matplotlib.pyplot as plt\n",
    "from sklearn.cluster import DBSCAN\n",
    "from sklearn.manifold import TSNE\n",
    "import plotly.express as px"
   ]
  },
  {
   "cell_type": "code",
   "execution_count": null,
   "id": "3aa414f9",
   "metadata": {},
   "outputs": [],
   "source": [
    "features_intro, scores_intro = loader.read_features(path=\"../result/introduction/features_*.csv\")\n",
    "features_mat, scores_mat = loader.read_features(path=\"../result/materials/features_*.csv\")\n",
    "features_conc, scores_conc = loader.read_features(path=\"../result/conclusion/features_*.csv\")"
   ]
  },
  {
   "cell_type": "code",
   "execution_count": null,
   "id": "1b4e998d",
   "metadata": {},
   "outputs": [],
   "source": [
    "def concat_sentences(df, label):\n",
    "    \n",
    "    return ' '.join(list(df.loc[df['articles'] == label]['sentences']))"
   ]
  },
  {
   "cell_type": "code",
   "execution_count": null,
   "id": "d7545854",
   "metadata": {},
   "outputs": [],
   "source": [
    "def create_df(features, labels):\n",
    "    \n",
    "    df = pd.DataFrame()\n",
    "    texts = []\n",
    "    \n",
    "    for i in labels:\n",
    "        texts.append(concat_sentences(features, i))\n",
    "        \n",
    "    df['texts'] = texts\n",
    "    df['articles'] = labels\n",
    "    \n",
    "    return df"
   ]
  },
  {
   "cell_type": "code",
   "execution_count": null,
   "id": "64502022",
   "metadata": {},
   "outputs": [],
   "source": [
    "labels = list(pd.unique(features_intro['articles']))"
   ]
  },
  {
   "cell_type": "code",
   "execution_count": null,
   "id": "7cabc030",
   "metadata": {},
   "outputs": [],
   "source": [
    "labels = list(pd.unique(features_intro['articles']))\n",
    "df_intro = create_df(features_intro, labels)"
   ]
  },
  {
   "cell_type": "code",
   "execution_count": null,
   "id": "216758e0",
   "metadata": {},
   "outputs": [],
   "source": [
    "labels = list(pd.unique(features_mat['articles']))\n",
    "df_mat= create_df(features_mat, labels)"
   ]
  },
  {
   "cell_type": "code",
   "execution_count": null,
   "id": "62c41ad3",
   "metadata": {},
   "outputs": [],
   "source": [
    "labels = list(pd.unique(features_conc['articles']))\n",
    "df_conc= create_df(features_conc, labels)"
   ]
  },
  {
   "cell_type": "code",
   "execution_count": null,
   "id": "c3a7819d",
   "metadata": {},
   "outputs": [],
   "source": [
    "df_concat = df_intro.merge(df_mat, left_on='articles', right_on='articles')\n",
    "df_concat = df_concat.merge(df_conc, left_on='articles', right_on='articles')"
   ]
  },
  {
   "cell_type": "code",
   "execution_count": null,
   "id": "a2913ef1",
   "metadata": {},
   "outputs": [],
   "source": [
    "df =  pd.DataFrame({'text': df_concat[['texts_x', 'texts_y', 'texts']].astype(str).sum(axis=1)})"
   ]
  },
  {
   "cell_type": "code",
   "execution_count": null,
   "id": "35019bbc",
   "metadata": {},
   "outputs": [],
   "source": [
    "vec = TfidfVectorizer(stop_words=\"english\", use_idf=True, ngram_range=(1,4))\n",
    "vec.fit(df.text.values)"
   ]
  },
  {
   "cell_type": "code",
   "execution_count": null,
   "id": "d670bb02",
   "metadata": {},
   "outputs": [],
   "source": [
    "features = vec.transform(df.text.values)"
   ]
  },
  {
   "cell_type": "code",
   "execution_count": null,
   "id": "972402d8",
   "metadata": {},
   "outputs": [],
   "source": [
    "clustering = DBSCAN(eps=1.2, n_jobs=-1).fit(features)\n",
    "clustering.labels_"
   ]
  },
  {
   "cell_type": "code",
   "execution_count": null,
   "id": "c2eceb57",
   "metadata": {},
   "outputs": [],
   "source": [
    "df = pd.DataFrame({'label': cls.labels_})"
   ]
  },
  {
   "cell_type": "code",
   "execution_count": null,
   "id": "639c4dc6",
   "metadata": {},
   "outputs": [],
   "source": [
    "tsne = TSNE(n_components=2, random_state=0, n_jobs=-1)\n",
    "projections = tsne.fit_transform(features)"
   ]
  },
  {
   "cell_type": "code",
   "execution_count": null,
   "id": "db707c15",
   "metadata": {},
   "outputs": [],
   "source": [
    "fig = px.scatter(\n",
    "    projections, x=0, y=1,\n",
    "    color=df.label\n",
    ")\n",
    "fig.show()"
   ]
  }
 ],
 "metadata": {
  "kernelspec": {
   "display_name": "Python 3",
   "language": "python",
   "name": "python3"
  },
  "language_info": {
   "codemirror_mode": {
    "name": "ipython",
    "version": 3
   },
   "file_extension": ".py",
   "mimetype": "text/x-python",
   "name": "python",
   "nbconvert_exporter": "python",
   "pygments_lexer": "ipython3",
   "version": "3.8.8"
  }
 },
 "nbformat": 4,
 "nbformat_minor": 5
}
