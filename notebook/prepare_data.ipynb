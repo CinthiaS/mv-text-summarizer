{
 "cells": [
  {
   "cell_type": "code",
   "execution_count": 1,
   "id": "a3b7d14c",
   "metadata": {},
   "outputs": [],
   "source": [
    "import sys\n",
    "sys.path.insert(0, '/scratch/cinthiasouza/mv-text-summarizer')\n",
    "\n",
    "import pandas as pd\n",
    "import re"
   ]
  },
  {
   "cell_type": "code",
   "execution_count": 2,
   "id": "3c2cc1f9",
   "metadata": {},
   "outputs": [],
   "source": [
    "from src import loader\n",
    "path_to_read=\"/scratch/cinthiasouza/mv-text-summarizer/result/{}/{}_*.csv\""
   ]
  },
  {
   "cell_type": "code",
   "execution_count": 3,
   "id": "14d87c71",
   "metadata": {},
   "outputs": [],
   "source": [
    "def clean_text(text):\n",
    "    \n",
    "    text = re.sub(r\"[^a-zA-Z]+\", ' ', text)\n",
    "    return text"
   ]
  },
  {
   "cell_type": "code",
   "execution_count": 4,
   "id": "1b704b1f",
   "metadata": {},
   "outputs": [],
   "source": [
    "def remove_unicode(text):\n",
    "\n",
    "    text = str(text).encode(\"ascii\", \"ignore\")\n",
    "    text = text.decode()\n",
    "\n",
    "    return text"
   ]
  },
  {
   "cell_type": "code",
   "execution_count": 5,
   "id": "787bfcb0",
   "metadata": {},
   "outputs": [],
   "source": [
    "def num_sentences(grouped_df):\n",
    "\n",
    "    lenght = {'id': [], 'lenght': []}\n",
    "\n",
    "    for idx, group in grouped_df:\n",
    "        lenght['id'].append(idx)\n",
    "        lenght['lenght'].append(group.shape[0])\n",
    "        \n",
    "    return  pd.DataFrame(lenght)"
   ]
  },
  {
   "cell_type": "code",
   "execution_count": 61,
   "id": "4eb86fb3",
   "metadata": {},
   "outputs": [],
   "source": [
    "features_intro = pd.read_csv('features_intro.csv')"
   ]
  },
  {
   "cell_type": "code",
   "execution_count": 6,
   "id": "eb90772f",
   "metadata": {},
   "outputs": [],
   "source": [
    "features_intro = pd.read_csv('features_intro.csv')\n",
    "features_mat = pd.read_csv('features_mat.csv')\n",
    "features_conc = pd.read_csv('features_conc.csv')\n",
    "\n",
    "scores_intro = pd.read_csv('scores_intro.csv')\n",
    "scores_mat = pd.read_csv('scores_mat.csv')\n",
    "scores_conc = pd.read_csv('scores_conc.csv')"
   ]
  },
  {
   "cell_type": "code",
   "execution_count": 7,
   "id": "e206fc51",
   "metadata": {},
   "outputs": [],
   "source": [
    "features_intro['rouge_1'] = scores_intro['rouge_1']\n",
    "features_intro['rouge_2'] = scores_intro['rouge_2']"
   ]
  },
  {
   "cell_type": "code",
   "execution_count": 8,
   "id": "becc86de",
   "metadata": {},
   "outputs": [],
   "source": [
    "features_mat['rouge_1'] = scores_mat['rouge_1']\n",
    "features_mat['rouge_2'] = scores_mat['rouge_2']"
   ]
  },
  {
   "cell_type": "code",
   "execution_count": 9,
   "id": "98d1292a",
   "metadata": {},
   "outputs": [],
   "source": [
    "features_conc['rouge_1'] = scores_conc['rouge_1']\n",
    "features_conc['rouge_2'] = scores_conc['rouge_2']"
   ]
  },
  {
   "cell_type": "code",
   "execution_count": 10,
   "id": "2639bf47",
   "metadata": {},
   "outputs": [],
   "source": [
    "summ_items = pd.read_csv(\"indices_summ.csv\")['summ']"
   ]
  },
  {
   "cell_type": "code",
   "execution_count": 12,
   "id": "7a330231",
   "metadata": {},
   "outputs": [],
   "source": [
    "def clean_df(df):\n",
    "    \n",
    "    df['sentences'] = df['sentences'].apply(remove_unicode)\n",
    "    df = df[~df['sentences'].str.isdigit()]\n",
    "\n",
    "    df = df.loc[df['sentences'] != \" \"].reset_index(drop=True)\n",
    "    df = df.loc[df['sentences'] != \"\"].reset_index(drop=True)\n",
    "\n",
    "    grouped_df = df.groupby('articles')\n",
    "\n",
    "    lenght_df = num_sentences(grouped_df)\n",
    "    lenght_df = lenght_df.loc[lenght_df['lenght'] >= 6]\n",
    "\n",
    "    train_articles_id = lenght_df['id'].tolist()\n",
    "\n",
    "    df = df.loc[df['articles'].isin(train_articles_id)]\n",
    "\n",
    "    return df, lenght_df"
   ]
  },
  {
   "cell_type": "code",
   "execution_count": 13,
   "id": "ae733d35",
   "metadata": {},
   "outputs": [],
   "source": [
    "clean_intro, lenght_intro = clean_df(features_intro)\n",
    "clean_mat, lenght_mat = clean_df(features_mat)\n",
    "clean_conc, lenght_conc = clean_df(features_conc)"
   ]
  },
  {
   "cell_type": "code",
   "execution_count": 15,
   "id": "cb846124",
   "metadata": {},
   "outputs": [],
   "source": [
    "import random"
   ]
  },
  {
   "cell_type": "code",
   "execution_count": 16,
   "id": "64a7790b",
   "metadata": {},
   "outputs": [],
   "source": [
    "intro = pd.unique(clean_intro['articles'])\n",
    "mat = pd.unique(clean_mat['articles'])\n",
    "conc = pd.unique(clean_conc['articles'])\n",
    "\n",
    "comuns = list((set(intro) & set(mat)) & set(conc))\n",
    "\n",
    "valid_len = int(len(comuns)*0.2)\n",
    "summ_items = random.sample(comuns, valid_len)\n",
    "\n",
    "df = pd.DataFrame({'summ': summ_items})\n",
    "df.to_csv(\"dataset/indices_summ.csv\", index=False)"
   ]
  },
  {
   "cell_type": "code",
   "execution_count": null,
   "id": "534a9fc1",
   "metadata": {},
   "outputs": [],
   "source": [
    "len(summ_items)"
   ]
  },
  {
   "cell_type": "code",
   "execution_count": null,
   "id": "295c3d08",
   "metadata": {},
   "outputs": [],
   "source": [
    "clean_intro.to_csv('dataset/dataset_introduction.csv', index=False)\n",
    "clean_mat.to_csv('dataset/dataset_materials.csv', index=False)\n",
    "clean_conc.to_csv('dataset/dataset_conclusion.csv', index=False)"
   ]
  }
 ],
 "metadata": {
  "kernelspec": {
   "display_name": "Python 3",
   "language": "python",
   "name": "python3"
  },
  "language_info": {
   "codemirror_mode": {
    "name": "ipython",
    "version": 3
   },
   "file_extension": ".py",
   "mimetype": "text/x-python",
   "name": "python",
   "nbconvert_exporter": "python",
   "pygments_lexer": "ipython3",
   "version": "3.8.8"
  }
 },
 "nbformat": 4,
 "nbformat_minor": 5
}
