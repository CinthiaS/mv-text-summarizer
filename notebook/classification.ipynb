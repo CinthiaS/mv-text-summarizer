{
 "cells": [
  {
   "cell_type": "code",
   "execution_count": 7,
   "metadata": {},
   "outputs": [],
   "source": [
    "import sys\n",
    "sys.path.insert(1, '/scratch/cinthiasouza/mv-text-summarizer')\n",
    "\n",
    "import itertools\n",
    "import re\n",
    "\n",
    "import glob, os\n",
    "import pandas as pd\n",
    "import json\n",
    "import spacy\n",
    "import nltk\n",
    "import numpy as np\n",
    "import json\n",
    "#import smogn\n",
    "import seaborn as sns\n",
    "import pickle\n",
    "\n",
    "from bs4 import BeautifulSoup\n",
    "from pysbd.utils import PySBDFactory\n",
    "import math\n",
    "\n",
    "from sumeval.metrics.rouge import RougeCalculator\n",
    "rouge = RougeCalculator(stopwords=True, lang=\"en\")\n",
    "import matplotlib.pyplot as plt\n",
    "import random\n",
    "\n",
    "from sklearn.model_selection import train_test_split\n",
    "from sklearn.metrics import classification_report\n",
    "from sklearn.preprocessing import StandardScaler\n",
    "from timeit import default_timer as timer \n",
    "from imblearn.over_sampling import SMOTE\n",
    "from sklearn.metrics import matthews_corrcoef\n",
    "from imblearn.under_sampling import RandomUnderSampler\n",
    "from imblearn.pipeline import Pipeline\n",
    "from sklearn.model_selection import cross_val_score\n",
    "from sklearn.ensemble import RandomForestClassifier\n",
    "from sklearn.ensemble import GradientBoostingClassifier\n",
    "from sklearn.neighbors import KNeighborsClassifier\n",
    "from sklearn.svm import SVC\n",
    "from sklearn.ensemble import AdaBoostClassifier\n",
    "#from tensorflow.keras.models import model_from_json\n",
    "\n",
    "#nltk.download('averaged_perceptron_tagger')\n",
    "#nltk.download('maxent_ne_chunker')\n",
    "#nltk.download('words')\n",
    "#nltk.download('punkt')\n",
    "#nltk.download('stopwords')\n",
    "\n",
    "#!python -m spacy download en_core_web_sm\n",
    "nlp_sm = spacy.load('en_core_web_sm')\n",
    "\n",
    "#import en_core_web_sm\n",
    "#nlp_md = en_core_web_sm.load()y\n",
    "\n",
    "#import en_core_web_md\n",
    "#nlp_md = en_core_web_md.load()\n",
    "#!python -m spacy download en_core_web_md\n",
    "nlp_md = spacy.load('en_core_web_md')\n",
    "\n",
    "import warnings\n",
    "warnings.filterwarnings(\"ignore\")\n",
    "\n",
    "path_base = \"/scratch/cinthiasouza/mv-text-summarizer\"\n"
   ]
  },
  {
   "cell_type": "code",
   "execution_count": 8,
   "metadata": {},
   "outputs": [
    {
     "name": "stdout",
     "output_type": "stream",
     "text": [
      "The autoreload extension is already loaded. To reload it, use:\n",
      "  %reload_ext autoreload\n"
     ]
    }
   ],
   "source": [
    "%load_ext autoreload\n",
    "%autoreload 2\n",
    "\n",
    "from src import preprocess\n",
    "from src import extract_features\n",
    "from src import tokenizer\n",
    "from src import create_features_df\n",
    "from src import transform_data\n",
    "from src import loader\n",
    "from src import utils\n",
    "from src import ensemble_tree_models\n",
    "from src import tunning_hyperparametrs as th\n",
    "#from src import mlp_regressor\n",
    "#from src import mlp_classifier\n",
    "from src import summarization\n",
    "from src import normalization\n",
    "from src import ensemble_tree_models as classifiers\n",
    "from src import utils_classification as utils_clf\n",
    "from src import evaluate_classifiers as ev\n",
    "from src import prepare_data\n",
    "from src import display_results as dr\n",
    "import joblib\n",
    "from joblib import Parallel, delayed\n",
    "#from tensorflow.keras.utils import to_categorical\n",
    "from src import pipeline_extract_features as pef"
   ]
  },
  {
   "cell_type": "markdown",
   "metadata": {
    "tags": []
   },
   "source": [
    "# Load Features"
   ]
  },
  {
   "cell_type": "code",
   "execution_count": null,
   "metadata": {},
   "outputs": [],
   "source": [
    "len(pd.unique(features_intro['articles']))"
   ]
  },
  {
   "cell_type": "code",
   "execution_count": 181,
   "metadata": {},
   "outputs": [],
   "source": [
    "#import random\n",
    "\n",
    "#features_intro, scores_intro = loader.read_features(path=\"../result/introduction/features_*.csv\")\n",
    "#features_mat, scores_mat = loader.read_features(path=\"../result/materials/features_*.csv\")\n",
    "#features_conc, scores_conc = loader.read_features(path=\"../result/conclusion/features_*.csv\")\n",
    "\n",
    "#intro = pd.unique(features_intro['articles'])\n",
    "#mat = pd.unique(features_mat['articles'])\n",
    "#conc = pd.unique(features_conc['articles'])\n",
    "\n",
    "#comuns = list((set(intro) & set(mat)) & set(conc))\n",
    "\n",
    "#valid_len = int(len(comuns)*0.2)\n",
    "#summ_items = random.sample(comuns, valid_len)\n",
    "\n",
    "#df = pd.DataFrame({'summ': summ_items})\n",
    "#df.to_csv(\"indices_summ.csv\", index=False)"
   ]
  },
  {
   "cell_type": "code",
   "execution_count": 144,
   "metadata": {},
   "outputs": [],
   "source": [
    "def main(path='.', format_dataset=True, verbose=True):\n",
    "    \n",
    "    columns_name = ['text_rank', 'lex_rank', 'count_one_gram',\n",
    "        'count_article_keywords', 'tf-isf', 'position_score', 'paragraph_score',\n",
    "       'length_score', 'pos_score', 'ner_score', 'dist_centroid']\n",
    "\n",
    "    sections=['introduction', 'materials', 'conclusion', 'concat']\n",
    "    #sections=[ 'introduction']\n",
    "\n",
    "    if format_dataset:\n",
    "        if verbose:\n",
    "            print(\"Preparando dataset para os classificadores\")\n",
    "        dataset = prepare_data.main_create_dataset(columns_name, sections)\n",
    "        #utils.save_json(dataset, name='dataset', path=path)\n",
    "    else:\n",
    "        if verbose:\n",
    "            print(\"Carregando dataset\")\n",
    "        dataset = utils.load_json(name='dataset', path=path)\n",
    "    \n",
    "    if verbose:\n",
    "        print(\"Treinamento dos modelos\")\n",
    "        \n",
    "    with open('dataset2.p', 'wb') as fp:\n",
    "        pickle.dump(dataset, fp, protocol=pickle.HIGHEST_PROTOCOL)\n",
    "        \n",
    "    return dataset\n",
    "    \n",
    "    '''models = ensemble_tree_models.create_models(dataset, sections, name_models=['knn', 'gb', 'rf', 'ab'])\n",
    "    predictions, results = ev.create_reports(models, dataset, columns_name, verbose=False)\n",
    "    \n",
    "    #utils.save_json(predictions, name='prediction', path=path)\n",
    "    #utils.save_results(results, path=path)\n",
    "    \n",
    "    parameters = {'introduction': [0.2, 100, 64],\n",
    "             'materials': [0.2, 100, 64],\n",
    "             'conclusion':[0.2, 100, 64],\n",
    "             'concat': [0.2, 100, 64]}\n",
    "\n",
    "    models_nn = mlp_classifiers.main_train_nn(dataset, sections, parameters, train=True, verbose=False)\n",
    "    predictions, results =  mlp_classifiers.eval_nn(dataset, sections)'''\n",
    "    "
   ]
  },
  {
   "cell_type": "code",
   "execution_count": null,
   "metadata": {},
   "outputs": [],
   "source": [
    "if __name__ == '__main__':\n",
    "\n",
    "    parser = argparse.ArgumentParser()\n",
    "    parser.add_argument('--path', \"-p\",required=True)\n",
    "    parser.add_argument('--format_dataset', \"-f\",required=True)\n",
    "     \n",
    "    args = parser.parse_args()\n",
    "\n",
    "    columns_name = ['text_rank', 'lex_rank', 'count_one_gram',\n",
    "        'count_article_keywords',\n",
    "       'tf-isf', 'position_score', 'paragraph_score',\n",
    "       'length_score', 'pos_score', 'ner_score', 'dist_centroid']\n",
    "\n",
    "    sections=['introduction', 'materials', 'conclusion', 'concat']"
   ]
  },
  {
   "cell_type": "code",
   "execution_count": 145,
   "metadata": {},
   "outputs": [
    {
     "name": "stdout",
     "output_type": "stream",
     "text": [
      "Preparando dataset para os classificadores\n",
      "Treinamento dos modelos\n"
     ]
    }
   ],
   "source": [
    "dataset = main(verbose=True)"
   ]
  },
  {
   "cell_type": "code",
   "execution_count": 146,
   "metadata": {},
   "outputs": [
    {
     "data": {
      "text/plain": [
       "(70942, 11)"
      ]
     },
     "execution_count": 146,
     "metadata": {},
     "output_type": "execute_result"
    }
   ],
   "source": [
    "dataset['introduction'][0].shape"
   ]
  },
  {
   "cell_type": "code",
   "execution_count": 9,
   "metadata": {},
   "outputs": [],
   "source": [
    "with open('dataset2.p', 'rb') as fp:\n",
    "    dataset = pickle.load(fp)"
   ]
  },
  {
   "cell_type": "code",
   "execution_count": 10,
   "metadata": {},
   "outputs": [],
   "source": [
    "columns_name = ['text_rank', 'lex_rank', 'count_one_gram',\n",
    "        'count_article_keywords',\n",
    "       'tf-isf', 'position_score', 'paragraph_score',\n",
    "       'length_score', 'pos_score', 'ner_score', 'dist_centroid']\n",
    "\n",
    "sections=['introduction', 'materials', 'conclusion', 'concat']"
   ]
  },
  {
   "cell_type": "code",
   "execution_count": 140,
   "metadata": {},
   "outputs": [
    {
     "data": {
      "text/plain": [
       "(70942, 11)"
      ]
     },
     "execution_count": 140,
     "metadata": {},
     "output_type": "execute_result"
    }
   ],
   "source": [
    "dataset['introduction'][0].shape"
   ]
  },
  {
   "cell_type": "code",
   "execution_count": 52,
   "metadata": {},
   "outputs": [
    {
     "data": {
      "text/plain": [
       "{'n_estimators': [50, 100, 200, 300],\n",
       " 'min_samples_leaf': [200, 300, 2500, 5000, 10000],\n",
       " 'min_samples_split': [400, 600, 2500, 10000, 20000, 30000],\n",
       " 'max_depth': [20, 10, 50],\n",
       " 'class_weight': [{0: 0.95, 1: 0.05}]}"
      ]
     },
     "execution_count": 52,
     "metadata": {},
     "output_type": "execute_result"
    }
   ],
   "source": [
    "parameters['materials']['gb']"
   ]
  },
  {
   "cell_type": "code",
   "execution_count": 81,
   "metadata": {},
   "outputs": [
    {
     "data": {
      "text/plain": [
       "(37820, 11)"
      ]
     },
     "execution_count": 81,
     "metadata": {},
     "output_type": "execute_result"
    }
   ],
   "source": [
    "dataset['conclusion'][0].shape"
   ]
  },
  {
   "cell_type": "markdown",
   "metadata": {},
   "source": [
    "## Randomized Search -  CV 5 Folds"
   ]
  },
  {
   "cell_type": "code",
   "execution_count": 130,
   "metadata": {},
   "outputs": [],
   "source": [
    "parameters = {\n",
    "    \n",
    "'introduction': {'gb': {'n_estimators': [50, 100, 300],\n",
    "              'min_samples_leaf':[25, 50, 150],\n",
    "              'min_samples_split':[50, 100],\n",
    "              'max_depth':[20, 10, 50],\n",
    "              'class_weight': [{0:0.98, 1: 0.05}]\n",
    "              },\n",
    "              'knn':  {'n_neighbors': [3,  5, 10]},\n",
    "              'ab': {'n_estimators': [50,  100, 200]},\n",
    "              'svm': {'kernel': ('poly', 'rbf'), 'degree':[2, 3, 4], 'class_weight': [{0:0.90, 1: 0.1}]}\n",
    "                 },\n",
    "\n",
    "\"materials\": {'gb': {'n_estimators': [50, 100, 200, 300],\n",
    "              'min_samples_leaf':[200, 300, 2500, 5000, 10000],\n",
    "              'min_samples_split':[400, 600, 2500, 10000, 20000, 30000],\n",
    "              'max_depth':[20, 10, 50],\n",
    "              'class_weight': [{0:0.95, 1: 0.05}]\n",
    "              },\n",
    "              'knn':  {'n_neighbors': [3,  5, 10]},\n",
    "              'ab': {'n_estimators': [50,  100, 200]},\n",
    "              'svm': {'kernel': ('poly', 'rbf'), 'degree':[2, 3, 4], 'class_weight': [{0:0.95, 1: 0.05}]}\n",
    "                 },\n",
    "\n",
    "'conclusion': {'gb': {'n_estimators': [50, 100, 200, 300, 500],\n",
    "              'min_samples_leaf':[500, 2500],\n",
    "              'min_samples_split':[ 1000, 5000],\n",
    "              'max_depth':[20, 10, 50],\n",
    "              'class_weight': [{0:0.95, 1: 0.05}]\n",
    "              },\n",
    "              'knn':  {'n_neighbors': [3,  5, 10]},\n",
    "              'ab': {'n_estimators': [50,  100, 200]},\n",
    "              'svm': {'kernel': ('poly', 'rbf'), 'degree':[2, 3, 4], 'class_weight': [{0:0.92, 1: 0.08}]}\n",
    "                 }\n",
    "    }"
   ]
  },
  {
   "cell_type": "code",
   "execution_count": 56,
   "metadata": {},
   "outputs": [],
   "source": [
    "def get_parameters(dataset, name_models, all_parameters, sections):\n",
    "    \n",
    "    for name_model in name_models:\n",
    "        \n",
    "        for section in sections:\n",
    "\n",
    "            if name_model == 'knn':\n",
    "                parameters = all_parameters[section]['knn']\n",
    "            elif name_model == 'ab':\n",
    "                parameters = all_parameters[section]['ab'],\n",
    "            elif name_model == 'svm':\n",
    "                parameters = all_parameters[section]['svm'],\n",
    "            else:\n",
    "                parameters = all_parameters[section]['gb']\n",
    "                \n",
    "            \n",
    " \n",
    "            search = ensemble_tree_models.pipeline(dataset, name_model=name_model, section=section, parameters=parameters)\n",
    "      "
   ]
  },
  {
   "cell_type": "code",
   "execution_count": 23,
   "metadata": {},
   "outputs": [
    {
     "name": "stderr",
     "output_type": "stream",
     "text": [
      "/scratch/cinthiasouza/anaconda3/lib/python3.8/site-packages/joblib/externals/loky/backend/resource_tracker.py:318: UserWarning: resource_tracker: There appear to be 200 leaked folder objects to clean up at shutdown\n",
      "  warnings.warn('resource_tracker: There appear to be %d '\n",
      "/scratch/cinthiasouza/anaconda3/lib/python3.8/site-packages/joblib/externals/loky/backend/resource_tracker.py:318: UserWarning: resource_tracker: There appear to be 60 leaked folder objects to clean up at shutdown\n",
      "  warnings.warn('resource_tracker: There appear to be %d '\n"
     ]
    }
   ],
   "source": [
    "from multiprocessing import Process, Queue\n",
    "\n",
    "name_models = ['knn', 'ab', 'rf', 'gb']\n",
    "sections = ['introduction', 'materials', 'conclusion', 'concat']\n",
    "\n",
    "l1 = Queue()\n",
    "p1 = Process(\n",
    "    target=get_parameters, args=(\n",
    "         dataset, ['knn'], all_parameters, sections))\n",
    "\n",
    "l2 = Queue()\n",
    "p2 = Process(\n",
    "    target=get_parameters, args=(\n",
    "         dataset, ['ab'], all_parameters, sections))\n",
    "\n",
    "\n",
    "l3 = Queue()\n",
    "p3 = Process(\n",
    "    target=get_parameters, args=(\n",
    "         dataset, ['rf'], all_parameters, sections))\n",
    "\n",
    "\n",
    "l4 = Queue()\n",
    "p4 = Process(\n",
    "    target=get_parameters, args=(\n",
    "         dataset, ['gb'], all_parameters, sections))\n",
    "\n",
    "p4.start()\n",
    "p3.start()\n",
    "p2.start()  \n",
    "p1.start()   "
   ]
  },
  {
   "cell_type": "code",
   "execution_count": 131,
   "metadata": {},
   "outputs": [],
   "source": [
    "from multiprocessing import Process, Queue\n",
    "\n",
    "name_models = ['knn', 'ab', 'rf', 'gb']\n",
    "sections = ['introduction']\n",
    "\n",
    "\n",
    "l3 = Queue()\n",
    "p3 = Process(\n",
    "    target=get_parameters, args=(\n",
    "         dataset, ['rf'], parameters, sections))\n",
    "\n",
    "\n",
    "p3.start()\n",
    " "
   ]
  },
  {
   "cell_type": "code",
   "execution_count": 14,
   "metadata": {},
   "outputs": [],
   "source": [
    "def load_rs_model(name_model, sections, path_to_read):\n",
    "    \n",
    "    rs_models = {}\n",
    "    \n",
    "    for section in sections:\n",
    "        \n",
    "        rs_models[section] = joblib.load('{}/search_{}_{}.pkl'.format(path_to_read, name_model, section))\n",
    "        \n",
    "    return rs_models"
   ]
  },
  {
   "cell_type": "code",
   "execution_count": 15,
   "metadata": {},
   "outputs": [],
   "source": [
    "def  get_scores(name_models, sections, path_to_read):\n",
    "\n",
    "    results = {}\n",
    "    \n",
    "    for name_model in name_models:\n",
    "        \n",
    "        rs_models = load_rs_model(name_model, sections, path_to_read)\n",
    "    \n",
    "        aux  = { 'score_{}'.format(section): rs_models[section].best_score_ for section in sections}\n",
    "        results[name_model] = aux\n",
    "        \n",
    "    return results"
   ]
  },
  {
   "cell_type": "code",
   "execution_count": 16,
   "metadata": {},
   "outputs": [],
   "source": [
    "path_to_save = '/scratch/cinthiasouza/mv-text-summarizer/notebook/models'"
   ]
  },
  {
   "cell_type": "code",
   "execution_count": 137,
   "metadata": {},
   "outputs": [],
   "source": [
    "sections=['introduction', 'materials', 'conclusion', 'concat']\n",
    "name_models = ['knn', 'rf', 'ab', 'gb']\n",
    "\n",
    "results = get_scores(name_models, sections, path_to_save)"
   ]
  },
  {
   "cell_type": "markdown",
   "metadata": {},
   "source": [
    "## Results K-Fold Cross Validation"
   ]
  },
  {
   "cell_type": "code",
   "execution_count": 138,
   "metadata": {},
   "outputs": [
    {
     "data": {
      "text/html": [
       "<div>\n",
       "<style scoped>\n",
       "    .dataframe tbody tr th:only-of-type {\n",
       "        vertical-align: middle;\n",
       "    }\n",
       "\n",
       "    .dataframe tbody tr th {\n",
       "        vertical-align: top;\n",
       "    }\n",
       "\n",
       "    .dataframe thead th {\n",
       "        text-align: right;\n",
       "    }\n",
       "</style>\n",
       "<table border=\"1\" class=\"dataframe\">\n",
       "  <thead>\n",
       "    <tr style=\"text-align: right;\">\n",
       "      <th></th>\n",
       "      <th>score_introduction</th>\n",
       "      <th>score_materials</th>\n",
       "      <th>score_conclusion</th>\n",
       "      <th>score_concat</th>\n",
       "    </tr>\n",
       "  </thead>\n",
       "  <tbody>\n",
       "    <tr>\n",
       "      <th>knn</th>\n",
       "      <td>0.682832</td>\n",
       "      <td>0.742029</td>\n",
       "      <td>0.734957</td>\n",
       "      <td>0.705928</td>\n",
       "    </tr>\n",
       "    <tr>\n",
       "      <th>rf</th>\n",
       "      <td>0.985658</td>\n",
       "      <td>0.996656</td>\n",
       "      <td>0.981871</td>\n",
       "      <td>0.991313</td>\n",
       "    </tr>\n",
       "    <tr>\n",
       "      <th>ab</th>\n",
       "      <td>0.690019</td>\n",
       "      <td>0.743808</td>\n",
       "      <td>0.738801</td>\n",
       "      <td>0.708963</td>\n",
       "    </tr>\n",
       "    <tr>\n",
       "      <th>gb</th>\n",
       "      <td>0.693036</td>\n",
       "      <td>0.742079</td>\n",
       "      <td>0.735714</td>\n",
       "      <td>0.711943</td>\n",
       "    </tr>\n",
       "  </tbody>\n",
       "</table>\n",
       "</div>"
      ],
      "text/plain": [
       "     score_introduction  score_materials  score_conclusion  score_concat\n",
       "knn            0.682832         0.742029          0.734957      0.705928\n",
       "rf             0.985658         0.996656          0.981871      0.991313\n",
       "ab             0.690019         0.743808          0.738801      0.708963\n",
       "gb             0.693036         0.742079          0.735714      0.711943"
      ]
     },
     "execution_count": 138,
     "metadata": {},
     "output_type": "execute_result"
    }
   ],
   "source": [
    "cv_results = pd.DataFrame(results).T\n",
    "cv_results"
   ]
  },
  {
   "cell_type": "markdown",
   "metadata": {},
   "source": [
    "## Hyperparameters"
   ]
  },
  {
   "cell_type": "markdown",
   "metadata": {},
   "source": [
    "### KNN"
   ]
  },
  {
   "cell_type": "code",
   "execution_count": 22,
   "metadata": {},
   "outputs": [
    {
     "name": "stdout",
     "output_type": "stream",
     "text": [
      "Section: introduction\n",
      "Num neighbors: 10\n",
      "\n",
      "Section: materials\n",
      "Num neighbors: 10\n",
      "\n",
      "Section: conclusion\n",
      "Num neighbors: 10\n",
      "\n",
      "Section: concat\n",
      "Num neighbors: 10\n",
      "\n"
     ]
    }
   ],
   "source": [
    "knnsearch = load_rs_model('knn', sections, path_to_save)\n",
    "\n",
    "for section in sections:\n",
    "    print(\"Section: {}\".format(section))\n",
    "    print(\"Num neighbors: {}\\n\".format(knnsearch[section].best_estimator_.n_neighbors))"
   ]
  },
  {
   "cell_type": "markdown",
   "metadata": {},
   "source": [
    "### AdaBoost"
   ]
  },
  {
   "cell_type": "code",
   "execution_count": 23,
   "metadata": {},
   "outputs": [
    {
     "name": "stdout",
     "output_type": "stream",
     "text": [
      "Section: introduction\n",
      "Num estimators: 200\n",
      "\n",
      "Section: materials\n",
      "Num estimators: 200\n",
      "\n",
      "Section: conclusion\n",
      "Num estimators: 100\n",
      "\n",
      "Section: concat\n",
      "Num estimators: 200\n",
      "\n"
     ]
    }
   ],
   "source": [
    "absearch = load_rs_model('ab', sections, path_to_save)\n",
    "\n",
    "for section in sections:\n",
    "    print(\"Section: {}\".format(section))\n",
    "    print(\"Num estimators: {}\\n\".format(absearch[section].best_estimator_.n_estimators))"
   ]
  },
  {
   "cell_type": "markdown",
   "metadata": {},
   "source": [
    "### RF"
   ]
  },
  {
   "cell_type": "code",
   "execution_count": 139,
   "metadata": {},
   "outputs": [
    {
     "name": "stdout",
     "output_type": "stream",
     "text": [
      "Section: introduction\n",
      "Num estimators: 50\n",
      "Min samples leaf: 150\n",
      "Min samples splot: 50\n",
      "Max depth: 50\n",
      "\n",
      "Section: materials\n",
      "Num estimators: 100\n",
      "Min samples leaf: 200\n",
      "Min samples splot: 20000\n",
      "Max depth: 20\n",
      "\n",
      "Section: conclusion\n",
      "Num estimators: 50\n",
      "Min samples leaf: 500\n",
      "Min samples splot: 1000\n",
      "Max depth: 50\n",
      "\n",
      "Section: concat\n",
      "Num estimators: 50\n",
      "Min samples leaf: 300\n",
      "Min samples splot: 600\n",
      "Max depth: 50\n",
      "\n"
     ]
    }
   ],
   "source": [
    "rfsearch = load_rs_model('rf', sections, path_to_save)\n",
    "\n",
    "for section in sections:\n",
    "    print(\"Section: {}\".format(section))\n",
    "    print(\"Num estimators: {}\".format(rfsearch[section].best_estimator_.n_estimators))\n",
    "    print(\"Min samples leaf: {}\".format(rfsearch[section].best_estimator_.min_samples_leaf))\n",
    "    print(\"Min samples splot: {}\".format(rfsearch[section].best_estimator_.min_samples_split))\n",
    "    print(\"Max depth: {}\\n\".format(rfsearch[section].best_estimator_.max_depth))"
   ]
  },
  {
   "cell_type": "markdown",
   "metadata": {},
   "source": [
    "### GB"
   ]
  },
  {
   "cell_type": "code",
   "execution_count": 24,
   "metadata": {},
   "outputs": [
    {
     "name": "stdout",
     "output_type": "stream",
     "text": [
      "Section: introduction\n",
      "Num estimators: 100\n",
      "Min samples leaf: 5\n",
      "Min samples splot: 40\n",
      "Max depth: 5\n",
      "\n",
      "Section: materials\n",
      "Num estimators: 100\n",
      "Min samples leaf: 5\n",
      "Min samples splot: 40\n",
      "Max depth: 5\n",
      "\n",
      "Section: conclusion\n",
      "Num estimators: 100\n",
      "Min samples leaf: 5\n",
      "Min samples splot: 40\n",
      "Max depth: 5\n",
      "\n",
      "Section: concat\n",
      "Num estimators: 200\n",
      "Min samples leaf: 20\n",
      "Min samples splot: 10\n",
      "Max depth: 5\n",
      "\n"
     ]
    }
   ],
   "source": [
    "gbsearch = load_rs_model('gb', sections, path_to_save)\n",
    "\n",
    "for section in sections:\n",
    "    print(\"Section: {}\".format(section))\n",
    "    print(\"Num estimators: {}\".format(gbsearch[section].best_estimator_.n_estimators))\n",
    "    print(\"Min samples leaf: {}\".format(gbsearch[section].best_estimator_.min_samples_leaf))\n",
    "    print(\"Min samples splot: {}\".format(gbsearch[section].best_estimator_.min_samples_split))\n",
    "    print(\"Max depth: {}\\n\".format(gbsearch[section].best_estimator_.max_depth))\n"
   ]
  },
  {
   "cell_type": "markdown",
   "metadata": {},
   "source": [
    "## Train Test"
   ]
  },
  {
   "cell_type": "code",
   "execution_count": 141,
   "metadata": {},
   "outputs": [],
   "source": [
    "parameters = {\n",
    "    'gb' : {\n",
    "        'introduction': {'n_estimators': gbsearch['introduction'].best_estimator_.n_estimators,\n",
    "              'min_samples_leaf':gbsearch['introduction'].best_estimator_.min_samples_leaf,\n",
    "              'min_samples_split':gbsearch['introduction'].best_estimator_.min_samples_split,\n",
    "              'max_depth':gbsearch['introduction'].best_estimator_.max_depth},\n",
    "        'materials': {'n_estimators': gbsearch['materials'].best_estimator_.n_estimators,\n",
    "              'min_samples_leaf':gbsearch['materials'].best_estimator_.min_samples_leaf,\n",
    "              'min_samples_split':gbsearch['materials'].best_estimator_.min_samples_split,\n",
    "              'max_depth':gbsearch['materials'].best_estimator_.max_depth},\n",
    "        'conclusion': {'n_estimators': gbsearch['conclusion'].best_estimator_.n_estimators,\n",
    "              'min_samples_leaf':gbsearch['conclusion'].best_estimator_.min_samples_leaf,\n",
    "              'min_samples_split':gbsearch['conclusion'].best_estimator_.min_samples_split,\n",
    "              'max_depth': gbsearch['conclusion'].best_estimator_.max_depth},\n",
    "        'concat': {'n_estimators': gbsearch['conclusion'].best_estimator_.n_estimators,\n",
    "              'min_samples_leaf':gbsearch['conclusion'].best_estimator_.min_samples_leaf,\n",
    "              'min_samples_split':gbsearch['conclusion'].best_estimator_.min_samples_split,\n",
    "              'max_depth': gbsearch['conclusion'].best_estimator_.max_depth}\n",
    "    },\n",
    "    'rf' : {\n",
    "        'introduction': {'n_estimators': rfsearch['introduction'].best_estimator_.n_estimators,\n",
    "              'min_samples_leaf':rfsearch['introduction'].best_estimator_.min_samples_leaf,\n",
    "              'min_samples_split':rfsearch['introduction'].best_estimator_.min_samples_split,\n",
    "              'max_depth':rfsearch['introduction'].best_estimator_.max_depth,\n",
    "              'class_weight': rfsearch['introduction'].best_estimator_.class_weight},\n",
    "        'materials': {'n_estimators': rfsearch['materials'].best_estimator_.n_estimators,\n",
    "              'min_samples_leaf':rfsearch['materials'].best_estimator_.min_samples_leaf,\n",
    "              'min_samples_split':rfsearch['materials'].best_estimator_.min_samples_split,\n",
    "              'max_depth':rfsearch['materials'].best_estimator_.max_depth,\n",
    "              'class_weight': rfsearch['materials'].best_estimator_.class_weight},\n",
    "        'conclusion': {'n_estimators': rfsearch['conclusion'].best_estimator_.n_estimators,\n",
    "              'min_samples_leaf':rfsearch['conclusion'].best_estimator_.min_samples_leaf,\n",
    "              'min_samples_split':rfsearch['conclusion'].best_estimator_.min_samples_split,\n",
    "              'max_depth': rfsearch['conclusion'].best_estimator_.max_depth,\n",
    "              'class_weight': rfsearch['conclusion'].best_estimator_.class_weight},\n",
    "        'concat': {'n_estimators': rfsearch['conclusion'].best_estimator_.n_estimators,\n",
    "              'min_samples_leaf':rfsearch['conclusion'].best_estimator_.min_samples_leaf,\n",
    "              'min_samples_split':rfsearch['conclusion'].best_estimator_.min_samples_split,\n",
    "              'max_depth': rfsearch['conclusion'].best_estimator_.max_depth,\n",
    "              'class_weight': rfsearch['conclusion'].best_estimator_.class_weight}\n",
    "    },\n",
    "    'ab' : {\n",
    "        'introduction': {'n_estimators': absearch['introduction'].best_estimator_.n_estimators},\n",
    "        'materials': {'n_estimators': absearch['materials'].best_estimator_.n_estimators},\n",
    "        'conclusion': {'n_estimators': absearch['conclusion'].best_estimator_.n_estimators},\n",
    "        'concat': {'n_estimators': absearch['conclusion'].best_estimator_.n_estimators}\n",
    "    },\n",
    "    'knn': {\n",
    "        'introduction': {'n_neighbors': knnsearch['introduction'].best_estimator_.n_neighbors},\n",
    "        'materials': {'n_neighbors': knnsearch['materials'].best_estimator_.n_neighbors},\n",
    "        'conclusion': {'n_neighbors': knnsearch['conclusion'].best_estimator_.n_neighbors},\n",
    "        'concat': {'n_neighbors': knnsearch['conclusion'].best_estimator_.n_neighbors}\n",
    "    },\n",
    "    'mlp': {\n",
    "        'introduction': {'hidden_layer_sizes': (128,256,256, 128,), 'activation': 'relu', 'max_iter':300, 'batch_size':64},\n",
    "        'materials': {'hidden_layer_sizes': (128,256,128,), 'activation': 'relu', 'max_iter':300, 'batch_size': 64},\n",
    "        'conclusion': {'hidden_layer_sizes': (128,256,128,), 'activation': 'relu', 'max_iter':300, 'batch_size': 64},\n",
    "        'concat': {'hidden_layer_sizes': (128,256,128,200,), 'activation': 'relu', 'max_iter':300, 'batch_size': 64},\n",
    "    }\n",
    "\n",
    "}"
   ]
  },
  {
   "cell_type": "code",
   "execution_count": 41,
   "metadata": {},
   "outputs": [],
   "source": [
    "from multiprocessing import Process, Queue\n",
    "\n",
    "sections=['introduction', 'materials', 'conclusion', 'concat']\n",
    "name_models = ['knn', 'rf', 'ab', 'mlp']\n",
    "\n",
    "l1 = Queue()\n",
    "p1 = Process(\n",
    "    target=classifiers.create_models, args=(\n",
    "         dataset, parameters, sections, ['knn']))\n",
    "\n",
    "l2 = Queue()\n",
    "p2 = Process(\n",
    "    target=classifiers.create_models, args=(\n",
    "         dataset, parameters, sections, ['ab']))\n",
    "\n",
    "l3 = Queue()\n",
    "p3 = Process(\n",
    "    target=classifiers.create_models, args=(\n",
    "         dataset, parameters, sections, ['rf']))\n",
    "\n",
    "l4 = Queue()\n",
    "p4 = Process(\n",
    "    target=classifiers.create_models, args=(\n",
    "         dataset, parameters, sections, ['gb']))\n",
    "\n",
    "l5 = Queue()\n",
    "p5 = Process(\n",
    "    target=classifiers.create_models, args=(\n",
    "         dataset, parameters, sections, ['mlp']))\n",
    "\n",
    "p1.start()   \n",
    "p2.start()   \n",
    "p3.start()   \n",
    "p4.start()   \n",
    "p5.start()   "
   ]
  },
  {
   "cell_type": "code",
   "execution_count": 142,
   "metadata": {},
   "outputs": [],
   "source": [
    "from multiprocessing import Process, Queue\n",
    "\n",
    "sections=['introduction']\n",
    "name_models = ['knn', 'rf', 'ab', 'mlp']\n",
    "\n",
    "\n",
    "l3 = Queue()\n",
    "p3 = Process(\n",
    "    target=classifiers.create_models, args=(\n",
    "         dataset, parameters, sections, ['rf']))\n",
    "\n",
    "\n",
    "p3.start()   \n",
    " "
   ]
  },
  {
   "cell_type": "code",
   "execution_count": 115,
   "metadata": {},
   "outputs": [],
   "source": [
    "def load_classifiers(sections, path_to_read, name_models):\n",
    "\n",
    "    models = {}\n",
    "    \n",
    "    for section in sections:\n",
    "        \n",
    "        aux = {}\n",
    "        \n",
    "        for name_model in name_models:\n",
    "            aux[name_model] = joblib.load('{}/{}_{}.pkl'.format(path_to_read, name_model,  section))\n",
    "            \n",
    "        models[section] = aux\n",
    "        \n",
    "    return models"
   ]
  },
  {
   "cell_type": "code",
   "execution_count": 116,
   "metadata": {},
   "outputs": [],
   "source": [
    "path_to_save = '/scratch/cinthiasouza/mv-text-summarizer/notebook/models'\n",
    "\n",
    "sections=['introduction', 'materials', 'conclusion']\n",
    "name_models = ['knn', 'rf', 'ab', 'gb', 'mlp']\n",
    "\n",
    "models = load_classifiers(sections, path_to_save, name_models)"
   ]
  },
  {
   "cell_type": "code",
   "execution_count": 117,
   "metadata": {},
   "outputs": [],
   "source": [
    "predictions, predictions_proba, results = ev.create_reports(models, dataset, columns_name, name_models, verbose=False)"
   ]
  },
  {
   "cell_type": "code",
   "execution_count": 129,
   "metadata": {},
   "outputs": [
    {
     "data": {
      "text/plain": [
       "11"
      ]
     },
     "execution_count": 129,
     "metadata": {},
     "output_type": "execute_result"
    }
   ],
   "source": [
    "sum(predictions['introduction']['rf'])"
   ]
  },
  {
   "cell_type": "code",
   "execution_count": 91,
   "metadata": {},
   "outputs": [
    {
     "data": {
      "text/html": [
       "<style  type=\"text/css\" >\n",
       "</style><table id=\"T_95c34_\" style='display:inline'><caption>knn_introduction</caption><thead>    <tr>        <th class=\"blank level0\" ></th>        <th class=\"col_heading level0 col0\" >model</th>        <th class=\"col_heading level0 col1\" >precision</th>        <th class=\"col_heading level0 col2\" >recall</th>        <th class=\"col_heading level0 col3\" >f1-score</th>        <th class=\"col_heading level0 col4\" >support</th>    </tr></thead><tbody>\n",
       "                <tr>\n",
       "                        <th id=\"T_95c34_level0_row0\" class=\"row_heading level0 row0\" >0</th>\n",
       "                        <td id=\"T_95c34_row0_col0\" class=\"data row0 col0\" >knn</td>\n",
       "                        <td id=\"T_95c34_row0_col1\" class=\"data row0 col1\" >0.911730</td>\n",
       "                        <td id=\"T_95c34_row0_col2\" class=\"data row0 col2\" >0.686747</td>\n",
       "                        <td id=\"T_95c34_row0_col3\" class=\"data row0 col3\" >0.783405</td>\n",
       "                        <td id=\"T_95c34_row0_col4\" class=\"data row0 col4\" >4482.000000</td>\n",
       "            </tr>\n",
       "            <tr>\n",
       "                        <th id=\"T_95c34_level0_row1\" class=\"row_heading level0 row1\" >1</th>\n",
       "                        <td id=\"T_95c34_row1_col0\" class=\"data row1 col0\" >knn</td>\n",
       "                        <td id=\"T_95c34_row1_col1\" class=\"data row1 col1\" >0.280738</td>\n",
       "                        <td id=\"T_95c34_row1_col2\" class=\"data row1 col2\" >0.647754</td>\n",
       "                        <td id=\"T_95c34_row1_col3\" class=\"data row1 col3\" >0.391708</td>\n",
       "                        <td id=\"T_95c34_row1_col4\" class=\"data row1 col4\" >846.000000</td>\n",
       "            </tr>\n",
       "            <tr>\n",
       "                        <th id=\"T_95c34_level0_row2\" class=\"row_heading level0 row2\" >accuracy</th>\n",
       "                        <td id=\"T_95c34_row2_col0\" class=\"data row2 col0\" >knn</td>\n",
       "                        <td id=\"T_95c34_row2_col1\" class=\"data row2 col1\" >0.680556</td>\n",
       "                        <td id=\"T_95c34_row2_col2\" class=\"data row2 col2\" >0.680556</td>\n",
       "                        <td id=\"T_95c34_row2_col3\" class=\"data row2 col3\" >0.680556</td>\n",
       "                        <td id=\"T_95c34_row2_col4\" class=\"data row2 col4\" >0.680556</td>\n",
       "            </tr>\n",
       "            <tr>\n",
       "                        <th id=\"T_95c34_level0_row3\" class=\"row_heading level0 row3\" >macro avg</th>\n",
       "                        <td id=\"T_95c34_row3_col0\" class=\"data row3 col0\" >knn</td>\n",
       "                        <td id=\"T_95c34_row3_col1\" class=\"data row3 col1\" >0.596234</td>\n",
       "                        <td id=\"T_95c34_row3_col2\" class=\"data row3 col2\" >0.667251</td>\n",
       "                        <td id=\"T_95c34_row3_col3\" class=\"data row3 col3\" >0.587557</td>\n",
       "                        <td id=\"T_95c34_row3_col4\" class=\"data row3 col4\" >5328.000000</td>\n",
       "            </tr>\n",
       "            <tr>\n",
       "                        <th id=\"T_95c34_level0_row4\" class=\"row_heading level0 row4\" >weighted avg</th>\n",
       "                        <td id=\"T_95c34_row4_col0\" class=\"data row4 col0\" >knn</td>\n",
       "                        <td id=\"T_95c34_row4_col1\" class=\"data row4 col1\" >0.811539</td>\n",
       "                        <td id=\"T_95c34_row4_col2\" class=\"data row4 col2\" >0.680556</td>\n",
       "                        <td id=\"T_95c34_row4_col3\" class=\"data row4 col3\" >0.721210</td>\n",
       "                        <td id=\"T_95c34_row4_col4\" class=\"data row4 col4\" >5328.000000</td>\n",
       "            </tr>\n",
       "    </tbody></table>          <style  type=\"text/css\" >\n",
       "</style><table id=\"T_888b8_\" style='display:inline'><caption>ab_introduction</caption><thead>    <tr>        <th class=\"blank level0\" ></th>        <th class=\"col_heading level0 col0\" >model</th>        <th class=\"col_heading level0 col1\" >precision</th>        <th class=\"col_heading level0 col2\" >recall</th>        <th class=\"col_heading level0 col3\" >f1-score</th>        <th class=\"col_heading level0 col4\" >support</th>    </tr></thead><tbody>\n",
       "                <tr>\n",
       "                        <th id=\"T_888b8_level0_row0\" class=\"row_heading level0 row0\" >0</th>\n",
       "                        <td id=\"T_888b8_row0_col0\" class=\"data row0 col0\" >ab</td>\n",
       "                        <td id=\"T_888b8_row0_col1\" class=\"data row0 col1\" >0.927476</td>\n",
       "                        <td id=\"T_888b8_row0_col2\" class=\"data row0 col2\" >0.647702</td>\n",
       "                        <td id=\"T_888b8_row0_col3\" class=\"data row0 col3\" >0.762743</td>\n",
       "                        <td id=\"T_888b8_row0_col4\" class=\"data row0 col4\" >4482.000000</td>\n",
       "            </tr>\n",
       "            <tr>\n",
       "                        <th id=\"T_888b8_level0_row1\" class=\"row_heading level0 row1\" >1</th>\n",
       "                        <td id=\"T_888b8_row1_col0\" class=\"data row1 col0\" >ab</td>\n",
       "                        <td id=\"T_888b8_row1_col1\" class=\"data row1 col1\" >0.281620</td>\n",
       "                        <td id=\"T_888b8_row1_col2\" class=\"data row1 col2\" >0.731678</td>\n",
       "                        <td id=\"T_888b8_row1_col3\" class=\"data row1 col3\" >0.406702</td>\n",
       "                        <td id=\"T_888b8_row1_col4\" class=\"data row1 col4\" >846.000000</td>\n",
       "            </tr>\n",
       "            <tr>\n",
       "                        <th id=\"T_888b8_level0_row2\" class=\"row_heading level0 row2\" >accuracy</th>\n",
       "                        <td id=\"T_888b8_row2_col0\" class=\"data row2 col0\" >ab</td>\n",
       "                        <td id=\"T_888b8_row2_col1\" class=\"data row2 col1\" >0.661036</td>\n",
       "                        <td id=\"T_888b8_row2_col2\" class=\"data row2 col2\" >0.661036</td>\n",
       "                        <td id=\"T_888b8_row2_col3\" class=\"data row2 col3\" >0.661036</td>\n",
       "                        <td id=\"T_888b8_row2_col4\" class=\"data row2 col4\" >0.661036</td>\n",
       "            </tr>\n",
       "            <tr>\n",
       "                        <th id=\"T_888b8_level0_row3\" class=\"row_heading level0 row3\" >macro avg</th>\n",
       "                        <td id=\"T_888b8_row3_col0\" class=\"data row3 col0\" >ab</td>\n",
       "                        <td id=\"T_888b8_row3_col1\" class=\"data row3 col1\" >0.604548</td>\n",
       "                        <td id=\"T_888b8_row3_col2\" class=\"data row3 col2\" >0.689690</td>\n",
       "                        <td id=\"T_888b8_row3_col3\" class=\"data row3 col3\" >0.584722</td>\n",
       "                        <td id=\"T_888b8_row3_col4\" class=\"data row3 col4\" >5328.000000</td>\n",
       "            </tr>\n",
       "            <tr>\n",
       "                        <th id=\"T_888b8_level0_row4\" class=\"row_heading level0 row4\" >weighted avg</th>\n",
       "                        <td id=\"T_888b8_row4_col0\" class=\"data row4 col0\" >ab</td>\n",
       "                        <td id=\"T_888b8_row4_col1\" class=\"data row4 col1\" >0.824925</td>\n",
       "                        <td id=\"T_888b8_row4_col2\" class=\"data row4 col2\" >0.661036</td>\n",
       "                        <td id=\"T_888b8_row4_col3\" class=\"data row4 col3\" >0.706209</td>\n",
       "                        <td id=\"T_888b8_row4_col4\" class=\"data row4 col4\" >5328.000000</td>\n",
       "            </tr>\n",
       "    </tbody></table>"
      ]
     },
     "metadata": {},
     "output_type": "display_data"
    },
    {
     "data": {
      "text/html": [
       "<style  type=\"text/css\" >\n",
       "</style><table id=\"T_45005_\" style='display:inline'><caption>rf_introduction</caption><thead>    <tr>        <th class=\"blank level0\" ></th>        <th class=\"col_heading level0 col0\" >model</th>        <th class=\"col_heading level0 col1\" >precision</th>        <th class=\"col_heading level0 col2\" >recall</th>        <th class=\"col_heading level0 col3\" >f1-score</th>        <th class=\"col_heading level0 col4\" >support</th>    </tr></thead><tbody>\n",
       "                <tr>\n",
       "                        <th id=\"T_45005_level0_row0\" class=\"row_heading level0 row0\" >0</th>\n",
       "                        <td id=\"T_45005_row0_col0\" class=\"data row0 col0\" >rf</td>\n",
       "                        <td id=\"T_45005_row0_col1\" class=\"data row0 col1\" >0.842392</td>\n",
       "                        <td id=\"T_45005_row0_col2\" class=\"data row0 col2\" >0.999331</td>\n",
       "                        <td id=\"T_45005_row0_col3\" class=\"data row0 col3\" >0.914175</td>\n",
       "                        <td id=\"T_45005_row0_col4\" class=\"data row0 col4\" >4482.000000</td>\n",
       "            </tr>\n",
       "            <tr>\n",
       "                        <th id=\"T_45005_level0_row1\" class=\"row_heading level0 row1\" >1</th>\n",
       "                        <td id=\"T_45005_row1_col0\" class=\"data row1 col0\" >rf</td>\n",
       "                        <td id=\"T_45005_row1_col1\" class=\"data row1 col1\" >0.727273</td>\n",
       "                        <td id=\"T_45005_row1_col2\" class=\"data row1 col2\" >0.009456</td>\n",
       "                        <td id=\"T_45005_row1_col3\" class=\"data row1 col3\" >0.018670</td>\n",
       "                        <td id=\"T_45005_row1_col4\" class=\"data row1 col4\" >846.000000</td>\n",
       "            </tr>\n",
       "            <tr>\n",
       "                        <th id=\"T_45005_level0_row2\" class=\"row_heading level0 row2\" >accuracy</th>\n",
       "                        <td id=\"T_45005_row2_col0\" class=\"data row2 col0\" >rf</td>\n",
       "                        <td id=\"T_45005_row2_col1\" class=\"data row2 col1\" >0.842155</td>\n",
       "                        <td id=\"T_45005_row2_col2\" class=\"data row2 col2\" >0.842155</td>\n",
       "                        <td id=\"T_45005_row2_col3\" class=\"data row2 col3\" >0.842155</td>\n",
       "                        <td id=\"T_45005_row2_col4\" class=\"data row2 col4\" >0.842155</td>\n",
       "            </tr>\n",
       "            <tr>\n",
       "                        <th id=\"T_45005_level0_row3\" class=\"row_heading level0 row3\" >macro avg</th>\n",
       "                        <td id=\"T_45005_row3_col0\" class=\"data row3 col0\" >rf</td>\n",
       "                        <td id=\"T_45005_row3_col1\" class=\"data row3 col1\" >0.784833</td>\n",
       "                        <td id=\"T_45005_row3_col2\" class=\"data row3 col2\" >0.504393</td>\n",
       "                        <td id=\"T_45005_row3_col3\" class=\"data row3 col3\" >0.466422</td>\n",
       "                        <td id=\"T_45005_row3_col4\" class=\"data row3 col4\" >5328.000000</td>\n",
       "            </tr>\n",
       "            <tr>\n",
       "                        <th id=\"T_45005_level0_row4\" class=\"row_heading level0 row4\" >weighted avg</th>\n",
       "                        <td id=\"T_45005_row4_col0\" class=\"data row4 col0\" >rf</td>\n",
       "                        <td id=\"T_45005_row4_col1\" class=\"data row4 col1\" >0.824113</td>\n",
       "                        <td id=\"T_45005_row4_col2\" class=\"data row4 col2\" >0.842155</td>\n",
       "                        <td id=\"T_45005_row4_col3\" class=\"data row4 col3\" >0.771983</td>\n",
       "                        <td id=\"T_45005_row4_col4\" class=\"data row4 col4\" >5328.000000</td>\n",
       "            </tr>\n",
       "    </tbody></table>          <style  type=\"text/css\" >\n",
       "</style><table id=\"T_a860a_\" style='display:inline'><caption>gb_introduction</caption><thead>    <tr>        <th class=\"blank level0\" ></th>        <th class=\"col_heading level0 col0\" >model</th>        <th class=\"col_heading level0 col1\" >precision</th>        <th class=\"col_heading level0 col2\" >recall</th>        <th class=\"col_heading level0 col3\" >f1-score</th>        <th class=\"col_heading level0 col4\" >support</th>    </tr></thead><tbody>\n",
       "                <tr>\n",
       "                        <th id=\"T_a860a_level0_row0\" class=\"row_heading level0 row0\" >0</th>\n",
       "                        <td id=\"T_a860a_row0_col0\" class=\"data row0 col0\" >gb</td>\n",
       "                        <td id=\"T_a860a_row0_col1\" class=\"data row0 col1\" >0.928594</td>\n",
       "                        <td id=\"T_a860a_row0_col2\" class=\"data row0 col2\" >0.644132</td>\n",
       "                        <td id=\"T_a860a_row0_col3\" class=\"data row0 col3\" >0.760638</td>\n",
       "                        <td id=\"T_a860a_row0_col4\" class=\"data row0 col4\" >4482.000000</td>\n",
       "            </tr>\n",
       "            <tr>\n",
       "                        <th id=\"T_a860a_level0_row1\" class=\"row_heading level0 row1\" >1</th>\n",
       "                        <td id=\"T_a860a_row1_col0\" class=\"data row1 col0\" >gb</td>\n",
       "                        <td id=\"T_a860a_row1_col1\" class=\"data row1 col1\" >0.281208</td>\n",
       "                        <td id=\"T_a860a_row1_col2\" class=\"data row1 col2\" >0.737589</td>\n",
       "                        <td id=\"T_a860a_row1_col3\" class=\"data row1 col3\" >0.407178</td>\n",
       "                        <td id=\"T_a860a_row1_col4\" class=\"data row1 col4\" >846.000000</td>\n",
       "            </tr>\n",
       "            <tr>\n",
       "                        <th id=\"T_a860a_level0_row2\" class=\"row_heading level0 row2\" >accuracy</th>\n",
       "                        <td id=\"T_a860a_row2_col0\" class=\"data row2 col0\" >gb</td>\n",
       "                        <td id=\"T_a860a_row2_col1\" class=\"data row2 col1\" >0.658971</td>\n",
       "                        <td id=\"T_a860a_row2_col2\" class=\"data row2 col2\" >0.658971</td>\n",
       "                        <td id=\"T_a860a_row2_col3\" class=\"data row2 col3\" >0.658971</td>\n",
       "                        <td id=\"T_a860a_row2_col4\" class=\"data row2 col4\" >0.658971</td>\n",
       "            </tr>\n",
       "            <tr>\n",
       "                        <th id=\"T_a860a_level0_row3\" class=\"row_heading level0 row3\" >macro avg</th>\n",
       "                        <td id=\"T_a860a_row3_col0\" class=\"data row3 col0\" >gb</td>\n",
       "                        <td id=\"T_a860a_row3_col1\" class=\"data row3 col1\" >0.604901</td>\n",
       "                        <td id=\"T_a860a_row3_col2\" class=\"data row3 col2\" >0.690860</td>\n",
       "                        <td id=\"T_a860a_row3_col3\" class=\"data row3 col3\" >0.583908</td>\n",
       "                        <td id=\"T_a860a_row3_col4\" class=\"data row3 col4\" >5328.000000</td>\n",
       "            </tr>\n",
       "            <tr>\n",
       "                        <th id=\"T_a860a_level0_row4\" class=\"row_heading level0 row4\" >weighted avg</th>\n",
       "                        <td id=\"T_a860a_row4_col0\" class=\"data row4 col0\" >gb</td>\n",
       "                        <td id=\"T_a860a_row4_col1\" class=\"data row4 col1\" >0.825800</td>\n",
       "                        <td id=\"T_a860a_row4_col2\" class=\"data row4 col2\" >0.658971</td>\n",
       "                        <td id=\"T_a860a_row4_col3\" class=\"data row4 col3\" >0.704514</td>\n",
       "                        <td id=\"T_a860a_row4_col4\" class=\"data row4 col4\" >5328.000000</td>\n",
       "            </tr>\n",
       "    </tbody></table>"
      ]
     },
     "metadata": {},
     "output_type": "display_data"
    },
    {
     "data": {
      "text/html": [
       "<style  type=\"text/css\" >\n",
       "</style><table id=\"T_5b5a2_\" style='display:inline'><caption>mlp_introduction</caption><thead>    <tr>        <th class=\"blank level0\" ></th>        <th class=\"col_heading level0 col0\" >model</th>        <th class=\"col_heading level0 col1\" >precision</th>        <th class=\"col_heading level0 col2\" >recall</th>        <th class=\"col_heading level0 col3\" >f1-score</th>        <th class=\"col_heading level0 col4\" >support</th>    </tr></thead><tbody>\n",
       "                <tr>\n",
       "                        <th id=\"T_5b5a2_level0_row0\" class=\"row_heading level0 row0\" >0</th>\n",
       "                        <td id=\"T_5b5a2_row0_col0\" class=\"data row0 col0\" >mlp</td>\n",
       "                        <td id=\"T_5b5a2_row0_col1\" class=\"data row0 col1\" >0.922287</td>\n",
       "                        <td id=\"T_5b5a2_row0_col2\" class=\"data row0 col2\" >0.601071</td>\n",
       "                        <td id=\"T_5b5a2_row0_col3\" class=\"data row0 col3\" >0.727813</td>\n",
       "                        <td id=\"T_5b5a2_row0_col4\" class=\"data row0 col4\" >4482.000000</td>\n",
       "            </tr>\n",
       "            <tr>\n",
       "                        <th id=\"T_5b5a2_level0_row1\" class=\"row_heading level0 row1\" >1</th>\n",
       "                        <td id=\"T_5b5a2_row1_col0\" class=\"data row1 col0\" >mlp</td>\n",
       "                        <td id=\"T_5b5a2_row1_col1\" class=\"data row1 col1\" >0.257167</td>\n",
       "                        <td id=\"T_5b5a2_row1_col2\" class=\"data row1 col2\" >0.731678</td>\n",
       "                        <td id=\"T_5b5a2_row1_col3\" class=\"data row1 col3\" >0.380572</td>\n",
       "                        <td id=\"T_5b5a2_row1_col4\" class=\"data row1 col4\" >846.000000</td>\n",
       "            </tr>\n",
       "            <tr>\n",
       "                        <th id=\"T_5b5a2_level0_row2\" class=\"row_heading level0 row2\" >accuracy</th>\n",
       "                        <td id=\"T_5b5a2_row2_col0\" class=\"data row2 col0\" >mlp</td>\n",
       "                        <td id=\"T_5b5a2_row2_col1\" class=\"data row2 col1\" >0.621809</td>\n",
       "                        <td id=\"T_5b5a2_row2_col2\" class=\"data row2 col2\" >0.621809</td>\n",
       "                        <td id=\"T_5b5a2_row2_col3\" class=\"data row2 col3\" >0.621809</td>\n",
       "                        <td id=\"T_5b5a2_row2_col4\" class=\"data row2 col4\" >0.621809</td>\n",
       "            </tr>\n",
       "            <tr>\n",
       "                        <th id=\"T_5b5a2_level0_row3\" class=\"row_heading level0 row3\" >macro avg</th>\n",
       "                        <td id=\"T_5b5a2_row3_col0\" class=\"data row3 col0\" >mlp</td>\n",
       "                        <td id=\"T_5b5a2_row3_col1\" class=\"data row3 col1\" >0.589727</td>\n",
       "                        <td id=\"T_5b5a2_row3_col2\" class=\"data row3 col2\" >0.666375</td>\n",
       "                        <td id=\"T_5b5a2_row3_col3\" class=\"data row3 col3\" >0.554192</td>\n",
       "                        <td id=\"T_5b5a2_row3_col4\" class=\"data row3 col4\" >5328.000000</td>\n",
       "            </tr>\n",
       "            <tr>\n",
       "                        <th id=\"T_5b5a2_level0_row4\" class=\"row_heading level0 row4\" >weighted avg</th>\n",
       "                        <td id=\"T_5b5a2_row4_col0\" class=\"data row4 col0\" >mlp</td>\n",
       "                        <td id=\"T_5b5a2_row4_col1\" class=\"data row4 col1\" >0.816677</td>\n",
       "                        <td id=\"T_5b5a2_row4_col2\" class=\"data row4 col2\" >0.621809</td>\n",
       "                        <td id=\"T_5b5a2_row4_col3\" class=\"data row4 col3\" >0.672677</td>\n",
       "                        <td id=\"T_5b5a2_row4_col4\" class=\"data row4 col4\" >5328.000000</td>\n",
       "            </tr>\n",
       "    </tbody></table>"
      ]
     },
     "metadata": {},
     "output_type": "display_data"
    }
   ],
   "source": [
    "dr.display_results(results, section='introduction')"
   ]
  },
  {
   "cell_type": "code",
   "execution_count": 75,
   "metadata": {},
   "outputs": [
    {
     "data": {
      "text/html": [
       "<style  type=\"text/css\" >\n",
       "</style><table id=\"T_479ab_\" style='display:inline'><caption>knn_materials</caption><thead>    <tr>        <th class=\"blank level0\" ></th>        <th class=\"col_heading level0 col0\" >model</th>        <th class=\"col_heading level0 col1\" >precision</th>        <th class=\"col_heading level0 col2\" >recall</th>        <th class=\"col_heading level0 col3\" >f1-score</th>        <th class=\"col_heading level0 col4\" >support</th>    </tr></thead><tbody>\n",
       "                <tr>\n",
       "                        <th id=\"T_479ab_level0_row0\" class=\"row_heading level0 row0\" >0</th>\n",
       "                        <td id=\"T_479ab_row0_col0\" class=\"data row0 col0\" >knn</td>\n",
       "                        <td id=\"T_479ab_row0_col1\" class=\"data row0 col1\" >0.931785</td>\n",
       "                        <td id=\"T_479ab_row0_col2\" class=\"data row0 col2\" >0.806243</td>\n",
       "                        <td id=\"T_479ab_row0_col3\" class=\"data row0 col3\" >0.864480</td>\n",
       "                        <td id=\"T_479ab_row0_col4\" class=\"data row0 col4\" >5574.000000</td>\n",
       "            </tr>\n",
       "            <tr>\n",
       "                        <th id=\"T_479ab_level0_row1\" class=\"row_heading level0 row1\" >1</th>\n",
       "                        <td id=\"T_479ab_row1_col0\" class=\"data row1 col0\" >knn</td>\n",
       "                        <td id=\"T_479ab_row1_col1\" class=\"data row1 col1\" >0.284294</td>\n",
       "                        <td id=\"T_479ab_row1_col2\" class=\"data row1 col2\" >0.565963</td>\n",
       "                        <td id=\"T_479ab_row1_col3\" class=\"data row1 col3\" >0.378474</td>\n",
       "                        <td id=\"T_479ab_row1_col4\" class=\"data row1 col4\" >758.000000</td>\n",
       "            </tr>\n",
       "            <tr>\n",
       "                        <th id=\"T_479ab_level0_row2\" class=\"row_heading level0 row2\" >accuracy</th>\n",
       "                        <td id=\"T_479ab_row2_col0\" class=\"data row2 col0\" >knn</td>\n",
       "                        <td id=\"T_479ab_row2_col1\" class=\"data row2 col1\" >0.777479</td>\n",
       "                        <td id=\"T_479ab_row2_col2\" class=\"data row2 col2\" >0.777479</td>\n",
       "                        <td id=\"T_479ab_row2_col3\" class=\"data row2 col3\" >0.777479</td>\n",
       "                        <td id=\"T_479ab_row2_col4\" class=\"data row2 col4\" >0.777479</td>\n",
       "            </tr>\n",
       "            <tr>\n",
       "                        <th id=\"T_479ab_level0_row3\" class=\"row_heading level0 row3\" >macro avg</th>\n",
       "                        <td id=\"T_479ab_row3_col0\" class=\"data row3 col0\" >knn</td>\n",
       "                        <td id=\"T_479ab_row3_col1\" class=\"data row3 col1\" >0.608040</td>\n",
       "                        <td id=\"T_479ab_row3_col2\" class=\"data row3 col2\" >0.686103</td>\n",
       "                        <td id=\"T_479ab_row3_col3\" class=\"data row3 col3\" >0.621477</td>\n",
       "                        <td id=\"T_479ab_row3_col4\" class=\"data row3 col4\" >6332.000000</td>\n",
       "            </tr>\n",
       "            <tr>\n",
       "                        <th id=\"T_479ab_level0_row4\" class=\"row_heading level0 row4\" >weighted avg</th>\n",
       "                        <td id=\"T_479ab_row4_col0\" class=\"data row4 col0\" >knn</td>\n",
       "                        <td id=\"T_479ab_row4_col1\" class=\"data row4 col1\" >0.854274</td>\n",
       "                        <td id=\"T_479ab_row4_col2\" class=\"data row4 col2\" >0.777479</td>\n",
       "                        <td id=\"T_479ab_row4_col3\" class=\"data row4 col3\" >0.806301</td>\n",
       "                        <td id=\"T_479ab_row4_col4\" class=\"data row4 col4\" >6332.000000</td>\n",
       "            </tr>\n",
       "    </tbody></table>          <style  type=\"text/css\" >\n",
       "</style><table id=\"T_e33b2_\" style='display:inline'><caption>ab_materials</caption><thead>    <tr>        <th class=\"blank level0\" ></th>        <th class=\"col_heading level0 col0\" >model</th>        <th class=\"col_heading level0 col1\" >precision</th>        <th class=\"col_heading level0 col2\" >recall</th>        <th class=\"col_heading level0 col3\" >f1-score</th>        <th class=\"col_heading level0 col4\" >support</th>    </tr></thead><tbody>\n",
       "                <tr>\n",
       "                        <th id=\"T_e33b2_level0_row0\" class=\"row_heading level0 row0\" >0</th>\n",
       "                        <td id=\"T_e33b2_row0_col0\" class=\"data row0 col0\" >ab</td>\n",
       "                        <td id=\"T_e33b2_row0_col1\" class=\"data row0 col1\" >0.944877</td>\n",
       "                        <td id=\"T_e33b2_row0_col2\" class=\"data row0 col2\" >0.784177</td>\n",
       "                        <td id=\"T_e33b2_row0_col3\" class=\"data row0 col3\" >0.857059</td>\n",
       "                        <td id=\"T_e33b2_row0_col4\" class=\"data row0 col4\" >5574.000000</td>\n",
       "            </tr>\n",
       "            <tr>\n",
       "                        <th id=\"T_e33b2_level0_row1\" class=\"row_heading level0 row1\" >1</th>\n",
       "                        <td id=\"T_e33b2_row1_col0\" class=\"data row1 col0\" >ab</td>\n",
       "                        <td id=\"T_e33b2_row1_col1\" class=\"data row1 col1\" >0.294842</td>\n",
       "                        <td id=\"T_e33b2_row1_col2\" class=\"data row1 col2\" >0.663588</td>\n",
       "                        <td id=\"T_e33b2_row1_col3\" class=\"data row1 col3\" >0.408279</td>\n",
       "                        <td id=\"T_e33b2_row1_col4\" class=\"data row1 col4\" >758.000000</td>\n",
       "            </tr>\n",
       "            <tr>\n",
       "                        <th id=\"T_e33b2_level0_row2\" class=\"row_heading level0 row2\" >accuracy</th>\n",
       "                        <td id=\"T_e33b2_row2_col0\" class=\"data row2 col0\" >ab</td>\n",
       "                        <td id=\"T_e33b2_row2_col1\" class=\"data row2 col1\" >0.769741</td>\n",
       "                        <td id=\"T_e33b2_row2_col2\" class=\"data row2 col2\" >0.769741</td>\n",
       "                        <td id=\"T_e33b2_row2_col3\" class=\"data row2 col3\" >0.769741</td>\n",
       "                        <td id=\"T_e33b2_row2_col4\" class=\"data row2 col4\" >0.769741</td>\n",
       "            </tr>\n",
       "            <tr>\n",
       "                        <th id=\"T_e33b2_level0_row3\" class=\"row_heading level0 row3\" >macro avg</th>\n",
       "                        <td id=\"T_e33b2_row3_col0\" class=\"data row3 col0\" >ab</td>\n",
       "                        <td id=\"T_e33b2_row3_col1\" class=\"data row3 col1\" >0.619859</td>\n",
       "                        <td id=\"T_e33b2_row3_col2\" class=\"data row3 col2\" >0.723882</td>\n",
       "                        <td id=\"T_e33b2_row3_col3\" class=\"data row3 col3\" >0.632669</td>\n",
       "                        <td id=\"T_e33b2_row3_col4\" class=\"data row3 col4\" >6332.000000</td>\n",
       "            </tr>\n",
       "            <tr>\n",
       "                        <th id=\"T_e33b2_level0_row4\" class=\"row_heading level0 row4\" >weighted avg</th>\n",
       "                        <td id=\"T_e33b2_row4_col0\" class=\"data row4 col0\" >ab</td>\n",
       "                        <td id=\"T_e33b2_row4_col1\" class=\"data row4 col1\" >0.867061</td>\n",
       "                        <td id=\"T_e33b2_row4_col2\" class=\"data row4 col2\" >0.769741</td>\n",
       "                        <td id=\"T_e33b2_row4_col3\" class=\"data row4 col3\" >0.803336</td>\n",
       "                        <td id=\"T_e33b2_row4_col4\" class=\"data row4 col4\" >6332.000000</td>\n",
       "            </tr>\n",
       "    </tbody></table>"
      ]
     },
     "metadata": {},
     "output_type": "display_data"
    },
    {
     "data": {
      "text/html": [
       "<style  type=\"text/css\" >\n",
       "</style><table id=\"T_ba2d0_\" style='display:inline'><caption>rf_materials</caption><thead>    <tr>        <th class=\"blank level0\" ></th>        <th class=\"col_heading level0 col0\" >model</th>        <th class=\"col_heading level0 col1\" >precision</th>        <th class=\"col_heading level0 col2\" >recall</th>        <th class=\"col_heading level0 col3\" >f1-score</th>        <th class=\"col_heading level0 col4\" >support</th>    </tr></thead><tbody>\n",
       "                <tr>\n",
       "                        <th id=\"T_ba2d0_level0_row0\" class=\"row_heading level0 row0\" >0</th>\n",
       "                        <td id=\"T_ba2d0_row0_col0\" class=\"data row0 col0\" >rf</td>\n",
       "                        <td id=\"T_ba2d0_row0_col1\" class=\"data row0 col1\" >0.890363</td>\n",
       "                        <td id=\"T_ba2d0_row0_col2\" class=\"data row0 col2\" >0.999462</td>\n",
       "                        <td id=\"T_ba2d0_row0_col3\" class=\"data row0 col3\" >0.941763</td>\n",
       "                        <td id=\"T_ba2d0_row0_col4\" class=\"data row0 col4\" >5574.000000</td>\n",
       "            </tr>\n",
       "            <tr>\n",
       "                        <th id=\"T_ba2d0_level0_row1\" class=\"row_heading level0 row1\" >1</th>\n",
       "                        <td id=\"T_ba2d0_row1_col0\" class=\"data row1 col0\" >rf</td>\n",
       "                        <td id=\"T_ba2d0_row1_col1\" class=\"data row1 col1\" >0.960000</td>\n",
       "                        <td id=\"T_ba2d0_row1_col2\" class=\"data row1 col2\" >0.094987</td>\n",
       "                        <td id=\"T_ba2d0_row1_col3\" class=\"data row1 col3\" >0.172869</td>\n",
       "                        <td id=\"T_ba2d0_row1_col4\" class=\"data row1 col4\" >758.000000</td>\n",
       "            </tr>\n",
       "            <tr>\n",
       "                        <th id=\"T_ba2d0_level0_row2\" class=\"row_heading level0 row2\" >accuracy</th>\n",
       "                        <td id=\"T_ba2d0_row2_col0\" class=\"data row2 col0\" >rf</td>\n",
       "                        <td id=\"T_ba2d0_row2_col1\" class=\"data row2 col1\" >0.891188</td>\n",
       "                        <td id=\"T_ba2d0_row2_col2\" class=\"data row2 col2\" >0.891188</td>\n",
       "                        <td id=\"T_ba2d0_row2_col3\" class=\"data row2 col3\" >0.891188</td>\n",
       "                        <td id=\"T_ba2d0_row2_col4\" class=\"data row2 col4\" >0.891188</td>\n",
       "            </tr>\n",
       "            <tr>\n",
       "                        <th id=\"T_ba2d0_level0_row3\" class=\"row_heading level0 row3\" >macro avg</th>\n",
       "                        <td id=\"T_ba2d0_row3_col0\" class=\"data row3 col0\" >rf</td>\n",
       "                        <td id=\"T_ba2d0_row3_col1\" class=\"data row3 col1\" >0.925181</td>\n",
       "                        <td id=\"T_ba2d0_row3_col2\" class=\"data row3 col2\" >0.547224</td>\n",
       "                        <td id=\"T_ba2d0_row3_col3\" class=\"data row3 col3\" >0.557316</td>\n",
       "                        <td id=\"T_ba2d0_row3_col4\" class=\"data row3 col4\" >6332.000000</td>\n",
       "            </tr>\n",
       "            <tr>\n",
       "                        <th id=\"T_ba2d0_level0_row4\" class=\"row_heading level0 row4\" >weighted avg</th>\n",
       "                        <td id=\"T_ba2d0_row4_col0\" class=\"data row4 col0\" >rf</td>\n",
       "                        <td id=\"T_ba2d0_row4_col1\" class=\"data row4 col1\" >0.898699</td>\n",
       "                        <td id=\"T_ba2d0_row4_col2\" class=\"data row4 col2\" >0.891188</td>\n",
       "                        <td id=\"T_ba2d0_row4_col3\" class=\"data row4 col3\" >0.849719</td>\n",
       "                        <td id=\"T_ba2d0_row4_col4\" class=\"data row4 col4\" >6332.000000</td>\n",
       "            </tr>\n",
       "    </tbody></table>          <style  type=\"text/css\" >\n",
       "</style><table id=\"T_a02df_\" style='display:inline'><caption>gb_materials</caption><thead>    <tr>        <th class=\"blank level0\" ></th>        <th class=\"col_heading level0 col0\" >model</th>        <th class=\"col_heading level0 col1\" >precision</th>        <th class=\"col_heading level0 col2\" >recall</th>        <th class=\"col_heading level0 col3\" >f1-score</th>        <th class=\"col_heading level0 col4\" >support</th>    </tr></thead><tbody>\n",
       "                <tr>\n",
       "                        <th id=\"T_a02df_level0_row0\" class=\"row_heading level0 row0\" >0</th>\n",
       "                        <td id=\"T_a02df_row0_col0\" class=\"data row0 col0\" >gb</td>\n",
       "                        <td id=\"T_a02df_row0_col1\" class=\"data row0 col1\" >0.949056</td>\n",
       "                        <td id=\"T_a02df_row0_col2\" class=\"data row0 col2\" >0.775386</td>\n",
       "                        <td id=\"T_a02df_row0_col3\" class=\"data row0 col3\" >0.853476</td>\n",
       "                        <td id=\"T_a02df_row0_col4\" class=\"data row0 col4\" >5574.000000</td>\n",
       "            </tr>\n",
       "            <tr>\n",
       "                        <th id=\"T_a02df_level0_row1\" class=\"row_heading level0 row1\" >1</th>\n",
       "                        <td id=\"T_a02df_row1_col0\" class=\"data row1 col0\" >gb</td>\n",
       "                        <td id=\"T_a02df_row1_col1\" class=\"data row1 col1\" >0.295838</td>\n",
       "                        <td id=\"T_a02df_row1_col2\" class=\"data row1 col2\" >0.693931</td>\n",
       "                        <td id=\"T_a02df_row1_col3\" class=\"data row1 col3\" >0.414826</td>\n",
       "                        <td id=\"T_a02df_row1_col4\" class=\"data row1 col4\" >758.000000</td>\n",
       "            </tr>\n",
       "            <tr>\n",
       "                        <th id=\"T_a02df_level0_row2\" class=\"row_heading level0 row2\" >accuracy</th>\n",
       "                        <td id=\"T_a02df_row2_col0\" class=\"data row2 col0\" >gb</td>\n",
       "                        <td id=\"T_a02df_row2_col1\" class=\"data row2 col1\" >0.765635</td>\n",
       "                        <td id=\"T_a02df_row2_col2\" class=\"data row2 col2\" >0.765635</td>\n",
       "                        <td id=\"T_a02df_row2_col3\" class=\"data row2 col3\" >0.765635</td>\n",
       "                        <td id=\"T_a02df_row2_col4\" class=\"data row2 col4\" >0.765635</td>\n",
       "            </tr>\n",
       "            <tr>\n",
       "                        <th id=\"T_a02df_level0_row3\" class=\"row_heading level0 row3\" >macro avg</th>\n",
       "                        <td id=\"T_a02df_row3_col0\" class=\"data row3 col0\" >gb</td>\n",
       "                        <td id=\"T_a02df_row3_col1\" class=\"data row3 col1\" >0.622447</td>\n",
       "                        <td id=\"T_a02df_row3_col2\" class=\"data row3 col2\" >0.734659</td>\n",
       "                        <td id=\"T_a02df_row3_col3\" class=\"data row3 col3\" >0.634151</td>\n",
       "                        <td id=\"T_a02df_row3_col4\" class=\"data row3 col4\" >6332.000000</td>\n",
       "            </tr>\n",
       "            <tr>\n",
       "                        <th id=\"T_a02df_level0_row4\" class=\"row_heading level0 row4\" >weighted avg</th>\n",
       "                        <td id=\"T_a02df_row4_col0\" class=\"data row4 col0\" >gb</td>\n",
       "                        <td id=\"T_a02df_row4_col1\" class=\"data row4 col1\" >0.870859</td>\n",
       "                        <td id=\"T_a02df_row4_col2\" class=\"data row4 col2\" >0.765635</td>\n",
       "                        <td id=\"T_a02df_row4_col3\" class=\"data row4 col3\" >0.800965</td>\n",
       "                        <td id=\"T_a02df_row4_col4\" class=\"data row4 col4\" >6332.000000</td>\n",
       "            </tr>\n",
       "    </tbody></table>"
      ]
     },
     "metadata": {},
     "output_type": "display_data"
    },
    {
     "data": {
      "text/html": [
       "<style  type=\"text/css\" >\n",
       "</style><table id=\"T_01bfb_\" style='display:inline'><caption>mlp_materials</caption><thead>    <tr>        <th class=\"blank level0\" ></th>        <th class=\"col_heading level0 col0\" >model</th>        <th class=\"col_heading level0 col1\" >precision</th>        <th class=\"col_heading level0 col2\" >recall</th>        <th class=\"col_heading level0 col3\" >f1-score</th>        <th class=\"col_heading level0 col4\" >support</th>    </tr></thead><tbody>\n",
       "                <tr>\n",
       "                        <th id=\"T_01bfb_level0_row0\" class=\"row_heading level0 row0\" >0</th>\n",
       "                        <td id=\"T_01bfb_row0_col0\" class=\"data row0 col0\" >mlp</td>\n",
       "                        <td id=\"T_01bfb_row0_col1\" class=\"data row0 col1\" >0.931939</td>\n",
       "                        <td id=\"T_01bfb_row0_col2\" class=\"data row0 col2\" >0.847506</td>\n",
       "                        <td id=\"T_01bfb_row0_col3\" class=\"data row0 col3\" >0.887720</td>\n",
       "                        <td id=\"T_01bfb_row0_col4\" class=\"data row0 col4\" >5574.000000</td>\n",
       "            </tr>\n",
       "            <tr>\n",
       "                        <th id=\"T_01bfb_level0_row1\" class=\"row_heading level0 row1\" >1</th>\n",
       "                        <td id=\"T_01bfb_row1_col0\" class=\"data row1 col0\" >mlp</td>\n",
       "                        <td id=\"T_01bfb_row1_col1\" class=\"data row1 col1\" >0.326999</td>\n",
       "                        <td id=\"T_01bfb_row1_col2\" class=\"data row1 col2\" >0.544855</td>\n",
       "                        <td id=\"T_01bfb_row1_col3\" class=\"data row1 col3\" >0.408709</td>\n",
       "                        <td id=\"T_01bfb_row1_col4\" class=\"data row1 col4\" >758.000000</td>\n",
       "            </tr>\n",
       "            <tr>\n",
       "                        <th id=\"T_01bfb_level0_row2\" class=\"row_heading level0 row2\" >accuracy</th>\n",
       "                        <td id=\"T_01bfb_row2_col0\" class=\"data row2 col0\" >mlp</td>\n",
       "                        <td id=\"T_01bfb_row2_col1\" class=\"data row2 col1\" >0.811276</td>\n",
       "                        <td id=\"T_01bfb_row2_col2\" class=\"data row2 col2\" >0.811276</td>\n",
       "                        <td id=\"T_01bfb_row2_col3\" class=\"data row2 col3\" >0.811276</td>\n",
       "                        <td id=\"T_01bfb_row2_col4\" class=\"data row2 col4\" >0.811276</td>\n",
       "            </tr>\n",
       "            <tr>\n",
       "                        <th id=\"T_01bfb_level0_row3\" class=\"row_heading level0 row3\" >macro avg</th>\n",
       "                        <td id=\"T_01bfb_row3_col0\" class=\"data row3 col0\" >mlp</td>\n",
       "                        <td id=\"T_01bfb_row3_col1\" class=\"data row3 col1\" >0.629469</td>\n",
       "                        <td id=\"T_01bfb_row3_col2\" class=\"data row3 col2\" >0.696181</td>\n",
       "                        <td id=\"T_01bfb_row3_col3\" class=\"data row3 col3\" >0.648214</td>\n",
       "                        <td id=\"T_01bfb_row3_col4\" class=\"data row3 col4\" >6332.000000</td>\n",
       "            </tr>\n",
       "            <tr>\n",
       "                        <th id=\"T_01bfb_level0_row4\" class=\"row_heading level0 row4\" >weighted avg</th>\n",
       "                        <td id=\"T_01bfb_row4_col0\" class=\"data row4 col0\" >mlp</td>\n",
       "                        <td id=\"T_01bfb_row4_col1\" class=\"data row4 col1\" >0.859522</td>\n",
       "                        <td id=\"T_01bfb_row4_col2\" class=\"data row4 col2\" >0.811276</td>\n",
       "                        <td id=\"T_01bfb_row4_col3\" class=\"data row4 col3\" >0.830377</td>\n",
       "                        <td id=\"T_01bfb_row4_col4\" class=\"data row4 col4\" >6332.000000</td>\n",
       "            </tr>\n",
       "    </tbody></table>"
      ]
     },
     "metadata": {},
     "output_type": "display_data"
    }
   ],
   "source": [
    "dr.display_results(results, section='materials')"
   ]
  },
  {
   "cell_type": "code",
   "execution_count": 76,
   "metadata": {},
   "outputs": [
    {
     "data": {
      "text/html": [
       "<style  type=\"text/css\" >\n",
       "</style><table id=\"T_2fe0d_\" style='display:inline'><caption>knn_conclusion</caption><thead>    <tr>        <th class=\"blank level0\" ></th>        <th class=\"col_heading level0 col0\" >model</th>        <th class=\"col_heading level0 col1\" >precision</th>        <th class=\"col_heading level0 col2\" >recall</th>        <th class=\"col_heading level0 col3\" >f1-score</th>        <th class=\"col_heading level0 col4\" >support</th>    </tr></thead><tbody>\n",
       "                <tr>\n",
       "                        <th id=\"T_2fe0d_level0_row0\" class=\"row_heading level0 row0\" >0</th>\n",
       "                        <td id=\"T_2fe0d_row0_col0\" class=\"data row0 col0\" >knn</td>\n",
       "                        <td id=\"T_2fe0d_row0_col1\" class=\"data row0 col1\" >0.957848</td>\n",
       "                        <td id=\"T_2fe0d_row0_col2\" class=\"data row0 col2\" >0.788392</td>\n",
       "                        <td id=\"T_2fe0d_row0_col3\" class=\"data row0 col3\" >0.864898</td>\n",
       "                        <td id=\"T_2fe0d_row0_col4\" class=\"data row0 col4\" >10751.000000</td>\n",
       "            </tr>\n",
       "            <tr>\n",
       "                        <th id=\"T_2fe0d_level0_row1\" class=\"row_heading level0 row1\" >1</th>\n",
       "                        <td id=\"T_2fe0d_row1_col0\" class=\"data row1 col0\" >knn</td>\n",
       "                        <td id=\"T_2fe0d_row1_col1\" class=\"data row1 col1\" >0.167277</td>\n",
       "                        <td id=\"T_2fe0d_row1_col2\" class=\"data row1 col2\" >0.550602</td>\n",
       "                        <td id=\"T_2fe0d_row1_col3\" class=\"data row1 col3\" >0.256597</td>\n",
       "                        <td id=\"T_2fe0d_row1_col4\" class=\"data row1 col4\" >830.000000</td>\n",
       "            </tr>\n",
       "            <tr>\n",
       "                        <th id=\"T_2fe0d_level0_row2\" class=\"row_heading level0 row2\" >accuracy</th>\n",
       "                        <td id=\"T_2fe0d_row2_col0\" class=\"data row2 col0\" >knn</td>\n",
       "                        <td id=\"T_2fe0d_row2_col1\" class=\"data row2 col1\" >0.771350</td>\n",
       "                        <td id=\"T_2fe0d_row2_col2\" class=\"data row2 col2\" >0.771350</td>\n",
       "                        <td id=\"T_2fe0d_row2_col3\" class=\"data row2 col3\" >0.771350</td>\n",
       "                        <td id=\"T_2fe0d_row2_col4\" class=\"data row2 col4\" >0.771350</td>\n",
       "            </tr>\n",
       "            <tr>\n",
       "                        <th id=\"T_2fe0d_level0_row3\" class=\"row_heading level0 row3\" >macro avg</th>\n",
       "                        <td id=\"T_2fe0d_row3_col0\" class=\"data row3 col0\" >knn</td>\n",
       "                        <td id=\"T_2fe0d_row3_col1\" class=\"data row3 col1\" >0.562563</td>\n",
       "                        <td id=\"T_2fe0d_row3_col2\" class=\"data row3 col2\" >0.669497</td>\n",
       "                        <td id=\"T_2fe0d_row3_col3\" class=\"data row3 col3\" >0.560748</td>\n",
       "                        <td id=\"T_2fe0d_row3_col4\" class=\"data row3 col4\" >11581.000000</td>\n",
       "            </tr>\n",
       "            <tr>\n",
       "                        <th id=\"T_2fe0d_level0_row4\" class=\"row_heading level0 row4\" >weighted avg</th>\n",
       "                        <td id=\"T_2fe0d_row4_col0\" class=\"data row4 col0\" >knn</td>\n",
       "                        <td id=\"T_2fe0d_row4_col1\" class=\"data row4 col1\" >0.901189</td>\n",
       "                        <td id=\"T_2fe0d_row4_col2\" class=\"data row4 col2\" >0.771350</td>\n",
       "                        <td id=\"T_2fe0d_row4_col3\" class=\"data row4 col3\" >0.821302</td>\n",
       "                        <td id=\"T_2fe0d_row4_col4\" class=\"data row4 col4\" >11581.000000</td>\n",
       "            </tr>\n",
       "    </tbody></table>          <style  type=\"text/css\" >\n",
       "</style><table id=\"T_978fc_\" style='display:inline'><caption>ab_conclusion</caption><thead>    <tr>        <th class=\"blank level0\" ></th>        <th class=\"col_heading level0 col0\" >model</th>        <th class=\"col_heading level0 col1\" >precision</th>        <th class=\"col_heading level0 col2\" >recall</th>        <th class=\"col_heading level0 col3\" >f1-score</th>        <th class=\"col_heading level0 col4\" >support</th>    </tr></thead><tbody>\n",
       "                <tr>\n",
       "                        <th id=\"T_978fc_level0_row0\" class=\"row_heading level0 row0\" >0</th>\n",
       "                        <td id=\"T_978fc_row0_col0\" class=\"data row0 col0\" >ab</td>\n",
       "                        <td id=\"T_978fc_row0_col1\" class=\"data row0 col1\" >0.963224</td>\n",
       "                        <td id=\"T_978fc_row0_col2\" class=\"data row0 col2\" >0.750349</td>\n",
       "                        <td id=\"T_978fc_row0_col3\" class=\"data row0 col3\" >0.843564</td>\n",
       "                        <td id=\"T_978fc_row0_col4\" class=\"data row0 col4\" >10751.000000</td>\n",
       "            </tr>\n",
       "            <tr>\n",
       "                        <th id=\"T_978fc_level0_row1\" class=\"row_heading level0 row1\" >1</th>\n",
       "                        <td id=\"T_978fc_row1_col0\" class=\"data row1 col0\" >ab</td>\n",
       "                        <td id=\"T_978fc_row1_col1\" class=\"data row1 col1\" >0.162820</td>\n",
       "                        <td id=\"T_978fc_row1_col2\" class=\"data row1 col2\" >0.628916</td>\n",
       "                        <td id=\"T_978fc_row1_col3\" class=\"data row1 col3\" >0.258672</td>\n",
       "                        <td id=\"T_978fc_row1_col4\" class=\"data row1 col4\" >830.000000</td>\n",
       "            </tr>\n",
       "            <tr>\n",
       "                        <th id=\"T_978fc_level0_row2\" class=\"row_heading level0 row2\" >accuracy</th>\n",
       "                        <td id=\"T_978fc_row2_col0\" class=\"data row2 col0\" >ab</td>\n",
       "                        <td id=\"T_978fc_row2_col1\" class=\"data row2 col1\" >0.741646</td>\n",
       "                        <td id=\"T_978fc_row2_col2\" class=\"data row2 col2\" >0.741646</td>\n",
       "                        <td id=\"T_978fc_row2_col3\" class=\"data row2 col3\" >0.741646</td>\n",
       "                        <td id=\"T_978fc_row2_col4\" class=\"data row2 col4\" >0.741646</td>\n",
       "            </tr>\n",
       "            <tr>\n",
       "                        <th id=\"T_978fc_level0_row3\" class=\"row_heading level0 row3\" >macro avg</th>\n",
       "                        <td id=\"T_978fc_row3_col0\" class=\"data row3 col0\" >ab</td>\n",
       "                        <td id=\"T_978fc_row3_col1\" class=\"data row3 col1\" >0.563022</td>\n",
       "                        <td id=\"T_978fc_row3_col2\" class=\"data row3 col2\" >0.689632</td>\n",
       "                        <td id=\"T_978fc_row3_col3\" class=\"data row3 col3\" >0.551118</td>\n",
       "                        <td id=\"T_978fc_row3_col4\" class=\"data row3 col4\" >11581.000000</td>\n",
       "            </tr>\n",
       "            <tr>\n",
       "                        <th id=\"T_978fc_level0_row4\" class=\"row_heading level0 row4\" >weighted avg</th>\n",
       "                        <td id=\"T_978fc_row4_col0\" class=\"data row4 col0\" >ab</td>\n",
       "                        <td id=\"T_978fc_row4_col1\" class=\"data row4 col1\" >0.905860</td>\n",
       "                        <td id=\"T_978fc_row4_col2\" class=\"data row4 col2\" >0.741646</td>\n",
       "                        <td id=\"T_978fc_row4_col3\" class=\"data row4 col3\" >0.801645</td>\n",
       "                        <td id=\"T_978fc_row4_col4\" class=\"data row4 col4\" >11581.000000</td>\n",
       "            </tr>\n",
       "    </tbody></table>"
      ]
     },
     "metadata": {},
     "output_type": "display_data"
    },
    {
     "data": {
      "text/html": [
       "<style  type=\"text/css\" >\n",
       "</style><table id=\"T_d2b79_\" style='display:inline'><caption>rf_conclusion</caption><thead>    <tr>        <th class=\"blank level0\" ></th>        <th class=\"col_heading level0 col0\" >model</th>        <th class=\"col_heading level0 col1\" >precision</th>        <th class=\"col_heading level0 col2\" >recall</th>        <th class=\"col_heading level0 col3\" >f1-score</th>        <th class=\"col_heading level0 col4\" >support</th>    </tr></thead><tbody>\n",
       "                <tr>\n",
       "                        <th id=\"T_d2b79_level0_row0\" class=\"row_heading level0 row0\" >0</th>\n",
       "                        <td id=\"T_d2b79_row0_col0\" class=\"data row0 col0\" >rf</td>\n",
       "                        <td id=\"T_d2b79_row0_col1\" class=\"data row0 col1\" >0.931444</td>\n",
       "                        <td id=\"T_d2b79_row0_col2\" class=\"data row0 col2\" >0.999628</td>\n",
       "                        <td id=\"T_d2b79_row0_col3\" class=\"data row0 col3\" >0.964332</td>\n",
       "                        <td id=\"T_d2b79_row0_col4\" class=\"data row0 col4\" >10751.000000</td>\n",
       "            </tr>\n",
       "            <tr>\n",
       "                        <th id=\"T_d2b79_level0_row1\" class=\"row_heading level0 row1\" >1</th>\n",
       "                        <td id=\"T_d2b79_row1_col0\" class=\"data row1 col0\" >rf</td>\n",
       "                        <td id=\"T_d2b79_row1_col1\" class=\"data row1 col1\" >0.906977</td>\n",
       "                        <td id=\"T_d2b79_row1_col2\" class=\"data row1 col2\" >0.046988</td>\n",
       "                        <td id=\"T_d2b79_row1_col3\" class=\"data row1 col3\" >0.089347</td>\n",
       "                        <td id=\"T_d2b79_row1_col4\" class=\"data row1 col4\" >830.000000</td>\n",
       "            </tr>\n",
       "            <tr>\n",
       "                        <th id=\"T_d2b79_level0_row2\" class=\"row_heading level0 row2\" >accuracy</th>\n",
       "                        <td id=\"T_d2b79_row2_col0\" class=\"data row2 col0\" >rf</td>\n",
       "                        <td id=\"T_d2b79_row2_col1\" class=\"data row2 col1\" >0.931353</td>\n",
       "                        <td id=\"T_d2b79_row2_col2\" class=\"data row2 col2\" >0.931353</td>\n",
       "                        <td id=\"T_d2b79_row2_col3\" class=\"data row2 col3\" >0.931353</td>\n",
       "                        <td id=\"T_d2b79_row2_col4\" class=\"data row2 col4\" >0.931353</td>\n",
       "            </tr>\n",
       "            <tr>\n",
       "                        <th id=\"T_d2b79_level0_row3\" class=\"row_heading level0 row3\" >macro avg</th>\n",
       "                        <td id=\"T_d2b79_row3_col0\" class=\"data row3 col0\" >rf</td>\n",
       "                        <td id=\"T_d2b79_row3_col1\" class=\"data row3 col1\" >0.919210</td>\n",
       "                        <td id=\"T_d2b79_row3_col2\" class=\"data row3 col2\" >0.523308</td>\n",
       "                        <td id=\"T_d2b79_row3_col3\" class=\"data row3 col3\" >0.526840</td>\n",
       "                        <td id=\"T_d2b79_row3_col4\" class=\"data row3 col4\" >11581.000000</td>\n",
       "            </tr>\n",
       "            <tr>\n",
       "                        <th id=\"T_d2b79_level0_row4\" class=\"row_heading level0 row4\" >weighted avg</th>\n",
       "                        <td id=\"T_d2b79_row4_col0\" class=\"data row4 col0\" >rf</td>\n",
       "                        <td id=\"T_d2b79_row4_col1\" class=\"data row4 col1\" >0.929690</td>\n",
       "                        <td id=\"T_d2b79_row4_col2\" class=\"data row4 col2\" >0.931353</td>\n",
       "                        <td id=\"T_d2b79_row4_col3\" class=\"data row4 col3\" >0.901623</td>\n",
       "                        <td id=\"T_d2b79_row4_col4\" class=\"data row4 col4\" >11581.000000</td>\n",
       "            </tr>\n",
       "    </tbody></table>          <style  type=\"text/css\" >\n",
       "</style><table id=\"T_2132d_\" style='display:inline'><caption>gb_conclusion</caption><thead>    <tr>        <th class=\"blank level0\" ></th>        <th class=\"col_heading level0 col0\" >model</th>        <th class=\"col_heading level0 col1\" >precision</th>        <th class=\"col_heading level0 col2\" >recall</th>        <th class=\"col_heading level0 col3\" >f1-score</th>        <th class=\"col_heading level0 col4\" >support</th>    </tr></thead><tbody>\n",
       "                <tr>\n",
       "                        <th id=\"T_2132d_level0_row0\" class=\"row_heading level0 row0\" >0</th>\n",
       "                        <td id=\"T_2132d_row0_col0\" class=\"data row0 col0\" >gb</td>\n",
       "                        <td id=\"T_2132d_row0_col1\" class=\"data row0 col1\" >0.965276</td>\n",
       "                        <td id=\"T_2132d_row0_col2\" class=\"data row0 col2\" >0.744675</td>\n",
       "                        <td id=\"T_2132d_row0_col3\" class=\"data row0 col3\" >0.840746</td>\n",
       "                        <td id=\"T_2132d_row0_col4\" class=\"data row0 col4\" >10751.000000</td>\n",
       "            </tr>\n",
       "            <tr>\n",
       "                        <th id=\"T_2132d_level0_row1\" class=\"row_heading level0 row1\" >1</th>\n",
       "                        <td id=\"T_2132d_row1_col0\" class=\"data row1 col0\" >gb</td>\n",
       "                        <td id=\"T_2132d_row1_col1\" class=\"data row1 col1\" >0.164892</td>\n",
       "                        <td id=\"T_2132d_row1_col2\" class=\"data row1 col2\" >0.653012</td>\n",
       "                        <td id=\"T_2132d_row1_col3\" class=\"data row1 col3\" >0.263299</td>\n",
       "                        <td id=\"T_2132d_row1_col4\" class=\"data row1 col4\" >830.000000</td>\n",
       "            </tr>\n",
       "            <tr>\n",
       "                        <th id=\"T_2132d_level0_row2\" class=\"row_heading level0 row2\" >accuracy</th>\n",
       "                        <td id=\"T_2132d_row2_col0\" class=\"data row2 col0\" >gb</td>\n",
       "                        <td id=\"T_2132d_row2_col1\" class=\"data row2 col1\" >0.738106</td>\n",
       "                        <td id=\"T_2132d_row2_col2\" class=\"data row2 col2\" >0.738106</td>\n",
       "                        <td id=\"T_2132d_row2_col3\" class=\"data row2 col3\" >0.738106</td>\n",
       "                        <td id=\"T_2132d_row2_col4\" class=\"data row2 col4\" >0.738106</td>\n",
       "            </tr>\n",
       "            <tr>\n",
       "                        <th id=\"T_2132d_level0_row3\" class=\"row_heading level0 row3\" >macro avg</th>\n",
       "                        <td id=\"T_2132d_row3_col0\" class=\"data row3 col0\" >gb</td>\n",
       "                        <td id=\"T_2132d_row3_col1\" class=\"data row3 col1\" >0.565084</td>\n",
       "                        <td id=\"T_2132d_row3_col2\" class=\"data row3 col2\" >0.698843</td>\n",
       "                        <td id=\"T_2132d_row3_col3\" class=\"data row3 col3\" >0.552022</td>\n",
       "                        <td id=\"T_2132d_row3_col4\" class=\"data row3 col4\" >11581.000000</td>\n",
       "            </tr>\n",
       "            <tr>\n",
       "                        <th id=\"T_2132d_level0_row4\" class=\"row_heading level0 row4\" >weighted avg</th>\n",
       "                        <td id=\"T_2132d_row4_col0\" class=\"data row4 col0\" >gb</td>\n",
       "                        <td id=\"T_2132d_row4_col1\" class=\"data row4 col1\" >0.907913</td>\n",
       "                        <td id=\"T_2132d_row4_col2\" class=\"data row4 col2\" >0.738106</td>\n",
       "                        <td id=\"T_2132d_row4_col3\" class=\"data row4 col3\" >0.799360</td>\n",
       "                        <td id=\"T_2132d_row4_col4\" class=\"data row4 col4\" >11581.000000</td>\n",
       "            </tr>\n",
       "    </tbody></table>"
      ]
     },
     "metadata": {},
     "output_type": "display_data"
    },
    {
     "data": {
      "text/html": [
       "<style  type=\"text/css\" >\n",
       "</style><table id=\"T_65718_\" style='display:inline'><caption>mlp_conclusion</caption><thead>    <tr>        <th class=\"blank level0\" ></th>        <th class=\"col_heading level0 col0\" >model</th>        <th class=\"col_heading level0 col1\" >precision</th>        <th class=\"col_heading level0 col2\" >recall</th>        <th class=\"col_heading level0 col3\" >f1-score</th>        <th class=\"col_heading level0 col4\" >support</th>    </tr></thead><tbody>\n",
       "                <tr>\n",
       "                        <th id=\"T_65718_level0_row0\" class=\"row_heading level0 row0\" >0</th>\n",
       "                        <td id=\"T_65718_row0_col0\" class=\"data row0 col0\" >mlp</td>\n",
       "                        <td id=\"T_65718_row0_col1\" class=\"data row0 col1\" >0.956782</td>\n",
       "                        <td id=\"T_65718_row0_col2\" class=\"data row0 col2\" >0.654823</td>\n",
       "                        <td id=\"T_65718_row0_col3\" class=\"data row0 col3\" >0.777514</td>\n",
       "                        <td id=\"T_65718_row0_col4\" class=\"data row0 col4\" >10751.000000</td>\n",
       "            </tr>\n",
       "            <tr>\n",
       "                        <th id=\"T_65718_level0_row1\" class=\"row_heading level0 row1\" >1</th>\n",
       "                        <td id=\"T_65718_row1_col0\" class=\"data row1 col0\" >mlp</td>\n",
       "                        <td id=\"T_65718_row1_col1\" class=\"data row1 col1\" >0.121241</td>\n",
       "                        <td id=\"T_65718_row1_col2\" class=\"data row1 col2\" >0.616867</td>\n",
       "                        <td id=\"T_65718_row1_col3\" class=\"data row1 col3\" >0.202652</td>\n",
       "                        <td id=\"T_65718_row1_col4\" class=\"data row1 col4\" >830.000000</td>\n",
       "            </tr>\n",
       "            <tr>\n",
       "                        <th id=\"T_65718_level0_row2\" class=\"row_heading level0 row2\" >accuracy</th>\n",
       "                        <td id=\"T_65718_row2_col0\" class=\"data row2 col0\" >mlp</td>\n",
       "                        <td id=\"T_65718_row2_col1\" class=\"data row2 col1\" >0.652103</td>\n",
       "                        <td id=\"T_65718_row2_col2\" class=\"data row2 col2\" >0.652103</td>\n",
       "                        <td id=\"T_65718_row2_col3\" class=\"data row2 col3\" >0.652103</td>\n",
       "                        <td id=\"T_65718_row2_col4\" class=\"data row2 col4\" >0.652103</td>\n",
       "            </tr>\n",
       "            <tr>\n",
       "                        <th id=\"T_65718_level0_row3\" class=\"row_heading level0 row3\" >macro avg</th>\n",
       "                        <td id=\"T_65718_row3_col0\" class=\"data row3 col0\" >mlp</td>\n",
       "                        <td id=\"T_65718_row3_col1\" class=\"data row3 col1\" >0.539011</td>\n",
       "                        <td id=\"T_65718_row3_col2\" class=\"data row3 col2\" >0.635845</td>\n",
       "                        <td id=\"T_65718_row3_col3\" class=\"data row3 col3\" >0.490083</td>\n",
       "                        <td id=\"T_65718_row3_col4\" class=\"data row3 col4\" >11581.000000</td>\n",
       "            </tr>\n",
       "            <tr>\n",
       "                        <th id=\"T_65718_level0_row4\" class=\"row_heading level0 row4\" >weighted avg</th>\n",
       "                        <td id=\"T_65718_row4_col0\" class=\"data row4 col0\" >mlp</td>\n",
       "                        <td id=\"T_65718_row4_col1\" class=\"data row4 col1\" >0.896899</td>\n",
       "                        <td id=\"T_65718_row4_col2\" class=\"data row4 col2\" >0.652103</td>\n",
       "                        <td id=\"T_65718_row4_col3\" class=\"data row4 col3\" >0.736314</td>\n",
       "                        <td id=\"T_65718_row4_col4\" class=\"data row4 col4\" >11581.000000</td>\n",
       "            </tr>\n",
       "    </tbody></table>"
      ]
     },
     "metadata": {},
     "output_type": "display_data"
    }
   ],
   "source": [
    "dr.display_results(results, section='conclusion')"
   ]
  },
  {
   "cell_type": "markdown",
   "metadata": {},
   "source": [
    "# Matthews Correlation"
   ]
  },
  {
   "cell_type": "code",
   "execution_count": 61,
   "metadata": {},
   "outputs": [
    {
     "data": {
      "text/html": [
       "<div>\n",
       "<style scoped>\n",
       "    .dataframe tbody tr th:only-of-type {\n",
       "        vertical-align: middle;\n",
       "    }\n",
       "\n",
       "    .dataframe tbody tr th {\n",
       "        vertical-align: top;\n",
       "    }\n",
       "\n",
       "    .dataframe thead th {\n",
       "        text-align: right;\n",
       "    }\n",
       "</style>\n",
       "<table border=\"1\" class=\"dataframe\">\n",
       "  <thead>\n",
       "    <tr style=\"text-align: right;\">\n",
       "      <th></th>\n",
       "      <th>introduction</th>\n",
       "      <th>materials</th>\n",
       "      <th>conclusion</th>\n",
       "    </tr>\n",
       "  </thead>\n",
       "  <tbody>\n",
       "    <tr>\n",
       "      <th>knn</th>\n",
       "      <td>0.253733</td>\n",
       "      <td>0.283595</td>\n",
       "      <td>0.205953</td>\n",
       "    </tr>\n",
       "    <tr>\n",
       "      <th>rf</th>\n",
       "      <td>0.069668</td>\n",
       "      <td>0.312570</td>\n",
       "      <td>0.203416</td>\n",
       "    </tr>\n",
       "    <tr>\n",
       "      <th>ab</th>\n",
       "      <td>0.281650</td>\n",
       "      <td>0.327624</td>\n",
       "      <td>0.218641</td>\n",
       "    </tr>\n",
       "    <tr>\n",
       "      <th>gb</th>\n",
       "      <td>0.282994</td>\n",
       "      <td>0.339017</td>\n",
       "      <td>0.227522</td>\n",
       "    </tr>\n",
       "    <tr>\n",
       "      <th>mlp</th>\n",
       "      <td>0.244363</td>\n",
       "      <td>0.318743</td>\n",
       "      <td>0.145595</td>\n",
       "    </tr>\n",
       "  </tbody>\n",
       "</table>\n",
       "</div>"
      ],
      "text/plain": [
       "     introduction  materials  conclusion\n",
       "knn      0.253733   0.283595    0.205953\n",
       "rf       0.069668   0.312570    0.203416\n",
       "ab       0.281650   0.327624    0.218641\n",
       "gb       0.282994   0.339017    0.227522\n",
       "mlp      0.244363   0.318743    0.145595"
      ]
     },
     "execution_count": 61,
     "metadata": {},
     "output_type": "execute_result"
    }
   ],
   "source": [
    "df = ev.matthews(sections, dataset, predictions, name_models)\n",
    "df"
   ]
  },
  {
   "cell_type": "markdown",
   "metadata": {},
   "source": [
    "# ROC"
   ]
  },
  {
   "cell_type": "code",
   "execution_count": 71,
   "metadata": {},
   "outputs": [
    {
     "data": {
      "image/png": "[encoded data removed]",
      "text/plain": [
       "<Figure size 432x288 with 1 Axes>"
      ]
     },
     "metadata": {
      "needs_background": "light"
     },
     "output_type": "display_data"
    },
    {
     "data": {
      "image/png": "[encoded data removed]",
      "text/plain": [
       "<Figure size 432x288 with 1 Axes>"
      ]
     },
     "metadata": {
      "needs_background": "light"
     },
     "output_type": "display_data"
    },
    {
     "data": {
      "image/png": "[encoded data removed]",
      "text/plain": [
       "<Figure size 432x288 with 1 Axes>"
      ]
     },
     "metadata": {
      "needs_background": "light"
     },
     "output_type": "display_data"
    }
   ],
   "source": [
    "ev.roc_curve(sections, dataset, models)"
   ]
  },
  {
   "cell_type": "code",
   "execution_count": 91,
   "metadata": {},
   "outputs": [],
   "source": [
    "import numpy as np\n",
    "from sklearn.ensemble import VotingClassifier\n",
    "\n",
    "from sklearn.tree import DecisionTreeClassifier\n",
    "\n",
    "n_estimators = 300\n",
    "estimators = []\n",
    "\n",
    "for i in range(300):\n",
    "    \n",
    "    rf =  DecisionTreeClassifier(\n",
    "        max_depth=10, splitter='best', min_samples_split=200,\n",
    "        min_samples_leaf= 100, class_weight={0:0.98,1:0.02})\n",
    "    \n",
    "    estimators.append(('rf_' + str(i), rf))\n",
    "\n",
    "\n",
    "model = VotingClassifier(estimators, voting='hard')\n",
    "model = model.fit(dataset['introduction'][0], dataset['introduction'][2])\n",
    "predictions = model.predict(dataset['introduction'][1])\n"
   ]
  },
  {
   "cell_type": "code",
   "execution_count": 105,
   "metadata": {},
   "outputs": [
    {
     "ename": "TypeError",
     "evalue": "unsupported operand type(s) for +: 'int' and 'str'",
     "output_type": "error",
     "traceback": [
      "\u001b[0;31m---------------------------------------------------------------------------\u001b[0m",
      "\u001b[0;31mTypeError\u001b[0m                                 Traceback (most recent call last)",
      "\u001b[0;32m/tmp/ipykernel_31359/3324832267.py\u001b[0m in \u001b[0;36m<module>\u001b[0;34m\u001b[0m\n\u001b[0;32m----> 1\u001b[0;31m \u001b[0msum\u001b[0m\u001b[0;34m(\u001b[0m\u001b[0mpredictions\u001b[0m\u001b[0;34m)\u001b[0m\u001b[0;34m\u001b[0m\u001b[0;34m\u001b[0m\u001b[0m\n\u001b[0m",
      "\u001b[0;31mTypeError\u001b[0m: unsupported operand type(s) for +: 'int' and 'str'"
     ]
    }
   ],
   "source": [
    "sum(predictions)"
   ]
  }
 ],
 "metadata": {
  "interpreter": {
   "hash": "5dd7fce1a8cb8d97b2536bbe54fd7faa274378c3acb961864d5bd989f2d52777"
  },
  "kernelspec": {
   "display_name": "Python 3",
   "language": "python",
   "name": "python3"
  },
  "language_info": {
   "codemirror_mode": {
    "name": "ipython",
    "version": 3
   },
   "file_extension": ".py",
   "mimetype": "text/x-python",
   "name": "python",
   "nbconvert_exporter": "python",
   "pygments_lexer": "ipython3",
   "version": "3.8.8"
  }
 },
 "nbformat": 4,
 "nbformat_minor": 4
}
