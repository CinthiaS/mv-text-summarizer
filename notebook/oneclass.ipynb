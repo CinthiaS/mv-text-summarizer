{
 "cells": [
  {
   "cell_type": "code",
   "execution_count": 34,
   "id": "496beb33",
   "metadata": {},
   "outputs": [],
   "source": [
    "import sys\n",
    "sys.path.insert(1, '/scratch/cinthiasouza/mv-text-summarizer')\n",
    "\n",
    "import glob, os\n",
    "import pandas as pd\n",
    "import json\n",
    "import spacy\n",
    "import nltk\n",
    "import numpy as np\n",
    "import json\n",
    "#import smogn\n",
    "import seaborn as sns\n",
    "import pickle\n",
    "\n",
    "\n",
    "from sklearn.datasets import make_classification\n",
    "from sklearn.model_selection import train_test_split\n",
    "from sklearn.metrics import f1_score,classification_report\n",
    "from sklearn.svm import OneClassSVM\n",
    "from sklearn.ensemble import IsolationForest\n",
    "from src import utils_classification as utils\n",
    "from sklearn.metrics import matthews_corrcoef\n",
    "from sklearn.covariance import EllipticEnvelope\n",
    "\n",
    "from sklearn.metrics import confusion_matrix\n",
    "from sklearn.metrics import plot_confusion_matrix\n",
    "import matplotlib.pyplot as plt\n",
    "\n",
    "from multiprocessing import Process, Queue"
   ]
  },
  {
   "cell_type": "code",
   "execution_count": 3,
   "id": "971b842a",
   "metadata": {},
   "outputs": [],
   "source": [
    "with open('dataset2.p', 'rb') as fp:\n",
    "    dataset = pickle.load(fp)"
   ]
  },
  {
   "cell_type": "code",
   "execution_count": 14,
   "id": "1be939c6",
   "metadata": {},
   "outputs": [],
   "source": [
    "def oneclass_svm(X_train):\n",
    "    \n",
    "    svm = OneClassSVM(gamma='scale', kernel='rbf', nu=0.67)\n",
    "    svm.fit(X_train)\n",
    "    \n",
    "    return svm"
   ]
  },
  {
   "cell_type": "code",
   "execution_count": 16,
   "id": "27812786",
   "metadata": {},
   "outputs": [],
   "source": [
    "def oneclass_rf(X_train):\n",
    "    \n",
    "    rf = IsolationForest(n_estimators=1000, contamination=0.67,warm_start=True, n_jobs=-1)\n",
    "    rf.fit(X_train)\n",
    "    \n",
    "    return rf"
   ]
  },
  {
   "cell_type": "code",
   "execution_count": 38,
   "id": "51dbb31c",
   "metadata": {},
   "outputs": [],
   "source": [
    "def train(dataset, name_models, sections, train_class=1):\n",
    "    \n",
    "    models = {}\n",
    "    for section in sections:\n",
    "        \n",
    "        X_train = dataset[section][0].copy()\n",
    "        y_train = dataset[section][2].copy()\n",
    "        \n",
    "        if train_class != 'all':\n",
    "            X_train = X_train[y_train==train_class]\n",
    "        else:\n",
    "            X_train = X_train\n",
    "        \n",
    "        aux = {}\n",
    "        for name_model in name_models:\n",
    "        \n",
    "            if name_model == \"svm\":\n",
    "                aux['svm'] = oneclass_svm(X_train)\n",
    "            \n",
    "            if name_model == \"rf\":\n",
    "                aux['rf'] = oneclass_rf(X_train)\n",
    "                \n",
    "        models[section] = aux\n",
    "        \n",
    "    return models\n",
    "        \n",
    "def predict(dataset, models, name_models, sections):\n",
    "\n",
    "    \n",
    "    results= {}\n",
    "    predictions = {}\n",
    "    cm = {}\n",
    "    \n",
    "    for section in sections:\n",
    "        \n",
    "        X_test = dataset[section][1].copy()\n",
    "        y_test = dataset[section][3].copy()\n",
    "\n",
    "        y_test[y_test == 1] = 1\n",
    "        y_test[y_test == 0] = -1\n",
    "        \n",
    "        aux_results = {}\n",
    "        aux_predictions = {}\n",
    "        aux_cm = {}\n",
    "        \n",
    "        for name_model in name_models:\n",
    "            \n",
    "            aux_predictions[name_model] = models[section][name_model].predict(X_test)\n",
    "            \n",
    "            aux_results[name_model] = classification_report(y_test, aux_predictions[name_model],  labels=[-1, 1])\n",
    "            \n",
    "            aux_cm[name_model] = [confusion_matrix(y_test, aux_predictions[name_model]).ravel()]\n",
    "    \n",
    "        predictions[section] = aux_predictions\n",
    "        results[section] = aux_results\n",
    "        cm[section] = aux_cm\n",
    "    \n",
    "    return predictions, results, cm"
   ]
  },
  {
   "cell_type": "code",
   "execution_count": 30,
   "id": "44ce7c86",
   "metadata": {},
   "outputs": [],
   "source": [
    "models = train(dataset, name_models, sections, train_class=1) "
   ]
  },
  {
   "cell_type": "code",
   "execution_count": 39,
   "id": "fc1fc230",
   "metadata": {},
   "outputs": [],
   "source": [
    "predictions, results, cm = predict(dataset, models, name_models, sections)"
   ]
  },
  {
   "cell_type": "code",
   "execution_count": 41,
   "id": "218fbbf4",
   "metadata": {},
   "outputs": [
    {
     "data": {
      "text/plain": [
       "{'introduction': {'rf': '              precision    recall  f1-score   support\\n\\n          -1       0.82      0.58      0.68      4482\\n           1       0.13      0.34      0.19       846\\n\\n    accuracy                           0.54      5328\\n   macro avg       0.48      0.46      0.43      5328\\nweighted avg       0.71      0.54      0.60      5328\\n',\n",
       "  'svm': '              precision    recall  f1-score   support\\n\\n          -1       0.82      0.59      0.68      4482\\n           1       0.13      0.33      0.19       846\\n\\n    accuracy                           0.54      5328\\n   macro avg       0.48      0.46      0.44      5328\\nweighted avg       0.71      0.54      0.60      5328\\n'},\n",
       " 'materials': {'rf': '              precision    recall  f1-score   support\\n\\n          -1       0.87      0.60      0.71      5574\\n           1       0.11      0.36      0.17       758\\n\\n    accuracy                           0.57      6332\\n   macro avg       0.49      0.48      0.44      6332\\nweighted avg       0.78      0.57      0.64      6332\\n',\n",
       "  'svm': '              precision    recall  f1-score   support\\n\\n          -1       0.88      0.63      0.74      5574\\n           1       0.12      0.37      0.18       758\\n\\n    accuracy                           0.60      6332\\n   macro avg       0.50      0.50      0.46      6332\\nweighted avg       0.79      0.60      0.67      6332\\n'},\n",
       " 'concat': {'rf': '              precision    recall  f1-score   support\\n\\n          -1       0.89      0.63      0.74     20807\\n           1       0.10      0.35      0.16      2434\\n\\n    accuracy                           0.60     23241\\n   macro avg       0.50      0.49      0.45     23241\\nweighted avg       0.81      0.60      0.68     23241\\n',\n",
       "  'svm': '              precision    recall  f1-score   support\\n\\n          -1       0.90      0.64      0.74     20807\\n           1       0.11      0.37      0.16      2434\\n\\n    accuracy                           0.61     23241\\n   macro avg       0.50      0.50      0.45     23241\\nweighted avg       0.81      0.61      0.68     23241\\n'}}"
      ]
     },
     "execution_count": 41,
     "metadata": {},
     "output_type": "execute_result"
    }
   ],
   "source": [
    "results"
   ]
  },
  {
   "cell_type": "code",
   "execution_count": 40,
   "id": "807bca28",
   "metadata": {},
   "outputs": [
    {
     "data": {
      "text/plain": [
       "{'introduction': {'rf': [array([2589, 1893,  557,  289])],\n",
       "  'svm': [array([2622, 1860,  567,  279])]},\n",
       " 'materials': {'rf': [array([3324, 2250,  485,  273])],\n",
       "  'svm': [array([3531, 2043,  478,  280])]},\n",
       " 'concat': {'rf': [array([13150,  7657,  1578,   856])],\n",
       "  'svm': [array([13263,  7544,  1539,   895])]}}"
      ]
     },
     "execution_count": 40,
     "metadata": {},
     "output_type": "execute_result"
    }
   ],
   "source": [
    "tn, fp, fn, tp"
   ]
  },
  {
   "cell_type": "code",
   "execution_count": 31,
   "id": "39d5e21f",
   "metadata": {},
   "outputs": [
    {
     "data": {
      "text/plain": [
       "{'introduction': {'rf': IsolationForest(contamination=0.67, n_estimators=1000, n_jobs=-1,\n",
       "                  warm_start=True),\n",
       "  'svm': OneClassSVM(nu=0.67)},\n",
       " 'materials': {'rf': IsolationForest(contamination=0.67, n_estimators=1000, n_jobs=-1,\n",
       "                  warm_start=True),\n",
       "  'svm': OneClassSVM(nu=0.67)},\n",
       " 'concat': {'rf': IsolationForest(contamination=0.67, n_estimators=1000, n_jobs=-1,\n",
       "                  warm_start=True),\n",
       "  'svm': OneClassSVM(nu=0.67)}}"
      ]
     },
     "execution_count": 31,
     "metadata": {},
     "output_type": "execute_result"
    }
   ],
   "source": [
    "models"
   ]
  },
  {
   "cell_type": "code",
   "execution_count": 26,
   "id": "f3453554",
   "metadata": {},
   "outputs": [
    {
     "name": "stderr",
     "output_type": "stream",
     "text": [
      "Process Process-5:\n",
      "Traceback (most recent call last):\n",
      "  File \"/scratch/cinthiasouza/anaconda3/lib/python3.8/multiprocessing/process.py\", line 315, in _bootstrap\n",
      "    self.run()\n",
      "  File \"/scratch/cinthiasouza/anaconda3/lib/python3.8/multiprocessing/process.py\", line 108, in run\n",
      "    self._target(*self._args, **self._kwargs)\n",
      "  File \"/tmp/ipykernel_7930/754197088.py\", line 48, in predict\n",
      "    aux_predictions[name_model] = models[section][name_model].predict(X_test)\n",
      "TypeError: 'Process' object is not subscriptable\n"
     ]
    }
   ],
   "source": [
    "name_models = ['rf', 'svm']\n",
    "sections = ['introduction', 'materials', 'concat']\n",
    "\n",
    "l2 = Queue()\n",
    "p2 = Process(\n",
    "    target=predict, args=(\n",
    "         dataset, models, name_models, sections))\n",
    "p2.start()   "
   ]
  },
  {
   "cell_type": "code",
   "execution_count": null,
   "id": "c423a079",
   "metadata": {},
   "outputs": [],
   "source": [
    "l1 = Queue()\n",
    "p1 = Process(\n",
    "    target=train_test, args=(\n",
    "         svm, X_train, X_test, y_train,y_test, 1))\n",
    "p1.start()   "
   ]
  },
  {
   "cell_type": "code",
   "execution_count": null,
   "id": "3643c1d5",
   "metadata": {},
   "outputs": [],
   "source": [
    "rf = IsolationForest(n_estimators=1000, contamination=0.67warm_start=True, n_jobs=-1)\n",
    "y_pred, y_test, score, tn, fp, fn, tp = train_test(rf, X_train, X_test, y_train,y_test, train_class=1)\n",
    "print(\"True Negative: {} - False Positive: {} - False Negative: {} - True Positive: {}\".format(tn, fp, fn, tp))"
   ]
  },
  {
   "cell_type": "code",
   "execution_count": null,
   "id": "93eed1f3",
   "metadata": {},
   "outputs": [],
   "source": [
    "ee = EllipticEnvelope(contamination=0.67)\n",
    "y_pred, y_test, score, tn, fp, fn, tp = train_test(ee, X_train, X_test, y_train,y_test, train_class=1)\n",
    "print(\"True Negative: {} - False Positive: {} - False Negative: {} - True Positive: {}\".format(tn, fp, fn, tp))\n"
   ]
  },
  {
   "cell_type": "code",
   "execution_count": null,
   "id": "009666d1",
   "metadata": {},
   "outputs": [],
   "source": [
    "trainX = X_train\n",
    "\n",
    "nu = (sum(y_test))/trainX.shape[0]\n",
    "\n",
    "svm = OneClassSVM(gamma='scale', kernel='rbf', nu=0.67)\n",
    "rf = IsolationForest(n_estimators=1000, contamination=0.67warm_start=True, n_jobs=-1)\n",
    "ee = EllipticEnvelope(contamination=0.67)\n",
    "\n",
    "#svm.fit(trainX)\n",
    "rf.fit (trainX)\n",
    "#ee.fit (trainX)\n",
    "\n",
    "pred_svm = svm.predict(X_test)\n",
    "pred_rf = rf.predict(X_test)\n",
    "pred_ee = ee.predict(X_test)\n",
    "\n",
    "y_test[y_test == 1] = 1\n",
    "y_test[y_test == 0] = -1\n",
    "\n",
    "#score = classification_report(y_test, pred_svm, labels=[1, -1])\n",
    "#print( score)\n",
    "\n",
    "score = classification_report(y_test, pred_rf,  labels=[1, -1])\n",
    "print(score)\n",
    "\n",
    "#score = classification_report(y_test, pred_ee,  labels=[1, -1])\n",
    "#print(score)"
   ]
  },
  {
   "cell_type": "code",
   "execution_count": null,
   "id": "316b96c9",
   "metadata": {},
   "outputs": [],
   "source": [
    "tn, fp, fn, tp = confusion_matrix(y_test, pred_svm).ravel()\n",
    "print(\"True Negative: {} - False Positive: {} - False Negative: {} - True Positive: {}\".format(tn, fp, fn, tp))\n",
    "\n",
    "tn, fp, fn, tp = confusion_matrix(y_test, pred_rf).ravel()\n",
    "print(\"\\nTrue Negative: {} - False Positive: {} - False Negative: {} - True Positive: {}\".format(tn, fp, fn, tp))\n",
    "\n",
    "tn, fp, fn, tp = confusion_matrix(y_test, pred_ee).ravel()\n",
    "print(\"\\nTrue Negative: {} - False Positive: {} - False Negative: {} - True Positive: {}\".format(tn, fp, fn, tp))"
   ]
  }
 ],
 "metadata": {
  "kernelspec": {
   "display_name": "Python 3",
   "language": "python",
   "name": "python3"
  },
  "language_info": {
   "codemirror_mode": {
    "name": "ipython",
    "version": 3
   },
   "file_extension": ".py",
   "mimetype": "text/x-python",
   "name": "python",
   "nbconvert_exporter": "python",
   "pygments_lexer": "ipython3",
   "version": "3.8.8"
  }
 },
 "nbformat": 4,
 "nbformat_minor": 5
}
