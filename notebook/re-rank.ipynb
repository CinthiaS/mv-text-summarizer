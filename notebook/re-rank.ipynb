{
 "cells": [
  {
   "cell_type": "code",
   "execution_count": 116,
   "id": "05c7699c",
   "metadata": {},
   "outputs": [],
   "source": [
    "import pandas as pd\n",
    "import numpy as np\n",
    "from scipy.spatial import distance"
   ]
  },
  {
   "cell_type": "code",
   "execution_count": 117,
   "id": "365b9fa1",
   "metadata": {},
   "outputs": [],
   "source": [
    "import sys\n",
    "sys.path.insert(1, '/scratch/cinthiasouza/mv-text-summarizer')\n",
    "\n",
    "import itertools"
   ]
  },
  {
   "cell_type": "code",
   "execution_count": 118,
   "id": "6c29f1cb",
   "metadata": {},
   "outputs": [
    {
     "name": "stdout",
     "output_type": "stream",
     "text": [
      "The autoreload extension is already loaded. To reload it, use:\n",
      "  %reload_ext autoreload\n"
     ]
    }
   ],
   "source": [
    "%load_ext autoreload\n",
    "%autoreload 2\n",
    "\n",
    "\n",
    "from src import summarization\n"
   ]
  },
  {
   "cell_type": "code",
   "execution_count": 119,
   "id": "416c4cff",
   "metadata": {},
   "outputs": [],
   "source": [
    "section='introduction'"
   ]
  },
  {
   "cell_type": "code",
   "execution_count": 120,
   "id": "adcddf1c",
   "metadata": {},
   "outputs": [],
   "source": [
    "import pickle\n",
    "\n",
    "file = open(\"models_features_weights/predictions_proba.pkl\",'rb')\n",
    "predicitons = pickle.load(file)"
   ]
  },
  {
   "cell_type": "code",
   "execution_count": 121,
   "id": "a3b39193",
   "metadata": {},
   "outputs": [],
   "source": [
    "df = pd.read_csv(\"dataset/embed_bert_{}_test.csv\".format(section))"
   ]
  },
  {
   "cell_type": "code",
   "execution_count": 122,
   "id": "74df4093",
   "metadata": {},
   "outputs": [],
   "source": [
    "with open('dataset/dataset_{}.pkl'.format('features'), 'rb') as fp:\n",
    "    dataset = pickle.load(fp)"
   ]
  },
  {
   "cell_type": "code",
   "execution_count": 123,
   "id": "c1960a7d",
   "metadata": {},
   "outputs": [],
   "source": [
    "predictions = [i[1] for i in  predicitons['introduction']['rf']]"
   ]
  },
  {
   "cell_type": "code",
   "execution_count": 124,
   "id": "86842556",
   "metadata": {},
   "outputs": [],
   "source": [
    "df['sentences'] = dataset['introduction'][5]['sentences'].reset_index(drop=True)"
   ]
  },
  {
   "cell_type": "code",
   "execution_count": 125,
   "id": "b06084c7",
   "metadata": {},
   "outputs": [],
   "source": [
    "df['articles'] = dataset['introduction'][5]['articles'].reset_index(drop=True)"
   ]
  },
  {
   "cell_type": "code",
   "execution_count": 126,
   "id": "14bf7963",
   "metadata": {},
   "outputs": [],
   "source": [
    "df['predictions'] = predictions"
   ]
  },
  {
   "cell_type": "code",
   "execution_count": 127,
   "id": "5738ea7f",
   "metadata": {},
   "outputs": [],
   "source": [
    "columns = list(range(0, 383))\n",
    "columns = list(map(str, columns))"
   ]
  },
  {
   "cell_type": "code",
   "execution_count": 128,
   "id": "e4ea120f",
   "metadata": {},
   "outputs": [],
   "source": [
    "grouped = df.groupby(\"articles\")"
   ]
  },
  {
   "cell_type": "code",
   "execution_count": 129,
   "id": "3fa52399",
   "metadata": {},
   "outputs": [],
   "source": [
    "def rerank_mmr(grouped, k=3, max_sentences=10, alpha=0.8):\n",
    "\n",
    "    D = []\n",
    "    summaries = {'articles':[], 're-rank':[]}\n",
    "\n",
    "    for idx, group in grouped:\n",
    "\n",
    "        D = []\n",
    "\n",
    "        aux = group.sort_values(\"predictions\").reset_index(drop=True)\n",
    "\n",
    "        n_sentences = len(aux)\n",
    "        n_sentences = max_sentences if n_sentences > max_sentences else n_sentences\n",
    "\n",
    "        D.append(0)\n",
    "\n",
    "        if n_sentences <=k:\n",
    "            summaries.append(\" \".join(group.loc[[i for i in range(n_sentences)]]['sentences'].tolist()))\n",
    "        else:\n",
    "\n",
    "            while len(D) < k:\n",
    "\n",
    "                distances = []\n",
    "\n",
    "                for i in  D:\n",
    "\n",
    "                    for j in range(1, n_sentences):\n",
    "\n",
    "                        if not j in D:\n",
    "\n",
    "                            vi = aux.loc[i][columns]\n",
    "                            vj = aux.loc[j][columns]\n",
    "\n",
    "                            d = distance.cosine(vi, vj)\n",
    "                            new_rank = alpha * aux.loc[j]['predictions'] + (1 - alpha) * d\n",
    "\n",
    "                            distances.append((i, j, aux.loc[j]['predictions'], d, new_rank))\n",
    "\n",
    "                distances.sort(key=lambda tup: tup[4], reverse=True)\n",
    "                D.append(distances[0][1])\n",
    "\n",
    "            summaries['re-rank'].append(\" \".join(aux.loc[D]['sentences'].tolist()))\n",
    "            summaries['articles'].append(idx)\n",
    "            \n",
    "    return summaries"
   ]
  },
  {
   "cell_type": "code",
   "execution_count": 130,
   "id": "71c84d37",
   "metadata": {},
   "outputs": [],
   "source": [
    "references_df = pd.read_csv(\"dataset/references_df.csv\")"
   ]
  },
  {
   "cell_type": "code",
   "execution_count": 131,
   "id": "245268e4",
   "metadata": {},
   "outputs": [],
   "source": [
    "summaries = rerank_mmr(grouped, k=3, max_sentences=6, alpha=0.9)"
   ]
  },
  {
   "cell_type": "code",
   "execution_count": 132,
   "id": "9c840395",
   "metadata": {},
   "outputs": [],
   "source": [
    "summaries_df = pd.DataFrame(summaries)"
   ]
  },
  {
   "cell_type": "code",
   "execution_count": 133,
   "id": "41a692f9",
   "metadata": {},
   "outputs": [],
   "source": [
    "summaries_df = summaries_df.merge(references_df, on='articles')"
   ]
  },
  {
   "cell_type": "code",
   "execution_count": 134,
   "id": "a3c12e89",
   "metadata": {},
   "outputs": [
    {
     "data": {
      "text/html": [
       "<div>\n",
       "<style scoped>\n",
       "    .dataframe tbody tr th:only-of-type {\n",
       "        vertical-align: middle;\n",
       "    }\n",
       "\n",
       "    .dataframe tbody tr th {\n",
       "        vertical-align: top;\n",
       "    }\n",
       "\n",
       "    .dataframe thead th {\n",
       "        text-align: right;\n",
       "    }\n",
       "</style>\n",
       "<table border=\"1\" class=\"dataframe\">\n",
       "  <thead>\n",
       "    <tr style=\"text-align: right;\">\n",
       "      <th></th>\n",
       "      <th>articles</th>\n",
       "      <th>re-rank</th>\n",
       "      <th>references</th>\n",
       "    </tr>\n",
       "  </thead>\n",
       "  <tbody>\n",
       "    <tr>\n",
       "      <th>0</th>\n",
       "      <td>PMC2066182.json</td>\n",
       "      <td>Few studies have examined the long term conseq...</td>\n",
       "      <td>context: evidence suggests that babies' fat ma...</td>\n",
       "    </tr>\n",
       "    <tr>\n",
       "      <th>1</th>\n",
       "      <td>PMC2488407.json</td>\n",
       "      <td>In humans, this region continues developing th...</td>\n",
       "      <td>summary information on the development and fun...</td>\n",
       "    </tr>\n",
       "    <tr>\n",
       "      <th>2</th>\n",
       "      <td>PMC2556985.json</td>\n",
       "      <td>Adolescence is a period of significant develop...</td>\n",
       "      <td>the present study examined ethnic, gender and ...</td>\n",
       "    </tr>\n",
       "    <tr>\n",
       "      <th>3</th>\n",
       "      <td>PMC2561942.json</td>\n",
       "      <td>Findings for mood problems appear less consist...</td>\n",
       "      <td>adenotonsillectomy (at) is among the most comm...</td>\n",
       "    </tr>\n",
       "    <tr>\n",
       "      <th>4</th>\n",
       "      <td>PMC2562256.json</td>\n",
       "      <td>The results of their studies were dependent on...</td>\n",
       "      <td>the performance of high sensitivity x ray imag...</td>\n",
       "    </tr>\n",
       "    <tr>\n",
       "      <th>...</th>\n",
       "      <td>...</td>\n",
       "      <td>...</td>\n",
       "      <td>...</td>\n",
       "    </tr>\n",
       "    <tr>\n",
       "      <th>919</th>\n",
       "      <td>PMC6980698.json</td>\n",
       "      <td>In addition, we now understand that even thoug...</td>\n",
       "      <td>abnormal tau hyperphosphorylation and its aggr...</td>\n",
       "    </tr>\n",
       "    <tr>\n",
       "      <th>920</th>\n",
       "      <td>PMC6981036.json</td>\n",
       "      <td>Morning chronotype may be related to successfu...</td>\n",
       "      <td>research indicates that sleep duration and qua...</td>\n",
       "    </tr>\n",
       "    <tr>\n",
       "      <th>921</th>\n",
       "      <td>PMC6986562.json</td>\n",
       "      <td>. Thus, we build on this research through the ...</td>\n",
       "      <td>background: as the prevalence of depression is...</td>\n",
       "    </tr>\n",
       "    <tr>\n",
       "      <th>922</th>\n",
       "      <td>PMC6990458.json</td>\n",
       "      <td>This neglect is somewhat surprising. As a resu...</td>\n",
       "      <td>beats are among the basic units of perceptual ...</td>\n",
       "    </tr>\n",
       "    <tr>\n",
       "      <th>923</th>\n",
       "      <td>PMC6999817.json</td>\n",
       "      <td>illustrates the phenomenon. Even the largest s...</td>\n",
       "      <td>a central bar repeatedly presented in alternat...</td>\n",
       "    </tr>\n",
       "  </tbody>\n",
       "</table>\n",
       "<p>924 rows × 3 columns</p>\n",
       "</div>"
      ],
      "text/plain": [
       "            articles                                            re-rank  \\\n",
       "0    PMC2066182.json  Few studies have examined the long term conseq...   \n",
       "1    PMC2488407.json  In humans, this region continues developing th...   \n",
       "2    PMC2556985.json  Adolescence is a period of significant develop...   \n",
       "3    PMC2561942.json  Findings for mood problems appear less consist...   \n",
       "4    PMC2562256.json  The results of their studies were dependent on...   \n",
       "..               ...                                                ...   \n",
       "919  PMC6980698.json  In addition, we now understand that even thoug...   \n",
       "920  PMC6981036.json  Morning chronotype may be related to successfu...   \n",
       "921  PMC6986562.json  . Thus, we build on this research through the ...   \n",
       "922  PMC6990458.json  This neglect is somewhat surprising. As a resu...   \n",
       "923  PMC6999817.json  illustrates the phenomenon. Even the largest s...   \n",
       "\n",
       "                                            references  \n",
       "0    context: evidence suggests that babies' fat ma...  \n",
       "1    summary information on the development and fun...  \n",
       "2    the present study examined ethnic, gender and ...  \n",
       "3    adenotonsillectomy (at) is among the most comm...  \n",
       "4    the performance of high sensitivity x ray imag...  \n",
       "..                                                 ...  \n",
       "919  abnormal tau hyperphosphorylation and its aggr...  \n",
       "920  research indicates that sleep duration and qua...  \n",
       "921  background: as the prevalence of depression is...  \n",
       "922  beats are among the basic units of perceptual ...  \n",
       "923  a central bar repeatedly presented in alternat...  \n",
       "\n",
       "[924 rows x 3 columns]"
      ]
     },
     "execution_count": 134,
     "metadata": {},
     "output_type": "execute_result"
    }
   ],
   "source": [
    "summaries_df"
   ]
  },
  {
   "cell_type": "code",
   "execution_count": 136,
   "id": "3a449717",
   "metadata": {},
   "outputs": [],
   "source": [
    "metrics=['rouge-1', 'rouge-2', 'rouge-l']"
   ]
  },
  {
   "cell_type": "code",
   "execution_count": 137,
   "id": "8a5ced00",
   "metadata": {},
   "outputs": [],
   "source": [
    "result = summarization.evaluate_summariesv2(summaries_df, ['re-rank'],metrics)"
   ]
  },
  {
   "cell_type": "code",
   "execution_count": 138,
   "id": "c503f91a",
   "metadata": {},
   "outputs": [
    {
     "data": {
      "text/html": [
       "<div>\n",
       "<style scoped>\n",
       "    .dataframe tbody tr th:only-of-type {\n",
       "        vertical-align: middle;\n",
       "    }\n",
       "\n",
       "    .dataframe tbody tr th {\n",
       "        vertical-align: top;\n",
       "    }\n",
       "\n",
       "    .dataframe thead th {\n",
       "        text-align: right;\n",
       "    }\n",
       "</style>\n",
       "<table border=\"1\" class=\"dataframe\">\n",
       "  <thead>\n",
       "    <tr style=\"text-align: right;\">\n",
       "      <th></th>\n",
       "      <th>re-rank_rouge-1</th>\n",
       "      <th>re-rank_rouge-2</th>\n",
       "      <th>re-rank_rouge-l</th>\n",
       "    </tr>\n",
       "  </thead>\n",
       "  <tbody>\n",
       "    <tr>\n",
       "      <th>count</th>\n",
       "      <td>924.000000</td>\n",
       "      <td>924.000000</td>\n",
       "      <td>924.000000</td>\n",
       "    </tr>\n",
       "    <tr>\n",
       "      <th>mean</th>\n",
       "      <td>0.219171</td>\n",
       "      <td>0.049569</td>\n",
       "      <td>0.179524</td>\n",
       "    </tr>\n",
       "    <tr>\n",
       "      <th>std</th>\n",
       "      <td>0.074985</td>\n",
       "      <td>0.041801</td>\n",
       "      <td>0.047804</td>\n",
       "    </tr>\n",
       "    <tr>\n",
       "      <th>min</th>\n",
       "      <td>0.069444</td>\n",
       "      <td>0.000000</td>\n",
       "      <td>0.084969</td>\n",
       "    </tr>\n",
       "    <tr>\n",
       "      <th>25%</th>\n",
       "      <td>0.165297</td>\n",
       "      <td>0.020961</td>\n",
       "      <td>0.146585</td>\n",
       "    </tr>\n",
       "    <tr>\n",
       "      <th>50%</th>\n",
       "      <td>0.210918</td>\n",
       "      <td>0.038873</td>\n",
       "      <td>0.171728</td>\n",
       "    </tr>\n",
       "    <tr>\n",
       "      <th>75%</th>\n",
       "      <td>0.264495</td>\n",
       "      <td>0.066384</td>\n",
       "      <td>0.204730</td>\n",
       "    </tr>\n",
       "    <tr>\n",
       "      <th>max</th>\n",
       "      <td>0.566802</td>\n",
       "      <td>0.359184</td>\n",
       "      <td>0.498928</td>\n",
       "    </tr>\n",
       "  </tbody>\n",
       "</table>\n",
       "</div>"
      ],
      "text/plain": [
       "       re-rank_rouge-1  re-rank_rouge-2  re-rank_rouge-l\n",
       "count       924.000000       924.000000       924.000000\n",
       "mean          0.219171         0.049569         0.179524\n",
       "std           0.074985         0.041801         0.047804\n",
       "min           0.069444         0.000000         0.084969\n",
       "25%           0.165297         0.020961         0.146585\n",
       "50%           0.210918         0.038873         0.171728\n",
       "75%           0.264495         0.066384         0.204730\n",
       "max           0.566802         0.359184         0.498928"
      ]
     },
     "execution_count": 138,
     "metadata": {},
     "output_type": "execute_result"
    }
   ],
   "source": [
    "result.describe()"
   ]
  },
  {
   "cell_type": "code",
   "execution_count": null,
   "id": "c78afeba",
   "metadata": {},
   "outputs": [],
   "source": []
  }
 ],
 "metadata": {
  "kernelspec": {
   "display_name": "Python 3",
   "language": "python",
   "name": "python3"
  },
  "language_info": {
   "codemirror_mode": {
    "name": "ipython",
    "version": 3
   },
   "file_extension": ".py",
   "mimetype": "text/x-python",
   "name": "python",
   "nbconvert_exporter": "python",
   "pygments_lexer": "ipython3",
   "version": "3.8.8"
  }
 },
 "nbformat": 4,
 "nbformat_minor": 5
}
