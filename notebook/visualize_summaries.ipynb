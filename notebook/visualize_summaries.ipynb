{
 "cells": [
  {
   "cell_type": "code",
   "execution_count": 1,
   "id": "c773fb95",
   "metadata": {},
   "outputs": [],
   "source": [
    "import pandas as pd\n",
    "import numpy as np\n",
    "\n",
    "from nltk.corpus import stopwords\n",
    "stop_word = stopwords.words('english')"
   ]
  },
  {
   "cell_type": "code",
   "execution_count": 2,
   "id": "e036dfcf",
   "metadata": {},
   "outputs": [],
   "source": [
    "def bold(candidate, common_words):\n",
    "    \n",
    "    words = candidate.split(\" \")\n",
    "    \n",
    "    for i in range(len(words)):\n",
    "        for j in range(len(common_words)):\n",
    "        \n",
    "            if common_words[j] == words[i]:\n",
    "            \n",
    "                new_word = \"\\033[1m\" + words[i] + \"\\033[0m\"\n",
    "                words[i] = new_word\n",
    "         \n",
    "    return words"
   ]
  },
  {
   "cell_type": "code",
   "execution_count": 3,
   "id": "980d7a2e",
   "metadata": {},
   "outputs": [],
   "source": [
    "def pp_text(text):\n",
    "    \n",
    "    text = text.lower()\n",
    "    text = text.replace(\".\", \" . \")\n",
    "    text = text.replace(\",\", \" , \")\n",
    "    text = text.replace(\";\", \" ; \")\n",
    "    text = text.replace(\":\", \" : \")\n",
    "    \n",
    "    return text"
   ]
  },
  {
   "cell_type": "code",
   "execution_count": 4,
   "id": "47b28e8e",
   "metadata": {},
   "outputs": [],
   "source": [
    "def rev_pp_text(text):\n",
    "    \n",
    "    text = text.lower()\n",
    "    text = text.replace(\" . \", \".\")\n",
    "    text = text.replace(\" , \", \",\")\n",
    "    text = text.replace(\" ; \", \";\")\n",
    "    text = text.replace(\" : \", \":\")\n",
    "    text = text.replace(\" = \", \"=\")\n",
    "    text = text.replace(\" + \", \"+\")\n",
    "    \n",
    "    words = text.split(\" \")\n",
    "    words = list(filter(None, words))\n",
    "    \n",
    "    text = \" \".join(words)\n",
    "    \n",
    "    return text"
   ]
  },
  {
   "cell_type": "code",
   "execution_count": 5,
   "id": "c5be94d6",
   "metadata": {},
   "outputs": [],
   "source": [
    "def main_bold(reference, candidate):\n",
    "    \n",
    "    reference = rev_pp_text(reference)\n",
    "    candidate = rev_pp_text(candidate)\n",
    "    \n",
    "    pp_reference = pp_text(reference)\n",
    "    pp_candidate = pp_text(candidate)\n",
    "    \n",
    "    words_reference = pp_reference.split(\" \")\n",
    "    words_candidade = pp_candidate.split(\" \")\n",
    "\n",
    "    common_words = list(set(words_reference) & set(words_candidade))\n",
    "\n",
    "    common_words = [i for i in common_words if not i in stop_word]\n",
    "    common_words = list(filter(None, common_words))\n",
    "\n",
    "    bold_text = bold(candidate, common_words)\n",
    "    bold_text = \" \".join(bold_text)\n",
    "    \n",
    "    bold_text = rev_pp_text(bold_text)\n",
    "\n",
    "    return bold_text, common_words"
   ]
  },
  {
   "cell_type": "code",
   "execution_count": 6,
   "id": "c94a2e3e",
   "metadata": {},
   "outputs": [],
   "source": [
    "def load_summaries(sections, experiments, path_to_read):\n",
    "    \n",
    "    results = {}\n",
    "    \n",
    "    for section in sections:\n",
    "        aux = {}\n",
    "        for experiment in experiments:\n",
    "            aux[experiment] =  pd.read_csv(\"{}/summaries/{}.csv\".format(path_to_read, section, experiment))\n",
    "        results[section] = aux\n",
    "        \n",
    "    return results"
   ]
  },
  {
   "cell_type": "code",
   "execution_count": 7,
   "id": "0fb89b14",
   "metadata": {},
   "outputs": [],
   "source": [
    "def get_rouges(section, experiment, columns, summ):\n",
    "    \n",
    "    r1 = results[section][experiment][columns[0]][summ]\n",
    "    r2 = results[section][experiment][columns[1]][summ]\n",
    "    rl = results[section][experiment][columns[2]][summ]\n",
    "               \n",
    "    return r1, r2, rl"
   ]
  },
  {
   "cell_type": "code",
   "execution_count": 55,
   "id": "ba90bfd5",
   "metadata": {},
   "outputs": [],
   "source": [
    "def print_results(results, summ):\n",
    "    reference = results['comb']['ex1']['references'][summ]\n",
    "\n",
    "    print(\"\\033[1m REFERENCE \\033[0m : \\n {}\\n\\n\".format(reference))\n",
    "\n",
    "    #candidate = results['comb']['ex1']['cb'][summ]\n",
    "    #r1, r2, rl = get_rouges('comb', 'ex1', ['cb_rouge-1', 'cb_rouge-2', 'cb_rouge-l'], summ)\n",
    "    #bold_text, common_words = main_bold(reference, candidate)\n",
    "\n",
    "    #print(\"\\033[1m CANDIDATE - CB\\033[0m : \\n {}\".format(bold_text))\n",
    "    #print(\"\\nNúmero de palavras em comum: {}\".format(len(common_words)))\n",
    "    #print(\"\\nR1: {}, R2: {}, RL: {}\\n\\n\".format(r1, r2, rl))\n",
    "    \n",
    "    candidate = results['comb']['ex1']['rf'][summ]\n",
    "    r1, r2, rl = get_rouges('comb', 'ex1', ['rf_rouge-1', 'rf_rouge-2', 'rf_rouge-l'], summ)\n",
    "    bold_text, common_words = main_bold(reference, candidate)\n",
    "\n",
    "    print(\"\\033[1m CANDIDATE - RF\\033[0m : \\n {}\".format(bold_text))\n",
    "    print(\"\\nNúmero de palavras em comum: {}\".format(len(common_words)))\n",
    "    print(\"\\nR1: {}, R2: {}, RL: {}\\n\\n\".format(r1, r2, rl))\n",
    "\n",
    "    df = pd.read_csv(\"baselines/summaries/app2_combination.csv\")\n",
    "    candidate = df['max_rouge'][summ]\n",
    "    r1, r2, rl = df['max_rouge_rouge-1'][summ], df['max_rouge_rouge-2'][summ], df['max_rouge_rouge-l'][summ]\n",
    "    bold_text, common_words = main_bold(reference, candidate)\n",
    "\n",
    "    print(\"\\033[1m CANDIDATE - MAX\\033[0m : \\n {}\".format(bold_text))\n",
    "    print(\"\\nNúmero de palavras em comum: {}\".format(len(common_words)))\n",
    "    print(\"\\nR1: {}, R2: {}, RL: {}\\n\\n\".format(r1, r2, rl))\n",
    "\n",
    "    df = pd.read_csv(\"baselines/summaries/app4_combination.csv\")\n",
    "    candidate = df['first_three'][summ]\n",
    "    r1, r2, rl = df['first_three_rouge-1'][summ], df['first_three_rouge-2'][summ], df['first_three_rouge-l'][summ]\n",
    "    bold_text, common_words = main_bold(reference, candidate)\n",
    "\n",
    "    print(\"\\033[1m CANDIDATE - FT\\033[0m : \\n {}\".format(bold_text))\n",
    "    print(\"\\nNúmero de palavras em comum: {}\".format(len(common_words)))\n",
    "    print(\"\\nR1: {}, R2: {}, RL: {}\\n\\n\".format(r1, r2, rl))\n",
    "    \n",
    "\n",
    "         \n",
    "    "
   ]
  },
  {
   "cell_type": "code",
   "execution_count": 19,
   "id": "90d701b0",
   "metadata": {},
   "outputs": [],
   "source": [
    "path_to_read = '/scratch/cinthiasouza/mv-text-summarizer/notebook/sv_models/'"
   ]
  },
  {
   "cell_type": "code",
   "execution_count": 20,
   "id": "f8dd5beb",
   "metadata": {},
   "outputs": [],
   "source": [
    "sections = ['comb']\n",
    "experiments = ['ex1', 'ex2', 'ex3', 'ex4', 'ex5']"
   ]
  },
  {
   "cell_type": "code",
   "execution_count": 21,
   "id": "d807f3b6",
   "metadata": {},
   "outputs": [],
   "source": [
    "results = load_summaries(sections, experiments, path_to_read)"
   ]
  },
  {
   "cell_type": "code",
   "execution_count": null,
   "id": "9634bbdc",
   "metadata": {},
   "outputs": [],
   "source": []
  },
  {
   "cell_type": "markdown",
   "id": "9334ed8b",
   "metadata": {},
   "source": [
    "# Exemplo 1"
   ]
  },
  {
   "cell_type": "code",
   "execution_count": 56,
   "id": "efe9e7a8",
   "metadata": {
    "scrolled": false
   },
   "outputs": [
    {
     "name": "stdout",
     "output_type": "stream",
     "text": [
      "\u001b[1m REFERENCE \u001b[0m : \n",
      " we used convection enhanced delivery (ced) to characterize gene delivery mediated by adeno associated virus type (aav1) by tracking expression of hrgfp (humanized green fluorescent protein from renilla reniformis) into the striatum, basal forebrain, and corona radiata of monkey brain. four cynomolgus monkeys received single infusions into corona radiata, putamen, and caudate. the other group (n = 4) received infusions into basal forebrain. thirty days after infusion animals were killed and their brains were processed for immunohistochemical evaluation. volumetric analysis of gfp positive brain areas was performed. aav1 hrgfp infusions resulted in approximately 550, 700, and mm3 coverage after infusion into corona radiata, striatum, and basal forebrain, respectively. aside from targeted regions, other brain structures also showed gfp signal (internal and external globus pallidus, subthalamic nucleus), supporting the idea that aav1 is actively trafficked to regions distal from the infusion site. in addition to neuronal transduction, a significant nonneuronal cell population was transduced by aav1 vector, for example, oligodendrocytes in corona radiata and astrocytes in the striatum. we observed a strong humoral and cell mediated response against aav1 hrgfp in transduced monkeys irrespective of the anatomic location of the infusion, as evidenced by induction of circulating anti aav1 and anti hrgfp antibodies, as well as infiltration of cd4+ lymphocytes and upregulation of mhc ii in regions infused with vector. we conclude that transduction of antigen presenting cells within the cns is a likely cause of this response and that caution is warranted when foreign transgenes are used as reporters in gene therapy studies with vectors with broader tropism than aav2.\n",
      "\n",
      "\n",
      "\u001b[1m CANDIDATE - RF\u001b[0m : \n",
      " it has been reported that the \u001b[1mtransduction\u001b[0m efficiency in the \u001b[1mcns\u001b[0m of \u001b[1maav1\u001b[0m is superior to that of \u001b[1maav2\u001b[0m in various animal models, including mouse, rat, and cat (;;). we \u001b[1malso\u001b[0m \u001b[1mtargeted\u001b[0m \u001b[1mbasal\u001b[0m \u001b[1mforebrain\u001b[0m with the expectation that \u001b[1maav1\u001b[0m would be anterogradely transported into the cortical regions. in the course of our experiments, we detected a \u001b[1mstrong\u001b[0m \u001b[1mcell\u001b[0m \u001b[1mmediated\u001b[0m \u001b[1mresponse\u001b[0m against \u001b[1maav1\u001b[0m \u001b[1mhrgfp\u001b[0m in target \u001b[1mbrain\u001b[0m regions, as \u001b[1mwell\u001b[0m as a \u001b[1mhumoral\u001b[0m \u001b[1mresponse\u001b[0m against both \u001b[1mhrgfp\u001b[0m and \u001b[1maav1\u001b[0m capsid.the \u001b[1mbrains\u001b[0m were removed and placed in the \u001b[1mbrain\u001b[0m mold, and sectioned coronally into 6 mm slices. every tenth section was washed in phosphate buffered saline (pbs) and incubated in sniper blocking solution (biocare medical, concord, ca) for 20 min, followed by overnight incubation in primary antibody solution: (1) \u001b[1manti\u001b[0m s 100, a marker for \u001b[1mastrocytes\u001b[0m (rabbit polyclonal, diluted 1:300; biocare medical); (2) \u001b[1manti\u001b[0m \u001b[1mneuronal\u001b[0m nuclei (neun), a marker for neurons (mouse monoclonal, diluted 1:250; chemicon international/millipore, temecula, ca); (3) \u001b[1manti\u001b[0m human oligodendrocyte transcription factor 2 (olig2), a marker for \u001b[1moligodendrocytes\u001b[0m (goat polyclonal, diluted 1:20; r&d systems, madison, wi). ten random pictures were taken (objective, 20) from each \u001b[1mmonkey\u001b[0m for each marker evaluated (one picture for every tenth section mounted on a slide).in the development of \u001b[1mgene\u001b[0m \u001b[1mtherapy\u001b[0m approaches for the treatment of various disorders, consideration must be given to various requirements in terms of the specific \u001b[1mcell\u001b[0m \u001b[1mtype\u001b[0m to be transduced, and the level and range of therapeutic \u001b[1mprotein\u001b[0m necessary to alleviate disease symptoms. our goal was to use this \u001b[1mgfp\u001b[0m as a marker of cellular \u001b[1mtransduction\u001b[0m to elucidate the types of \u001b[1mcells\u001b[0m \u001b[1mtransduced\u001b[0m in different parts of the brain, to understand more about how \u001b[1maav1\u001b[0m is \u001b[1mtrafficked\u001b[0m \u001b[1mwithin\u001b[0m and beyond \u001b[1minfused\u001b[0m \u001b[1mbrain\u001b[0m regions, and to assess the potential safety issues of a \u001b[1mvector\u001b[0m exhibiting \u001b[1mbroader\u001b[0m \u001b[1mtropism\u001b[0m than aav2.to calculate the volume of the \u001b[1mmonkey\u001b[0m \u001b[1mbasal\u001b[0m ganglia (putamen, caudate, internal and \u001b[1mexternal\u001b[0m \u001b[1mglobus\u001b[0m pallidus), \u001b[1mvolumetric\u001b[0m measurements were made on the basis of mri scans.\n",
      "\n",
      "Número de palavras em comum: 42\n",
      "\n",
      "R1: 0.4380305602716468, R2: 0.0885860306643952, RL: 0.2053111913149439\n",
      "\n",
      "\n",
      "\u001b[1m CANDIDATE - MAX\u001b[0m : \n",
      " accordingly, \u001b[1maav1\u001b[0m \u001b[1mhrgfp\u001b[0m was convected into \u001b[1mcorona\u001b[0m radiata, striatum, and \u001b[1mbasal\u001b[0m forebrain. in the course of our experiments, we detected a \u001b[1mstrong\u001b[0m \u001b[1mcell\u001b[0m \u001b[1mmediated\u001b[0m \u001b[1mresponse\u001b[0m against \u001b[1maav1\u001b[0m \u001b[1mhrgfp\u001b[0m in target \u001b[1mbrain\u001b[0m regions, as \u001b[1mwell\u001b[0m as a \u001b[1mhumoral\u001b[0m \u001b[1mresponse\u001b[0m against both \u001b[1mhrgfp\u001b[0m and \u001b[1maav1\u001b[0m capsid. this \u001b[1mresponse\u001b[0m probably arose from \u001b[1mtransduction\u001b[0m of \u001b[1mnonneuronal\u001b[0m \u001b[1mantigen\u001b[0m \u001b[1mpresenting\u001b[0m \u001b[1mcells\u001b[0m by the vector.animals were deeply anesthetized with sodium pentobarbital (25 mg/kg, intravenous) and \u001b[1mkilled\u001b[0m 4 weeks after \u001b[1maav1\u001b[0m \u001b[1mhrgfp\u001b[0m administration. fixed \u001b[1mbrain\u001b[0m slices were cut into 40 m coronal sections with a cryostat. to evaluate the \u001b[1mcell\u001b[0m types transduced, sections were \u001b[1mprocessed\u001b[0m for fluorescence immunostaining with various markers.we have explored in nonhuman primates the utility of this serotype with a \u001b[1mvector\u001b[0m that encodes a humanized \u001b[1mrenilla\u001b[0m \u001b[1mgreen\u001b[0m \u001b[1mfluorescent\u001b[0m \u001b[1mprotein\u001b[0m (hrgfp) for which the codon usage has been optimized for use in mammals (see patent wo/2004/005322). our goal was to use this \u001b[1mgfp\u001b[0m as a marker of cellular \u001b[1mtransduction\u001b[0m to elucidate the types of \u001b[1mcells\u001b[0m \u001b[1mtransduced\u001b[0m in different parts of the brain, to understand more about how \u001b[1maav1\u001b[0m is \u001b[1mtrafficked\u001b[0m \u001b[1mwithin\u001b[0m and beyond \u001b[1minfused\u001b[0m \u001b[1mbrain\u001b[0m regions, and to assess the potential safety issues of a \u001b[1mvector\u001b[0m exhibiting \u001b[1mbroader\u001b[0m \u001b[1mtropism\u001b[0m than aav2.to calculate the volume of the \u001b[1mmonkey\u001b[0m \u001b[1mbasal\u001b[0m ganglia (putamen, caudate, internal and \u001b[1mexternal\u001b[0m \u001b[1mglobus\u001b[0m pallidus), \u001b[1mvolumetric\u001b[0m measurements were made on the basis of mri scans.\n",
      "\n",
      "Número de palavras em comum: 43\n",
      "\n",
      "R1: 0.5195876288659793, R2: 0.1532091097308488, RL: 0.2366484760699012\n",
      "\n",
      "\n",
      "\u001b[1m CANDIDATE - FT\u001b[0m : \n",
      " the \u001b[1mdelivery\u001b[0m of genes into the \u001b[1mcns\u001b[0m offers an attractive potential option for the treatment of various neurological disorders. efficient distribution of therapeutic \u001b[1mvectors\u001b[0m \u001b[1mwithin\u001b[0m the \u001b[1mbrain\u001b[0m is critical, especially in diseases that may require \u001b[1mneuronal\u001b[0m targeting of large anatomical \u001b[1mregions\u001b[0m of the \u001b[1mbrain\u001b[0m (e.g., neurodegenerative diseases, lysosomal storage disorders, and stroke). viral \u001b[1mvectors\u001b[0m that are able to convey robust \u001b[1mgene\u001b[0m transfer must be combined with efficient \u001b[1mbrain\u001b[0m \u001b[1mdelivery\u001b[0m systems for effective translation of \u001b[1mgene\u001b[0m \u001b[1mtherapy\u001b[0m technology into the clinic .animals were deeply anesthetized with sodium pentobarbital (25 mg/kg, intravenous) and \u001b[1mkilled\u001b[0m 4 weeks after \u001b[1maav1\u001b[0m \u001b[1mhrgfp\u001b[0m administration. the \u001b[1mbrains\u001b[0m were removed and placed in the \u001b[1mbrain\u001b[0m mold, and sectioned coronally into 6 mm slices. the slices were postfixed in zamboni's fixative for 24 hr, washed briefly in pbs, and adjusted in an ascending sucrose gradient (10, 20, 30%) before storage at 80c.in the development of \u001b[1mgene\u001b[0m \u001b[1mtherapy\u001b[0m approaches for the treatment of various disorders, consideration must be given to various requirements in terms of the specific \u001b[1mcell\u001b[0m \u001b[1mtype\u001b[0m to be transduced, and the level and range of therapeutic \u001b[1mprotein\u001b[0m necessary to alleviate disease symptoms. various aav serotypes have been proposed in different animal models to treat diseases by \u001b[1mgene\u001b[0m \u001b[1mtherapy\u001b[0m (;;;;). the most frequently \u001b[1mused\u001b[0m serotype in neurological clinical \u001b[1mstudies\u001b[0m has been \u001b[1maav2\u001b[0m \u001b[1m.\u001b[0m\n",
      "\n",
      "Número de palavras em comum: 23\n",
      "\n",
      "R1: 0.3319327731092437, R2: 0.0421940928270042, RL: 0.2121237163136431\n",
      "\n",
      "\n"
     ]
    }
   ],
   "source": [
    "print_results(results, 50)"
   ]
  },
  {
   "cell_type": "code",
   "execution_count": 57,
   "id": "9d048b08",
   "metadata": {
    "scrolled": false
   },
   "outputs": [
    {
     "name": "stdout",
     "output_type": "stream",
     "text": [
      "\u001b[1m REFERENCE \u001b[0m : \n",
      " over the past two decades, the bulk of gastrointestinal (gi) endoscopic procedures has shifted away from diagnostic and therapeutic interventions for symptomatic disease toward cancer prevention in asymptomatic patients. this shift has resulted largely from a decrease in the incidence of peptic ulcer disease in the era of antisecretory medications coupled with emerging evidence for the efficacy of endoscopic detection and eradication of dysplasia, a histopathological biomarker widely accepted as a precursor to cancer. this shift has been accompanied by a drive toward minimally invasive, in situ optical diagnostic technologies that help assess the mucosa for cellular changes that relate to dysplasia. two competing but complementary approaches have been pursued. the first approach is based on broad view targeting of areas of interest or red flags. these broad view technologies include standard white light endoscopy (wle), high definition endoscopy (hd), and electronic chromoendoscopy (narrow band type imaging). the second approach is based on multiple small area or point source (meso/micro) measurements, which can be either machine (spectroscopy) or human interpreted (endomicroscopy, magnification endoscopy), much as histopatholgy slides are. in this paper we present our experience with the development and testing of a set of familiar but smarter standard tissue sampling tools that can be routinely employed during screening/surveillance endoscopy. these tools have been designed to incorporate fiberoptic probes that can mediate spectroscopy or endomicroscopy. we demonstrate the value of such tools by assessing their preliminary performance from several ongoing clinical studies. our results have shown promise for a new generation of integrated optical tools for a variety of screening/surveillance applications during gi endoscopy. integrated devices should prove invaluable for dysplasia surveillance strategies that currently result in large numbers of benign biopsies, which are of little clinical consequence, including screening for colorectal polyps and surveillance of flat dysplasia such as barretts esophagus and chronic colitis due to inflammatory bowel diseases.\n",
      "\n",
      "\n",
      "\u001b[1m CANDIDATE - RF\u001b[0m : \n",
      " similarly, intravital \u001b[1moptical\u001b[0m coherence tomography (oct) [] is another sophisticated \u001b[1mhigh\u001b[0m resolution mucosal imaging technique that is not optimally suited for widespread use, as it requires non \u001b[1mstandard\u001b[0m image interpretation by the endoscopist. the cle technology is \u001b[1mbased\u001b[0m on \u001b[1mtissue\u001b[0m illumination with a low power laser followed by \u001b[1mdetection\u001b[0m and creation of an optically sectioned image by rejecting out of focus fluorescent \u001b[1mlight\u001b[0m using variations of the scanning pinhole principle [, ]. recently, a confocal laser endomicroscope has been developed that uses a probe that can be passed to the distal tip of virtually any conventional endoscope via the accessory channel to enable subsurface imaging of living \u001b[1mtissue\u001b[0m during \u001b[1mprocedures\u001b[0m .the tip of the closed \u001b[1moptical\u001b[0m snare device was placed in contact with \u001b[1mpolyps\u001b[0m and spectra were obtained, followed by electrocautery excision of the polyp. thus far, from a total of 10 patients, 45 spectra from 13 neoplastic \u001b[1mpolyps\u001b[0m and 60 spectra from 10 non neoplastic \u001b[1mpolyps\u001b[0m have been taken with the ess \u001b[1moptical\u001b[0m snare.from these \u001b[1mresults\u001b[0m we can see that the ess \u001b[1moptical\u001b[0m snare is a promising technology for diagnosing and snaring larger colonic \u001b[1mpolyps\u001b[0m in real time at colonoscopy .beyond validation studies, real time ess measurements, as well as confocal laser endomicroscopy, would be clinically useful for increasing the pre biopsy probability of obtaining neoplastic/dysplastic \u001b[1mtissue\u001b[0m over \u001b[1mbenign\u001b[0m tissue. our \u001b[1mpreliminary\u001b[0m \u001b[1mresults\u001b[0m have \u001b[1mshown\u001b[0m the \u001b[1mpromise\u001b[0m of the different \u001b[1mintegrated\u001b[0m \u001b[1moptical\u001b[0m \u001b[1mtools\u001b[0m in different \u001b[1mscreening/surveillance\u001b[0m \u001b[1mapplications\u001b[0m in the \u001b[1mgi\u001b[0m tract. as such, \u001b[1moptical\u001b[0m forceps would \u001b[1mdecrease\u001b[0m the morbidity and overall cost of \u001b[1mdysplasia\u001b[0m \u001b[1msurveillance\u001b[0m \u001b[1m.\u001b[0m\n",
      "\n",
      "Número de palavras em comum: 28\n",
      "\n",
      "R1: 0.3943661971830985, R2: 0.0706713780918728, RL: 0.2155455219536177\n",
      "\n",
      "\n",
      "\u001b[1m CANDIDATE - MAX\u001b[0m : \n",
      " ess \u001b[1mmeasurements\u001b[0m can be performed via \u001b[1mfiberoptic\u001b[0m \u001b[1mprobes\u001b[0m and hold great \u001b[1mpromise\u001b[0m for in vivo \u001b[1mscreening\u001b[0m and identification of neoplastic tissues. the potential \u001b[1mclinical\u001b[0m utility of ess for \u001b[1mendoscopic\u001b[0m \u001b[1mdysplasia\u001b[0m and/or \u001b[1mcancer\u001b[0m \u001b[1mdetection\u001b[0m biopsy has been reported in hollow organs \u001b[1mincluding\u001b[0m the urinary bladder,esophagus [], and colon []. the \u001b[1mexperience\u001b[0m from those \u001b[1mstudies\u001b[0m reveals a strong rationale for incorporating ess \u001b[1mprobes\u001b[0m into biopsy tools.integrated \u001b[1moptical\u001b[0m \u001b[1mtools\u001b[0m for \u001b[1mminimally\u001b[0m \u001b[1minvasive\u001b[0m diagnosis and treatment at \u001b[1mgastrointestinal\u001b[0m \u001b[1mendoscopy\u001b[0m 21152112 recent \u001b[1mclinical\u001b[0m \u001b[1mtesting\u001b[0m has also begun with the ess \u001b[1moptical\u001b[0m snare. the tip of the closed \u001b[1moptical\u001b[0m snare device was placed in contact with \u001b[1mpolyps\u001b[0m and spectra were obtained, followed by electrocautery excision of the polyp. from these \u001b[1mresults\u001b[0m we can see that the ess \u001b[1moptical\u001b[0m snare is a promising technology for diagnosing and snaring larger colonic \u001b[1mpolyps\u001b[0m in real time at colonoscopy .our \u001b[1mpreliminary\u001b[0m \u001b[1mresults\u001b[0m have \u001b[1mshown\u001b[0m the \u001b[1mpromise\u001b[0m of the different \u001b[1mintegrated\u001b[0m \u001b[1moptical\u001b[0m \u001b[1mtools\u001b[0m in different \u001b[1mscreening/surveillance\u001b[0m \u001b[1mapplications\u001b[0m in the \u001b[1mgi\u001b[0m tract. in addition, such \u001b[1mintegrated\u001b[0m \u001b[1mdevices\u001b[0m would be \u001b[1minvaluable\u001b[0m for \u001b[1mdysplasia\u001b[0m \u001b[1msurveillance\u001b[0m \u001b[1mstrategies\u001b[0m that \u001b[1mcurrently\u001b[0m require \u001b[1mlarge\u001b[0m \u001b[1mnumbers\u001b[0m of random biopsies, which \u001b[1minclude\u001b[0m \u001b[1mbarretts\u001b[0m \u001b[1mesophagus\u001b[0m and colonic \u001b[1mdysplasia\u001b[0m in \u001b[1minflammatory\u001b[0m \u001b[1mbowel\u001b[0m disease. in contrast to \u001b[1mcolorectal\u001b[0m \u001b[1mcancer\u001b[0m screening, in \u001b[1mbarretts\u001b[0m \u001b[1mesophagus\u001b[0m \u001b[1msurveillance\u001b[0m these \u001b[1mtools\u001b[0m would serve more as \u001b[1mdetection\u001b[0m tools, as \u001b[1mdysplasia\u001b[0m in \u001b[1mbarretts\u001b[0m segment is not clearly visible during \u001b[1mwhite\u001b[0m \u001b[1mlight\u001b[0m endoscopy.\n",
      "\n",
      "Número de palavras em comum: 47\n",
      "\n",
      "R1: 0.4813432835820895, R2: 0.1235955056179775, RL: 0.2878494654381859\n",
      "\n",
      "\n",
      "\u001b[1m CANDIDATE - FT\u001b[0m : \n",
      " noninvasive spectroscopic \u001b[1mtissue\u001b[0m diagnosis, or \u001b[1moptical\u001b[0m biopsy, is a rapidly \u001b[1memerging\u001b[0m field within the field of biophotonics.ideally when using spectroscopy, some form of spectroscopic analysis is performed on \u001b[1mmeasurements\u001b[0m collected from precisely the volume of \u001b[1mtissue\u001b[0m that will be examined histopathologically. the ultimate goal then is to attempt to obtain a diagnosis of the \u001b[1mtissue\u001b[0m \u001b[1mbased\u001b[0m on these measurements, in situ, with minimal invasion and in real time.integrated \u001b[1moptical\u001b[0m \u001b[1mtools\u001b[0m for \u001b[1mminimally\u001b[0m \u001b[1minvasive\u001b[0m diagnosis and treatment at \u001b[1mgastrointestinal\u001b[0m \u001b[1mendoscopy\u001b[0m 21152112 recent \u001b[1mclinical\u001b[0m \u001b[1mtesting\u001b[0m has also begun with the ess \u001b[1moptical\u001b[0m snare. in a separate study, subjects were recruited from a pool of \u001b[1mpatients\u001b[0m referred for routine colonoscopy. when polypectomy of larger \u001b[1mpolyps\u001b[0m (>45mm) was indicated, an ess \u001b[1moptical\u001b[0m snare was used to obtain ess readings from \u001b[1mtissue\u001b[0m prior to electrocautery.beyond validation studies, real time ess measurements, as well as confocal laser endomicroscopy, would be clinically useful for increasing the pre biopsy probability of obtaining neoplastic/dysplastic \u001b[1mtissue\u001b[0m over \u001b[1mbenign\u001b[0m tissue. our \u001b[1mpreliminary\u001b[0m \u001b[1mresults\u001b[0m have \u001b[1mshown\u001b[0m the \u001b[1mpromise\u001b[0m of the different \u001b[1mintegrated\u001b[0m \u001b[1moptical\u001b[0m \u001b[1mtools\u001b[0m in different \u001b[1mscreening/surveillance\u001b[0m \u001b[1mapplications\u001b[0m in the \u001b[1mgi\u001b[0m tract. in the case of \u001b[1mcolorectal\u001b[0m \u001b[1mcancer\u001b[0m screening, these are \u001b[1mtools\u001b[0m for polyp classification not polyp detection, thus there would still be dependence on the endoscopists ability to detect lesions.\n",
      "\n",
      "Número de palavras em comum: 33\n",
      "\n",
      "R1: 0.3954372623574144, R2: 0.0534351145038168, RL: 0.2301989056497412\n",
      "\n",
      "\n"
     ]
    }
   ],
   "source": [
    "print_results(results, 100)"
   ]
  },
  {
   "cell_type": "code",
   "execution_count": 58,
   "id": "019cd3f4",
   "metadata": {
    "scrolled": false
   },
   "outputs": [
    {
     "name": "stdout",
     "output_type": "stream",
     "text": [
      "\u001b[1m REFERENCE \u001b[0m : \n",
      " objective to estimate if live birth in single blastocyst transfers is correlated with the number of sibling supernumerary vitrified blastocysts (embryos not transferred) generated from that same cycle. design retrospective cohort study. setting a large academic art clinic. patients all single blastocyst transfers in of a sart grade good embryo. interventions none. main outcome measures implantation and live birth. results single blastocyst transfers met inclusion criteria. implantation occurred in 65% and live birth in 54% of cycles. in chi square analysis, patients with supernumerary vitrified blastocysts had statistically higher implantation rate (65% versus 50%) and live birth rate (56% versus 41%) when compared to patients without supernumerary blastocysts. univariate logistic regression demonstrated an increase in implantation (or 1.09, 95%ci 1.031.15) and live birth (or 1.06, 95%ci 1.021.09) with increasing number of supernumerary blastocysts. multivariate logistic regression analysis demonstrated patient age and the number of supernumerary blastocysts to be significantly associated with implantation and live birth. conclusion the number of supernumerary vitrified blastocyst correlated positively with the odds of implantation and live birth in good quality single blastocyst transfers. patients with supernumerary blastocysts are good candidates for single embryo transfer.\n",
      "\n",
      "\n",
      "\u001b[1m CANDIDATE - RF\u001b[0m : \n",
      " the ability to predict \u001b[1membryo\u001b[0m \u001b[1mimplantation\u001b[0m is clinically useful for counseling \u001b[1mpatients\u001b[0m and in determining the ideal \u001b[1mnumber\u001b[0m of embryos to transfer. while this has \u001b[1mdemonstrated\u001b[0m that the presence of \u001b[1msupernumerary\u001b[0m embryos is superior to the absence, this statistical test does not allow to predict if the \u001b[1mnumber\u001b[0m of \u001b[1msupernumerary\u001b[0m embryos correlates with \u001b[1mart\u001b[0m outcomes or to control for important potential confounders in the analysis. while the absence or presence of \u001b[1msupernumerary\u001b[0m embryos is \u001b[1mcorrelated\u001b[0m to implantation, we are not aware of any data examining the correlation of the \u001b[1mnumber\u001b[0m of \u001b[1msupernumerary\u001b[0m embryos on \u001b[1mimplantation\u001b[0m in \u001b[1msingle\u001b[0m \u001b[1mblastocyst\u001b[0m transfers.ovarian stimulation was accomplished with mixed fsh/lh protocols under gnrh antagonist or gnrh agonist pituitary suppression as previously described.for gnrh antagonist cycles, the antagonist (ganirelix) was initiated when the lead follicle was 14mm in size. when the lead follicle was 18mm, final oocyte maturation was triggered with 10,000 units of hcg or with 40 units of gnrh agonist in some of the gnrh antagonist cycles.out of 720 \u001b[1msingle\u001b[0m \u001b[1mblastocyst\u001b[0m \u001b[1mtransfers\u001b[0m performed in 2010, there were 655 \u001b[1msingle\u001b[0m \u001b[1mblastocyst\u001b[0m \u001b[1mtransfers\u001b[0m of a \u001b[1msart\u001b[0m \u001b[1mgrade\u001b[0m \u001b[1mgood\u001b[0m embryo. all embryos transferred in both groups were \u001b[1msart\u001b[0m \u001b[1mgrade\u001b[0m \u001b[1mgood\u001b[0m with both groups having similar \u001b[1membryo\u001b[0m expansion and icm grades, however \u001b[1mpatients\u001b[0m with \u001b[1msupernumerary\u001b[0m embryos were more likely to have a \u001b[1mgrade\u001b[0m a trophectoderm in the actual \u001b[1membryo\u001b[0m transferred (80.0% \u001b[1mversus\u001b[0m 60.2%, p<0.01). to examine if the \u001b[1mresults\u001b[0m held consistent in the best prognosis patients, a subgroup \u001b[1manalysis\u001b[0m of 451 \u001b[1msingle\u001b[0m \u001b[1mblastocyst\u001b[0m \u001b[1mtransfers\u001b[0m of an expanded or hatching \u001b[1mblastocyst\u001b[0m with a \u001b[1mgrade\u001b[0m a trophectoderm and \u001b[1mgrade\u001b[0m a inner cell mass was performed.\n",
      "\n",
      "Número de palavras em comum: 21\n",
      "\n",
      "R1: 0.3949044585987261, R2: 0.1194029850746268, RL: 0.2286663705125922\n",
      "\n",
      "\n",
      "\u001b[1m CANDIDATE - MAX\u001b[0m : \n",
      " while the absence or presence of \u001b[1msupernumerary\u001b[0m embryos is \u001b[1mcorrelated\u001b[0m to implantation, we are not aware of any data examining the correlation of the \u001b[1mnumber\u001b[0m of \u001b[1msupernumerary\u001b[0m embryos on \u001b[1mimplantation\u001b[0m in \u001b[1msingle\u001b[0m \u001b[1mblastocyst\u001b[0m transfers. the \u001b[1mobjective\u001b[0m of this \u001b[1mstudy\u001b[0m was to \u001b[1mestimate\u001b[0m if \u001b[1mlive\u001b[0m \u001b[1mbirth\u001b[0m in \u001b[1msingle\u001b[0m \u001b[1mblastocyst\u001b[0m \u001b[1mtransfers\u001b[0m was \u001b[1mcorrelated\u001b[0m with the \u001b[1mnumber\u001b[0m of \u001b[1msibling\u001b[0m \u001b[1msupernumerary\u001b[0m \u001b[1mvitrified\u001b[0m \u001b[1mblastocysts\u001b[0m \u001b[1mgenerated\u001b[0m from that same cycle. we hypothesized that the \u001b[1mnumber\u001b[0m of \u001b[1msupernumerary\u001b[0m \u001b[1mblastocysts\u001b[0m available for vitrification would \u001b[1mpositively\u001b[0m correlate with \u001b[1mimplantation\u001b[0m and \u001b[1mlive\u001b[0m \u001b[1mbirth\u001b[0m in \u001b[1msingle\u001b[0m \u001b[1mblastocyst\u001b[0m \u001b[1mtransfers\u001b[0m .for most patients, oral contraceptive treatment was initiated 19 days prior to stimulation. for gnrh antagonist cycles, the antagonist (ganirelix) was initiated when the lead follicle was 14mm in size. ultrasound guided \u001b[1membryo\u001b[0m \u001b[1mtransfer\u001b[0m was performed on day 5 or day 6.objective to \u001b[1mestimate\u001b[0m if \u001b[1mlive\u001b[0m \u001b[1mbirth\u001b[0m in \u001b[1msingle\u001b[0m \u001b[1mblastocyst\u001b[0m \u001b[1mtransfers\u001b[0m is \u001b[1mcorrelated\u001b[0m with the \u001b[1mnumber\u001b[0m of \u001b[1msibling\u001b[0m \u001b[1msupernumerary\u001b[0m \u001b[1mvitrified\u001b[0m \u001b[1mblastocysts\u001b[0m \u001b[1m(embryos\u001b[0m not \u001b[1mtransferred)\u001b[0m \u001b[1mgenerated\u001b[0m from that same cycle. \u001b[1mdesign\u001b[0m \u001b[1mretrospective\u001b[0m \u001b[1mcohort\u001b[0m study. \u001b[1mpatients\u001b[0m with \u001b[1msupernumerary\u001b[0m \u001b[1mblastocysts\u001b[0m are \u001b[1mgood\u001b[0m \u001b[1mcandidates\u001b[0m for \u001b[1msingle\u001b[0m \u001b[1membryo\u001b[0m transfer.\n",
      "\n",
      "Número de palavras em comum: 31\n",
      "\n",
      "R1: 0.5149051490514905, R2: 0.3596730245231608, RL: 0.3813569025197318\n",
      "\n",
      "\n",
      "\u001b[1m CANDIDATE - FT\u001b[0m : \n",
      " the ability to predict \u001b[1membryo\u001b[0m \u001b[1mimplantation\u001b[0m is clinically useful for counseling \u001b[1mpatients\u001b[0m and in determining the ideal \u001b[1mnumber\u001b[0m of embryos to transfer. \u001b[1mcycles\u001b[0m with the highest \u001b[1mimplantation\u001b[0m potential are ideal \u001b[1mcycles\u001b[0m for \u001b[1msingle\u001b[0m \u001b[1membryo\u001b[0m \u001b[1mtransfer\u001b[0m to minimize the risks of multi fetal gestation while maximizing the likelihood of pregnancy.it is well established that \u001b[1membryo\u001b[0m \u001b[1mquality\u001b[0m correlates with \u001b[1mimplantation\u001b[0m potential ().ovarian stimulation was accomplished with mixed fsh/lh protocols under gnrh antagonist or gnrh agonist pituitary suppression as previously described.for most patients, oral contraceptive treatment was initiated 19 days prior to stimulation. for gnrh antagonist cycles, the antagonist (ganirelix) was initiated when the lead follicle was 14mm in size.out of 720 \u001b[1msingle\u001b[0m \u001b[1mblastocyst\u001b[0m \u001b[1mtransfers\u001b[0m performed in 2010, there were 655 \u001b[1msingle\u001b[0m \u001b[1mblastocyst\u001b[0m \u001b[1mtransfers\u001b[0m of a \u001b[1msart\u001b[0m \u001b[1mgrade\u001b[0m \u001b[1mgood\u001b[0m embryo. the mean \u001b[1mage\u001b[0m was 32.0 3.5 years. the \u001b[1mimplantation\u001b[0m \u001b[1mrate\u001b[0m for the \u001b[1mcohort\u001b[0m was 64% and the \u001b[1mlive\u001b[0m \u001b[1mbirth\u001b[0m \u001b[1mrate\u001b[0m was 54%.\n",
      "\n",
      "Número de palavras em comum: 21\n",
      "\n",
      "R1: 0.3522727272727273, R2: 0.1142857142857142, RL: 0.2098811635061153\n",
      "\n",
      "\n"
     ]
    }
   ],
   "source": [
    "print_results(results, 500)"
   ]
  },
  {
   "cell_type": "code",
   "execution_count": 59,
   "id": "13f92d1e",
   "metadata": {
    "scrolled": false
   },
   "outputs": [
    {
     "name": "stdout",
     "output_type": "stream",
     "text": [
      "\u001b[1m REFERENCE \u001b[0m : \n",
      " objective to validate a model previously developed using the shared equal access regional cancer hospital (search) database to predict the risk of aggressive recurrence after surgery, defined as a prostate specific antigen (psa) doubling time (dt) of < months, incorporating pathological stage, preoperative psa level and pathological gleason sum, that had an area under the curve (auc) of 0.79 using a cohort of men from the duke prostate center (dpc). patients and methods data were included from men from the dpc database who underwent rp for node negative prostate cancer between and 2003. of these men, had disease recurrence, with a psadt of < months, while either did not have a recurrence but had months of follow up or had a recurrence with a psadt of months. we examined the ability of the search model to predict aggressive recurrence within the dpc cohort, and examined the correlation between the predicted risk of aggressive recurrence and the actual outcome within dpc. results the search model predicted aggressive recurrence within dpc with an auc of 0.82. there was a strong and significant correlation between the predicted risk of aggressive recurrence based on the search tables and the actual outcomes within dpc (r = 0.68, p < 0.001), although the model predictions tended to be slightly higher than the actual risk. conclusions the search model to predict aggressive recurrence after rp predicted aggressive recurrence in an external dataset with a high degree of accuracy. these tables, now validated, can be used to help select men for adjuvant therapy and clinical trials.\n",
      "\n",
      "\n",
      "\u001b[1m CANDIDATE - RF\u001b[0m : \n",
      " \u001b[1mmen\u001b[0m who have a \u001b[1mrecurrence\u001b[0m of \u001b[1mprostate\u001b[0m \u001b[1mcancer\u001b[0m with a short \u001b[1mpsa\u001b[0m \u001b[1mdoubling\u001b[0m \u001b[1mtime\u001b[0m (psadt) after radical prostatectomy (rp) have a \u001b[1mhigher\u001b[0m \u001b[1mrisk\u001b[0m of all cause and \u001b[1mprostate\u001b[0m \u001b[1mcancer\u001b[0m \u001b[1mspecific\u001b[0m death than \u001b[1mmen\u001b[0m who \u001b[1meither\u001b[0m do not have a \u001b[1mrecurrence\u001b[0m or who have a \u001b[1mrecurrence\u001b[0m with a longer \u001b[1mpsadt\u001b[0m []. in a previous study that \u001b[1mincluded\u001b[0m \u001b[1mmen\u001b[0m from the \u001b[1mshared\u001b[0m \u001b[1mequal\u001b[0m \u001b[1maccess\u001b[0m \u001b[1mregional\u001b[0m \u001b[1mcancer\u001b[0m \u001b[1mhospital\u001b[0m \u001b[1m(search)\u001b[0m cohort,we identified three factors that were available at the \u001b[1mtime\u001b[0m of \u001b[1msurgery\u001b[0m that could be \u001b[1mused\u001b[0m to identify \u001b[1mmen\u001b[0m who were at \u001b[1mrisk\u001b[0m of an \u001b[1maggressive\u001b[0m \u001b[1mrecurrence\u001b[0m (defined as \u001b[1mrecurrence\u001b[0m with a \u001b[1mpsadt\u001b[0m of \u001b[1m<\u001b[0m 9 months), i.e. \u001b[1mpreoperative\u001b[0m \u001b[1mpsa\u001b[0m level, \u001b[1mpathological\u001b[0m \u001b[1mgleason\u001b[0m sum, and \u001b[1mpathological\u001b[0m data.therefore, we sought to \u001b[1mvalidate\u001b[0m this \u001b[1mmodel\u001b[0m \u001b[1musing\u001b[0m a \u001b[1mcohort\u001b[0m of \u001b[1mmen\u001b[0m treated at the \u001b[1mduke\u001b[0m \u001b[1mprostate\u001b[0m \u001b[1mcenter\u001b[0m (dpc), a tertiary care referral centre, by examining the \u001b[1mability\u001b[0m of the \u001b[1msearch\u001b[0m \u001b[1mmodel\u001b[0m to \u001b[1mpredict\u001b[0m \u001b[1maggressive\u001b[0m \u001b[1mrecurrence\u001b[0m \u001b[1mwithin\u001b[0m the \u001b[1mdpc\u001b[0m cohort, as well as the \u001b[1mcorrelation\u001b[0m between the \u001b[1mpredicted\u001b[0m \u001b[1mrisk\u001b[0m of \u001b[1maggressive\u001b[0m \u001b[1mrecurrence\u001b[0m and the \u001b[1mactual\u001b[0m \u001b[1moutcome\u001b[0m \u001b[1mwithin\u001b[0m the \u001b[1mdpc\u001b[0m \u001b[1mcohort\u001b[0m .non \u001b[1maggressive\u001b[0m \u001b[1mdisease\u001b[0m was \u001b[1mdefined\u001b[0m as \u001b[1mrecurrence\u001b[0m with a \u001b[1mpsadt\u001b[0m of 9 \u001b[1mmonths\u001b[0m or no evidence of recurrence, as these \u001b[1mmen\u001b[0m are at low \u001b[1mrisk\u001b[0m of death from \u001b[1mprostate\u001b[0m cancer. thus, of the 4689 \u001b[1mmen\u001b[0m \u001b[1mwithin\u001b[0m the dpc, we excluded those who were lacking \u001b[1mfollow\u001b[0m up \u001b[1mdata\u001b[0m (59) or who had a \u001b[1mrecurrence\u001b[0m with an unknown \u001b[1mpsadt\u001b[0m (741), as they were unable to be classified.we explored differences in the distribution of demographic and clinicopathological characteristics between \u001b[1maggressive\u001b[0m and non \u001b[1maggressive\u001b[0m \u001b[1mdisease\u001b[0m groups \u001b[1musing\u001b[0m the mannwhitney test for continuous variables (age, \u001b[1mpsa\u001b[0m level, \u001b[1mprostate\u001b[0m weight, and year of surgery) or the chi squared test for categorical variables, i.e. race, body mass index (bmi), postoperative \u001b[1mgleason\u001b[0m sum, epe, surgical margin status, and seminal vesicle invasion (svi).men in the \u001b[1maggressive\u001b[0m group were older, had \u001b[1msurgery\u001b[0m in earlier years, had \u001b[1mhigher\u001b[0m \u001b[1mpsa\u001b[0m level, smaller prostates, \u001b[1mhigher\u001b[0m \u001b[1mpathological\u001b[0m grade disease, more adverse \u001b[1mpathological\u001b[0m findings, and a greater percentage of the \u001b[1mprostate\u001b[0m involved with tumour than \u001b[1mmen\u001b[0m in the non \u001b[1maggressive\u001b[0m group .we \u001b[1mexamined\u001b[0m the \u001b[1mability\u001b[0m of the multivariate \u001b[1mmodel\u001b[0m \u001b[1mdeveloped\u001b[0m to \u001b[1mpredict\u001b[0m \u001b[1maggressive\u001b[0m \u001b[1mrecurrence\u001b[0m in the \u001b[1msearch\u001b[0m \u001b[1mcohort\u001b[0m to discriminate between \u001b[1mmen\u001b[0m at \u001b[1mhigh\u001b[0m \u001b[1mrisk\u001b[0m of \u001b[1maggressive\u001b[0m \u001b[1mrecurrence\u001b[0m vs \u001b[1mmen\u001b[0m at low \u001b[1mrisk\u001b[0m of \u001b[1maggressive\u001b[0m \u001b[1mrecurrence\u001b[0m in \u001b[1mdpc\u001b[0m \u001b[1musing\u001b[0m the auc.among \u001b[1mmen\u001b[0m with lower risk, patient \u001b[1mrisk\u001b[0m was overestimated by only 510%, but among the subset of \u001b[1mmen\u001b[0m with \u001b[1mhigher\u001b[0m risk, which contained relatively few men, patient \u001b[1mrisk\u001b[0m was overestimated to a larger \u001b[1mdegree\u001b[0m \u001b[1m.\u001b[0m\n",
      "\n",
      "Número de palavras em comum: 56\n",
      "\n",
      "R1: 0.5400593471810089, R2: 0.2678571428571428, RL: 0.352545123076267\n",
      "\n",
      "\n",
      "\u001b[1m CANDIDATE - MAX\u001b[0m : \n",
      " however, the \u001b[1mpsadt\u001b[0m is not known until \u001b[1mmen\u001b[0m have already had a \u001b[1mrecurrence\u001b[0m and have been followed for \u001b[1mmonths\u001b[0m to years. in a previous study that \u001b[1mincluded\u001b[0m \u001b[1mmen\u001b[0m from the \u001b[1mshared\u001b[0m \u001b[1mequal\u001b[0m \u001b[1maccess\u001b[0m \u001b[1mregional\u001b[0m \u001b[1mcancer\u001b[0m \u001b[1mhospital\u001b[0m \u001b[1m(search)\u001b[0m cohort,we identified three factors that were available at the \u001b[1mtime\u001b[0m of \u001b[1msurgery\u001b[0m that could be \u001b[1mused\u001b[0m to identify \u001b[1mmen\u001b[0m who were at \u001b[1mrisk\u001b[0m of an \u001b[1maggressive\u001b[0m \u001b[1mrecurrence\u001b[0m (defined as \u001b[1mrecurrence\u001b[0m with a \u001b[1mpsadt\u001b[0m of \u001b[1m<\u001b[0m 9 months), i.e. \u001b[1mpreoperative\u001b[0m \u001b[1mpsa\u001b[0m level, \u001b[1mpathological\u001b[0m \u001b[1mgleason\u001b[0m sum, and \u001b[1mpathological\u001b[0m data.therefore, we sought to \u001b[1mvalidate\u001b[0m this \u001b[1mmodel\u001b[0m \u001b[1musing\u001b[0m a \u001b[1mcohort\u001b[0m of \u001b[1mmen\u001b[0m treated at the \u001b[1mduke\u001b[0m \u001b[1mprostate\u001b[0m \u001b[1mcenter\u001b[0m (dpc), a tertiary care referral centre, by examining the \u001b[1mability\u001b[0m of the \u001b[1msearch\u001b[0m \u001b[1mmodel\u001b[0m to \u001b[1mpredict\u001b[0m \u001b[1maggressive\u001b[0m \u001b[1mrecurrence\u001b[0m \u001b[1mwithin\u001b[0m the \u001b[1mdpc\u001b[0m cohort, as well as the \u001b[1mcorrelation\u001b[0m between the \u001b[1mpredicted\u001b[0m \u001b[1mrisk\u001b[0m of \u001b[1maggressive\u001b[0m \u001b[1mrecurrence\u001b[0m and the \u001b[1mactual\u001b[0m \u001b[1moutcome\u001b[0m \u001b[1mwithin\u001b[0m the \u001b[1mdpc\u001b[0m \u001b[1mcohort\u001b[0m .non \u001b[1maggressive\u001b[0m \u001b[1mdisease\u001b[0m was \u001b[1mdefined\u001b[0m as \u001b[1mrecurrence\u001b[0m with a \u001b[1mpsadt\u001b[0m of 9 \u001b[1mmonths\u001b[0m or no evidence of recurrence, as these \u001b[1mmen\u001b[0m are at low \u001b[1mrisk\u001b[0m of death from \u001b[1mprostate\u001b[0m cancer. we \u001b[1mexamined\u001b[0m the \u001b[1mability\u001b[0m of our \u001b[1mpreviously\u001b[0m published model, that was \u001b[1mdeveloped\u001b[0m to \u001b[1mpredict\u001b[0m \u001b[1maggressive\u001b[0m \u001b[1mrecurrence\u001b[0m \u001b[1musing\u001b[0m the \u001b[1msearch\u001b[0m \u001b[1mdatabase\u001b[0m to \u001b[1mpredict\u001b[0m \u001b[1maggressive\u001b[0m \u001b[1mrecurrence\u001b[0m in the \u001b[1mdpc\u001b[0m database.we also \u001b[1mexamined\u001b[0m the \u001b[1mcorrelation\u001b[0m between the \u001b[1mpredicted\u001b[0m \u001b[1mrisk\u001b[0m of \u001b[1maggressive\u001b[0m \u001b[1mrecurrence\u001b[0m \u001b[1mbased\u001b[0m on the \u001b[1msearch\u001b[0m \u001b[1mmodel\u001b[0m for each \u001b[1mrisk\u001b[0m category and the \u001b[1mactual\u001b[0m \u001b[1moutcome\u001b[0m \u001b[1mwithin\u001b[0m \u001b[1mdpc\u001b[0m \u001b[1musing\u001b[0m spearman's correlation.in all, 100 \u001b[1mmen\u001b[0m had \u001b[1mdisease\u001b[0m \u001b[1mrecurrence\u001b[0m with a \u001b[1mpsadt\u001b[0m of \u001b[1m<\u001b[0m 9 months. in the \u001b[1mdpc\u001b[0m database, the \u001b[1mauc\u001b[0m for this \u001b[1mmodel\u001b[0m was 0.82.when we \u001b[1mexamined\u001b[0m the \u001b[1mcorrelation\u001b[0m between the \u001b[1mpredicted\u001b[0m \u001b[1mrisk\u001b[0m of \u001b[1maggressive\u001b[0m \u001b[1mrecurrence\u001b[0m \u001b[1mbased\u001b[0m on the \u001b[1msearch\u001b[0m \u001b[1mmodel\u001b[0m for each \u001b[1mrisk\u001b[0m category and the \u001b[1mactual\u001b[0m \u001b[1moutcome\u001b[0m \u001b[1mwithin\u001b[0m \u001b[1mdpc\u001b[0m \u001b[1musing\u001b[0m spearman's correlation, there was a \u001b[1mstrong\u001b[0m and \u001b[1msignificant\u001b[0m \u001b[1mcorrelation\u001b[0m between the \u001b[1mactual\u001b[0m and \u001b[1mpredicted\u001b[0m \u001b[1moutcomes\u001b[0m (r=0.68, \u001b[1mp\u001b[0m \u001b[1m<\u001b[0m 0.001; ).\n",
      "\n",
      "Número de palavras em comum: 60\n",
      "\n",
      "R1: 0.6878306878306878, R2: 0.4283185840707963, RL: 0.4476824468698771\n",
      "\n",
      "\n",
      "\u001b[1m CANDIDATE - FT\u001b[0m : \n",
      " \u001b[1mmen\u001b[0m who have a \u001b[1mrecurrence\u001b[0m of \u001b[1mprostate\u001b[0m \u001b[1mcancer\u001b[0m with a short \u001b[1mpsa\u001b[0m \u001b[1mdoubling\u001b[0m \u001b[1mtime\u001b[0m (psadt) after radical prostatectomy (rp) have a \u001b[1mhigher\u001b[0m \u001b[1mrisk\u001b[0m of all cause and \u001b[1mprostate\u001b[0m \u001b[1mcancer\u001b[0m \u001b[1mspecific\u001b[0m death than \u001b[1mmen\u001b[0m who \u001b[1meither\u001b[0m do not have a \u001b[1mrecurrence\u001b[0m or who have a \u001b[1mrecurrence\u001b[0m with a longer \u001b[1mpsadt\u001b[0m []. however, the \u001b[1mpsadt\u001b[0m is not known until \u001b[1mmen\u001b[0m have already had a \u001b[1mrecurrence\u001b[0m and have been followed for \u001b[1mmonths\u001b[0m to years. there are several algorithms for predicting various patient \u001b[1moutcomes\u001b[0m such as the \u001b[1mrisk\u001b[0m of \u001b[1mcancer\u001b[0m extending outside of the \u001b[1mprostate\u001b[0m and \u001b[1mrisk\u001b[0m of \u001b[1mpsa\u001b[0m \u001b[1mrecurrence\u001b[0m .after obtaining institutional review board approval from \u001b[1mduke\u001b[0m university to abstract data, we entered \u001b[1mdata\u001b[0m from \u001b[1mpatients\u001b[0m undergoing \u001b[1mrp\u001b[0m at \u001b[1mduke\u001b[0m university into the \u001b[1mdpc\u001b[0m database. this \u001b[1mdatabase\u001b[0m includes information on patient age at surgery, race, height, weight, \u001b[1mclinical\u001b[0m stage, grade of \u001b[1mcancer\u001b[0m on diagnostic biopsies, \u001b[1mpreoperative\u001b[0m \u001b[1mpsa\u001b[0m level, surgical specimen pathology (specimen weight, tumour grade, stage, and surgical margin status), \u001b[1mfollow\u001b[0m up \u001b[1mpsa\u001b[0m data, as well as sociodemographic and quality of life data. \u001b[1mpatients\u001b[0m treated with neoadjuvant androgen deprivation or radiotherapy were excluded.men in the \u001b[1maggressive\u001b[0m group were older, had \u001b[1msurgery\u001b[0m in earlier years, had \u001b[1mhigher\u001b[0m \u001b[1mpsa\u001b[0m level, smaller prostates, \u001b[1mhigher\u001b[0m \u001b[1mpathological\u001b[0m grade disease, more adverse \u001b[1mpathological\u001b[0m findings, and a greater percentage of the \u001b[1mprostate\u001b[0m involved with tumour than \u001b[1mmen\u001b[0m in the non \u001b[1maggressive\u001b[0m group .in all, 100 \u001b[1mmen\u001b[0m had \u001b[1mdisease\u001b[0m \u001b[1mrecurrence\u001b[0m with a \u001b[1mpsadt\u001b[0m of \u001b[1m<\u001b[0m 9 months. of the 1889 \u001b[1mmen\u001b[0m in the non \u001b[1maggressive\u001b[0m group, 454 had a \u001b[1mrecurrence\u001b[0m with a \u001b[1mpsadt\u001b[0m of 9 \u001b[1mmonths\u001b[0m and 1535 did not have a recurrence.\n",
      "\n",
      "Número de palavras em comum: 32\n",
      "\n",
      "R1: 0.4739884393063584, R2: 0.1353965183752417, RL: 0.2492967437556829\n",
      "\n",
      "\n"
     ]
    }
   ],
   "source": [
    "print_results(results, 670)"
   ]
  },
  {
   "cell_type": "code",
   "execution_count": 61,
   "id": "b5124489",
   "metadata": {
    "scrolled": false
   },
   "outputs": [
    {
     "name": "stdout",
     "output_type": "stream",
     "text": [
      "\u001b[1m REFERENCE \u001b[0m : \n",
      " the present study examined the morphological development of the otolith vestibular receptors in quail. here we describe epithelial growth, hair cell density, stereocilia polarization, and afferent nerve innervation during development. the otolith maculae epithelial areas increased exponentially throughout embryonic development reaching asymptotic values near post hatch day p7. increases in hair cell density were dependent upon macular location; striolar hair cells developed first followed by hair cells in extrastriola regions. stereocilia polarization was initiated early, with defining reversal zones forming at e8. less than half of all immature hair cells observed had non polarized internal kinocilia with the remaining exhibiting planar polarity. immunohistochemistry and neural tracing techniques were employed to examine the shape and location of the striolar regions. initial innervation of the maculae was by small fibers with terminal growth cones at e6, followed by collateral branches with apparent bouton terminals at e8. calyceal terminal formation began at e10, however no mature calyces were observed until e12, when all fibers appeared to be dimorphs. calyx afferents innervating only type i hair cells did not develop until e14. finally, the topographic organization of afferent macular innervation in the adult quail utricle was quantified. calyx and dimorph afferents were primarily confined to the striolar regions, while bouton fibers were located in the extrastriola and type ii band. calyx fibers were the least complex, followed by dimorph units. bouton fibers had large innervation fields, with arborous branches and many terminal boutons.\n",
      "\n",
      "\n",
      "\u001b[1m CANDIDATE - RF\u001b[0m : \n",
      " in contrast, \u001b[1mbouton\u001b[0m \u001b[1mafferents\u001b[0m are exclusively \u001b[1mlocated\u001b[0m in the \u001b[1mextrastriola\u001b[0m \u001b[1mregions\u001b[0m and a unique \u001b[1mband\u001b[0m of \u001b[1mtype\u001b[0m \u001b[1mii\u001b[0m \u001b[1mcells\u001b[0m that flanks the \u001b[1mreversal\u001b[0m line of the utricle. reported that \u001b[1mbouton\u001b[0m \u001b[1mafferents\u001b[0m \u001b[1mdevelop\u001b[0m in chicks before \u001b[1mcalyceal\u001b[0m bearing afferents, but their \u001b[1mstudy\u001b[0m did not address the \u001b[1mformation\u001b[0m of regional differences in \u001b[1mmacular\u001b[0m innervation.here, we focused on \u001b[1mhair\u001b[0m \u001b[1mcell\u001b[0m distribution, \u001b[1mstereocilia\u001b[0m polarization, and \u001b[1mafferent\u001b[0m \u001b[1mnerve\u001b[0m \u001b[1minnervation\u001b[0m of the \u001b[1motolith\u001b[0m maculae.20155736 the total \u001b[1mareas\u001b[0m of the utricular and saccular receptor epithelia were measured (n=3 16 maculae) for each developmental \u001b[1mday\u001b[0m from e6e15, p0 (hatch), and for \u001b[1mpost\u001b[0m \u001b[1mhatch\u001b[0m days p1 (24 hours \u001b[1mpost\u001b[0m hatch), p7, and p48 (adult). initially, both the utricular and saccular \u001b[1mmaculae\u001b[0m \u001b[1mincreased\u001b[0m in area at about the same rate during \u001b[1mearly\u001b[0m \u001b[1membryonic\u001b[0m development, as shown in.the rates of \u001b[1mgrowth\u001b[0m for both the utricular and saccular \u001b[1mmaculae\u001b[0m \u001b[1mfollowed\u001b[0m a sigmoidal function,with significantly different slopes (1.8 utricle; 1.3 saccule).four utricular and four saccular \u001b[1mmaculae\u001b[0m were each \u001b[1mexamined\u001b[0m at \u001b[1me6\u001b[0m e15, \u001b[1mp7\u001b[0m and p42 (adult) developmental days. from \u001b[1me12\u001b[0m until adulthood, the extrastriolar \u001b[1mregions\u001b[0m exhibited \u001b[1mincreased\u001b[0m \u001b[1mhair\u001b[0m \u001b[1mcell\u001b[0m densities that remained fairly constant during \u001b[1mpost\u001b[0m \u001b[1mhatch\u001b[0m \u001b[1mdevelopment\u001b[0m .type \u001b[1mii\u001b[0m \u001b[1mhair\u001b[0m \u001b[1mcells\u001b[0m are \u001b[1mlocated\u001b[0m \u001b[1mthroughout\u001b[0m the macula, but are the only \u001b[1mhair\u001b[0m \u001b[1mcell\u001b[0m \u001b[1mtype\u001b[0m found in the \u001b[1mextrastriola\u001b[0m region \u001b[1m.\u001b[0m\n",
      "\n",
      "Número de palavras em comum: 43\n",
      "\n",
      "R1: 0.4635761589403973, R2: 0.1330376940133037, RL: 0.2456081804222587\n",
      "\n",
      "\n",
      "\u001b[1m CANDIDATE - MAX\u001b[0m : \n",
      " \u001b[1mcalyx\u001b[0m \u001b[1mafferents\u001b[0m contain only \u001b[1mcalyceal\u001b[0m \u001b[1mterminals\u001b[0m to innervate \u001b[1mtype\u001b[0m i \u001b[1mhair\u001b[0m cells. in contrast, \u001b[1mbouton\u001b[0m \u001b[1mafferents\u001b[0m are exclusively \u001b[1mlocated\u001b[0m in the \u001b[1mextrastriola\u001b[0m \u001b[1mregions\u001b[0m and a unique \u001b[1mband\u001b[0m of \u001b[1mtype\u001b[0m \u001b[1mii\u001b[0m \u001b[1mcells\u001b[0m that flanks the \u001b[1mreversal\u001b[0m line of the utricle. here, we focused on \u001b[1mhair\u001b[0m \u001b[1mcell\u001b[0m distribution, \u001b[1mstereocilia\u001b[0m polarization, and \u001b[1mafferent\u001b[0m \u001b[1mnerve\u001b[0m \u001b[1minnervation\u001b[0m of the \u001b[1motolith\u001b[0m maculae.20155736 the total \u001b[1mareas\u001b[0m of the utricular and saccular receptor epithelia were measured (n=3 16 maculae) for each developmental \u001b[1mday\u001b[0m from e6e15, p0 (hatch), and for \u001b[1mpost\u001b[0m \u001b[1mhatch\u001b[0m days p1 (24 hours \u001b[1mpost\u001b[0m hatch), p7, and p48 (adult). initially, both the utricular and saccular \u001b[1mmaculae\u001b[0m \u001b[1mincreased\u001b[0m in area at about the same rate during \u001b[1mearly\u001b[0m \u001b[1membryonic\u001b[0m development, as shown in.little \u001b[1mgrowth\u001b[0m occurred between days \u001b[1me6\u001b[0m and e7, \u001b[1mhowever\u001b[0m both \u001b[1mmaculae\u001b[0m doubled in size between e7 and e8.later in development, \u001b[1mhair\u001b[0m \u001b[1mcell\u001b[0m \u001b[1mdensity\u001b[0m actually decreased from \u001b[1me8\u001b[0m to e10; likely due to the rapid \u001b[1mgrowth\u001b[0m in size of the epithelium.second, in \u001b[1madult\u001b[0m quail, \u001b[1mtype\u001b[0m i \u001b[1mhair\u001b[0m \u001b[1mcells\u001b[0m are \u001b[1mprimarily\u001b[0m \u001b[1mlocated\u001b[0m in the \u001b[1mstriolar\u001b[0m region and these \u001b[1mhair\u001b[0m \u001b[1mcells\u001b[0m have a much larger apical size than \u001b[1mtype\u001b[0m \u001b[1mii\u001b[0m \u001b[1mhair\u001b[0m cells. \u001b[1mtype\u001b[0m \u001b[1mii\u001b[0m \u001b[1mhair\u001b[0m \u001b[1mcells\u001b[0m are \u001b[1mlocated\u001b[0m \u001b[1mthroughout\u001b[0m the macula, but are the only \u001b[1mhair\u001b[0m \u001b[1mcell\u001b[0m \u001b[1mtype\u001b[0m found in the \u001b[1mextrastriola\u001b[0m region \u001b[1m.\u001b[0m\n",
      "\n",
      "Número de palavras em comum: 46\n",
      "\n",
      "R1: 0.4732142857142857, R2: 0.1704035874439461, RL: 0.2577147477908822\n",
      "\n",
      "\n",
      "\u001b[1m CANDIDATE - FT\u001b[0m : \n",
      " the \u001b[1mvestibular\u001b[0m \u001b[1motolith\u001b[0m \u001b[1mreceptors\u001b[0m have evolved to detect linear motion and head position with respect to gravity. these are essential functions, about which all coordinated and reflexive movements, as well as spatial orientation and navigation through space depend. however, little is known about \u001b[1motolith\u001b[0m system development.20155736 the total \u001b[1mareas\u001b[0m of the utricular and saccular receptor epithelia were measured (n=3 16 maculae) for each developmental \u001b[1mday\u001b[0m from e6e15, p0 (hatch), and for \u001b[1mpost\u001b[0m \u001b[1mhatch\u001b[0m days p1 (24 hours \u001b[1mpost\u001b[0m hatch), p7, and p48 (adult). initially, both the utricular and saccular \u001b[1mmaculae\u001b[0m \u001b[1mincreased\u001b[0m in area at about the same rate during \u001b[1mearly\u001b[0m \u001b[1membryonic\u001b[0m development, as shown in.little \u001b[1mgrowth\u001b[0m occurred between days \u001b[1me6\u001b[0m and e7, \u001b[1mhowever\u001b[0m both \u001b[1mmaculae\u001b[0m doubled in size between e7 and e8.developmental neurobiology \u001b[1mstereocilia\u001b[0m bundles were \u001b[1mquantified\u001b[0m from counting frames taken at similar locations across the receptor epithelium (see methods). four utricular and four saccular \u001b[1mmaculae\u001b[0m were each \u001b[1mexamined\u001b[0m at \u001b[1me6\u001b[0m e15, \u001b[1mp7\u001b[0m and p42 (adult) developmental days. as shown in,initially the mean \u001b[1mhair\u001b[0m \u001b[1mcell\u001b[0m densities in the \u001b[1mstriolar\u001b[0m \u001b[1mregions\u001b[0m of both \u001b[1mmaculae\u001b[0m exhibited significantly faster maturation rates as compared to extrastriolar \u001b[1mregions\u001b[0m (utricle e6: f(1,4) 7.9, p<0.05; e8: f(1,6)=39.2, p<0.001; and e10: f(1,6)=37.2, p<0.001; saccule \u001b[1me6\u001b[0m (f(1,6)=353.6, p<0.001), \u001b[1me8\u001b[0m (f(1,6)=41.1, p<0.001) and \u001b[1me10\u001b[0m (f(1,6)=6.8, p<0.05).\n",
      "\n",
      "Número de palavras em comum: 28\n",
      "\n",
      "R1: 0.2969072164948454, R2: 0.041407867494824, RL: 0.1801141813953539\n",
      "\n",
      "\n"
     ]
    }
   ],
   "source": [
    "print_results(results, 900)"
   ]
  },
  {
   "cell_type": "code",
   "execution_count": null,
   "id": "8d030893",
   "metadata": {},
   "outputs": [],
   "source": []
  },
  {
   "cell_type": "code",
   "execution_count": 145,
   "id": "4cdd8582",
   "metadata": {
    "scrolled": false
   },
   "outputs": [
    {
     "name": "stdout",
     "output_type": "stream",
     "text": [
      "\u001b[1m REFERENCE \u001b[0m : \n",
      " maternal aggression is highly expressed during lactation and serves to protect the developing young from intruders that may injure the offspring. one neurochemical modulator of maternal aggression appears to be arginine vasopressin (avp). earlier research supports a role for avp in maternal aggression in rats as treatment with an avp antagonist in lactating, primiparous rats stimulates the mothers aggression towards intruders the second half of lactation, but that avp itself was without major effects during early lactation. recent behavioral findings indicate that during a second lactation (multiparous) mothers display higher levels of maternal aggression than do first time mothers (primiparous). the present study was designed to assess the involvement of avp as mothers acquire reproductive experience. therefore, the involvement of avp in maternal aggression in multiparous mothers was measured after intracerebroventricular (icv) treatment with both avp and a v1a receptor antagonist. behavior was assessed during early lactation when aggression levels are very high in multiparous mothers as well as during late lactation when aggression levels are lower. the results demonstrated that icv infusions of avp significantly reduced maternal aggression in multiparous females on day of lactation, whereas v1a antagonist infusions increased aggression on day of lactation. these findings suggest that the role of avp in maternal aggression may be amplified as reproductive/lactational experiences increase, and support the involvement of the central avp system as a key modulator of maternal protection of the young.\n",
      "\n",
      "\n",
      "\u001b[1m CANDIDATE - CB\u001b[0m : \n",
      " given the \u001b[1mrole\u001b[0m of \u001b[1mavp\u001b[0m in \u001b[1mprimiparous\u001b[0m \u001b[1mmaternal\u001b[0m \u001b[1maggression\u001b[0m and the \u001b[1mhigher\u001b[0m \u001b[1mlevels\u001b[0m of \u001b[1mmaternal\u001b[0m \u001b[1maggression\u001b[0m found in \u001b[1mmultiparous\u001b[0m mothers, it was postulated that neural \u001b[1mavp\u001b[0m \u001b[1mmay\u001b[0m be involved in \u001b[1mmultiparous\u001b[0m \u001b[1maggression\u001b[0m as well. the inability to demonstrate a substantial inhibitory action of \u001b[1mavp\u001b[0m during \u001b[1mearly\u001b[0m \u001b[1mlactation\u001b[0m in \u001b[1mprimiparous\u001b[0m \u001b[1mlactating\u001b[0m \u001b[1mrats\u001b[0m \u001b[1mmay\u001b[0m be due to the fact that \u001b[1maggression\u001b[0m in \u001b[1mprimiparous\u001b[0m \u001b[1mrats\u001b[0m during \u001b[1mearly\u001b[0m \u001b[1mlactation\u001b[0m is \u001b[1msignificantly\u001b[0m \u001b[1mlower\u001b[0m compared to age matched, \u001b[1mmultiparous\u001b[0m rats.we also examined the \u001b[1meffects\u001b[0m of \u001b[1mcentral\u001b[0m administration of \u001b[1mv1a\u001b[0m \u001b[1mreceptor\u001b[0m \u001b[1mantagonist\u001b[0m on \u001b[1mmultiparous\u001b[0m \u001b[1mmaternal\u001b[0m \u001b[1maggression\u001b[0m during later \u001b[1mlactation\u001b[0m to evaluate the \u001b[1minvolvement\u001b[0m of the \u001b[1mavp\u001b[0m neural \u001b[1msystem\u001b[0m in \u001b[1maggression\u001b[0m throughout \u001b[1mlactation\u001b[0m in these experienced females.noneavp \u001b[1mtreatment\u001b[0m did not affect attack latencies or number of attacks ( and ). attack duration during the 15 minute \u001b[1maggression\u001b[0m test was decreased on d5 following \u001b[1micv\u001b[0m \u001b[1mavp\u001b[0m (f[3,41] =8.90, p < 0.01, ), as all three doses caused a significant attenuation of \u001b[1maggression\u001b[0m (p<0.01 for all 3 doses). the \u001b[1mv1a\u001b[0m \u001b[1mreceptor\u001b[0m \u001b[1mantagonist\u001b[0m \u001b[1mtreatment\u001b[0m also \u001b[1mincreased\u001b[0m the number of attacks on d15 of \u001b[1mlactation\u001b[0m (f[3,37]=3.84, p < 0.05, ), and this effect tended to be stronger at the \u001b[1mhigher\u001b[0m doses as \u001b[1mwell\u001b[0m (ps=0.09 for saline vs. 25 and 125 ng).\n",
      "\n",
      "Número de palavras em comum: 30\n",
      "\n",
      "R1: 0.3984674329501915, R2: 0.1003861003861003, RL: 0.2068965517241379\n",
      "\n",
      "\n",
      "\u001b[1m CANDIDATE - RF\u001b[0m : \n",
      " the inability to demonstrate a substantial inhibitory action of \u001b[1mavp\u001b[0m during \u001b[1mearly\u001b[0m \u001b[1mlactation\u001b[0m in \u001b[1mprimiparous\u001b[0m \u001b[1mlactating\u001b[0m \u001b[1mrats\u001b[0m \u001b[1mmay\u001b[0m be due to the fact that \u001b[1maggression\u001b[0m in \u001b[1mprimiparous\u001b[0m \u001b[1mrats\u001b[0m during \u001b[1mearly\u001b[0m \u001b[1mlactation\u001b[0m is \u001b[1msignificantly\u001b[0m \u001b[1mlower\u001b[0m compared to age matched, \u001b[1mmultiparous\u001b[0m rats.we also examined the \u001b[1meffects\u001b[0m of \u001b[1mcentral\u001b[0m administration of \u001b[1mv1a\u001b[0m \u001b[1mreceptor\u001b[0m \u001b[1mantagonist\u001b[0m on \u001b[1mmultiparous\u001b[0m \u001b[1mmaternal\u001b[0m \u001b[1maggression\u001b[0m during later \u001b[1mlactation\u001b[0m to evaluate the \u001b[1minvolvement\u001b[0m of the \u001b[1mavp\u001b[0m neural \u001b[1msystem\u001b[0m in \u001b[1maggression\u001b[0m throughout \u001b[1mlactation\u001b[0m in these experienced females. it was hypothesized that \u001b[1mavp\u001b[0m would decrease \u001b[1maggression\u001b[0m in \u001b[1mmultiparous\u001b[0m \u001b[1mlactating\u001b[0m \u001b[1mrats\u001b[0m during \u001b[1mearly\u001b[0m \u001b[1mlactation\u001b[0m when \u001b[1maggression\u001b[0m \u001b[1mlevels\u001b[0m are high, and a \u001b[1mv1a\u001b[0m \u001b[1mreceptor\u001b[0m \u001b[1mantagonist\u001b[0m would \u001b[1mincrease\u001b[0m \u001b[1maggression\u001b[0m during \u001b[1mlate\u001b[0m \u001b[1mlactation\u001b[0m when \u001b[1maggression\u001b[0m \u001b[1mlevels\u001b[0m are reduced.noneavp \u001b[1mtreatment\u001b[0m did not affect attack latencies or number of attacks ( and ). attack duration during the 15 minute \u001b[1maggression\u001b[0m test was decreased on d5 following \u001b[1micv\u001b[0m \u001b[1mavp\u001b[0m (f[3,41] =8.90, p < 0.01, ), as all three doses caused a significant attenuation of \u001b[1maggression\u001b[0m (p<0.01 for all 3 doses). the \u001b[1mv1a\u001b[0m \u001b[1mreceptor\u001b[0m \u001b[1mantagonist\u001b[0m \u001b[1mtreatment\u001b[0m also \u001b[1mincreased\u001b[0m the number of attacks on d15 of \u001b[1mlactation\u001b[0m (f[3,37]=3.84, p < 0.05, ), and this effect tended to be stronger at the \u001b[1mhigher\u001b[0m doses as \u001b[1mwell\u001b[0m (ps=0.09 for saline vs. 25 and 125 ng).\n",
      "\n",
      "Número de palavras em comum: 32\n",
      "\n",
      "R1: 0.4150943396226415, R2: 0.1064638783269962, RL: 0.2264150943396226\n",
      "\n",
      "\n",
      "\u001b[1m CANDIDATE - MAX\u001b[0m : \n",
      " \u001b[1mone\u001b[0m neurohormone involved in the expression of \u001b[1mmaternal\u001b[0m \u001b[1maggression\u001b[0m is \u001b[1marginine\u001b[0m \u001b[1mvasopressin\u001b[0m (avp). we also examined the \u001b[1meffects\u001b[0m of \u001b[1mcentral\u001b[0m administration of \u001b[1mv1a\u001b[0m \u001b[1mreceptor\u001b[0m \u001b[1mantagonist\u001b[0m on \u001b[1mmultiparous\u001b[0m \u001b[1mmaternal\u001b[0m \u001b[1maggression\u001b[0m during later \u001b[1mlactation\u001b[0m to evaluate the \u001b[1minvolvement\u001b[0m of the \u001b[1mavp\u001b[0m neural \u001b[1msystem\u001b[0m in \u001b[1maggression\u001b[0m throughout \u001b[1mlactation\u001b[0m in these experienced females. it was hypothesized that \u001b[1mavp\u001b[0m would decrease \u001b[1maggression\u001b[0m in \u001b[1mmultiparous\u001b[0m \u001b[1mlactating\u001b[0m \u001b[1mrats\u001b[0m during \u001b[1mearly\u001b[0m \u001b[1mlactation\u001b[0m when \u001b[1maggression\u001b[0m \u001b[1mlevels\u001b[0m are high, and a \u001b[1mv1a\u001b[0m \u001b[1mreceptor\u001b[0m \u001b[1mantagonist\u001b[0m would \u001b[1mincrease\u001b[0m \u001b[1maggression\u001b[0m during \u001b[1mlate\u001b[0m \u001b[1mlactation\u001b[0m when \u001b[1maggression\u001b[0m \u001b[1mlevels\u001b[0m are reduced.nonev1a \u001b[1mreceptor\u001b[0m \u001b[1mantagonist\u001b[0m \u001b[1mtreatment\u001b[0m \u001b[1msignificantly\u001b[0m shortened d15 attack latencies (f[3,37]=3.33, p < 0.05, ). overall attack duration on d15 \u001b[1mincreased\u001b[0m as a result of \u001b[1mv1a\u001b[0m \u001b[1mreceptor\u001b[0m \u001b[1mantagonist\u001b[0m \u001b[1mtreatment\u001b[0m (f[3,37]=3.47, p < 0.05, ) with the 125 ng \u001b[1mtreatment\u001b[0m having the greatest stimulatory effect (p<0.05). as shown in,there were no \u001b[1meffects\u001b[0m of the \u001b[1mavp\u001b[0m or \u001b[1mv1a\u001b[0m \u001b[1mreceptor\u001b[0m \u001b[1mantagonist\u001b[0m treatments on grooming, \u001b[1mmaternal\u001b[0m behavior, or the number of activity bouts during the 15 minute \u001b[1maggression\u001b[0m trials.\n",
      "\n",
      "Número de palavras em comum: 31\n",
      "\n",
      "R1: 0.3934426229508196, R2: 0.1322314049586776, RL: 0.2377049180327868\n",
      "\n",
      "\n",
      "\u001b[1m CANDIDATE - FT\u001b[0m : \n",
      " \u001b[1mmaternal\u001b[0m \u001b[1maggression\u001b[0m is a distinct form of \u001b[1maggression\u001b[0m found in \u001b[1mlactating\u001b[0m \u001b[1mrats\u001b[0m and is critical for the \u001b[1mprotection\u001b[0m of altricial \u001b[1myoung\u001b[0m (;;; ;,; ). there is evidence that the level of \u001b[1mmaternal\u001b[0m \u001b[1maggression\u001b[0m changes as a function of the number of births. in mice, \u001b[1mmaternal\u001b[0m \u001b[1maggression\u001b[0m increases across the \u001b[1mfirst\u001b[0m three litters .nonethere were no \u001b[1meffects\u001b[0m of d5 \u001b[1mtreatment\u001b[0m on d15 \u001b[1mbehavior\u001b[0m (all ps > 0.2). \u001b[1mavp\u001b[0m \u001b[1mtreatment\u001b[0m did not affect attack latencies or number of attacks ( and ). attack duration during the 15 minute \u001b[1maggression\u001b[0m test was decreased on d5 following \u001b[1micv\u001b[0m \u001b[1mavp\u001b[0m (f[3,41] =8.90, p < 0.01, ), as all three doses caused a significant attenuation of \u001b[1maggression\u001b[0m (p<0.01 for all 3 doses).\n",
      "\n",
      "Número de palavras em comum: 14\n",
      "\n",
      "R1: 0.2048780487804878, R2: 0.0295566502463054, RL: 0.1463414634146341\n",
      "\n",
      "\n",
      "\u001b[1m CANDIDATE - LexRank\u001b[0m : \n",
      " given the \u001b[1mrole\u001b[0m of \u001b[1mavp\u001b[0m in \u001b[1mprimiparous\u001b[0m \u001b[1mmaternal\u001b[0m \u001b[1maggression\u001b[0m and the \u001b[1mhigher\u001b[0m \u001b[1mlevels\u001b[0m of \u001b[1mmaternal\u001b[0m \u001b[1maggression\u001b[0m found in \u001b[1mmultiparous\u001b[0m mothers, it was postulated that neural \u001b[1mavp\u001b[0m \u001b[1mmay\u001b[0m be involved in \u001b[1mmultiparous\u001b[0m \u001b[1maggression\u001b[0m as well. the inability to demonstrate a substantial inhibitory action of \u001b[1mavp\u001b[0m during \u001b[1mearly\u001b[0m \u001b[1mlactation\u001b[0m in \u001b[1mprimiparous\u001b[0m \u001b[1mlactating\u001b[0m \u001b[1mrats\u001b[0m \u001b[1mmay\u001b[0m be due to the fact that \u001b[1maggression\u001b[0m in \u001b[1mprimiparous\u001b[0m \u001b[1mrats\u001b[0m during \u001b[1mearly\u001b[0m \u001b[1mlactation\u001b[0m is \u001b[1msignificantly\u001b[0m \u001b[1mlower\u001b[0m compared to age matched, \u001b[1mmultiparous\u001b[0m \u001b[1mrats\u001b[0m .noneattack duration during the 15 minute \u001b[1maggression\u001b[0m test was decreased on d5 following \u001b[1micv\u001b[0m \u001b[1mavp\u001b[0m (f[3,41] =8.90, p < 0.01, fig. 3a), as all three doses caused a significant attenuation of \u001b[1maggression\u001b[0m (p<0.01 for all 3 doses). the \u001b[1mv1a\u001b[0m \u001b[1mreceptor\u001b[0m \u001b[1mantagonist\u001b[0m \u001b[1mtreatment\u001b[0m also \u001b[1mincreased\u001b[0m the number of attacks on d15 of \u001b[1mlactation\u001b[0m (f[3,37]=3.84, p < 0.05, fig. 2b), and this effect tended to be stronger at the \u001b[1mhigher\u001b[0m doses as \u001b[1mwell\u001b[0m (pâs=0.09 for saline vs. 25 and 125 ng).\n",
      "\n",
      "Número de palavras em comum: 25\n",
      "\n",
      "R1: 0.3179916317991632, R2: 0.0928270042194092, RL: 0.200836820083682\n",
      "\n",
      "\n",
      "\u001b[1m CANDIDATE - TextRank\u001b[0m : \n",
      " given the \u001b[1mrole\u001b[0m of \u001b[1mavp\u001b[0m in \u001b[1mprimiparous\u001b[0m \u001b[1mmaternal\u001b[0m \u001b[1maggression\u001b[0m and the \u001b[1mhigher\u001b[0m \u001b[1mlevels\u001b[0m of \u001b[1mmaternal\u001b[0m \u001b[1maggression\u001b[0m found in \u001b[1mmultiparous\u001b[0m mothers, it was postulated that neural \u001b[1mavp\u001b[0m \u001b[1mmay\u001b[0m be involved in \u001b[1mmultiparous\u001b[0m \u001b[1maggression\u001b[0m as well. we also examined the \u001b[1meffects\u001b[0m of \u001b[1mcentral\u001b[0m administration of \u001b[1mv1a\u001b[0m \u001b[1mreceptor\u001b[0m \u001b[1mantagonist\u001b[0m on \u001b[1mmultiparous\u001b[0m \u001b[1mmaternal\u001b[0m \u001b[1maggression\u001b[0m during later \u001b[1mlactation\u001b[0m to evaluate the \u001b[1minvolvement\u001b[0m of the \u001b[1mavp\u001b[0m neural \u001b[1msystem\u001b[0m in \u001b[1maggression\u001b[0m throughout \u001b[1mlactation\u001b[0m in these experienced females.nonethe \u001b[1mv1a\u001b[0m \u001b[1mreceptor\u001b[0m \u001b[1mantagonist\u001b[0m \u001b[1mtreatment\u001b[0m also \u001b[1mincreased\u001b[0m the number of attacks on d15 of \u001b[1mlactation\u001b[0m (f[3,37]=3.84, p < 0.05, fig. 2b), and this effect tended to be stronger at the \u001b[1mhigher\u001b[0m doses as \u001b[1mwell\u001b[0m (pâs=0.09 for saline vs. 25 and 125 ng). as shown in table 1, there were no \u001b[1meffects\u001b[0m of the \u001b[1mavp\u001b[0m or \u001b[1mv1a\u001b[0m \u001b[1mreceptor\u001b[0m \u001b[1mantagonist\u001b[0m treatments on grooming, \u001b[1mmaternal\u001b[0m behavior, or the number of activity bouts during the 15 minute \u001b[1maggression\u001b[0m trials.\n",
      "\n",
      "Número de palavras em comum: 25\n",
      "\n",
      "R1: 0.3524229074889868, R2: 0.0977777777777777, RL: 0.2290748898678413\n",
      "\n",
      "\n"
     ]
    }
   ],
   "source": [
    "print_results(results, 1540)"
   ]
  }
 ],
 "metadata": {
  "kernelspec": {
   "display_name": "Python 3",
   "language": "python",
   "name": "python3"
  },
  "language_info": {
   "codemirror_mode": {
    "name": "ipython",
    "version": 3
   },
   "file_extension": ".py",
   "mimetype": "text/x-python",
   "name": "python",
   "nbconvert_exporter": "python",
   "pygments_lexer": "ipython3",
   "version": "3.8.8"
  }
 },
 "nbformat": 4,
 "nbformat_minor": 5
}
