{
 "cells": [
  {
   "cell_type": "code",
   "execution_count": 10,
   "id": "c773fb95",
   "metadata": {},
   "outputs": [],
   "source": [
    "import pandas as pd\n",
    "import numpy as np\n",
    "\n",
    "from nltk.corpus import stopwords\n",
    "stop_word = stopwords.words('english')"
   ]
  },
  {
   "cell_type": "code",
   "execution_count": 11,
   "id": "e036dfcf",
   "metadata": {},
   "outputs": [],
   "source": [
    "def bold(candidate, common_words):\n",
    "    \n",
    "    words = candidate.split(\" \")\n",
    "    \n",
    "    for i in range(len(words)):\n",
    "        for j in range(len(common_words)):\n",
    "        \n",
    "            if common_words[j].find(words[i]) != -1:\n",
    "            \n",
    "                new_word = \"\\033[1m\" + words[i] + \"\\033[0m\"\n",
    "                words[i] = new_word\n",
    "            \n",
    "    return words"
   ]
  },
  {
   "cell_type": "code",
   "execution_count": 12,
   "id": "980d7a2e",
   "metadata": {},
   "outputs": [],
   "source": [
    "def pp_text(text):\n",
    "    \n",
    "    text = text.lower()\n",
    "    text = text.replace(\".\", \" . \")\n",
    "    text = text.replace(\",\", \" , \")\n",
    "    text = text.replace(\";\", \" ; \")\n",
    "    text = text.replace(\":\", \" : \")\n",
    "    \n",
    "    return text"
   ]
  },
  {
   "cell_type": "code",
   "execution_count": 13,
   "id": "47b28e8e",
   "metadata": {},
   "outputs": [],
   "source": [
    "def rev_pp_text(text):\n",
    "    \n",
    "    text = text.lower()\n",
    "    text = text.replace(\" . \", \".\")\n",
    "    text = text.replace(\" , \", \",\")\n",
    "    text = text.replace(\" ; \", \";\")\n",
    "    text = text.replace(\" : \", \":\")\n",
    "    text = text.replace(\" = \", \"=\")\n",
    "    text = text.replace(\" + \", \"+\")\n",
    "    \n",
    "    words = text.split(\" \")\n",
    "    words = list(filter(None, words))\n",
    "    \n",
    "    text = \" \".join(words)\n",
    "    \n",
    "    return text"
   ]
  },
  {
   "cell_type": "code",
   "execution_count": 14,
   "id": "c5be94d6",
   "metadata": {},
   "outputs": [],
   "source": [
    "def main_bold(reference, candidate):\n",
    "    \n",
    "    reference = rev_pp_text(reference)\n",
    "    candidate = rev_pp_text(candidate)\n",
    "    \n",
    "    pp_reference = pp_text(reference)\n",
    "    pp_candidate = pp_text(candidate)\n",
    "    \n",
    "    words_reference = pp_reference.split(\" \")\n",
    "    words_candidade = pp_candidate.split(\" \")\n",
    "\n",
    "    common_words = list(set(words_reference) & set(words_candidade))\n",
    "\n",
    "    common_words = [i for i in common_words if not i in stop_word]\n",
    "\n",
    "    bold_text = bold(candidate, common_words)\n",
    "    bold_text = \" \".join(bold_text)\n",
    "    \n",
    "    bold_text = rev_pp_text(bold_text)\n",
    "\n",
    "    return bold_text, common_words"
   ]
  },
  {
   "cell_type": "code",
   "execution_count": 15,
   "id": "c94a2e3e",
   "metadata": {},
   "outputs": [],
   "source": [
    "def load_summaries(sections, experiments, path_to_read):\n",
    "    \n",
    "    results = {}\n",
    "    \n",
    "    for section in sections:\n",
    "        aux = {}\n",
    "        for experiment in experiments:\n",
    "            aux[experiment] =  pd.read_csv(\"{}/summaries/{}_{}.csv\".format(path_to_read, section, experiment))\n",
    "        results[section] = aux\n",
    "        \n",
    "    return results"
   ]
  },
  {
   "cell_type": "code",
   "execution_count": 46,
   "id": "0fb89b14",
   "metadata": {},
   "outputs": [],
   "source": [
    "def get_rouges(section, experiment, columns, summ):\n",
    "    \n",
    "    r1 = results[section][experiment][columns[0]][summ]\n",
    "    r2 = results[section][experiment][columns[1]][summ]\n",
    "    rl = results[section][experiment][columns[2]][summ]\n",
    "               \n",
    "    return r1, r2, rl"
   ]
  },
  {
   "cell_type": "code",
   "execution_count": 59,
   "id": "ba90bfd5",
   "metadata": {},
   "outputs": [],
   "source": [
    "def print_results(results, summ):\n",
    "    reference = results['comb']['ex1']['references'][summ]\n",
    "\n",
    "    print(\"\\033[1m REFERENCE \\033[0m : \\n {}\\n\\n\".format(reference))\n",
    "\n",
    "    candidate = results['comb']['ex1']['cb'][summ]\n",
    "    r1, r2, rl = get_rouges('comb', 'ex1', ['cb_r1', 'cb_r2', 'cb_rl'], summ)\n",
    "    bold_text, common_words = main_bold(reference, candidate)\n",
    "\n",
    "    print(\"\\033[1m CANDIDATE - CB\\033[0m : \\n {}\".format(bold_text))\n",
    "    print(\"\\nNúmero de palavras em comum: {}\".format(len(common_words)))\n",
    "    print(\"\\nR1: {}, R2: {}, RL: {}\\n\\n\".format(r1, r2, rl))\n",
    "\n",
    "    candidate = results['comb']['ex1']['rf'][summ]\n",
    "    r1, r2, rl = get_rouges('comb', 'ex1', ['rf_r1', 'rf_r2', 'rf_rl'], summ)\n",
    "    bold_text, common_words = main_bold(reference, candidate)\n",
    "\n",
    "    print(\"\\033[1m CANDIDATE - RF\\033[0m : \\n {}\".format(bold_text))\n",
    "    print(\"\\nNúmero de palavras em comum: {}\".format(len(common_words)))\n",
    "    print(\"\\nR1: {}, R2: {}, RL: {}\\n\\n\".format(r1, r2, rl))\n",
    "\n",
    "    candidate = results['comb']['ex2']['max_rouge'][summ]\n",
    "    r1, r2, rl = get_rouges('comb', 'ex2', ['max_rouge_r1', 'max_rouge_r2', 'max_rouge_rl'], summ)\n",
    "    bold_text, common_words = main_bold(reference, candidate)\n",
    "\n",
    "    print(\"\\033[1m CANDIDATE - MAX\\033[0m : \\n {}\".format(bold_text))\n",
    "    print(\"\\nNúmero de palavras em comum: {}\".format(len(common_words)))\n",
    "    print(\"\\nR1: {}, R2: {}, RL: {}\\n\\n\".format(r1, r2, rl))\n",
    "\n",
    "    candidate = results['comb']['ex4']['first_three'][summ]\n",
    "    r1, r2, rl = get_rouges('comb', 'ex4', ['first_three_r1', 'first_three_r2', 'first_three_rl'], summ)\n",
    "    bold_text, common_words = main_bold(reference, candidate)\n",
    "\n",
    "    print(\"\\033[1m CANDIDATE - FT\\033[0m : \\n {}\".format(bold_text))\n",
    "    print(\"\\nNúmero de palavras em comum: {}\".format(len(common_words)))\n",
    "    print(\"\\nR1: {}, R2: {}, RL: {}\\n\\n\".format(r1, r2, rl))"
   ]
  },
  {
   "cell_type": "code",
   "execution_count": null,
   "id": "ff2dc13c",
   "metadata": {},
   "outputs": [],
   "source": [
    "results['comb']['ex2'][['max_rouge_r1','max_rouge_r2','max_rouge_rl']][summ]"
   ]
  },
  {
   "cell_type": "code",
   "execution_count": 3,
   "id": "90d701b0",
   "metadata": {},
   "outputs": [],
   "source": [
    "path_to_read = '/scratch/cinthiasouza/mv-text-summarizer/notebook/models_v5/'"
   ]
  },
  {
   "cell_type": "code",
   "execution_count": 17,
   "id": "f8dd5beb",
   "metadata": {},
   "outputs": [],
   "source": [
    "sections = ['comb']\n",
    "experiments = ['ex1', 'ex2', 'ex3', 'ex4']"
   ]
  },
  {
   "cell_type": "code",
   "execution_count": 18,
   "id": "d807f3b6",
   "metadata": {},
   "outputs": [],
   "source": [
    "results = load_summaries(sections, experiments, path_to_read)"
   ]
  },
  {
   "cell_type": "markdown",
   "id": "9334ed8b",
   "metadata": {},
   "source": [
    "# Exemplo 1"
   ]
  },
  {
   "cell_type": "code",
   "execution_count": 53,
   "id": "efe9e7a8",
   "metadata": {
    "scrolled": false
   },
   "outputs": [
    {
     "name": "stdout",
     "output_type": "stream",
     "text": [
      "\u001b[1m REFERENCE \u001b[0m : \n",
      " the opioid receptor is the site of action of opiates and opioids. we examined whether there are differences in cpg dinucleotide methylation in the oprm1 promoter between former heroin addicts and controls. we analyzed methylation at sixteen cpg dinucleotides in dna obtained from lymphocytes of caucasian former severe heroin addicts stabilized in methadone maintenance treatment and caucasian control subjects. direct sequencing of bisulfite treated dna showed that the percent methylation at two cpg sites was significantly associated with heroin addiction. the level of methylation at the cpg site was 25.4% in the stabilized methadone maintained former heroin addicts and 21.4% in controls (p = 0.0035, generalized estimating equations (gee); p = 0.0077, t test; false discovery rate (fdr) = 0.048), and the level of methylation at the +84 cpg dinucleotide site was 7.4% in cases and 5.6% in controls (p = 0.0095, gee; p = 0.0067, t test; fdr = 0.080). both the and the +84 cpg sites are located in potential sp1 transcription factor binding sites. methylation of these cpg sites may lead to reduced oprm1 expression in the lymphocytes of these former heroin addicts.\n",
      "\n",
      "\n",
      "\u001b[1m CANDIDATE - CB\u001b[0m : \n",
      " maternal cocaine administration \u001b[1min\u001b[0m rats increased \u001b[1mmethylation\u001b[0m \u001b[1mat\u001b[0m \u001b[1ma\u001b[0m \u001b[1mcpg\u001b[0m \u001b[1msite\u001b[0m \u001b[1min\u001b[0m the \u001b[1mpromoter\u001b[0m of the protein kinase \u001b[1mc\u001b[0m (pkc) gene \u001b[1min\u001b[0m fetal heart, and decreased pkc mrna and protein levels, presumably through \u001b[1ma\u001b[0m decrease \u001b[1min\u001b[0m ap1 \u001b[1mtranscription\u001b[0m \u001b[1mfactor\u001b[0m binding.this variant was \u001b[1massociated\u001b[0m with vulnerability \u001b[1mto\u001b[0m develop \u001b[1mheroin\u001b[0m addiction, and was shown \u001b[1mto\u001b[0m alter the function of the hypothalamic pituitary adrenal axis [reviewed in].herein, we have \u001b[1mexamined\u001b[0m the \u001b[1mmethylation\u001b[0m levels of \u001b[1msixteen\u001b[0m \u001b[1mcpg\u001b[0m \u001b[1msites\u001b[0m \u001b[1min\u001b[0m the \u001b[1moprm1\u001b[0m \u001b[1mpromoter\u001b[0m region \u001b[1min\u001b[0m \u001b[1mformer\u001b[0m \u001b[1msevere\u001b[0m \u001b[1mheroin\u001b[0m \u001b[1maddicts\u001b[0m \u001b[1min\u001b[0m \u001b[1mmethadone\u001b[0m \u001b[1mmaintenance\u001b[0m pharmacotherapy and \u001b[1min\u001b[0m controls.five \u001b[1mdna\u001b[0m samples chosen \u001b[1mat\u001b[0m random from \u001b[1mcases\u001b[0m and five from \u001b[1mcontrols\u001b[0m were \u001b[1manalyzed\u001b[0m using the cloning method. \u001b[1mone\u001b[0m \u001b[1mhad\u001b[0m the highest \u001b[1mpercent\u001b[0m \u001b[1mmethylation\u001b[0m \u001b[1mat\u001b[0m the \u001b[1m25\u001b[0m \u001b[1mcpg\u001b[0m \u001b[1msite\u001b[0m (1, ), \u001b[1mtwo\u001b[0m \u001b[1mhad\u001b[0m the highest \u001b[1mmethylation\u001b[0m \u001b[1mat\u001b[0m the \u001b[1m+84\u001b[0m \u001b[1mcpg\u001b[0m \u001b[1msite\u001b[0m (2 and 3), \u001b[1mone\u001b[0m \u001b[1mhad\u001b[0m intermediate levels of \u001b[1mmethylation\u001b[0m across the \u001b[1mcpg\u001b[0m \u001b[1msites\u001b[0m (4), and the final sample (5) \u001b[1mhad\u001b[0m low levels of \u001b[1mmethylation\u001b[0m across the sites. our sample consisted of 194 \u001b[1mformer\u001b[0m \u001b[1msevere\u001b[0m \u001b[1mheroin\u001b[0m \u001b[1maddicts\u001b[0m and 135 \u001b[1mcontrol\u001b[0m \u001b[1msubjects\u001b[0m (n=329), all of \u001b[1mcaucasian\u001b[0m ethnicity, drawn from consecutive volunteers (january 1995 june 2007) \u001b[1min\u001b[0m genetic studies conducted by the laboratory of the biology of addictive diseases \u001b[1mat\u001b[0m the rockefeller university who \u001b[1mmet\u001b[0m the inclusion criteria defined below .this study demonstrates hypermethylation of \u001b[1mtwo\u001b[0m \u001b[1mcpg\u001b[0m \u001b[1mdinucleotide\u001b[0m \u001b[1msites\u001b[0m \u001b[1min\u001b[0m the \u001b[1moprm1\u001b[0m \u001b[1mpromoter\u001b[0m region \u001b[1min\u001b[0m \u001b[1mformer\u001b[0m \u001b[1mheroin\u001b[0m addicts. hypermethylation of the 18 and the +204 \u001b[1mcpg\u001b[0m \u001b[1msites\u001b[0m \u001b[1min\u001b[0m the \u001b[1mformer\u001b[0m \u001b[1mheroin\u001b[0m \u001b[1maddicts\u001b[0m is likely \u001b[1mto\u001b[0m \u001b[1mreduce\u001b[0m \u001b[1moprm1\u001b[0m gene \u001b[1mexpression\u001b[0m since \u001b[1mdna\u001b[0m hypermethylation has been shown \u001b[1min\u001b[0m other studies \u001b[1mto\u001b[0m \u001b[1mreduce\u001b[0m gene expression. \u001b[1mmethylation\u001b[0m of these \u001b[1mcpg\u001b[0m \u001b[1msites\u001b[0m \u001b[1mmay\u001b[0m \u001b[1mlead\u001b[0m \u001b[1mto\u001b[0m \u001b[1mreduced\u001b[0m \u001b[1moprm1\u001b[0m \u001b[1mexpression\u001b[0m \u001b[1min\u001b[0m the \u001b[1mlymphocytes\u001b[0m of these \u001b[1mformer\u001b[0m \u001b[1mheroin\u001b[0m addicts.\n",
      "\n",
      "Número de palavras em comum: 39\n",
      "\n",
      "R1: 0.4301075268817204., R2: 0.2166064981949458, RL: 0.2508960573476703\n",
      "\n",
      "\n",
      "\u001b[1m CANDIDATE - RF\u001b[0m : \n",
      " vulnerability to develop \u001b[1mheroin\u001b[0m \u001b[1maddiction\u001b[0m is due to drug induced and environmental factors, \u001b[1mas\u001b[0m well \u001b[1mas\u001b[0m genetic factors.this variant was \u001b[1massociated\u001b[0m with vulnerability to develop \u001b[1mheroin\u001b[0m addiction, and was shown to alter the function of the hypothalamic pituitary adrenal axis [reviewed in].herein, we have \u001b[1mexamined\u001b[0m the \u001b[1mmethylation\u001b[0m levels of \u001b[1msixteen\u001b[0m \u001b[1mcpg\u001b[0m \u001b[1msites\u001b[0m \u001b[1min\u001b[0m the \u001b[1moprm1\u001b[0m \u001b[1mpromoter\u001b[0m region \u001b[1min\u001b[0m \u001b[1mformer\u001b[0m \u001b[1msevere\u001b[0m \u001b[1mheroin\u001b[0m \u001b[1maddicts\u001b[0m \u001b[1min\u001b[0m \u001b[1mmethadone\u001b[0m \u001b[1mmaintenance\u001b[0m pharmacotherapy and \u001b[1min\u001b[0m controls.five \u001b[1mdna\u001b[0m samples chosen \u001b[1mat\u001b[0m random from \u001b[1mcases\u001b[0m and five from \u001b[1mcontrols\u001b[0m were \u001b[1manalyzed\u001b[0m using the cloning method. our sample consisted of 194 \u001b[1mformer\u001b[0m \u001b[1msevere\u001b[0m \u001b[1mheroin\u001b[0m \u001b[1maddicts\u001b[0m and 135 \u001b[1mcontrol\u001b[0m \u001b[1msubjects\u001b[0m (n=329), all of \u001b[1mcaucasian\u001b[0m ethnicity, drawn from consecutive volunteers (january 1995 june 2007) \u001b[1min\u001b[0m genetic studies conducted by the laboratory of the biology of addictive diseases \u001b[1mat\u001b[0m the rockefeller university who \u001b[1mmet\u001b[0m the inclusion criteria defined below.methadone \u001b[1mstabilized\u001b[0m \u001b[1mformer\u001b[0m \u001b[1mheroin\u001b[0m \u001b[1maddicts\u001b[0m were found to have \u001b[1msignificantly\u001b[0m higher \u001b[1mmethylation\u001b[0m than \u001b[1mcontrols\u001b[0m \u001b[1mat\u001b[0m \u001b[1mtwo\u001b[0m \u001b[1mcpg\u001b[0m \u001b[1msites\u001b[0m .this study demonstrates hypermethylation of \u001b[1mtwo\u001b[0m \u001b[1mcpg\u001b[0m \u001b[1mdinucleotide\u001b[0m \u001b[1msites\u001b[0m \u001b[1min\u001b[0m the \u001b[1moprm1\u001b[0m \u001b[1mpromoter\u001b[0m region \u001b[1min\u001b[0m \u001b[1mformer\u001b[0m \u001b[1mheroin\u001b[0m addicts. hypermethylation of the 18 and the +204 \u001b[1mcpg\u001b[0m \u001b[1msites\u001b[0m \u001b[1min\u001b[0m the \u001b[1mformer\u001b[0m \u001b[1mheroin\u001b[0m \u001b[1maddicts\u001b[0m is likely to reduce \u001b[1moprm1\u001b[0m gene \u001b[1mexpression\u001b[0m since \u001b[1mdna\u001b[0m hypermethylation has been shown \u001b[1min\u001b[0m other studies to reduce gene expression. the \u001b[1mcpg\u001b[0m \u001b[1mdinucleotides\u001b[0m 18 and 14 are \u001b[1mlocated\u001b[0m \u001b[1min\u001b[0m \u001b[1mone\u001b[0m \u001b[1mpotential\u001b[0m \u001b[1msp1\u001b[0m \u001b[1mbinding\u001b[0m site, the +12 \u001b[1mcpg\u001b[0m \u001b[1msite\u001b[0m \u001b[1min\u001b[0m \u001b[1ma\u001b[0m second \u001b[1mbinding\u001b[0m site, and the \u001b[1m+84\u001b[0m \u001b[1mcpg\u001b[0m \u001b[1mdinucleotide\u001b[0m \u001b[1min\u001b[0m \u001b[1ma\u001b[0m third \u001b[1m.\u001b[0m\n",
      "\n",
      "Número de palavras em comum: 37\n",
      "\n",
      "R1: 0.4374999999999999., R2: 0.1653543307086614, RL: 0.2031249999999999\n",
      "\n",
      "\n",
      "\u001b[1m CANDIDATE - MAX\u001b[0m : \n",
      " many \u001b[1mtranscription\u001b[0m \u001b[1mfactor\u001b[0m \u001b[1mbinding\u001b[0m sites, such \u001b[1mas\u001b[0m those \u001b[1mfor\u001b[0m sp1, have \u001b[1mcpg\u001b[0m dinucleotides, and when these are methylated, they display altered \u001b[1mbinding\u001b[0m \u001b[1mto\u001b[0m their cognate \u001b[1mtranscription\u001b[0m factors [e.g. (;;)].the \u001b[1mopioid\u001b[0m \u001b[1mreceptor\u001b[0m \u001b[1mis\u001b[0m the \u001b[1msite\u001b[0m of \u001b[1maction\u001b[0m of endorphin, morphine, and methadone.herein, we have \u001b[1mexamined\u001b[0m the \u001b[1mmethylation\u001b[0m levels of \u001b[1msixteen\u001b[0m \u001b[1mcpg\u001b[0m \u001b[1msites\u001b[0m \u001b[1min\u001b[0m the \u001b[1moprm1\u001b[0m \u001b[1mpromoter\u001b[0m region \u001b[1min\u001b[0m \u001b[1mformer\u001b[0m \u001b[1msevere\u001b[0m \u001b[1mheroin\u001b[0m \u001b[1maddicts\u001b[0m \u001b[1min\u001b[0m \u001b[1mmethadone\u001b[0m \u001b[1mmaintenance\u001b[0m pharmacotherapy and \u001b[1min\u001b[0m controls.methadone \u001b[1mstabilized\u001b[0m \u001b[1mformer\u001b[0m \u001b[1mheroin\u001b[0m \u001b[1maddicts\u001b[0m were found \u001b[1mto\u001b[0m have \u001b[1msignificantly\u001b[0m higher \u001b[1mmethylation\u001b[0m than \u001b[1mcontrols\u001b[0m \u001b[1mat\u001b[0m \u001b[1mtwo\u001b[0m \u001b[1mcpg\u001b[0m sites.at the 18 \u001b[1mcpg\u001b[0m site, the \u001b[1mlevel\u001b[0m of \u001b[1mmethylation\u001b[0m was 25.4% \u001b[1min\u001b[0m \u001b[1mcases\u001b[0m and 21.4% \u001b[1min\u001b[0m \u001b[1mcontrols\u001b[0m [p=0.0035, gee; p=0.0077, \u001b[1mt\u001b[0m test]. \u001b[1mat\u001b[0m the \u001b[1m+84\u001b[0m \u001b[1mcpg\u001b[0m \u001b[1msite\u001b[0m the \u001b[1mlevel\u001b[0m of \u001b[1mmethylation\u001b[0m was 7.43% \u001b[1min\u001b[0m \u001b[1mcases\u001b[0m and 5.62% \u001b[1min\u001b[0m \u001b[1mcontrols\u001b[0m (p=0.0095, gee; p=0.0067, \u001b[1mt\u001b[0m test).the \u001b[1mlevel\u001b[0m of \u001b[1mmethylation\u001b[0m \u001b[1mat\u001b[0m the 18 \u001b[1mcpg\u001b[0m \u001b[1msite\u001b[0m was 25.4% \u001b[1min\u001b[0m the \u001b[1mstabilized\u001b[0m \u001b[1mmethadone\u001b[0m \u001b[1mmaintained\u001b[0m \u001b[1mformer\u001b[0m \u001b[1mheroin\u001b[0m \u001b[1maddicts\u001b[0m and 21.4% \u001b[1min\u001b[0m \u001b[1mcontrols\u001b[0m (p=0.0035, \u001b[1mgeneralized\u001b[0m \u001b[1mestimating\u001b[0m \u001b[1mequations\u001b[0m (gee); p=0.0077, \u001b[1mt\u001b[0m test; \u001b[1mfalse\u001b[0m \u001b[1mdiscovery\u001b[0m \u001b[1mrate\u001b[0m (fdr)=0.048), and the \u001b[1mlevel\u001b[0m of \u001b[1mmethylation\u001b[0m \u001b[1mat\u001b[0m the \u001b[1m+84\u001b[0m \u001b[1mcpg\u001b[0m \u001b[1mdinucleotide\u001b[0m \u001b[1msite\u001b[0m was 7.4% \u001b[1min\u001b[0m \u001b[1mcases\u001b[0m and 5.6% \u001b[1min\u001b[0m \u001b[1mcontrols\u001b[0m (p=0.0095, gee; p=0.0067, \u001b[1mt\u001b[0m test; fdr=0.080). both the 18 and the \u001b[1m+84\u001b[0m \u001b[1mcpg\u001b[0m \u001b[1msites\u001b[0m are \u001b[1mlocated\u001b[0m \u001b[1min\u001b[0m \u001b[1mpotential\u001b[0m \u001b[1msp1\u001b[0m \u001b[1mtranscription\u001b[0m \u001b[1mfactor\u001b[0m \u001b[1mbinding\u001b[0m sites. \u001b[1mmethylation\u001b[0m of these \u001b[1mcpg\u001b[0m \u001b[1msites\u001b[0m \u001b[1mmay\u001b[0m \u001b[1mlead\u001b[0m \u001b[1mto\u001b[0m \u001b[1mreduced\u001b[0m \u001b[1moprm1\u001b[0m \u001b[1mexpression\u001b[0m \u001b[1min\u001b[0m the \u001b[1mlymphocytes\u001b[0m of these \u001b[1mformer\u001b[0m \u001b[1mheroin\u001b[0m addicts.\n",
      "\n",
      "Número de palavras em comum: 67\n",
      "\n",
      "R1: 0.7058823529411764., R2: 0.5777777777777778, RL: 0.6323529411764706\n",
      "\n",
      "\n",
      "\u001b[1m CANDIDATE - FT\u001b[0m : \n",
      " chronic \u001b[1mheroin\u001b[0m use disrupts multiple physiological systems, contributing \u001b[1mto\u001b[0m \u001b[1maddiction\u001b[0m and relapse. vulnerability \u001b[1mto\u001b[0m develop \u001b[1mheroin\u001b[0m \u001b[1maddiction\u001b[0m is due \u001b[1mto\u001b[0m drug induced and environmental factors, \u001b[1mas\u001b[0m well \u001b[1mas\u001b[0m genetic factors.among the non genetic factors \u001b[1mmay\u001b[0m be integrated epigenetic factors including \u001b[1mdna\u001b[0m \u001b[1mmethylation\u001b[0m .five \u001b[1mdna\u001b[0m samples chosen \u001b[1mat\u001b[0m random from \u001b[1mcases\u001b[0m and five from \u001b[1mcontrols\u001b[0m were \u001b[1manalyzed\u001b[0m using the cloning method. the \u001b[1mmethylation\u001b[0m pattern of each is shown in.we also analyzed, with this method, five selected samples of \u001b[1mcases\u001b[0m previously evaluated by sequencing/esme analysis .this study demonstrates hypermethylation of \u001b[1mtwo\u001b[0m \u001b[1mcpg\u001b[0m \u001b[1mdinucleotide\u001b[0m \u001b[1msites\u001b[0m \u001b[1min\u001b[0m the \u001b[1moprm1\u001b[0m \u001b[1mpromoter\u001b[0m region \u001b[1min\u001b[0m \u001b[1mformer\u001b[0m \u001b[1mheroin\u001b[0m addicts. hypermethylation of the 18 and the +204 \u001b[1mcpg\u001b[0m \u001b[1msites\u001b[0m \u001b[1min\u001b[0m the \u001b[1mformer\u001b[0m \u001b[1mheroin\u001b[0m \u001b[1maddicts\u001b[0m is likely \u001b[1mto\u001b[0m \u001b[1mreduce\u001b[0m \u001b[1moprm1\u001b[0m gene \u001b[1mexpression\u001b[0m since \u001b[1mdna\u001b[0m hypermethylation has been shown \u001b[1min\u001b[0m other studies \u001b[1mto\u001b[0m \u001b[1mreduce\u001b[0m gene expression. when hypermethylated, \u001b[1mtranscription\u001b[0m \u001b[1mfactor\u001b[0m \u001b[1mbinding\u001b[0m \u001b[1msites\u001b[0m have \u001b[1mreduced\u001b[0m \u001b[1mbinding\u001b[0m affinity \u001b[1mfor\u001b[0m their cognate \u001b[1mtranscription\u001b[0m factors.\n",
      "\n",
      "Número de palavras em comum: 24\n",
      "\n",
      "R1: 0.2788461538461538., R2: 0.0970873786407767, RL: 0.1538461538461538\n",
      "\n",
      "\n"
     ]
    }
   ],
   "source": [
    "print_results(results, 50)"
   ]
  },
  {
   "cell_type": "code",
   "execution_count": 54,
   "id": "9d048b08",
   "metadata": {
    "scrolled": false
   },
   "outputs": [
    {
     "name": "stdout",
     "output_type": "stream",
     "text": [
      "\u001b[1m REFERENCE \u001b[0m : \n",
      " purpose we sought to identify patient reported barriers and facilitators to healthy eating and physical activity among patients before or after knee arthroplasty. materials and methods twenty patients with knee osteoarthritis aged years who had knee arthroplasty surgery scheduled or completed within months were interviewed. interview topics included perceived barriers and facilitators to healthy eating and activity before or after surgery. interviews were coded and analyzed using constant comparative analysis. results interviews were completed with pre operative (67.1 7.6 years, 45.5% female, bmi 31.2 6.3) and nine post operative patients (61.7 11.7 years, 44.4% female, bmi 30.2 4.7 kg/m2). the most commonly identified personal barriers to healthy eating identified were desire for high fat/high calorie foods, managing overconsumption and mood. factors related to planning, portion control and motivation to improve health were identified as healthy eating facilitators. identified personal barriers for activity included pain, physical limitations and lack of motivation, whereas facilitators included having motivation to improve knee symptoms/outcomes, personal commitment to activity and monitoring activity levels. conclusion identifying specific eating and activity barriers and facilitators, such as mood and motivation to improve outcomes, provides critical insight from the patient perspective, which will aid in developing weight management programs during rehabilitation for knee arthroplasty patients.\n",
      "\n",
      "\n",
      "\u001b[1m CANDIDATE - CB\u001b[0m : \n",
      " while there may be numerous similarities \u001b[1min\u001b[0m the determinants of diet and \u001b[1mactivity\u001b[0m between the general population and tka patients, additional influences may interfere \u001b[1mwith\u001b[0m tka \u001b[1mpatients\u001b[0m ability \u001b[1mto\u001b[0m successfully increase \u001b[1mphysical\u001b[0m \u001b[1mactivity\u001b[0m \u001b[1mor\u001b[0m adopt \u001b[1ma\u001b[0m \u001b[1mhealthy\u001b[0m diet. thus, \u001b[1mwith\u001b[0m the increased utilization of tka,continued low \u001b[1mlevels\u001b[0m of \u001b[1mphysical\u001b[0m \u001b[1mactivity\u001b[0m and \u001b[1mlack\u001b[0m of \u001b[1mweight\u001b[0m loss observed \u001b[1mamong\u001b[0m an already primarily overweight and obese population,it is imperative \u001b[1mto\u001b[0m explore the \u001b[1mbarriers\u001b[0m that may be influencing diet and \u001b[1mactivity\u001b[0m behaviors. gaining \u001b[1ma\u001b[0m better understanding of \u001b[1mspecific\u001b[0m \u001b[1mbarriers\u001b[0m and \u001b[1mfacilitators\u001b[0m \u001b[1mto\u001b[0m diet and \u001b[1mphysical\u001b[0m activity, before and after tka, may help \u001b[1mto\u001b[0m inform clinicians engaged \u001b[1min\u001b[0m the \u001b[1mrehabilitation\u001b[0m of these \u001b[1mpatients\u001b[0m \u001b[1mas\u001b[0m well \u001b[1mas\u001b[0m future behavioral \u001b[1mprograms\u001b[0m designed \u001b[1mto\u001b[0m increase \u001b[1mhealthy\u001b[0m \u001b[1meating\u001b[0m and \u001b[1mphysical\u001b[0m activity.all \u001b[1minterviews\u001b[0m were \u001b[1mcompleted\u001b[0m by one of two trained members of the team (cap, gl), either \u001b[1min\u001b[0m \u001b[1mperson\u001b[0m \u001b[1mor\u001b[0m over the telephone \u001b[1mto\u001b[0m accommodate \u001b[1mpatients\u001b[0m who did not live locally, had mobility \u001b[1mlimitations\u001b[0m \u001b[1mor\u001b[0m were \u001b[1min\u001b[0m the early stages of recovery from surgery. any discrepancies were thoroughly reviewed and discussed until consensus was reached; there were no cases \u001b[1min\u001b[0m which the coders were unable \u001b[1mto\u001b[0m reach consensus understanding \u001b[1mbarriers\u001b[0m and \u001b[1mfacilitators\u001b[0m \u001b[1mto\u001b[0m \u001b[1mhealthy\u001b[0m \u001b[1meating\u001b[0m and \u001b[1mphysical\u001b[0m \u001b[1mactivity\u001b[0m from \u001b[1mpatients\u001b[0m either before and after \u001b[1mknee\u001b[0m \u001b[1marthroplasty\u001b[0m one of the most common \u001b[1mbarriers\u001b[0m \u001b[1mto\u001b[0m \u001b[1mhealthy\u001b[0m \u001b[1meating\u001b[0m expressed across patients, both before and after tka, was \u001b[1ma\u001b[0m \u001b[1mdesire\u001b[0m for \u001b[1mhigh\u001b[0m \u001b[1mfat/high\u001b[0m \u001b[1mcalorie\u001b[0m foods; many \u001b[1mpatients\u001b[0m experience temptations and cravings. another \u001b[1mpatient\u001b[0m \u001b[1midentified\u001b[0m balancing work and family \u001b[1mrelated\u001b[0m stress \u001b[1mas\u001b[0m \u001b[1ma\u001b[0m trigger for making unhealthy choices for meals and snacks \u001b[1mat\u001b[0m work and \u001b[1mat\u001b[0m meal times, leading \u001b[1mher\u001b[0m \u001b[1mto\u001b[0m going down \u001b[1mto\u001b[0m the vending machine \u001b[1mor\u001b[0m sometimes going through the drive through \u001b[1mat\u001b[0m mcdonalds (id 11, \u001b[1mpost\u001b[0m \u001b[1mop\u001b[0m female, age 50) .tka \u001b[1mpatients\u001b[0m who were \u001b[1mscheduled\u001b[0m \u001b[1mor\u001b[0m had \u001b[1msurgery\u001b[0m \u001b[1mwithin\u001b[0m 3 \u001b[1mmonths\u001b[0m were \u001b[1minterviewed\u001b[0m \u001b[1mto\u001b[0m \u001b[1midentify\u001b[0m \u001b[1mpersonal\u001b[0m \u001b[1mfactors\u001b[0m that influenced \u001b[1meating\u001b[0m and \u001b[1mphysical\u001b[0m \u001b[1mactivity\u001b[0m behaviors. \u001b[1min\u001b[0m regards \u001b[1mto\u001b[0m activity, \u001b[1mspecific\u001b[0m \u001b[1mknee\u001b[0m \u001b[1mrelated\u001b[0m restrictions including \u001b[1mpain\u001b[0m and \u001b[1mphysical\u001b[0m \u001b[1mlimitations\u001b[0m \u001b[1mas\u001b[0m well \u001b[1mas\u001b[0m \u001b[1mlack\u001b[0m of \u001b[1mmotivation\u001b[0m and \u001b[1mmood\u001b[0m were frequently \u001b[1midentified\u001b[0m \u001b[1mas\u001b[0m barriers. \u001b[1midentified\u001b[0m \u001b[1mpersonal\u001b[0m \u001b[1mbarriers\u001b[0m for \u001b[1mactivity\u001b[0m \u001b[1mincluded\u001b[0m pain, \u001b[1mphysical\u001b[0m \u001b[1mlimitations\u001b[0m and \u001b[1mlack\u001b[0m of motivation, \u001b[1mwhereas\u001b[0m \u001b[1mfacilitators\u001b[0m \u001b[1mincluded\u001b[0m having \u001b[1mmotivation\u001b[0m \u001b[1mto\u001b[0m \u001b[1mimprove\u001b[0m \u001b[1mknee\u001b[0m symptoms/outcomes, \u001b[1mpersonal\u001b[0m \u001b[1mcommitment\u001b[0m \u001b[1mto\u001b[0m \u001b[1mactivity\u001b[0m and \u001b[1mmonitoring\u001b[0m \u001b[1mactivity\u001b[0m levels.\n",
      "\n",
      "Número de palavras em comum: 50\n",
      "\n",
      "R1: 0.4321329639889196., R2: 0.2284122562674095, RL: 0.2770083102493075\n",
      "\n",
      "\n",
      "\u001b[1m CANDIDATE - RF\u001b[0m : \n",
      " thus, \u001b[1mwith\u001b[0m the increased utilization of tka,continued low \u001b[1mlevels\u001b[0m of \u001b[1mphysical\u001b[0m \u001b[1mactivity\u001b[0m and \u001b[1mlack\u001b[0m of \u001b[1mweight\u001b[0m loss observed \u001b[1mamong\u001b[0m an already primarily overweight and obese population,it \u001b[1mis\u001b[0m imperative \u001b[1mto\u001b[0m explore the \u001b[1mbarriers\u001b[0m that may be influencing diet and \u001b[1mactivity\u001b[0m behaviors. gaining \u001b[1ma\u001b[0m better understanding of \u001b[1mspecific\u001b[0m \u001b[1mbarriers\u001b[0m and \u001b[1mfacilitators\u001b[0m \u001b[1mto\u001b[0m diet and \u001b[1mphysical\u001b[0m activity, before and after tka, may help \u001b[1mto\u001b[0m inform clinicians engaged \u001b[1min\u001b[0m the \u001b[1mrehabilitation\u001b[0m of these \u001b[1mpatients\u001b[0m \u001b[1mas\u001b[0m well \u001b[1mas\u001b[0m future behavioral \u001b[1mprograms\u001b[0m designed \u001b[1mto\u001b[0m increase \u001b[1mhealthy\u001b[0m \u001b[1meating\u001b[0m and \u001b[1mphysical\u001b[0m activity. this study was designed \u001b[1mto\u001b[0m \u001b[1midentify\u001b[0m and explore \u001b[1mbarriers\u001b[0m and \u001b[1mfacilitators\u001b[0m \u001b[1mto\u001b[0m \u001b[1mphysical\u001b[0m \u001b[1mactivity\u001b[0m and \u001b[1mhealthy\u001b[0m \u001b[1meating\u001b[0m \u001b[1mamong\u001b[0m tka \u001b[1mpatients\u001b[0m \u001b[1mpre\u001b[0m and \u001b[1mpost\u001b[0m operatively .pre \u001b[1moperative\u001b[0m \u001b[1mpatients\u001b[0m were asked about the \u001b[1mpersonal\u001b[0m \u001b[1mbarriers\u001b[0m and \u001b[1mfacilitators\u001b[0m \u001b[1mto\u001b[0m \u001b[1mhealthy\u001b[0m \u001b[1meating\u001b[0m and \u001b[1mphysical\u001b[0m \u001b[1mactivity\u001b[0m they faced while living \u001b[1mwith\u001b[0m \u001b[1mknee\u001b[0m \u001b[1mosteoarthritis\u001b[0m (oa) before tka. questions for \u001b[1mpost\u001b[0m \u001b[1moperative\u001b[0m \u001b[1mpatients\u001b[0m were tailored toward \u001b[1midentifying\u001b[0m \u001b[1mbarriers\u001b[0m and \u001b[1mfacilitators\u001b[0m \u001b[1mto\u001b[0m \u001b[1mhealthy\u001b[0m \u001b[1meating\u001b[0m and \u001b[1mphysical\u001b[0m \u001b[1mactivity\u001b[0m encountered during recovery, including time spent \u001b[1min\u001b[0m the hospital, \u001b[1mrehabilitation\u001b[0m center and \u001b[1mat\u001b[0m home. any discrepancies were thoroughly reviewed and discussed until consensus was reached; there were no cases \u001b[1min\u001b[0m which the coders were unable \u001b[1mto\u001b[0m reach consensus understanding \u001b[1mbarriers\u001b[0m and \u001b[1mfacilitators\u001b[0m \u001b[1mto\u001b[0m \u001b[1mhealthy\u001b[0m \u001b[1meating\u001b[0m and \u001b[1mphysical\u001b[0m \u001b[1mactivity\u001b[0m from \u001b[1mpatients\u001b[0m either before and after \u001b[1mknee\u001b[0m \u001b[1marthroplasty\u001b[0m one of the most common \u001b[1mbarriers\u001b[0m \u001b[1mto\u001b[0m \u001b[1mhealthy\u001b[0m \u001b[1meating\u001b[0m expressed across patients, both before and after tka, was \u001b[1ma\u001b[0m \u001b[1mdesire\u001b[0m for \u001b[1mhigh\u001b[0m \u001b[1mfat/high\u001b[0m \u001b[1mcalorie\u001b[0m foods; many \u001b[1mpatients\u001b[0m experience temptations and cravings.tka \u001b[1mpatients\u001b[0m who were \u001b[1mscheduled\u001b[0m \u001b[1mor\u001b[0m had \u001b[1msurgery\u001b[0m \u001b[1mwithin\u001b[0m 3 \u001b[1mmonths\u001b[0m were \u001b[1minterviewed\u001b[0m \u001b[1mto\u001b[0m \u001b[1midentify\u001b[0m \u001b[1mpersonal\u001b[0m \u001b[1mfactors\u001b[0m that influenced \u001b[1meating\u001b[0m and \u001b[1mphysical\u001b[0m \u001b[1mactivity\u001b[0m behaviors. \u001b[1mpurpose\u001b[0m \u001b[1mwe\u001b[0m \u001b[1msought\u001b[0m \u001b[1mto\u001b[0m \u001b[1midentify\u001b[0m \u001b[1mpatient\u001b[0m \u001b[1mreported\u001b[0m \u001b[1mbarriers\u001b[0m and \u001b[1mfacilitators\u001b[0m \u001b[1mto\u001b[0m \u001b[1mhealthy\u001b[0m \u001b[1meating\u001b[0m and \u001b[1mphysical\u001b[0m \u001b[1mactivity\u001b[0m \u001b[1mamong\u001b[0m \u001b[1mpatients\u001b[0m before \u001b[1mor\u001b[0m after \u001b[1mknee\u001b[0m arthroplasty. other common \u001b[1mfacilitators\u001b[0m \u001b[1mto\u001b[0m \u001b[1mphysical\u001b[0m \u001b[1mactivity\u001b[0m mentioned by \u001b[1mpre\u001b[0m \u001b[1moperative\u001b[0m \u001b[1mpatients\u001b[0m were \u001b[1mmonitoring\u001b[0m and awareness of \u001b[1mactivity\u001b[0m levels.\n",
      "\n",
      "Número de palavras em comum: 42\n",
      "\n",
      "R1: 0.4084084084084084., R2: 0.2054380664652567, RL: 0.2042042042042042\n",
      "\n",
      "\n",
      "\u001b[1m CANDIDATE - MAX\u001b[0m : \n",
      " thus, with the increased utilization of tka,continued low \u001b[1mlevels\u001b[0m of \u001b[1mphysical\u001b[0m \u001b[1mactivity\u001b[0m and \u001b[1mlack\u001b[0m of \u001b[1mweight\u001b[0m loss observed \u001b[1mamong\u001b[0m \u001b[1man\u001b[0m already primarily overweight and obese population,it \u001b[1mis\u001b[0m imperative \u001b[1mto\u001b[0m explore the \u001b[1mbarriers\u001b[0m that may be influencing diet and \u001b[1mactivity\u001b[0m behaviors. gaining \u001b[1ma\u001b[0m better understanding of \u001b[1mspecific\u001b[0m \u001b[1mbarriers\u001b[0m and \u001b[1mfacilitators\u001b[0m \u001b[1mto\u001b[0m diet and \u001b[1mphysical\u001b[0m activity, before and after tka, may help \u001b[1mto\u001b[0m inform clinicians engaged \u001b[1min\u001b[0m the \u001b[1mrehabilitation\u001b[0m of these \u001b[1mpatients\u001b[0m \u001b[1mas\u001b[0m well \u001b[1mas\u001b[0m future behavioral \u001b[1mprograms\u001b[0m designed \u001b[1mto\u001b[0m increase \u001b[1mhealthy\u001b[0m \u001b[1meating\u001b[0m and \u001b[1mphysical\u001b[0m activity. this study was designed \u001b[1mto\u001b[0m \u001b[1midentify\u001b[0m and explore \u001b[1mbarriers\u001b[0m and \u001b[1mfacilitators\u001b[0m \u001b[1mto\u001b[0m \u001b[1mphysical\u001b[0m \u001b[1mactivity\u001b[0m and \u001b[1mhealthy\u001b[0m \u001b[1meating\u001b[0m \u001b[1mamong\u001b[0m tka \u001b[1mpatients\u001b[0m \u001b[1mpre\u001b[0m and \u001b[1mpost\u001b[0m operatively .the focus of this manuscript \u001b[1mis\u001b[0m \u001b[1mon\u001b[0m the identification of \u001b[1mpersonal\u001b[0m \u001b[1mbarriers\u001b[0m and \u001b[1mfacilitators\u001b[0m \u001b[1mto\u001b[0m \u001b[1mhealthy\u001b[0m \u001b[1meating\u001b[0m and \u001b[1mphysical\u001b[0m \u001b[1mactivity\u001b[0m both before and after tka. \u001b[1mpre\u001b[0m \u001b[1moperative\u001b[0m \u001b[1mpatients\u001b[0m were asked about the \u001b[1mpersonal\u001b[0m \u001b[1mbarriers\u001b[0m and \u001b[1mfacilitators\u001b[0m \u001b[1mto\u001b[0m \u001b[1mhealthy\u001b[0m \u001b[1meating\u001b[0m and \u001b[1mphysical\u001b[0m \u001b[1mactivity\u001b[0m they faced while living with \u001b[1mknee\u001b[0m \u001b[1mosteoarthritis\u001b[0m (oa) before tka. \u001b[1mpatients\u001b[0m also mentioned the difficulties they faced \u001b[1min\u001b[0m choosing \u001b[1mhealthy\u001b[0m options when \u001b[1mhigh\u001b[0m \u001b[1mfat/high\u001b[0m \u001b[1mcalorie\u001b[0m \u001b[1mfoods\u001b[0m were available .interview \u001b[1mtopics\u001b[0m \u001b[1mincluded\u001b[0m \u001b[1mperceived\u001b[0m \u001b[1mbarriers\u001b[0m and \u001b[1mfacilitators\u001b[0m \u001b[1mto\u001b[0m \u001b[1mhealthy\u001b[0m \u001b[1meating\u001b[0m and \u001b[1mactivity\u001b[0m before \u001b[1mor\u001b[0m after surgery. \u001b[1minterviews\u001b[0m were \u001b[1mcoded\u001b[0m and \u001b[1manalyzed\u001b[0m \u001b[1musing\u001b[0m \u001b[1mconstant\u001b[0m \u001b[1mcomparative\u001b[0m analysis. \u001b[1mconclusion\u001b[0m \u001b[1midentifying\u001b[0m \u001b[1mspecific\u001b[0m \u001b[1meating\u001b[0m and \u001b[1mactivity\u001b[0m \u001b[1mbarriers\u001b[0m and facilitators, such \u001b[1mas\u001b[0m \u001b[1mmood\u001b[0m and \u001b[1mmotivation\u001b[0m \u001b[1mto\u001b[0m \u001b[1mimprove\u001b[0m outcomes, \u001b[1mprovides\u001b[0m \u001b[1mcritical\u001b[0m \u001b[1minsight\u001b[0m from the \u001b[1mpatient\u001b[0m perspective, which will \u001b[1maid\u001b[0m \u001b[1min\u001b[0m \u001b[1mdeveloping\u001b[0m \u001b[1mweight\u001b[0m \u001b[1mmanagement\u001b[0m \u001b[1mprograms\u001b[0m during \u001b[1mrehabilitation\u001b[0m for \u001b[1mknee\u001b[0m \u001b[1marthroplasty\u001b[0m patients.\n",
      "\n",
      "Número de palavras em comum: 55\n",
      "\n",
      "R1: 0.5117845117845118., R2: 0.3661016949152543, RL: 0.3434343434343434\n",
      "\n",
      "\n",
      "\u001b[1m CANDIDATE - FT\u001b[0m : \n",
      " dramatic increases \u001b[1min\u001b[0m total \u001b[1mknee\u001b[0m \u001b[1marthroplasty\u001b[0m (tka) utilization have been seen \u001b[1min\u001b[0m the united states across all age groups;this trend is expected \u001b[1mto\u001b[0m continue.patients undergoing tka typically report improved \u001b[1mhealth\u001b[0m \u001b[1mrelated\u001b[0m quality of life,increased \u001b[1mphysical\u001b[0m function and reduced pain.despite these improvements, \u001b[1mphysical\u001b[0m \u001b[1mactivity\u001b[0m \u001b[1mlevels\u001b[0m remain unchanged \u001b[1mor\u001b[0m only minimally increase from \u001b[1mpre\u001b[0m \u001b[1moperative\u001b[0m levels, yet do not reach the same \u001b[1mlevel\u001b[0m of \u001b[1mactivity\u001b[0m observed \u001b[1mamong\u001b[0m \u001b[1mhealthy\u001b[0m populations .patients between 40 and 79 \u001b[1myears\u001b[0m old who either had tka \u001b[1mwithin\u001b[0m the prior 3 \u001b[1mmonths\u001b[0m \u001b[1mor\u001b[0m those who were \u001b[1mscheduled\u001b[0m \u001b[1mwithin\u001b[0m the next 3 \u001b[1mmonths\u001b[0m were recruited. \u001b[1mpatients\u001b[0m were recruited via (1) distributing postcards, sending emails and letters and calling eligible patients, (2) distributing postcards \u001b[1mto\u001b[0m newly admitted \u001b[1mpatients\u001b[0m \u001b[1mat\u001b[0m orthopedic \u001b[1mrehabilitation\u001b[0m centers and (3) online postings \u001b[1mon\u001b[0m \u001b[1mknee\u001b[0m \u001b[1mrelated\u001b[0m websites and forums. interested \u001b[1mpatients\u001b[0m were given more information and \u001b[1mcompleted\u001b[0m \u001b[1ma\u001b[0m brief telephone screening \u001b[1mor\u001b[0m online web screener.tka \u001b[1mpatients\u001b[0m who were \u001b[1mscheduled\u001b[0m \u001b[1mor\u001b[0m had \u001b[1msurgery\u001b[0m \u001b[1mwithin\u001b[0m 3 \u001b[1mmonths\u001b[0m were \u001b[1minterviewed\u001b[0m \u001b[1mto\u001b[0m \u001b[1midentify\u001b[0m \u001b[1mpersonal\u001b[0m \u001b[1mfactors\u001b[0m that influenced \u001b[1meating\u001b[0m and \u001b[1mphysical\u001b[0m \u001b[1mactivity\u001b[0m behaviors. the \u001b[1mbarriers\u001b[0m \u001b[1mto\u001b[0m \u001b[1mhealthy\u001b[0m \u001b[1meating\u001b[0m that emerged most frequently \u001b[1mamong\u001b[0m \u001b[1mpatients\u001b[0m were desires for \u001b[1mhigh\u001b[0m calorie/fat foods, difficulties \u001b[1mmanaging\u001b[0m \u001b[1moverconsumption\u001b[0m and mood. \u001b[1mfacilitators\u001b[0m \u001b[1mto\u001b[0m \u001b[1mhealthy\u001b[0m \u001b[1meating\u001b[0m \u001b[1mincluded\u001b[0m \u001b[1mplanning\u001b[0m for cooking and shopping, \u001b[1musing\u001b[0m strategies for \u001b[1mportion\u001b[0m \u001b[1mcontrol\u001b[0m and \u001b[1mmotivation\u001b[0m for improvements \u001b[1mwith\u001b[0m general health.\n",
      "\n",
      "Número de palavras em comum: 41\n",
      "\n",
      "R1: 0.346938775510204., R2: 0.1027397260273972, RL: 0.1700680272108843\n",
      "\n",
      "\n"
     ]
    }
   ],
   "source": [
    "print_results(results, 100)"
   ]
  },
  {
   "cell_type": "code",
   "execution_count": 55,
   "id": "019cd3f4",
   "metadata": {},
   "outputs": [
    {
     "name": "stdout",
     "output_type": "stream",
     "text": [
      "\u001b[1m REFERENCE \u001b[0m : \n",
      " this study examines the links between adolescent family context and coming to see oneself as an adult. using data from the national longitudinal study of adolescent health, we investigate how adolescent family structure, resources, and processes together influence adult identity and whether they do so similarly for men and women. we find that youth in single or step parent families, but not in two parent adoptive families, are more likely to identify as adults compared to those in two biological parent families. these relationships, however, are mediated by both family resources and processes. we also find that one of these processes, parental control, is especially influential for youth in single father and other family structures, and that parent adolescent relationship quality and living in other structure families are more consequential for young women than men.\n",
      "\n",
      "\n",
      "\u001b[1m CANDIDATE - CB\u001b[0m : \n",
      " research \u001b[1mon\u001b[0m \u001b[1mthe\u001b[0m transition from adolescence to adulthood has grown \u001b[1min\u001b[0m recent years as scholars grapple with \u001b[1mthe\u001b[0m extension of this period of \u001b[1mthe\u001b[0m life course and its precursors and consequences, both macro historically and with respect to individual variations \u001b[1min\u001b[0m trajectories.today \u001b[1mthe\u001b[0m transition to adulthood takes place over an extended period of time and is marked by greater variability \u001b[1min\u001b[0m \u001b[1mthe\u001b[0m timing and order \u001b[1min\u001b[0m which \u001b[1myoung\u001b[0m people move into traditional \u001b[1madult\u001b[0m roles such as spouse, parent, and worker although most of this research has focused \u001b[1mon\u001b[0m \u001b[1madult\u001b[0m role transitions, \u001b[1ma\u001b[0m small but growing literature is attending to \u001b[1mthe\u001b[0m subjective transition to adulthood, including \u001b[1mthe\u001b[0m formation of an \u001b[1madult\u001b[0m age \u001b[1midentity\u001b[0m (;;;;).second, we examine \u001b[1mwhether\u001b[0m \u001b[1mfamily\u001b[0m resources, including \u001b[1mfamily\u001b[0m income and \u001b[1mparental\u001b[0m education, and \u001b[1mfamily\u001b[0m processes, including conflict, monitoring, hierarchy and shared responsibility, \u001b[1minfluence\u001b[0m subjective age and mediate \u001b[1mthe\u001b[0m effects of \u001b[1mfamily\u001b[0m \u001b[1mstructure\u001b[0m \u001b[1mon\u001b[0m self perceived adulthood.multiple pathways exist through which \u001b[1mfamilies\u001b[0m may \u001b[1minfluence\u001b[0m \u001b[1madult\u001b[0m \u001b[1midentity\u001b[0m formation, including levels of social \u001b[1mcontrol\u001b[0m and monitoring, warmth and closeness, responsibility, and hierarchical \u001b[1mfamily\u001b[0m relations.the analytic sample \u001b[1min\u001b[0m this research includes respondents who were interviewed \u001b[1min\u001b[0m both wave \u001b[1mi\u001b[0m and iii and who were not already \u001b[1mliving\u001b[0m with \u001b[1ma\u001b[0m spouse or partner \u001b[1mat\u001b[0m \u001b[1mthe\u001b[0m wave \u001b[1mi\u001b[0m (adolescent) interview (n=13,673). because high conflict \u001b[1mrelationships\u001b[0m can lead to both increased self reliance and susceptibility to peer pressure and age inappropriate behaviors, we hypothesize adolescents who experience high conflict with their parents will be more \u001b[1mlikely\u001b[0m to self \u001b[1midentify\u001b[0m as \u001b[1madults\u001b[0m .differences \u001b[1min\u001b[0m self perceived adulthood and \u001b[1mfamily\u001b[0m characteristics across \u001b[1mthe\u001b[0m \u001b[1mfamily\u001b[0m \u001b[1mstructure\u001b[0m types \u001b[1mare\u001b[0m shown in.as expected, respondents who were \u001b[1mliving\u001b[0m with their \u001b[1mtwo\u001b[0m \u001b[1mbiological\u001b[0m parents \u001b[1min\u001b[0m wave \u001b[1mi\u001b[0m \u001b[1mare\u001b[0m less \u001b[1mlikely\u001b[0m to feel \u001b[1mlike\u001b[0m \u001b[1madults\u001b[0m all of \u001b[1mthe\u001b[0m time \u001b[1min\u001b[0m wave iii \u001b[1mcompared\u001b[0m to those from all \u001b[1mfamily\u001b[0m types, with \u001b[1mthe\u001b[0m exception of \u001b[1madoptive\u001b[0m \u001b[1mtwo\u001b[0m \u001b[1mparent\u001b[0m families. \u001b[1mfamily\u001b[0m \u001b[1mresources\u001b[0m explain \u001b[1mthe\u001b[0m effect of \u001b[1mliving\u001b[0m with \u001b[1ma\u001b[0m \u001b[1msingle\u001b[0m \u001b[1mparent\u001b[0m and \u001b[1min\u001b[0m an all other \u001b[1mfamily\u001b[0m \u001b[1mstructure\u001b[0m \u001b[1mon\u001b[0m self perceived adulthood.\n",
      "\n",
      "Número de palavras em comum: 26\n",
      "\n",
      "R1: 0.2448979591836734., R2: 0.0493827160493827, RL: 0.1387755102040816\n",
      "\n",
      "\n",
      "\u001b[1m CANDIDATE - RF\u001b[0m : \n",
      " research \u001b[1mon\u001b[0m \u001b[1mthe\u001b[0m transition from adolescence to adulthood has grown \u001b[1min\u001b[0m recent years as scholars grapple with \u001b[1mthe\u001b[0m extension of this period of \u001b[1mthe\u001b[0m life course and its precursors and consequences, both macro historically and with respect to individual variations \u001b[1min\u001b[0m trajectories.today \u001b[1mthe\u001b[0m transition to adulthood takes place over an extended period of time and is marked by greater variability \u001b[1min\u001b[0m \u001b[1mthe\u001b[0m timing and order \u001b[1min\u001b[0m which \u001b[1myoung\u001b[0m people move into traditional \u001b[1madult\u001b[0m roles such as spouse, parent, and worker although most of this research has focused \u001b[1mon\u001b[0m \u001b[1madult\u001b[0m role transitions, \u001b[1ma\u001b[0m small but growing literature is attending to \u001b[1mthe\u001b[0m subjective transition to adulthood, including \u001b[1mthe\u001b[0m formation of an \u001b[1madult\u001b[0m age \u001b[1midentity\u001b[0m (;;;;).second, we examine \u001b[1mwhether\u001b[0m \u001b[1mfamily\u001b[0m resources, including \u001b[1mfamily\u001b[0m income and \u001b[1mparental\u001b[0m education, and \u001b[1mfamily\u001b[0m processes, including conflict, monitoring, hierarchy and shared responsibility, \u001b[1minfluence\u001b[0m subjective age and mediate \u001b[1mthe\u001b[0m effects of \u001b[1mfamily\u001b[0m \u001b[1mstructure\u001b[0m \u001b[1mon\u001b[0m self perceived adulthood.multiple pathways exist through which \u001b[1mfamilies\u001b[0m may \u001b[1minfluence\u001b[0m \u001b[1madult\u001b[0m \u001b[1midentity\u001b[0m formation, including levels of social \u001b[1mcontrol\u001b[0m and monitoring, warmth and closeness, responsibility, and hierarchical \u001b[1mfamily\u001b[0m relations.we conceptualize these \u001b[1mfamily\u001b[0m \u001b[1mprocesses\u001b[0m not as competing pathways but rather as mechanisms that may operate simultaneously \u001b[1mon\u001b[0m \u001b[1mthe\u001b[0m development of an \u001b[1madult\u001b[0m identity.closeness and conflict should \u001b[1malso\u001b[0m partially mediate \u001b[1mthe\u001b[0m effects of \u001b[1mfamily\u001b[0m \u001b[1mstructure\u001b[0m \u001b[1mon\u001b[0m self perceived adulthood, and \u001b[1mthe\u001b[0m effects of \u001b[1mparent\u001b[0m \u001b[1madolescent\u001b[0m conflict \u001b[1mon\u001b[0m \u001b[1madult\u001b[0m \u001b[1midentity\u001b[0m formation may differ by gender.as expected, respondents who were \u001b[1mliving\u001b[0m with their \u001b[1mtwo\u001b[0m \u001b[1mbiological\u001b[0m parents \u001b[1min\u001b[0m wave \u001b[1mi\u001b[0m \u001b[1mare\u001b[0m less \u001b[1mlikely\u001b[0m to feel \u001b[1mlike\u001b[0m \u001b[1madults\u001b[0m all of \u001b[1mthe\u001b[0m time \u001b[1min\u001b[0m wave iii \u001b[1mcompared\u001b[0m to those from all \u001b[1mfamily\u001b[0m types, with \u001b[1mthe\u001b[0m exception of \u001b[1madoptive\u001b[0m \u001b[1mtwo\u001b[0m \u001b[1mparent\u001b[0m families. \u001b[1mfamily\u001b[0m \u001b[1mresources\u001b[0m explain \u001b[1mthe\u001b[0m effect of \u001b[1mliving\u001b[0m with \u001b[1ma\u001b[0m \u001b[1msingle\u001b[0m \u001b[1mparent\u001b[0m and \u001b[1min\u001b[0m an all other \u001b[1mfamily\u001b[0m \u001b[1mstructure\u001b[0m \u001b[1mon\u001b[0m self perceived adulthood. finally, we \u001b[1mfind\u001b[0m that growing up \u001b[1min\u001b[0m \u001b[1msingle\u001b[0m \u001b[1mfather\u001b[0m households or \u001b[1madoptive\u001b[0m \u001b[1mtwo\u001b[0m \u001b[1mparent\u001b[0m households is more closely associated with self perceived adulthood when \u001b[1mparental\u001b[0m \u001b[1mcontrol\u001b[0m is low \u001b[1m.\u001b[0m\n",
      "\n",
      "Número de palavras em comum: 28\n",
      "\n",
      "R1: 0.2704918032786885., R2: 0.0661157024793388, RL: 0.1475409836065573\n",
      "\n",
      "\n",
      "\u001b[1m CANDIDATE - MAX\u001b[0m : \n",
      " \u001b[1mthe\u001b[0m effects of \u001b[1mfamily\u001b[0m \u001b[1mstructure\u001b[0m \u001b[1mare\u001b[0m often understood \u001b[1min\u001b[0m terms of economic resources, but developmental scholars \u001b[1malso\u001b[0m point \u001b[1mto\u001b[0m \u001b[1mthe\u001b[0m importance of understanding \u001b[1mthe\u001b[0m nature and type of \u001b[1mrelationships\u001b[0m within \u001b[1mfamilies\u001b[0m (settersten, forthcoming;;). \u001b[1min\u001b[0m this paper, we conceptualize \u001b[1mfamily\u001b[0m \u001b[1mcontext\u001b[0m \u001b[1mto\u001b[0m include structure, resources, and processes. \u001b[1mto\u001b[0m examine these processes, we use \u001b[1mlongitudinal\u001b[0m \u001b[1mdata\u001b[0m from \u001b[1mthe\u001b[0m \u001b[1mnational\u001b[0m \u001b[1mlongitudinal\u001b[0m \u001b[1mstudy\u001b[0m of \u001b[1madolescent\u001b[0m health.this research employs \u001b[1mdata\u001b[0m from \u001b[1mthe\u001b[0m \u001b[1mnational\u001b[0m \u001b[1mlongitudinal\u001b[0m \u001b[1mstudy\u001b[0m of \u001b[1madolescent\u001b[0m \u001b[1mhealth\u001b[0m (add health). \u001b[1mfamily\u001b[0m structure, resources, and \u001b[1mprocesses\u001b[0m were measured \u001b[1min\u001b[0m wave \u001b[1mi\u001b[0m when respondents were 12 \u001b[1mto\u001b[0m 17 years old. studies consistently show that non intact \u001b[1mfamily\u001b[0m types, particularly divorced \u001b[1msingle\u001b[0m \u001b[1mparent\u001b[0m and \u001b[1mstep\u001b[0m \u001b[1mparent\u001b[0m families, have higher levels of conflict and detachment between parents and children than \u001b[1mtwo\u001b[0m parent, intact \u001b[1mfamilies\u001b[0m .in terms of resources, \u001b[1mtwo\u001b[0m \u001b[1mbiological\u001b[0m \u001b[1mparent\u001b[0m \u001b[1mfamilies\u001b[0m and \u001b[1madoptive\u001b[0m \u001b[1mtwo\u001b[0m \u001b[1mparent\u001b[0m \u001b[1mfamilies\u001b[0m \u001b[1mare\u001b[0m \u001b[1mthe\u001b[0m most advantaged. consistent with \u001b[1mthe\u001b[0m bivariate pattern, \u001b[1myoung\u001b[0m people who had lived \u001b[1min\u001b[0m \u001b[1mstep\u001b[0m parent, \u001b[1msingle\u001b[0m mother, \u001b[1msingle\u001b[0m father, and all other \u001b[1mfamilies\u001b[0m \u001b[1mare\u001b[0m more \u001b[1mlikely\u001b[0m \u001b[1mto\u001b[0m feel \u001b[1mlike\u001b[0m \u001b[1madults\u001b[0m all of \u001b[1mthe\u001b[0m time \u001b[1mcompared\u001b[0m \u001b[1mto\u001b[0m those from \u001b[1mtwo\u001b[0m \u001b[1mbiological\u001b[0m \u001b[1mparent\u001b[0m families. \u001b[1min\u001b[0m model 4 we consider both \u001b[1mfamily\u001b[0m \u001b[1mresources\u001b[0m and \u001b[1mprocesses\u001b[0m together.\n",
      "\n",
      "Número de palavras em comum: 29\n",
      "\n",
      "R1: 0.4269662921348314., R2: 0.1931818181818181, RL: 0.3146067415730337\n",
      "\n",
      "\n",
      "\u001b[1m CANDIDATE - FT\u001b[0m : \n",
      " research \u001b[1mon\u001b[0m the transition from adolescence to adulthood has grown \u001b[1min\u001b[0m recent years as scholars grapple with the extension of this period of the life course and its precursors and consequences, both macro historically and with respect to individual variations \u001b[1min\u001b[0m trajectories.today the transition to adulthood takes place over an extended period of time and is marked by greater variability \u001b[1min\u001b[0m the timing and order \u001b[1min\u001b[0m which \u001b[1myoung\u001b[0m people move into traditional \u001b[1madult\u001b[0m roles such as spouse, parent, and worker although most of this research has focused \u001b[1mon\u001b[0m \u001b[1madult\u001b[0m role transitions, \u001b[1ma\u001b[0m small but growing literature is attending to the subjective transition to adulthood, including the formation of an \u001b[1madult\u001b[0m age \u001b[1midentity\u001b[0m (;;;;).this early research suggests that \u001b[1madult\u001b[0m \u001b[1midentity\u001b[0m formation is closely linked to \u001b[1mfamily\u001b[0m of origin (;;), but scholars have not yet identified the mechanisms through which \u001b[1mit\u001b[0m operates.multiple pathways exist through which \u001b[1mfamilies\u001b[0m may \u001b[1minfluence\u001b[0m \u001b[1madult\u001b[0m \u001b[1midentity\u001b[0m formation, including levels of social \u001b[1mcontrol\u001b[0m and monitoring, warmth and closeness, responsibility, and hierarchical \u001b[1mfamily\u001b[0m relations.we conceptualize these \u001b[1mfamily\u001b[0m \u001b[1mprocesses\u001b[0m not as competing pathways but rather as mechanisms that may operate simultaneously \u001b[1mon\u001b[0m the development of an \u001b[1madult\u001b[0m identity.this research employs \u001b[1mdata\u001b[0m from the \u001b[1mnational\u001b[0m \u001b[1mlongitudinal\u001b[0m \u001b[1mstudy\u001b[0m of \u001b[1madolescent\u001b[0m \u001b[1mhealth\u001b[0m (add health).differences \u001b[1min\u001b[0m self perceived adulthood and \u001b[1mfamily\u001b[0m characteristics across the \u001b[1mfamily\u001b[0m \u001b[1mstructure\u001b[0m types \u001b[1mare\u001b[0m shown in.as expected, respondents who were \u001b[1mliving\u001b[0m with their \u001b[1mtwo\u001b[0m \u001b[1mbiological\u001b[0m parents \u001b[1min\u001b[0m wave \u001b[1mi\u001b[0m \u001b[1mare\u001b[0m less \u001b[1mlikely\u001b[0m to feel \u001b[1mlike\u001b[0m \u001b[1madults\u001b[0m all of the time \u001b[1min\u001b[0m wave iii \u001b[1mcompared\u001b[0m to those from all \u001b[1mfamily\u001b[0m types, with the exception of \u001b[1madoptive\u001b[0m \u001b[1mtwo\u001b[0m \u001b[1mparent\u001b[0m families. respondents who lived \u001b[1min\u001b[0m the residual \u001b[1mfamily\u001b[0m \u001b[1mstructure\u001b[0m category (all other \u001b[1mfamily\u001b[0m structures) \u001b[1mat\u001b[0m wave \u001b[1mi\u001b[0m were most \u001b[1mlikely\u001b[0m to self \u001b[1midentify\u001b[0m as \u001b[1madults\u001b[0m \u001b[1m.\u001b[0m\n",
      "\n",
      "Número de palavras em comum: 27\n",
      "\n",
      "R1: 0.273972602739726., R2: 0.1013824884792626, RL: 0.1552511415525114\n",
      "\n",
      "\n"
     ]
    }
   ],
   "source": [
    "print_results(results, 500)"
   ]
  },
  {
   "cell_type": "code",
   "execution_count": 56,
   "id": "13f92d1e",
   "metadata": {},
   "outputs": [
    {
     "name": "stdout",
     "output_type": "stream",
     "text": [
      "\u001b[1m REFERENCE \u001b[0m : \n",
      " lipolysis for the provision of fatty acids (fa) for other organs during times of energy demand occurs uniquely in white adipose tissue (wat). recent findings have identified a bona fide tag hydrolase as well as the major adipose phospholipase a2, adpla. by controlling pge2 levels, adpla dominantly regulates lipolysis in an autocrine/paracrine manner. moreover, recent findings demonstrate that, surprisingly, increasing lipolysis in adipose tissue does not necessarily increase serum fa levels, which are usually correlated with insulin resistance. rather, increasing lipolysis in adipose tissue causes a shift within adipocytes towards increased fa utilization and energy expenditure and, thus, protects against obesity. here, we discuss the regulation of lipolysis and its effects on fa utilization within wat and on insulin resistance.\n",
      "\n",
      "\n",
      "\u001b[1m CANDIDATE - CB\u001b[0m : \n",
      " excess \u001b[1mtag\u001b[0m accumulation resulting \u001b[1min\u001b[0m \u001b[1mobesity\u001b[0m \u001b[1mis\u001b[0m \u001b[1ma\u001b[0m \u001b[1mmajor\u001b[0m risk factor for metabolic disorders including type 2 diabetes and cardiovascular disease.new evidence, however, suggests that \u001b[1madipocytes\u001b[0m have the capacity \u001b[1mto\u001b[0m \u001b[1mincrease\u001b[0m \u001b[1mfa\u001b[0m \u001b[1mutilization\u001b[0m \u001b[1min\u001b[0m response \u001b[1mto\u001b[0m \u001b[1mincreased\u001b[0m lipolysis, which may make \u001b[1mlipolysis\u001b[0m \u001b[1ma\u001b[0m target for the prevention and treatment of obesity. here we focus \u001b[1mon\u001b[0m \u001b[1mrecent\u001b[0m \u001b[1mfindings\u001b[0m \u001b[1min\u001b[0m understanding the \u001b[1mregulation\u001b[0m of \u001b[1mlipolysis\u001b[0m \u001b[1min\u001b[0m \u001b[1madipose\u001b[0m \u001b[1mtissue\u001b[0m and \u001b[1mon\u001b[0m changes \u001b[1min\u001b[0m \u001b[1madipocyte\u001b[0m \u001b[1mfa\u001b[0m metabolism and \u001b[1menergy\u001b[0m \u001b[1mexpenditure\u001b[0m resulting from \u001b[1mincreased\u001b[0m \u001b[1madipocyte\u001b[0m \u001b[1mlipolysis\u001b[0m .10.1016/j.tem.2009.06.002recently, many exciting advances have been made \u001b[1min\u001b[0m understanding \u001b[1mlipolysis\u001b[0m and \u001b[1mfa\u001b[0m \u001b[1mutilization\u001b[0m \u001b[1min\u001b[0m \u001b[1madipose\u001b[0m tissue. while the endocrine \u001b[1mregulation\u001b[0m of \u001b[1mlipolysis\u001b[0m by catecholamines and \u001b[1minsulin\u001b[0m has been extensively studied, the local \u001b[1mregulation\u001b[0m of \u001b[1mlipolysis\u001b[0m \u001b[1min\u001b[0m \u001b[1madipose\u001b[0m \u001b[1mtissue\u001b[0m by \u001b[1mautocrine/paracrine\u001b[0m factors may also \u001b[1mbe\u001b[0m critical. several other lipid droplet associated proteins are also found \u001b[1mon\u001b[0m the lipid droplets, such \u001b[1mas\u001b[0m fat specific protein of 27kda (fsp27)/cidec, which \u001b[1mis\u001b[0m required for the formation of unilocular lipid droplets of \u001b[1mwhite\u001b[0m \u001b[1madipocytes\u001b[0m [].\n",
      "\n",
      "Número de palavras em comum: 22\n",
      "\n",
      "R1: 0.3563218390804598., R2: 0.127906976744186, RL: 0.1724137931034482\n",
      "\n",
      "\n",
      "\u001b[1m CANDIDATE - RF\u001b[0m : \n",
      " \u001b[1mwhite\u001b[0m \u001b[1madipose\u001b[0m \u001b[1mtissue\u001b[0m \u001b[1m(wat)\u001b[0m stores \u001b[1mtag\u001b[0m during periods of \u001b[1menergy\u001b[0m excess and hydrolyzes \u001b[1mtag\u001b[0m (lipolysis) \u001b[1mto\u001b[0m release \u001b[1mfatty\u001b[0m \u001b[1macids\u001b[0m \u001b[1m(fa)\u001b[0m for \u001b[1muse\u001b[0m by other tissues during \u001b[1mtimes\u001b[0m of \u001b[1menergy\u001b[0m need.new evidence, however, suggests that \u001b[1madipocytes\u001b[0m have \u001b[1mthe\u001b[0m capacity \u001b[1mto\u001b[0m \u001b[1mincrease\u001b[0m \u001b[1mfa\u001b[0m \u001b[1mutilization\u001b[0m \u001b[1min\u001b[0m response \u001b[1mto\u001b[0m \u001b[1mincreased\u001b[0m lipolysis, which may make \u001b[1mlipolysis\u001b[0m \u001b[1ma\u001b[0m target for \u001b[1mthe\u001b[0m prevention and treatment of obesity. here we focus \u001b[1mon\u001b[0m \u001b[1mrecent\u001b[0m \u001b[1mfindings\u001b[0m \u001b[1min\u001b[0m understanding \u001b[1mthe\u001b[0m \u001b[1mregulation\u001b[0m of \u001b[1mlipolysis\u001b[0m \u001b[1min\u001b[0m \u001b[1madipose\u001b[0m \u001b[1mtissue\u001b[0m and \u001b[1mon\u001b[0m changes \u001b[1min\u001b[0m \u001b[1madipocyte\u001b[0m \u001b[1mfa\u001b[0m metabolism and \u001b[1menergy\u001b[0m \u001b[1mexpenditure\u001b[0m resulting from \u001b[1mincreased\u001b[0m \u001b[1madipocyte\u001b[0m \u001b[1mlipolysis\u001b[0m .10.1016/j.tem.2009.06.002recently, many exciting advances have been made \u001b[1min\u001b[0m understanding \u001b[1mlipolysis\u001b[0m and \u001b[1mfa\u001b[0m \u001b[1mutilization\u001b[0m \u001b[1min\u001b[0m \u001b[1madipose\u001b[0m tissue. rather, \u001b[1mit\u001b[0m appears that \u001b[1mincreasing\u001b[0m \u001b[1mlipolysis\u001b[0m \u001b[1min\u001b[0m \u001b[1madipose\u001b[0m \u001b[1mtissue\u001b[0m \u001b[1mcauses\u001b[0m \u001b[1ma\u001b[0m \u001b[1mshift\u001b[0m \u001b[1mwithin\u001b[0m \u001b[1madipocytes\u001b[0m \u001b[1mtowards\u001b[0m \u001b[1mincreased\u001b[0m \u001b[1mfa\u001b[0m \u001b[1mutilization\u001b[0m and \u001b[1menergy\u001b[0m \u001b[1mexpenditure\u001b[0m and, thus, protect against obesity.although its role \u001b[1mis\u001b[0m unclear, caveolin, an integral membrane protein associated \u001b[1mwith\u001b[0m caveolae, has also been shown \u001b[1mto\u001b[0m localize \u001b[1mto\u001b[0m lipid droplets and regulate \u001b[1mlipolysis\u001b[0m [].\n",
      "\n",
      "Número de palavras em comum: 31\n",
      "\n",
      "R1: 0.4260355029585799., R2: 0.2514970059880239, RL: 0.3076923076923076\n",
      "\n",
      "\n",
      "\u001b[1m CANDIDATE - MAX\u001b[0m : \n",
      " \u001b[1mwhite\u001b[0m \u001b[1madipose\u001b[0m \u001b[1mtissue\u001b[0m \u001b[1m(wat)\u001b[0m stores \u001b[1mtag\u001b[0m during periods of \u001b[1menergy\u001b[0m excess and hydrolyzes \u001b[1mtag\u001b[0m (lipolysis) \u001b[1mto\u001b[0m release \u001b[1mfatty\u001b[0m \u001b[1macids\u001b[0m \u001b[1m(fa)\u001b[0m for \u001b[1muse\u001b[0m by other tissues during \u001b[1mtimes\u001b[0m of \u001b[1menergy\u001b[0m need.new evidence, however, suggests that \u001b[1madipocytes\u001b[0m have \u001b[1mthe\u001b[0m capacity \u001b[1mto\u001b[0m \u001b[1mincrease\u001b[0m \u001b[1mfa\u001b[0m \u001b[1mutilization\u001b[0m \u001b[1min\u001b[0m response \u001b[1mto\u001b[0m \u001b[1mincreased\u001b[0m lipolysis, which may make \u001b[1mlipolysis\u001b[0m \u001b[1ma\u001b[0m target for \u001b[1mthe\u001b[0m prevention and treatment of obesity. here we focus \u001b[1mon\u001b[0m \u001b[1mrecent\u001b[0m \u001b[1mfindings\u001b[0m \u001b[1min\u001b[0m understanding \u001b[1mthe\u001b[0m \u001b[1mregulation\u001b[0m of \u001b[1mlipolysis\u001b[0m \u001b[1min\u001b[0m \u001b[1madipose\u001b[0m \u001b[1mtissue\u001b[0m and \u001b[1mon\u001b[0m changes \u001b[1min\u001b[0m \u001b[1madipocyte\u001b[0m \u001b[1mfa\u001b[0m metabolism and \u001b[1menergy\u001b[0m \u001b[1mexpenditure\u001b[0m resulting from \u001b[1mincreased\u001b[0m \u001b[1madipocyte\u001b[0m \u001b[1mlipolysis\u001b[0m .10.1016/j.tem.2009.06.002by \u001b[1mcontrolling\u001b[0m \u001b[1mpge2\u001b[0m levels, \u001b[1madpla\u001b[0m \u001b[1mdominantly\u001b[0m inhibits \u001b[1mlipolysis\u001b[0m and plays \u001b[1ma\u001b[0m critical role \u001b[1min\u001b[0m \u001b[1mthe\u001b[0m development of obesity. moreover, \u001b[1mrecent\u001b[0m \u001b[1mfindings\u001b[0m \u001b[1mdemonstrate\u001b[0m that, surprisingly, \u001b[1mincreasing\u001b[0m lipolyisis \u001b[1min\u001b[0m \u001b[1madipose\u001b[0m \u001b[1mtissue\u001b[0m does not \u001b[1mnecessarily\u001b[0m \u001b[1mincrease\u001b[0m \u001b[1mserum\u001b[0m \u001b[1mfa\u001b[0m levels, which are \u001b[1musually\u001b[0m \u001b[1mcorrelated\u001b[0m \u001b[1mwith\u001b[0m \u001b[1minsulin\u001b[0m resistance. rather, \u001b[1mit\u001b[0m appears that \u001b[1mincreasing\u001b[0m \u001b[1mlipolysis\u001b[0m \u001b[1min\u001b[0m \u001b[1madipose\u001b[0m \u001b[1mtissue\u001b[0m \u001b[1mcauses\u001b[0m \u001b[1ma\u001b[0m \u001b[1mshift\u001b[0m \u001b[1mwithin\u001b[0m \u001b[1madipocytes\u001b[0m \u001b[1mtowards\u001b[0m \u001b[1mincreased\u001b[0m \u001b[1mfa\u001b[0m \u001b[1mutilization\u001b[0m and \u001b[1menergy\u001b[0m \u001b[1mexpenditure\u001b[0m and, thus, protect against \u001b[1mobesity\u001b[0m \u001b[1m.\u001b[0m\n",
      "\n",
      "Número de palavras em comum: 45\n",
      "\n",
      "R1: 0.5942857142857143., R2: 0.4277456647398844, RL: 0.48\n",
      "\n",
      "\n",
      "\u001b[1m CANDIDATE - FT\u001b[0m : \n",
      " trialcylglycerol (tag) \u001b[1mis\u001b[0m the \u001b[1mmajor\u001b[0m \u001b[1menergy\u001b[0m storage form \u001b[1min\u001b[0m mammals. excess \u001b[1mtag\u001b[0m accumulation resulting \u001b[1min\u001b[0m \u001b[1mobesity\u001b[0m \u001b[1mis\u001b[0m \u001b[1ma\u001b[0m \u001b[1mmajor\u001b[0m risk factor for metabolic disorders including type 2 diabetes and cardiovascular disease.white \u001b[1madipose\u001b[0m \u001b[1mtissue\u001b[0m \u001b[1m(wat)\u001b[0m stores \u001b[1mtag\u001b[0m during periods of \u001b[1menergy\u001b[0m excess and hydrolyzes \u001b[1mtag\u001b[0m (lipolysis) \u001b[1mto\u001b[0m release \u001b[1mfatty\u001b[0m \u001b[1macids\u001b[0m \u001b[1m(fa)\u001b[0m for use by other tissues during \u001b[1mtimes\u001b[0m of \u001b[1menergy\u001b[0m need .10.1016/j.tem.2009.06.002recently, many exciting advances have been made \u001b[1min\u001b[0m understanding \u001b[1mlipolysis\u001b[0m and \u001b[1mfa\u001b[0m \u001b[1mutilization\u001b[0m \u001b[1min\u001b[0m \u001b[1madipose\u001b[0m tissue. identification/characterization of the \u001b[1mtag\u001b[0m hydrolase, desnutrin/atgl has firmly established the lipolytic cascade. while the endocrine \u001b[1mregulation\u001b[0m of \u001b[1mlipolysis\u001b[0m by catecholamines and \u001b[1minsulin\u001b[0m has been extensively studied, the local \u001b[1mregulation\u001b[0m of \u001b[1mlipolysis\u001b[0m \u001b[1min\u001b[0m \u001b[1madipose\u001b[0m \u001b[1mtissue\u001b[0m by \u001b[1mautocrine/paracrine\u001b[0m factors may also \u001b[1mbe\u001b[0m critical.\n",
      "\n",
      "Número de palavras em comum: 22\n",
      "\n",
      "R1: 0.3544303797468355., R2: 0.1666666666666666, RL: 0.189873417721519\n",
      "\n",
      "\n"
     ]
    }
   ],
   "source": [
    "print_results(results, 600)"
   ]
  },
  {
   "cell_type": "code",
   "execution_count": 57,
   "id": "b5124489",
   "metadata": {},
   "outputs": [
    {
     "name": "stdout",
     "output_type": "stream",
     "text": [
      "\u001b[1m REFERENCE \u001b[0m : \n",
      " summary defining conditioning regimen intensity has become a critical issue for the hemopoietic stem cell transplant community. in the present report we propose to define conditioning regimens in three categories: (a) myeloablative conditioning (ma) , (b) reduced intensity conditioning (ric) and (c) non myeloablative conditioning (nma). assignment to these categories is based on the duration of cytopenia and on the requirement for stem cell (sc) support: ma regimens cause irreversible cytopenia and sc support is mandatory. nma regimens cause minimal cytopenia and can be given also without sc support. ric regimens do not fit criteria for ma or nma regimens : they cause cytopenia of variable duration and should be given with stem cell support, although cytopenia may not be irreversible. this report also assigns commonly used regimens to one of these categories. based upon the agents, dose or combinations. standardized classification of conditioning regimen intensities will allow comparison across studies and interpretation of study results.\n",
      "\n",
      "\n",
      "\u001b[1m CANDIDATE - CB\u001b[0m : \n",
      " patients undergoing \u001b[1man\u001b[0m allogeneic \u001b[1mhemopoietic\u001b[0m \u001b[1mstem\u001b[0m \u001b[1mcell\u001b[0m \u001b[1mtransplant\u001b[0m (hsct), are prepared with chemotherapy alone \u001b[1mor\u001b[0m chemotherapy combined with radiotherapy,the so called \u001b[1mconditioning\u001b[0m regimen, with two aims: \u001b[1mreduce\u001b[0m the tumor burden when the disease is neoplastic and suppress the recipients immune system, \u001b[1min\u001b[0m order \u001b[1mto\u001b[0m \u001b[1mallow\u001b[0m engraftment of \u001b[1mstem\u001b[0m cells.several attempts have been made \u001b[1min\u001b[0m the past 30 years \u001b[1mto\u001b[0m limit early \u001b[1mtransplant\u001b[0m toxicity, by reducing the \u001b[1mintensity\u001b[0m of the \u001b[1mconditioning\u001b[0m regimen: john hobbs \u001b[1mused\u001b[0m half the \u001b[1mdose\u001b[0m of bu (8 mg/kg) \u001b[1min\u001b[0m children with inborn errors;peter tutchka \u001b[1mreduced\u001b[0m the \u001b[1mdose\u001b[0m of \u001b[1mcy\u001b[0m from 200 \u001b[1mto\u001b[0m 120 \u001b[1min\u001b[0m the classic bu \u001b[1mcy\u001b[0m regimen,and guido lucarelli \u001b[1mreduced\u001b[0m the \u001b[1mdose\u001b[0m of busulfan from 16 mg/kg \u001b[1mto\u001b[0m 14 mg/kg for his thalassemia \u001b[1mconditioning\u001b[0m regimen.regimens using fludarabine and/or \u001b[1mreduced\u001b[0m doses of chemo/radiotherapy have been referred \u001b[1mto\u001b[0m as \u001b[1mnon\u001b[0m \u001b[1mmyeloablative\u001b[0m \u001b[1mstem\u001b[0m \u001b[1mcell\u001b[0m transplants (nma), \u001b[1mreduced\u001b[0m \u001b[1mintensity\u001b[0m \u001b[1mconditioning\u001b[0m transplants \u001b[1m(ric)\u001b[0m \u001b[1mor\u001b[0m \u001b[1mmini\u001b[0m transplants.other \u001b[1magents\u001b[0m have been introduced \u001b[1min\u001b[0m the \u001b[1mconditioning\u001b[0m \u001b[1mregimen\u001b[0m \u001b[1mat\u001b[0m high doses, and \u001b[1min\u001b[0m different \u001b[1mcombinations\u001b[0m with \u001b[1mcy\u001b[0m \u001b[1mor\u001b[0m tbi, usually with the intention of further intensification:these include melphalan (mel),thiotepa (thio),etoposide (vp16),and dimethylbusulfan .cure of the underlying disease depends \u001b[1min\u001b[0m part \u001b[1mon\u001b[0m the \u001b[1mintensity\u001b[0m of the \u001b[1mma\u001b[0m regimen:this was proven \u001b[1min\u001b[0m \u001b[1ma\u001b[0m prospective randomized trial showing that tbi 15.75 gy was associated with \u001b[1ma\u001b[0m lower risk of relapse compared \u001b[1mto\u001b[0m tbi 12 gy.therefore the term myeloablation should be considered \u001b[1man\u001b[0m operational definition, indicating \u001b[1ma\u001b[0m \u001b[1mregimen\u001b[0m causing \u001b[1mirreversible\u001b[0m pancytopenia \u001b[1min\u001b[0m almost \u001b[1mall\u001b[0m patients:autologous recovery (at best following prolonged life threatening cytopenia) would be the exception .we \u001b[1mpropose\u001b[0m \u001b[1mto\u001b[0m \u001b[1mdefine\u001b[0m the \u001b[1mintensity\u001b[0m of the \u001b[1mconditioning\u001b[0m \u001b[1mregimen\u001b[0m \u001b[1mon\u001b[0m the basis of the \u001b[1mduration\u001b[0m of pancytopenia induced and \u001b[1mon\u001b[0m the \u001b[1mrequirement\u001b[0m for \u001b[1mstem\u001b[0m \u001b[1mcell\u001b[0m support, as shown \u001b[1min\u001b[0m .a \u001b[1mnon\u001b[0m \u001b[1mmyeloablative\u001b[0m \u001b[1mconditioning\u001b[0m \u001b[1mregimen\u001b[0m \u001b[1m(nma)\u001b[0m is \u001b[1ma\u001b[0m \u001b[1mregimen\u001b[0m which will produce \u001b[1mminimal\u001b[0m cytopenia, and there is \u001b[1mno\u001b[0m need for \u001b[1mstem\u001b[0m \u001b[1mcell\u001b[0m support.a \u001b[1mconditioning\u001b[0m \u001b[1mregimen\u001b[0m which does not fulfill \u001b[1mma\u001b[0m \u001b[1mor\u001b[0m \u001b[1mnma\u001b[0m is defined as \u001b[1mreduced\u001b[0m \u001b[1mintensity\u001b[0m \u001b[1mconditioning\u001b[0m \u001b[1mregim\u001b[0m \u001b[1m(ric)\u001b[0m these definitions should be regarded as \u001b[1ma\u001b[0m starting point, which \u001b[1mmay\u001b[0m be \u001b[1mre\u001b[0m discussed \u001b[1min\u001b[0m the near future.\n",
      "\n",
      "Número de palavras em comum: 32\n",
      "\n",
      "R1: 0.2926829268292683., R2: 0.1052631578947368, RL: 0.1742160278745644\n",
      "\n",
      "\n",
      "\u001b[1m CANDIDATE - RF\u001b[0m : \n",
      " patients undergoing \u001b[1man\u001b[0m allogeneic \u001b[1mhemopoietic\u001b[0m \u001b[1mstem\u001b[0m \u001b[1mcell\u001b[0m \u001b[1mtransplant\u001b[0m (hsct), are prepared with chemotherapy alone \u001b[1mor\u001b[0m chemotherapy combined with radiotherapy,the so called \u001b[1mconditioning\u001b[0m regimen, with two aims: \u001b[1mreduce\u001b[0m the tumor burden when the disease is neoplastic and suppress the recipients immune system, \u001b[1min\u001b[0m order \u001b[1mto\u001b[0m \u001b[1mallow\u001b[0m engraftment of \u001b[1mstem\u001b[0m cells.regimens using fludarabine and/or \u001b[1mreduced\u001b[0m doses of chemo/radiotherapy have been referred \u001b[1mto\u001b[0m as \u001b[1mnon\u001b[0m \u001b[1mmyeloablative\u001b[0m \u001b[1mstem\u001b[0m \u001b[1mcell\u001b[0m transplants (nma), \u001b[1mreduced\u001b[0m \u001b[1mintensity\u001b[0m \u001b[1mconditioning\u001b[0m transplants \u001b[1m(ric)\u001b[0m \u001b[1mor\u001b[0m \u001b[1mmini\u001b[0m transplants. the terminology reflects the early \u001b[1mregimen\u001b[0m related toxicity towards host marrow cells,and not the biologic effect of the transplant.defining the \u001b[1mintensity\u001b[0m of \u001b[1mconditioning\u001b[0m regimens:working definitions 19896087 the term myeloablation refers \u001b[1mto\u001b[0m the administration of total body irradiation (tbi) and/or alkylating agents,at doses which will not \u001b[1mallow\u001b[0m autologous hematologic recovery. cure of the underlying disease depends \u001b[1min\u001b[0m part \u001b[1mon\u001b[0m the \u001b[1mintensity\u001b[0m of the \u001b[1mma\u001b[0m regimen:this was proven \u001b[1min\u001b[0m \u001b[1ma\u001b[0m prospective randomized trial showing that tbi 15.75 gy was associated with \u001b[1ma\u001b[0m lower risk of relapse compared \u001b[1mto\u001b[0m tbi 12 gy.therefore the term myeloablation should be considered \u001b[1man\u001b[0m operational definition, indicating \u001b[1ma\u001b[0m \u001b[1mregimen\u001b[0m causing \u001b[1mirreversible\u001b[0m pancytopenia \u001b[1min\u001b[0m almost \u001b[1mall\u001b[0m patients:autologous recovery (at best following prolonged life threatening cytopenia) would be the exception .we \u001b[1mpropose\u001b[0m \u001b[1mto\u001b[0m \u001b[1mdefine\u001b[0m the \u001b[1mintensity\u001b[0m of the \u001b[1mconditioning\u001b[0m \u001b[1mregimen\u001b[0m \u001b[1mon\u001b[0m the basis of the \u001b[1mduration\u001b[0m of pancytopenia induced and \u001b[1mon\u001b[0m the \u001b[1mrequirement\u001b[0m for \u001b[1mstem\u001b[0m \u001b[1mcell\u001b[0m support, as shown \u001b[1min\u001b[0m .a \u001b[1mnon\u001b[0m \u001b[1mmyeloablative\u001b[0m \u001b[1mconditioning\u001b[0m \u001b[1mregimen\u001b[0m \u001b[1m(nma)\u001b[0m is \u001b[1ma\u001b[0m \u001b[1mregimen\u001b[0m which will produce \u001b[1mminimal\u001b[0m cytopenia, and there is \u001b[1mno\u001b[0m need for \u001b[1mstem\u001b[0m \u001b[1mcell\u001b[0m support.a \u001b[1mconditioning\u001b[0m \u001b[1mregimen\u001b[0m which does not fulfill \u001b[1mma\u001b[0m \u001b[1mor\u001b[0m \u001b[1mnma\u001b[0m is defined as \u001b[1mreduced\u001b[0m \u001b[1mintensity\u001b[0m \u001b[1mconditioning\u001b[0m \u001b[1mregim\u001b[0m \u001b[1m(ric)\u001b[0m these definitions should be regarded as \u001b[1ma\u001b[0m starting point, which \u001b[1mmay\u001b[0m be \u001b[1mre\u001b[0m discussed \u001b[1min\u001b[0m the near future.\n",
      "\n",
      "Número de palavras em comum: 30\n",
      "\n",
      "R1: 0.3333333333333333., R2: 0.128, RL: 0.1984126984126984\n",
      "\n",
      "\n",
      "\u001b[1m CANDIDATE - MAX\u001b[0m : \n",
      " the \u001b[1mintensity\u001b[0m of the \u001b[1mconditioning\u001b[0m \u001b[1mregimen\u001b[0m can vary significantly. \u001b[1ma\u001b[0m workshop convened by the cibmtr addressed the \u001b[1mdose\u001b[0m spectrum which defines \u001b[1ma\u001b[0m \u001b[1mreduced\u001b[0m \u001b[1mintensity\u001b[0m \u001b[1mconditioning\u001b[0m regimen.in the \u001b[1mpresent\u001b[0m \u001b[1mreport\u001b[0m we will discuss \u001b[1mthree\u001b[0m \u001b[1mcategories\u001b[0m of \u001b[1mconditioning\u001b[0m regimens: myeloablative, \u001b[1mreduced\u001b[0m \u001b[1mintensity\u001b[0m and \u001b[1mnon\u001b[0m myeloablative.the \u001b[1mcombinations\u001b[0m of bu \u001b[1mcy\u001b[0m \u001b[1mor\u001b[0m \u001b[1mcy\u001b[0m tbi are considered \u001b[1mto\u001b[0m be \u001b[1ma\u001b[0m \u001b[1mmyeloablative\u001b[0m \u001b[1mconditioning\u001b[0m \u001b[1mregimen\u001b[0m (ma). other retrospective \u001b[1mstudies\u001b[0m have confirmed the impact of \u001b[1mconditioning\u001b[0m \u001b[1mintensity\u001b[0m \u001b[1mon\u001b[0m relapse.examples of \u001b[1mmyeloablative\u001b[0m \u001b[1mregimens\u001b[0m \u001b[1m(ma)\u001b[0m are shown \u001b[1min\u001b[0m .a \u001b[1mmyeloablative\u001b[0m \u001b[1mconditioning\u001b[0m \u001b[1mregimen\u001b[0m \u001b[1m(ma)\u001b[0m will \u001b[1mcause\u001b[0m \u001b[1mirreversible\u001b[0m (or close \u001b[1mto\u001b[0m irreversible) pancytopenia. \u001b[1ma\u001b[0m \u001b[1mnon\u001b[0m \u001b[1mmyeloablative\u001b[0m \u001b[1mconditioning\u001b[0m \u001b[1mregimen\u001b[0m \u001b[1m(nma)\u001b[0m is \u001b[1ma\u001b[0m \u001b[1mregimen\u001b[0m which will produce \u001b[1mminimal\u001b[0m cytopenia, and there is \u001b[1mno\u001b[0m need for \u001b[1mstem\u001b[0m \u001b[1mcell\u001b[0m support.all other \u001b[1mregimens\u001b[0m should be called ric, not because they are fludarabine based, but rather because they \u001b[1mdo\u001b[0m not \u001b[1mfit\u001b[0m \u001b[1mcriteria\u001b[0m for \u001b[1mma\u001b[0m \u001b[1mor\u001b[0m \u001b[1mnma\u001b[0m \u001b[1mregimens\u001b[0m \u001b[1m.\u001b[0m\n",
      "\n",
      "Número de palavras em comum: 32\n",
      "\n",
      "R1: 0.4785276073619631., R2: 0.1863354037267081, RL: 0.3190184049079754\n",
      "\n",
      "\n",
      "\u001b[1m CANDIDATE - FT\u001b[0m : \n",
      " patients undergoing \u001b[1man\u001b[0m allogeneic \u001b[1mhemopoietic\u001b[0m \u001b[1mstem\u001b[0m \u001b[1mcell\u001b[0m \u001b[1mtransplant\u001b[0m (hsct), are prepared \u001b[1mwith\u001b[0m chemotherapy alone \u001b[1mor\u001b[0m chemotherapy combined \u001b[1mwith\u001b[0m radiotherapy,the so called \u001b[1mconditioning\u001b[0m regimen, \u001b[1mwith\u001b[0m two aims: reduce the tumor burden when the disease is neoplastic and suppress the recipients immune system, \u001b[1min\u001b[0m order to \u001b[1mallow\u001b[0m engraftment of \u001b[1mstem\u001b[0m cells.exceptions to this rule are infants \u001b[1mwith\u001b[0m combined immune deficiency (scid) and patients \u001b[1mwith\u001b[0m severe aplastic anemia (saa) \u001b[1mwith\u001b[0m \u001b[1man\u001b[0m identical twin donor, who \u001b[1mmay\u001b[0m be grafted \u001b[1mwithout\u001b[0m conditioning.the \u001b[1mintensity\u001b[0m of the \u001b[1mconditioning\u001b[0m \u001b[1mregimen\u001b[0m can vary significantly.defining the \u001b[1mintensity\u001b[0m of \u001b[1mconditioning\u001b[0m regimens:working definitions 19896087 the term myeloablation refers to the administration of total body irradiation (tbi) and/or alkylating agents,at doses which will not \u001b[1mallow\u001b[0m autologous hematologic recovery. over 50 years ago lorenz and coworkers showed that mice exposed to 10 gy of tbi would succumb to pancytopenia.work of lorenz and other outstanding investigators, confirmed that animals could be rescued by intravenous administration of \u001b[1ma\u001b[0m bone marrow \u001b[1mcell\u001b[0m suspension (): bone marrow transplantation (bmt) was born and human \u001b[1mstudies\u001b[0m were initiated .we \u001b[1mpropose\u001b[0m to \u001b[1mdefine\u001b[0m the \u001b[1mintensity\u001b[0m of the \u001b[1mconditioning\u001b[0m \u001b[1mregimen\u001b[0m \u001b[1mon\u001b[0m the basis of the \u001b[1mduration\u001b[0m of pancytopenia induced and \u001b[1mon\u001b[0m the \u001b[1mrequirement\u001b[0m for \u001b[1mstem\u001b[0m \u001b[1mcell\u001b[0m support, as shown \u001b[1min\u001b[0m .a \u001b[1mmyeloablative\u001b[0m \u001b[1mconditioning\u001b[0m \u001b[1mregimen\u001b[0m \u001b[1m(ma)\u001b[0m will \u001b[1mcause\u001b[0m \u001b[1mirreversible\u001b[0m (or close to irreversible) pancytopenia. \u001b[1mstem\u001b[0m \u001b[1mcell\u001b[0m \u001b[1msupport\u001b[0m is required to rescue marrow function, and prevent aplasia related death \u001b[1m.\u001b[0m\n",
      "\n",
      "Número de palavras em comum: 27\n",
      "\n",
      "R1: 0.2831858407079646., R2: 0.1160714285714285, RL: 0.1681415929203539\n",
      "\n",
      "\n"
     ]
    }
   ],
   "source": [
    "print_results(results, 1000)"
   ]
  },
  {
   "cell_type": "code",
   "execution_count": 58,
   "id": "4cdd8582",
   "metadata": {},
   "outputs": [
    {
     "name": "stdout",
     "output_type": "stream",
     "text": [
      "\u001b[1m REFERENCE \u001b[0m : \n",
      " purpose of review the objective of this review is to provide an update on the link between hivinfection and cardiovascular disease (cvd). we will focus our review mainly on literature describing clinical cvd events and understudied topics of importance. recent findings heart failure, peripheral artery disease, and stroke are cvd modalities deserving more attention in the context of hiv infection in the highly active antiretroviral therapy era. incidence data on clinical cvd from hiv populations in low and middle income countries are limited. multisubstance use is common in hiv, but understudied as a moderator or mediator of the association between hiv and cvd. cvd risk assessment in hiv remains challenging, but new research into novel biomarkers may provide further insights. there is also a need for inclusion of non biologic factors in our attempts to understand, quantify, and predict cvd risk among plwha. summary significant attention has been paid to generating and testing hypotheses to understand the mechanisms of myocardial infarction in hiv. similar attention is deserving for heart failure, pad, stroke, and cardiovascular disease risk in resource limited settings and among substance users with hiv.\n",
      "\n",
      "\n",
      "\u001b[1m CANDIDATE - CB\u001b[0m : \n",
      " people living with hiv/aids (plwha) are living long enough \u001b[1mto\u001b[0m experience diseases of aging that are typical \u001b[1min\u001b[0m \u001b[1mthe\u001b[0m general \u001b[1mpopulation\u001b[0m including \u001b[1mcardiovascular\u001b[0m disease. we will not \u001b[1mfocus\u001b[0m \u001b[1mon\u001b[0m atherosclerosis \u001b[1min\u001b[0m general \u001b[1mor\u001b[0m \u001b[1mthe\u001b[0m role of \u001b[1mantiretroviral\u001b[0m \u001b[1mtherapy\u001b[0m \u001b[1min\u001b[0m \u001b[1mcvd\u001b[0m but instead refer \u001b[1mthe\u001b[0m reader \u001b[1mto\u001b[0m \u001b[1mthe\u001b[0m following \u001b[1mrecent\u001b[0m reviews, meta analyses, \u001b[1mand\u001b[0m cohort studies []. lastly, we will \u001b[1malso\u001b[0m discuss \u001b[1mthe\u001b[0m state of \u001b[1mcvd\u001b[0m \u001b[1mrisk\u001b[0m \u001b[1massessment\u001b[0m \u001b[1min\u001b[0m \u001b[1mhiv\u001b[0m \u001b[1mand\u001b[0m \u001b[1mnovel\u001b[0m \u001b[1mbiomarkers\u001b[0m that \u001b[1mmay\u001b[0m inform our understanding of \u001b[1mcvd\u001b[0m \u001b[1mrisk\u001b[0m \u001b[1mmechanisms\u001b[0m \u001b[1min\u001b[0m hiv.in this section, we \u001b[1mfocus\u001b[0m \u001b[1mon\u001b[0m \u001b[1mrecent\u001b[0m knowledge gained \u001b[1min\u001b[0m understanding \u001b[1mthe\u001b[0m \u001b[1mcardiovascular\u001b[0m \u001b[1mdisease\u001b[0m story \u001b[1mamong\u001b[0m \u001b[1mhiv\u001b[0m \u001b[1mpopulations\u001b[0m \u001b[1min\u001b[0m \u001b[1mlow\u001b[0m \u001b[1mand\u001b[0m \u001b[1mmiddle\u001b[0m \u001b[1mincome\u001b[0m countries. many of these regions (e.g., sub saharan africa) host \u001b[1mthe\u001b[0m majority of \u001b[1mhiv\u001b[0m prevalence,have \u001b[1ma\u001b[0m growing burden of \u001b[1mcardiovascular\u001b[0m disease,and lack \u001b[1mthe\u001b[0m infrastructure \u001b[1mto\u001b[0m manage \u001b[1mnon\u001b[0m aids comorbidities. thus, there \u001b[1mis\u001b[0m rationale for leveraging knowledge and, where feasible, resources from \u001b[1mthe\u001b[0m \u001b[1mhiv\u001b[0m chronic care \u001b[1mcontext\u001b[0m \u001b[1min\u001b[0m these settings, extending them \u001b[1mto\u001b[0m reduce \u001b[1mcardiovascular\u001b[0m \u001b[1mdisease\u001b[0m \u001b[1mrisk\u001b[0m \u001b[1min\u001b[0m hiv, \u001b[1mand\u001b[0m subsequently extending these efforts \u001b[1mto\u001b[0m \u001b[1mnon\u001b[0m \u001b[1mhiv\u001b[0m \u001b[1mpopulations\u001b[0m .in \u001b[1ma\u001b[0m prior \u001b[1mreview\u001b[0m \u001b[1mon\u001b[0m \u001b[1mhiv\u001b[0m \u001b[1mand\u001b[0m \u001b[1mcardiovascular\u001b[0m disease, we described \u001b[1ma\u001b[0m conceptual model linking biological \u001b[1mand\u001b[0m environmental \u001b[1mfactors\u001b[0m \u001b[1mto\u001b[0m increased \u001b[1mcardiovascular\u001b[0m \u001b[1mdisease\u001b[0m \u001b[1mrisk\u001b[0m \u001b[1min\u001b[0m plwha.with this review, we highlight \u001b[1mheart\u001b[0m failure, \u001b[1mperipheral\u001b[0m \u001b[1martery\u001b[0m disease, \u001b[1mand\u001b[0m \u001b[1mstroke\u001b[0m \u001b[1mas\u001b[0m \u001b[1mmodalities\u001b[0m \u001b[1mdeserving\u001b[0m more \u001b[1mattention\u001b[0m \u001b[1mas\u001b[0m \u001b[1mthe\u001b[0m epidemiology of \u001b[1mcardiovascular\u001b[0m \u001b[1mdisease\u001b[0m evolves \u001b[1min\u001b[0m \u001b[1mthe\u001b[0m haart era. there \u001b[1mis\u001b[0m \u001b[1malso\u001b[0m \u001b[1ma\u001b[0m \u001b[1mneed\u001b[0m for \u001b[1minclusion\u001b[0m of \u001b[1mnon\u001b[0m \u001b[1mbiologic\u001b[0m \u001b[1mfactors\u001b[0m \u001b[1min\u001b[0m our \u001b[1mattempts\u001b[0m \u001b[1mto\u001b[0m understand, quantify, \u001b[1mand\u001b[0m \u001b[1mpredict\u001b[0m \u001b[1mcardiovascular\u001b[0m \u001b[1mdisease\u001b[0m \u001b[1mrisk\u001b[0m \u001b[1mamong\u001b[0m \u001b[1mplwha\u001b[0m \u001b[1m.\u001b[0m\n",
      "\n",
      "Número de palavras em comum: 46\n",
      "\n",
      "R1: 0.408., R2: 0.217741935483871, RL: 0.224\n",
      "\n",
      "\n",
      "\u001b[1m CANDIDATE - RF\u001b[0m : \n",
      " people living with hiv/aids (plwha) are living long enough \u001b[1mto\u001b[0m experience diseases of aging that are typical \u001b[1min\u001b[0m \u001b[1mthe\u001b[0m general population including \u001b[1mcardiovascular\u001b[0m disease. while \u001b[1mthe\u001b[0m underlying \u001b[1mmechanisms\u001b[0m for these associations are not clear, \u001b[1mrecent\u001b[0m \u001b[1mresearch\u001b[0m suggests that this excess \u001b[1mrisk\u001b[0m \u001b[1mmay\u001b[0m extend beyond traditional \u001b[1mrisk\u001b[0m \u001b[1mfactors\u001b[0m for atherosclerosis.we will not \u001b[1mfocus\u001b[0m \u001b[1mon\u001b[0m atherosclerosis \u001b[1min\u001b[0m general \u001b[1mor\u001b[0m \u001b[1mthe\u001b[0m role of \u001b[1mantiretroviral\u001b[0m \u001b[1mtherapy\u001b[0m \u001b[1min\u001b[0m \u001b[1mcvd\u001b[0m but instead refer \u001b[1mthe\u001b[0m reader \u001b[1mto\u001b[0m \u001b[1mthe\u001b[0m following \u001b[1mrecent\u001b[0m reviews, meta analyses, and cohort studies [].most of \u001b[1mthe\u001b[0m \u001b[1mrecent\u001b[0m studies we identified \u001b[1mfocus\u001b[0m \u001b[1mon\u001b[0m prevalence of \u001b[1mcardiovascular\u001b[0m \u001b[1mdisease\u001b[0m \u001b[1mrisk\u001b[0m \u001b[1mfactors\u001b[0m with particular \u001b[1mattention\u001b[0m \u001b[1mpaid\u001b[0m \u001b[1mto\u001b[0m hypertension. \u001b[1mlow\u001b[0m and \u001b[1mmiddle\u001b[0m \u001b[1mincome\u001b[0m \u001b[1mcountries\u001b[0m bear majority of \u001b[1mthe\u001b[0m burden of \u001b[1mhiv\u001b[0m prevalence and \u001b[1ma\u001b[0m large and growing burden of \u001b[1mcardiovascular\u001b[0m \u001b[1mdisease\u001b[0m and \u001b[1mcardiovascular\u001b[0m \u001b[1mdisease\u001b[0m \u001b[1mrisk\u001b[0m factors.similar \u001b[1mattention\u001b[0m \u001b[1mis\u001b[0m \u001b[1mdeserving\u001b[0m for \u001b[1mheart\u001b[0m failure, pad, stroke, and \u001b[1mcardiovascular\u001b[0m \u001b[1mdisease\u001b[0m \u001b[1mrisk\u001b[0m \u001b[1min\u001b[0m \u001b[1mresource\u001b[0m \u001b[1mlimited\u001b[0m \u001b[1msettings\u001b[0m and \u001b[1mamong\u001b[0m \u001b[1msubstance\u001b[0m \u001b[1musers\u001b[0m with hiv.in \u001b[1ma\u001b[0m prior \u001b[1mreview\u001b[0m \u001b[1mon\u001b[0m \u001b[1mhiv\u001b[0m and \u001b[1mcardiovascular\u001b[0m disease, we described \u001b[1ma\u001b[0m conceptual model linking biological and environmental \u001b[1mfactors\u001b[0m \u001b[1mto\u001b[0m increased \u001b[1mcardiovascular\u001b[0m \u001b[1mdisease\u001b[0m \u001b[1mrisk\u001b[0m \u001b[1min\u001b[0m plwha.with this review, we highlight \u001b[1mheart\u001b[0m failure, \u001b[1mperipheral\u001b[0m \u001b[1martery\u001b[0m disease, and \u001b[1mstroke\u001b[0m \u001b[1mas\u001b[0m \u001b[1mmodalities\u001b[0m \u001b[1mdeserving\u001b[0m more \u001b[1mattention\u001b[0m \u001b[1mas\u001b[0m \u001b[1mthe\u001b[0m epidemiology of \u001b[1mcardiovascular\u001b[0m \u001b[1mdisease\u001b[0m evolves \u001b[1min\u001b[0m \u001b[1mthe\u001b[0m haart era. we identify lack of \u001b[1mincidence\u001b[0m \u001b[1mdata\u001b[0m \u001b[1mas\u001b[0m \u001b[1ma\u001b[0m gap \u001b[1min\u001b[0m hiv/cardiovascular \u001b[1mdisease\u001b[0m work from \u001b[1mlow\u001b[0m and \u001b[1mmiddle\u001b[0m \u001b[1mincome\u001b[0m \u001b[1mcountries\u001b[0m and propose \u001b[1mresearch\u001b[0m into \u001b[1msubstance\u001b[0m \u001b[1muse\u001b[0m including opioids and \u001b[1mcardiovascular\u001b[0m \u001b[1mdisease\u001b[0m \u001b[1mrisk\u001b[0m \u001b[1min\u001b[0m hiv.\n",
      "\n",
      "Número de palavras em comum: 43\n",
      "\n",
      "R1: 0.4235294117647059., R2: 0.2371541501976284, RL: 0.2352941176470588\n",
      "\n",
      "\n",
      "\u001b[1m CANDIDATE - MAX\u001b[0m : \n",
      " \u001b[1mthe\u001b[0m \u001b[1mobjective\u001b[0m of this \u001b[1mreview\u001b[0m \u001b[1mis\u001b[0m \u001b[1mto\u001b[0m \u001b[1mprovide\u001b[0m \u001b[1man\u001b[0m \u001b[1mupdate\u001b[0m \u001b[1mon\u001b[0m \u001b[1mthe\u001b[0m \u001b[1mlink\u001b[0m between \u001b[1mhiv\u001b[0m \u001b[1minfection\u001b[0m \u001b[1mand\u001b[0m \u001b[1mcardiovascular\u001b[0m \u001b[1mdisease\u001b[0m (cvd). we will \u001b[1mfocus\u001b[0m \u001b[1mour\u001b[0m \u001b[1mreview\u001b[0m \u001b[1mmainly\u001b[0m \u001b[1mon\u001b[0m \u001b[1mliterature\u001b[0m \u001b[1mdescribing\u001b[0m \u001b[1mclinical\u001b[0m \u001b[1mcvd\u001b[0m \u001b[1mevents\u001b[0m \u001b[1mand\u001b[0m \u001b[1munderstudied\u001b[0m \u001b[1mtopics\u001b[0m of \u001b[1mimportance\u001b[0m (e.g., \u001b[1mperipheral\u001b[0m \u001b[1martery\u001b[0m disease). instead, we will \u001b[1muse\u001b[0m this opportunity \u001b[1mto\u001b[0m address \u001b[1mcvd\u001b[0m \u001b[1mamong\u001b[0m \u001b[1mplwha\u001b[0m \u001b[1min\u001b[0m \u001b[1mthe\u001b[0m following \u001b[1munder\u001b[0m represented \u001b[1mresearch\u001b[0m areas: \u001b[1mlow\u001b[0m \u001b[1mand\u001b[0m \u001b[1mmiddle\u001b[0m \u001b[1mincome\u001b[0m \u001b[1mcountries\u001b[0m \u001b[1mand\u001b[0m \u001b[1msubstance\u001b[0m use.there \u001b[1mis\u001b[0m \u001b[1malso\u001b[0m \u001b[1ma\u001b[0m \u001b[1mneed\u001b[0m for \u001b[1minclusion\u001b[0m of \u001b[1mnon\u001b[0m \u001b[1mbiologic\u001b[0m \u001b[1mfactors\u001b[0m \u001b[1min\u001b[0m \u001b[1mour\u001b[0m \u001b[1mattempts\u001b[0m \u001b[1mto\u001b[0m understand, quantify, \u001b[1mand\u001b[0m \u001b[1mpredict\u001b[0m \u001b[1mcvd\u001b[0m \u001b[1mrisk\u001b[0m \u001b[1mamong\u001b[0m plwha. \u001b[1msummary\u001b[0m \u001b[1msignificant\u001b[0m \u001b[1mattention\u001b[0m has been \u001b[1mpaid\u001b[0m \u001b[1mto\u001b[0m \u001b[1mgenerating\u001b[0m \u001b[1mand\u001b[0m \u001b[1mtesting\u001b[0m \u001b[1mhypotheses\u001b[0m \u001b[1mto\u001b[0m \u001b[1munderstand\u001b[0m \u001b[1mthe\u001b[0m \u001b[1mmechanisms\u001b[0m of \u001b[1mmyocardial\u001b[0m \u001b[1minfarction\u001b[0m \u001b[1min\u001b[0m hiv. \u001b[1msimilar\u001b[0m \u001b[1mattention\u001b[0m \u001b[1mis\u001b[0m \u001b[1mdeserving\u001b[0m for \u001b[1mheart\u001b[0m failure, pad, stroke, \u001b[1mand\u001b[0m \u001b[1mcardiovascular\u001b[0m \u001b[1mdisease\u001b[0m \u001b[1mrisk\u001b[0m \u001b[1min\u001b[0m \u001b[1mresource\u001b[0m \u001b[1mlimited\u001b[0m \u001b[1msettings\u001b[0m \u001b[1mand\u001b[0m \u001b[1mamong\u001b[0m \u001b[1msubstance\u001b[0m \u001b[1musers\u001b[0m with hiv.with this review, we highlight \u001b[1mheart\u001b[0m failure, \u001b[1mperipheral\u001b[0m \u001b[1martery\u001b[0m disease, \u001b[1mand\u001b[0m \u001b[1mstroke\u001b[0m \u001b[1mas\u001b[0m \u001b[1mmodalities\u001b[0m \u001b[1mdeserving\u001b[0m more \u001b[1mattention\u001b[0m \u001b[1mas\u001b[0m \u001b[1mthe\u001b[0m epidemiology of \u001b[1mcardiovascular\u001b[0m \u001b[1mdisease\u001b[0m evolves \u001b[1min\u001b[0m \u001b[1mthe\u001b[0m haart era. \u001b[1mcardiovascular\u001b[0m \u001b[1mdisease\u001b[0m \u001b[1mrisk\u001b[0m \u001b[1massessment\u001b[0m \u001b[1min\u001b[0m \u001b[1mhiv\u001b[0m \u001b[1mremains\u001b[0m challenging, but \u001b[1mnew\u001b[0m \u001b[1mresearch\u001b[0m into \u001b[1mnovel\u001b[0m \u001b[1mbiomarkers\u001b[0m \u001b[1mmay\u001b[0m \u001b[1mprovide\u001b[0m further insights. there \u001b[1mis\u001b[0m \u001b[1malso\u001b[0m \u001b[1ma\u001b[0m \u001b[1mneed\u001b[0m for \u001b[1minclusion\u001b[0m of \u001b[1mnon\u001b[0m \u001b[1mbiologic\u001b[0m \u001b[1mfactors\u001b[0m \u001b[1min\u001b[0m \u001b[1mour\u001b[0m \u001b[1mattempts\u001b[0m \u001b[1mto\u001b[0m understand, quantify, \u001b[1mand\u001b[0m \u001b[1mpredict\u001b[0m \u001b[1mcardiovascular\u001b[0m \u001b[1mdisease\u001b[0m \u001b[1mrisk\u001b[0m \u001b[1mamong\u001b[0m \u001b[1mplwha\u001b[0m \u001b[1m.\u001b[0m\n",
      "\n",
      "Número de palavras em comum: 75\n",
      "\n",
      "R1: 0.751131221719457., R2: 0.6666666666666667, RL: 0.579185520361991\n",
      "\n",
      "\n",
      "\u001b[1m CANDIDATE - FT\u001b[0m : \n",
      " people living with hiv/aids (plwha) are living long enough \u001b[1mto\u001b[0m experience diseases of aging that are typical \u001b[1min\u001b[0m the general \u001b[1mpopulation\u001b[0m including \u001b[1mcardiovascular\u001b[0m disease. for example, multiple reports demonstrate that \u001b[1mplwha\u001b[0m have excess \u001b[1mrisk\u001b[0m of coronary \u001b[1martery\u001b[0m diseases including acute \u001b[1mmyocardial\u001b[0m infarction. \u001b[1mto\u001b[0m \u001b[1ma\u001b[0m lesser extent, there are \u001b[1malso\u001b[0m reports that suggest that \u001b[1mplwha\u001b[0m \u001b[1malso\u001b[0m have an excess \u001b[1mrisk\u001b[0m of ischemic stroke, \u001b[1mheart\u001b[0m failure, and \u001b[1mperipheral\u001b[0m \u001b[1martery\u001b[0m disease.we searched pubmed for relevant papers \u001b[1min\u001b[0m english published between january 01, 2014 and october 31, 2017. for \u001b[1mperipheral\u001b[0m \u001b[1martery\u001b[0m disease, we relaxed the time requirement given the dearth of available studies.in this section, we \u001b[1mfocus\u001b[0m \u001b[1mon\u001b[0m \u001b[1mrecent\u001b[0m knowledge gained \u001b[1min\u001b[0m understanding the \u001b[1mcardiovascular\u001b[0m \u001b[1mdisease\u001b[0m story \u001b[1mamong\u001b[0m \u001b[1mhiv\u001b[0m \u001b[1mpopulations\u001b[0m \u001b[1min\u001b[0m \u001b[1mlow\u001b[0m and \u001b[1mmiddle\u001b[0m \u001b[1mincome\u001b[0m countries.in \u001b[1ma\u001b[0m prior \u001b[1mreview\u001b[0m \u001b[1mon\u001b[0m \u001b[1mhiv\u001b[0m and \u001b[1mcardiovascular\u001b[0m disease, we described \u001b[1ma\u001b[0m conceptual model linking biological and environmental \u001b[1mfactors\u001b[0m \u001b[1mto\u001b[0m increased \u001b[1mcardiovascular\u001b[0m \u001b[1mdisease\u001b[0m \u001b[1mrisk\u001b[0m \u001b[1min\u001b[0m plwha.with this review, we highlight \u001b[1mheart\u001b[0m failure, \u001b[1mperipheral\u001b[0m \u001b[1martery\u001b[0m disease, and \u001b[1mstroke\u001b[0m \u001b[1mas\u001b[0m \u001b[1mmodalities\u001b[0m \u001b[1mdeserving\u001b[0m more \u001b[1mattention\u001b[0m \u001b[1mas\u001b[0m the epidemiology of \u001b[1mcardiovascular\u001b[0m \u001b[1mdisease\u001b[0m evolves \u001b[1min\u001b[0m the haart era. we \u001b[1malso\u001b[0m \u001b[1mprovide\u001b[0m an \u001b[1mupdate\u001b[0m \u001b[1mon\u001b[0m \u001b[1mmyocardial\u001b[0m \u001b[1minfarction\u001b[0m \u001b[1min\u001b[0m hiv, suggesting implementation science work \u001b[1mon\u001b[0m \u001b[1mrisk\u001b[0m reduction \u001b[1mas\u001b[0m \u001b[1ma\u001b[0m relevant next step.\n",
      "\n",
      "Número de palavras em comum: 32\n",
      "\n",
      "R1: 0.334763948497854., R2: 0.1731601731601731, RL: 0.1974248927038626\n",
      "\n",
      "\n"
     ]
    }
   ],
   "source": [
    "print_results(results, 1500)"
   ]
  }
 ],
 "metadata": {
  "kernelspec": {
   "display_name": "Python 3",
   "language": "python",
   "name": "python3"
  },
  "language_info": {
   "codemirror_mode": {
    "name": "ipython",
    "version": 3
   },
   "file_extension": ".py",
   "mimetype": "text/x-python",
   "name": "python",
   "nbconvert_exporter": "python",
   "pygments_lexer": "ipython3",
   "version": "3.8.8"
  }
 },
 "nbformat": 4,
 "nbformat_minor": 5
}
