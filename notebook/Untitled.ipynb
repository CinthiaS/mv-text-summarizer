{
 "cells": [
  {
   "cell_type": "code",
   "execution_count": 5,
   "id": "b460f3fe",
   "metadata": {},
   "outputs": [],
   "source": [
    "import pandas as pd\n",
    "import numpy as np"
   ]
  },
  {
   "cell_type": "code",
   "execution_count": 6,
   "id": "d39f69e6",
   "metadata": {},
   "outputs": [],
   "source": [
    "tests = {'sv_models_64dim':'sv'}"
   ]
  },
  {
   "cell_type": "code",
   "execution_count": 7,
   "id": "2ff31e7b",
   "metadata": {},
   "outputs": [],
   "source": [
    "name_models=['knn', 'rf', 'ab', 'cb', 'gb']"
   ]
  },
  {
   "cell_type": "code",
   "execution_count": 8,
   "id": "48e6b31c",
   "metadata": {},
   "outputs": [],
   "source": [
    "metrics=['rouge-1', 'rouge-2', 'rouge-l']"
   ]
  },
  {
   "cell_type": "code",
   "execution_count": 9,
   "id": "ee5a7391",
   "metadata": {},
   "outputs": [],
   "source": [
    "columns = [ \"{}_{}\".format(i,j) for i in name_models for j in metrics]"
   ]
  },
  {
   "cell_type": "code",
   "execution_count": 10,
   "id": "d8da867e",
   "metadata": {},
   "outputs": [],
   "source": [
    "results = []\n",
    "for num_test in range(1,31):\n",
    "    \n",
    "    for name_test, approach in tests.items():\n",
    "        \n",
    "        path_to_save = \"/scratch/cinthiasouza/mv-text-summarizer/notebook/{}\".format(name_test)\n",
    "        result_comb = pd.read_csv(\"{}/test_{}/summaries/{}.csv\".format(path_to_save, num_test, 'comb'))\n",
    "                                  \n",
    "        results.append(result_comb.describe().T['mean'])"
   ]
  },
  {
   "cell_type": "code",
   "execution_count": 11,
   "id": "163a21dc",
   "metadata": {},
   "outputs": [],
   "source": [
    "df = pd.concat(results, axis=1).T"
   ]
  },
  {
   "cell_type": "code",
   "execution_count": 12,
   "id": "12e1b46d",
   "metadata": {},
   "outputs": [],
   "source": [
    "import scikit_posthocs as sp"
   ]
  },
  {
   "cell_type": "code",
   "execution_count": 13,
   "id": "2bcf0031",
   "metadata": {},
   "outputs": [],
   "source": [
    "knn = df['knn_rouge-1'].to_list()\n",
    "rf = df['rf_rouge-1'].to_list()\n",
    "ab = df['ab_rouge-1'].to_list()\n",
    "cb = df['cb_rouge-1'].to_list()\n",
    "gb = df['gb_rouge-1'].to_list()"
   ]
  },
  {
   "cell_type": "code",
   "execution_count": 26,
   "id": "b67b2daf",
   "metadata": {},
   "outputs": [],
   "source": [
    "columns=['knn_rouge-1', 'rf_rouge-1', 'ab_rouge-1', 'cb_rouge-1', 'gb_rouge-1']"
   ]
  },
  {
   "cell_type": "code",
   "execution_count": 14,
   "id": "35e19047",
   "metadata": {},
   "outputs": [],
   "source": [
    "x = np.array([knn, rf, ab, cb, gb])"
   ]
  },
  {
   "cell_type": "markdown",
   "id": "b1367ee6",
   "metadata": {},
   "source": [
    "The null hypothesis (H0): The mean for each population is equal.\n",
    "    \n",
    "The alternative hypothesis: (Ha): At least one population mean is different from the rest."
   ]
  },
  {
   "cell_type": "code",
   "execution_count": 15,
   "id": "bedb01fa",
   "metadata": {},
   "outputs": [
    {
     "data": {
      "text/plain": [
       "FriedmanchisquareResult(statistic=120.0, pvalue=5.341471565244885e-25)"
      ]
     },
     "execution_count": 15,
     "metadata": {},
     "output_type": "execute_result"
    }
   ],
   "source": [
    "from scipy import stats\n",
    "\n",
    "stats.friedmanchisquare(knn, rf, ab, cb, gb)"
   ]
  },
  {
   "cell_type": "markdown",
   "id": "bb8f280c",
   "metadata": {},
   "source": [
    "p-value is less than 0.05, we can reject the null hypothesis"
   ]
  },
  {
   "cell_type": "code",
   "execution_count": 16,
   "id": "59ee4785",
   "metadata": {},
   "outputs": [
    {
     "data": {
      "text/html": [
       "<div>\n",
       "<style scoped>\n",
       "    .dataframe tbody tr th:only-of-type {\n",
       "        vertical-align: middle;\n",
       "    }\n",
       "\n",
       "    .dataframe tbody tr th {\n",
       "        vertical-align: top;\n",
       "    }\n",
       "\n",
       "    .dataframe thead th {\n",
       "        text-align: right;\n",
       "    }\n",
       "</style>\n",
       "<table border=\"1\" class=\"dataframe\">\n",
       "  <thead>\n",
       "    <tr style=\"text-align: right;\">\n",
       "      <th></th>\n",
       "      <th>0</th>\n",
       "      <th>1</th>\n",
       "      <th>2</th>\n",
       "      <th>3</th>\n",
       "      <th>4</th>\n",
       "    </tr>\n",
       "  </thead>\n",
       "  <tbody>\n",
       "    <tr>\n",
       "      <th>0</th>\n",
       "      <td>1.000000</td>\n",
       "      <td>0.102437</td>\n",
       "      <td>0.001000</td>\n",
       "      <td>0.102437</td>\n",
       "      <td>0.001000</td>\n",
       "    </tr>\n",
       "    <tr>\n",
       "      <th>1</th>\n",
       "      <td>0.102437</td>\n",
       "      <td>1.000000</td>\n",
       "      <td>0.001000</td>\n",
       "      <td>0.001000</td>\n",
       "      <td>0.001000</td>\n",
       "    </tr>\n",
       "    <tr>\n",
       "      <th>2</th>\n",
       "      <td>0.001000</td>\n",
       "      <td>0.001000</td>\n",
       "      <td>1.000000</td>\n",
       "      <td>0.001000</td>\n",
       "      <td>0.102437</td>\n",
       "    </tr>\n",
       "    <tr>\n",
       "      <th>3</th>\n",
       "      <td>0.102437</td>\n",
       "      <td>0.001000</td>\n",
       "      <td>0.001000</td>\n",
       "      <td>1.000000</td>\n",
       "      <td>0.102437</td>\n",
       "    </tr>\n",
       "    <tr>\n",
       "      <th>4</th>\n",
       "      <td>0.001000</td>\n",
       "      <td>0.001000</td>\n",
       "      <td>0.102437</td>\n",
       "      <td>0.102437</td>\n",
       "      <td>1.000000</td>\n",
       "    </tr>\n",
       "  </tbody>\n",
       "</table>\n",
       "</div>"
      ],
      "text/plain": [
       "          0         1         2         3         4\n",
       "0  1.000000  0.102437  0.001000  0.102437  0.001000\n",
       "1  0.102437  1.000000  0.001000  0.001000  0.001000\n",
       "2  0.001000  0.001000  1.000000  0.001000  0.102437\n",
       "3  0.102437  0.001000  0.001000  1.000000  0.102437\n",
       "4  0.001000  0.001000  0.102437  0.102437  1.000000"
      ]
     },
     "execution_count": 16,
     "metadata": {},
     "output_type": "execute_result"
    }
   ],
   "source": [
    "import scikit_posthocs as sp\n",
    "import numpy as np\n",
    "\n",
    "#perform Nemenyi post-hoc test\n",
    "result = sp.posthoc_nemenyi_friedman(x.T)\n",
    "result"
   ]
  },
  {
   "cell_type": "markdown",
   "id": "c334482d",
   "metadata": {},
   "source": [
    "At α = .05, the only two groups that have statistically significantly different means are group 1 and group 3 e 4"
   ]
  },
  {
   "cell_type": "code",
   "execution_count": 34,
   "id": "b765b35c",
   "metadata": {},
   "outputs": [],
   "source": [
    "import numpy as np\n",
    "import pandas as pd\n",
    "import matplotlib.pyplot as plt\n",
    "from autorank import autorank, plot_stats, create_report, latex_table\n",
    "\n",
    "pd.set_option('display.max_columns', 7)\n",
    "data = df[columns]"
   ]
  },
  {
   "cell_type": "code",
   "execution_count": 35,
   "id": "b07e2ac4",
   "metadata": {},
   "outputs": [],
   "source": [
    "result = autorank(data, alpha=0.05, verbose=False, approach='frequentist')"
   ]
  },
  {
   "cell_type": "code",
   "execution_count": 36,
   "id": "30c30181",
   "metadata": {},
   "outputs": [
    {
     "name": "stdout",
     "output_type": "stream",
     "text": [
      "The statistical analysis was conducted for 5 populations with 30 paired samples.\n",
      "The family-wise significance level of the tests is alpha=0.050.\n",
      "We failed to reject the null hypothesis that the population is normal for all populations (minimal observed p-value=0.644). Therefore, we assume that all populations are normal.\n",
      "We applied Bartlett's test for homogeneity and reject the null hypothesis (p=0.000) that thedata is homoscedastic. Thus, we assume that our data is heteroscedastic.\n",
      "Because we have more than two populations and the populations are normal but heteroscedastic, we use the non-parametric Friedman test as omnibus test to determine if there are any significant differences between the mean values of the populations. We use the post-hoc Nemenyi test to infer which differences are significant. We report the mean value (M), the standard deviation (SD) and the mean rank (MR) among all populations over the samples. Differences between populations are significant, if the difference of the mean rank is greater than the critical distance CD=1.114 of the Nemenyi test.\n",
      "We reject the null hypothesis (p=0.000) of the Friedman test that there is no difference in the central tendency of the populations rf_rouge-1 (M=0.454+-0.001, SD=0.001, MR=5.000), knn_rouge-1 (M=0.475+-0.000, SD=0.000, MR=4.000), cb_rouge-1 (M=0.482+-0.000, SD=0.000, MR=3.000), gb_rouge-1 (M=0.488+-0.000, SD=0.000, MR=2.000), and ab_rouge-1 (M=0.490+-0.000, SD=0.000, MR=1.000). Therefore, we assume that there is a statistically significant difference between the median values of the populations.\n",
      "Based on the post-hoc Nemenyi test, we assume that there are no significant differences within the following groups: rf_rouge-1 and knn_rouge-1; knn_rouge-1 and cb_rouge-1; cb_rouge-1 and gb_rouge-1; gb_rouge-1 and ab_rouge-1. All other differences are significant.\n"
     ]
    }
   ],
   "source": [
    "create_report(result)"
   ]
  },
  {
   "cell_type": "code",
   "execution_count": 38,
   "id": "ad2f062b",
   "metadata": {},
   "outputs": [
    {
     "data": {
      "text/plain": [
       "RankResult(rankdf=             meanrank      mean           std  ci_lower  ci_upper effect_size  \\\n",
       "rf_rouge-1        5.0  0.454165  1.113028e-03  0.453605  0.454725         0.0   \n",
       "knn_rouge-1       4.0  0.474582  2.258405e-16  0.474582  0.474582  -25.941731   \n",
       "cb_rouge-1        3.0  0.481768  3.952209e-16  0.481768  0.481768  -35.072329   \n",
       "gb_rouge-1        2.0  0.487850  2.823006e-16   0.48785   0.48785  -42.800694   \n",
       "ab_rouge-1        1.0  0.490332  1.693804e-16  0.490332  0.490332    -45.9542   \n",
       "\n",
       "              magnitude  \n",
       "rf_rouge-1   negligible  \n",
       "knn_rouge-1       large  \n",
       "cb_rouge-1        large  \n",
       "gb_rouge-1        large  \n",
       "ab_rouge-1        large  , pvalue=5.341471565244885e-25, cd=1.1135996351508262, omnibus='friedman', posthoc='nemenyi', all_normal=True, pvals_shapiro=[0.6436989307403564, 1.0, 1.0, 1.0, 1.0], homoscedastic=False, pval_homogeneity=0.0, homogeneity_test='bartlett', alpha=0.05, alpha_normality=0.01, num_samples=30, posterior_matrix=None, decision_matrix=None, rope=None, rope_mode=None, effect_size='cohen_d', force_mode=None)"
      ]
     },
     "execution_count": 38,
     "metadata": {},
     "output_type": "execute_result"
    }
   ],
   "source": [
    "result"
   ]
  },
  {
   "cell_type": "code",
   "execution_count": 37,
   "id": "d4762246",
   "metadata": {},
   "outputs": [
    {
     "data": {
      "image/png": "[encoded data removed]",
      "text/plain": [
       "<Figure size 432x140.4 with 1 Axes>"
      ]
     },
     "metadata": {},
     "output_type": "display_data"
    }
   ],
   "source": [
    "plot_stats(result)\n",
    "plt.show()"
   ]
  },
  {
   "cell_type": "code",
   "execution_count": null,
   "id": "3490c861",
   "metadata": {},
   "outputs": [],
   "source": []
  }
 ],
 "metadata": {
  "kernelspec": {
   "display_name": "Python 3",
   "language": "python",
   "name": "python3"
  },
  "language_info": {
   "codemirror_mode": {
    "name": "ipython",
    "version": 3
   },
   "file_extension": ".py",
   "mimetype": "text/x-python",
   "name": "python",
   "nbconvert_exporter": "python",
   "pygments_lexer": "ipython3",
   "version": "3.8.8"
  }
 },
 "nbformat": 4,
 "nbformat_minor": 5
}
