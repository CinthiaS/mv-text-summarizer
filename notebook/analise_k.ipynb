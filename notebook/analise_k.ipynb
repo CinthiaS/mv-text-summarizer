{
 "cells": [
  {
   "cell_type": "code",
   "execution_count": 11,
   "id": "738cc9c9",
   "metadata": {},
   "outputs": [],
   "source": [
    "from sklearn.manifold import TSNE\n",
    "import plotly.express as px\n",
    "from scipy.spatial import distance\n",
    "from sklearn.cluster import DBSCAN\n",
    "from sklearn.cluster import KMeans\n",
    "import numpy as np\n",
    "import pandas as pd\n",
    "import pickle"
   ]
  },
  {
   "cell_type": "code",
   "execution_count": 13,
   "id": "8114ca58",
   "metadata": {},
   "outputs": [],
   "source": [
    "columns = list(range(0, 383))\n",
    "columns = list(map(str, columns))\n"
   ]
  },
  {
   "cell_type": "code",
   "execution_count": 12,
   "id": "750268cb",
   "metadata": {},
   "outputs": [],
   "source": [
    "with open('dataset/dataset_{}.pkl'.format('features'), 'rb') as fp:\n",
    "    dataset = pickle.load(fp)"
   ]
  },
  {
   "cell_type": "code",
   "execution_count": 2,
   "id": "3f9daf52",
   "metadata": {},
   "outputs": [],
   "source": [
    "def plot_clusters(df, projections):\n",
    "    \n",
    "    fig = px.scatter(projections, x=0, y=1, color=df.label)\n",
    "    fig.show()"
   ]
  },
  {
   "cell_type": "code",
   "execution_count": 7,
   "id": "b9b8a8dc",
   "metadata": {},
   "outputs": [],
   "source": [
    "X_test_intro = pd.read_csv(\"dataset/embed_bert_{}_test.csv\".format('introduction'))\n",
    "X_test_mat = pd.read_csv(\"dataset/embed_bert_{}_test.csv\".format('materials'))\n",
    "X_test_conc = pd.read_csv(\"dataset/embed_bert_{}_test.csv\".format('conclusion'))"
   ]
  },
  {
   "cell_type": "code",
   "execution_count": 14,
   "id": "dd70097b",
   "metadata": {},
   "outputs": [],
   "source": [
    "X_test_intro = X_test_intro[columns]\n",
    "X_test_mat = X_test_mat[columns]\n",
    "X_test_conc = X_test_conc[columns]"
   ]
  },
  {
   "cell_type": "code",
   "execution_count": 15,
   "id": "6e6dc8f1",
   "metadata": {},
   "outputs": [],
   "source": [
    "section = 'introduction'\n",
    "features_intro = dataset[section][5][['sentences', 'articles', 'rouge_1', 'bin']]\n",
    "features_intro = features_intro.reset_index(drop=True)\n",
    "\n",
    "X_test_intro['articles'] = features_intro['articles']\n",
    "X_test_intro['sentences'] = features_intro['sentences']\n",
    "X_test_intro['rouge_1'] = features_intro['rouge_1']\n",
    "X_test_intro['bin'] = features_intro['bin']"
   ]
  },
  {
   "cell_type": "code",
   "execution_count": 16,
   "id": "c7ef63cf",
   "metadata": {},
   "outputs": [],
   "source": [
    "section = 'materials'\n",
    "features_mat = dataset[section][5][['sentences', 'articles', 'rouge_1', 'bin']]\n",
    "features_mat = features_mat.reset_index(drop=True)\n",
    "\n",
    "X_test_mat['articles'] = features_mat['articles']\n",
    "X_test_mat['sentences'] = features_mat['sentences']\n",
    "X_test_mat['rouge_1'] = features_mat['rouge_1']\n",
    "X_test_mat['bin'] = features_mat['bin']"
   ]
  },
  {
   "cell_type": "code",
   "execution_count": 17,
   "id": "6f833f65",
   "metadata": {},
   "outputs": [],
   "source": [
    "section = 'conclusion'\n",
    "features_conc = dataset[section][5][['sentences', 'articles', 'rouge_1', 'bin']]\n",
    "features_conc = features_conc.reset_index(drop=True)\n",
    "\n",
    "X_test_conc['articles'] = features_conc['articles']\n",
    "X_test_conc['sentences'] = features_conc['sentences']\n",
    "X_test_conc['rouge_1'] = features_conc['rouge_1']\n",
    "X_test_conc['bin'] = features_conc['bin']"
   ]
  },
  {
   "cell_type": "code",
   "execution_count": 87,
   "id": "75615e1c",
   "metadata": {},
   "outputs": [],
   "source": [
    "df = pd.concat([X_test_intro, X_test_mat, X_test_conc])"
   ]
  },
  {
   "cell_type": "code",
   "execution_count": 19,
   "id": "a1d50c34",
   "metadata": {},
   "outputs": [],
   "source": [
    "import sys\n",
    "import joblib\n",
    "import six\n",
    "sys.modules['sklearn.externals.joblib'] = joblib\n",
    "sys.modules['sklearn.externals.six'] = six"
   ]
  },
  {
   "cell_type": "code",
   "execution_count": 20,
   "id": "4c6d1193",
   "metadata": {},
   "outputs": [],
   "source": [
    "import hdbscan"
   ]
  },
  {
   "cell_type": "code",
   "execution_count": 45,
   "id": "d3167f48",
   "metadata": {},
   "outputs": [],
   "source": [
    "summ_items = pd.read_csv(\"dataset/indices_summ.csv\")['summ']"
   ]
  },
  {
   "cell_type": "code",
   "execution_count": 88,
   "id": "7a6a57c8",
   "metadata": {},
   "outputs": [],
   "source": [
    "def cluster_analysis(df, summ_items, columns):\n",
    "\n",
    "    result = []\n",
    "    num_clusters = {'articles': [], 'n': []}\n",
    "    \n",
    "    for i in summ_items:\n",
    "\n",
    "        cluster_result = {}\n",
    "\n",
    "        aux  = df.loc[df['articles'] == i]\n",
    "\n",
    "        clusterer = hdbscan.HDBSCAN(min_cluster_size=2, alpha=1.3)\n",
    "        clusterer.fit(aux[columns])\n",
    "        \n",
    "        num_clusters['articles'].append(i)\n",
    "        num_clusters['n'].append(len(np.unique(clusterer.labels_)))\n",
    "\n",
    "        cluster_result = {'sentences': aux['sentences'],\n",
    "                          'articles': len(aux)*[i],\n",
    "                          'rouge_1': aux['rouge_1'], \n",
    "                          'label': aux['bin'],\n",
    "                          'cluster': clusterer.labels_}\n",
    "        \n",
    "        \n",
    "\n",
    "        result.append(pd.DataFrame(cluster_result))\n",
    "        \n",
    "    return pd.concat(result), num_clusters"
   ]
  },
  {
   "cell_type": "markdown",
   "id": "1c3130a7",
   "metadata": {},
   "source": [
    "### Todas as seções"
   ]
  },
  {
   "cell_type": "code",
   "execution_count": 89,
   "id": "7b80b147",
   "metadata": {},
   "outputs": [],
   "source": [
    "result, num_clusters = cluster_analysis(df, summ_items, columns)"
   ]
  },
  {
   "cell_type": "code",
   "execution_count": 90,
   "id": "21f08543",
   "metadata": {},
   "outputs": [
    {
     "data": {
      "text/html": [
       "<div>\n",
       "<style scoped>\n",
       "    .dataframe tbody tr th:only-of-type {\n",
       "        vertical-align: middle;\n",
       "    }\n",
       "\n",
       "    .dataframe tbody tr th {\n",
       "        vertical-align: top;\n",
       "    }\n",
       "\n",
       "    .dataframe thead th {\n",
       "        text-align: right;\n",
       "    }\n",
       "</style>\n",
       "<table border=\"1\" class=\"dataframe\">\n",
       "  <thead>\n",
       "    <tr style=\"text-align: right;\">\n",
       "      <th></th>\n",
       "      <th>n</th>\n",
       "    </tr>\n",
       "  </thead>\n",
       "  <tbody>\n",
       "    <tr>\n",
       "      <th>count</th>\n",
       "      <td>924.000000</td>\n",
       "    </tr>\n",
       "    <tr>\n",
       "      <th>mean</th>\n",
       "      <td>4.682900</td>\n",
       "    </tr>\n",
       "    <tr>\n",
       "      <th>std</th>\n",
       "      <td>3.014247</td>\n",
       "    </tr>\n",
       "    <tr>\n",
       "      <th>min</th>\n",
       "      <td>1.000000</td>\n",
       "    </tr>\n",
       "    <tr>\n",
       "      <th>25%</th>\n",
       "      <td>3.000000</td>\n",
       "    </tr>\n",
       "    <tr>\n",
       "      <th>50%</th>\n",
       "      <td>3.000000</td>\n",
       "    </tr>\n",
       "    <tr>\n",
       "      <th>75%</th>\n",
       "      <td>5.000000</td>\n",
       "    </tr>\n",
       "    <tr>\n",
       "      <th>max</th>\n",
       "      <td>28.000000</td>\n",
       "    </tr>\n",
       "  </tbody>\n",
       "</table>\n",
       "</div>"
      ],
      "text/plain": [
       "                n\n",
       "count  924.000000\n",
       "mean     4.682900\n",
       "std      3.014247\n",
       "min      1.000000\n",
       "25%      3.000000\n",
       "50%      3.000000\n",
       "75%      5.000000\n",
       "max     28.000000"
      ]
     },
     "execution_count": 90,
     "metadata": {},
     "output_type": "execute_result"
    }
   ],
   "source": [
    "pd.DataFrame(num_clusters).describe()"
   ]
  },
  {
   "cell_type": "markdown",
   "id": "126b1265",
   "metadata": {},
   "source": [
    "### Introdução"
   ]
  },
  {
   "cell_type": "code",
   "execution_count": 77,
   "id": "654cfdc6",
   "metadata": {},
   "outputs": [],
   "source": [
    "intro_result, num_clusters_intro = cluster_analysis(X_test_intro, summ_items, columns)"
   ]
  },
  {
   "cell_type": "code",
   "execution_count": 78,
   "id": "fef88894",
   "metadata": {},
   "outputs": [
    {
     "data": {
      "text/html": [
       "<div>\n",
       "<style scoped>\n",
       "    .dataframe tbody tr th:only-of-type {\n",
       "        vertical-align: middle;\n",
       "    }\n",
       "\n",
       "    .dataframe tbody tr th {\n",
       "        vertical-align: top;\n",
       "    }\n",
       "\n",
       "    .dataframe thead th {\n",
       "        text-align: right;\n",
       "    }\n",
       "</style>\n",
       "<table border=\"1\" class=\"dataframe\">\n",
       "  <thead>\n",
       "    <tr style=\"text-align: right;\">\n",
       "      <th></th>\n",
       "      <th>n</th>\n",
       "    </tr>\n",
       "  </thead>\n",
       "  <tbody>\n",
       "    <tr>\n",
       "      <th>count</th>\n",
       "      <td>924.000000</td>\n",
       "    </tr>\n",
       "    <tr>\n",
       "      <th>mean</th>\n",
       "      <td>2.450216</td>\n",
       "    </tr>\n",
       "    <tr>\n",
       "      <th>std</th>\n",
       "      <td>1.192569</td>\n",
       "    </tr>\n",
       "    <tr>\n",
       "      <th>min</th>\n",
       "      <td>1.000000</td>\n",
       "    </tr>\n",
       "    <tr>\n",
       "      <th>25%</th>\n",
       "      <td>1.000000</td>\n",
       "    </tr>\n",
       "    <tr>\n",
       "      <th>50%</th>\n",
       "      <td>3.000000</td>\n",
       "    </tr>\n",
       "    <tr>\n",
       "      <th>75%</th>\n",
       "      <td>3.000000</td>\n",
       "    </tr>\n",
       "    <tr>\n",
       "      <th>max</th>\n",
       "      <td>7.000000</td>\n",
       "    </tr>\n",
       "  </tbody>\n",
       "</table>\n",
       "</div>"
      ],
      "text/plain": [
       "                n\n",
       "count  924.000000\n",
       "mean     2.450216\n",
       "std      1.192569\n",
       "min      1.000000\n",
       "25%      1.000000\n",
       "50%      3.000000\n",
       "75%      3.000000\n",
       "max      7.000000"
      ]
     },
     "execution_count": 78,
     "metadata": {},
     "output_type": "execute_result"
    }
   ],
   "source": [
    "pd.DataFrame(num_clusters_intro).describe()"
   ]
  },
  {
   "cell_type": "markdown",
   "id": "048958f0",
   "metadata": {},
   "source": [
    "### Materials"
   ]
  },
  {
   "cell_type": "code",
   "execution_count": 79,
   "id": "36cfb535",
   "metadata": {},
   "outputs": [],
   "source": [
    "mat_result, num_clusters_mat = cluster_analysis(X_test_mat, summ_items, columns)"
   ]
  },
  {
   "cell_type": "code",
   "execution_count": 80,
   "id": "86c10b57",
   "metadata": {},
   "outputs": [
    {
     "data": {
      "text/html": [
       "<div>\n",
       "<style scoped>\n",
       "    .dataframe tbody tr th:only-of-type {\n",
       "        vertical-align: middle;\n",
       "    }\n",
       "\n",
       "    .dataframe tbody tr th {\n",
       "        vertical-align: top;\n",
       "    }\n",
       "\n",
       "    .dataframe thead th {\n",
       "        text-align: right;\n",
       "    }\n",
       "</style>\n",
       "<table border=\"1\" class=\"dataframe\">\n",
       "  <thead>\n",
       "    <tr style=\"text-align: right;\">\n",
       "      <th></th>\n",
       "      <th>n</th>\n",
       "    </tr>\n",
       "  </thead>\n",
       "  <tbody>\n",
       "    <tr>\n",
       "      <th>count</th>\n",
       "      <td>924.000000</td>\n",
       "    </tr>\n",
       "    <tr>\n",
       "      <th>mean</th>\n",
       "      <td>2.681818</td>\n",
       "    </tr>\n",
       "    <tr>\n",
       "      <th>std</th>\n",
       "      <td>1.563552</td>\n",
       "    </tr>\n",
       "    <tr>\n",
       "      <th>min</th>\n",
       "      <td>1.000000</td>\n",
       "    </tr>\n",
       "    <tr>\n",
       "      <th>25%</th>\n",
       "      <td>1.000000</td>\n",
       "    </tr>\n",
       "    <tr>\n",
       "      <th>50%</th>\n",
       "      <td>3.000000</td>\n",
       "    </tr>\n",
       "    <tr>\n",
       "      <th>75%</th>\n",
       "      <td>3.000000</td>\n",
       "    </tr>\n",
       "    <tr>\n",
       "      <th>max</th>\n",
       "      <td>16.000000</td>\n",
       "    </tr>\n",
       "  </tbody>\n",
       "</table>\n",
       "</div>"
      ],
      "text/plain": [
       "                n\n",
       "count  924.000000\n",
       "mean     2.681818\n",
       "std      1.563552\n",
       "min      1.000000\n",
       "25%      1.000000\n",
       "50%      3.000000\n",
       "75%      3.000000\n",
       "max     16.000000"
      ]
     },
     "execution_count": 80,
     "metadata": {},
     "output_type": "execute_result"
    }
   ],
   "source": [
    "pd.DataFrame(num_clusters_mat).describe()"
   ]
  },
  {
   "cell_type": "markdown",
   "id": "04eada83",
   "metadata": {},
   "source": [
    "### Conclusion"
   ]
  },
  {
   "cell_type": "code",
   "execution_count": 81,
   "id": "ace87404",
   "metadata": {},
   "outputs": [],
   "source": [
    "conc_result, num_clusters_conc = cluster_analysis(X_test_conc, summ_items, columns)"
   ]
  },
  {
   "cell_type": "code",
   "execution_count": 82,
   "id": "931cecf6",
   "metadata": {},
   "outputs": [
    {
     "data": {
      "text/html": [
       "<div>\n",
       "<style scoped>\n",
       "    .dataframe tbody tr th:only-of-type {\n",
       "        vertical-align: middle;\n",
       "    }\n",
       "\n",
       "    .dataframe tbody tr th {\n",
       "        vertical-align: top;\n",
       "    }\n",
       "\n",
       "    .dataframe thead th {\n",
       "        text-align: right;\n",
       "    }\n",
       "</style>\n",
       "<table border=\"1\" class=\"dataframe\">\n",
       "  <thead>\n",
       "    <tr style=\"text-align: right;\">\n",
       "      <th></th>\n",
       "      <th>n</th>\n",
       "    </tr>\n",
       "  </thead>\n",
       "  <tbody>\n",
       "    <tr>\n",
       "      <th>count</th>\n",
       "      <td>924.000000</td>\n",
       "    </tr>\n",
       "    <tr>\n",
       "      <th>mean</th>\n",
       "      <td>3.225108</td>\n",
       "    </tr>\n",
       "    <tr>\n",
       "      <th>std</th>\n",
       "      <td>2.044250</td>\n",
       "    </tr>\n",
       "    <tr>\n",
       "      <th>min</th>\n",
       "      <td>1.000000</td>\n",
       "    </tr>\n",
       "    <tr>\n",
       "      <th>25%</th>\n",
       "      <td>1.000000</td>\n",
       "    </tr>\n",
       "    <tr>\n",
       "      <th>50%</th>\n",
       "      <td>3.000000</td>\n",
       "    </tr>\n",
       "    <tr>\n",
       "      <th>75%</th>\n",
       "      <td>4.000000</td>\n",
       "    </tr>\n",
       "    <tr>\n",
       "      <th>max</th>\n",
       "      <td>18.000000</td>\n",
       "    </tr>\n",
       "  </tbody>\n",
       "</table>\n",
       "</div>"
      ],
      "text/plain": [
       "                n\n",
       "count  924.000000\n",
       "mean     3.225108\n",
       "std      2.044250\n",
       "min      1.000000\n",
       "25%      1.000000\n",
       "50%      3.000000\n",
       "75%      4.000000\n",
       "max     18.000000"
      ]
     },
     "execution_count": 82,
     "metadata": {},
     "output_type": "execute_result"
    }
   ],
   "source": [
    "pd.DataFrame(num_clusters_conc).describe()"
   ]
  }
 ],
 "metadata": {
  "kernelspec": {
   "display_name": "Python 3",
   "language": "python",
   "name": "python3"
  },
  "language_info": {
   "codemirror_mode": {
    "name": "ipython",
    "version": 3
   },
   "file_extension": ".py",
   "mimetype": "text/x-python",
   "name": "python",
   "nbconvert_exporter": "python",
   "pygments_lexer": "ipython3",
   "version": "3.8.8"
  }
 },
 "nbformat": 4,
 "nbformat_minor": 5
}
