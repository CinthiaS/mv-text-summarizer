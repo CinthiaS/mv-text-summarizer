{
 "cells": [
  {
   "cell_type": "code",
   "execution_count": null,
   "id": "5c873535",
   "metadata": {},
   "outputs": [],
   "source": [
    "import pandas as pd\n",
    "from sklearn.tree import DecisionTreeClassifier\n",
    "from sklearn.preprocessing import label_binarize\n",
    "\n",
    "from sklearn.model_selection import train_test_split\n",
    "from sklearn.model_selection import KFold\n",
    "\n",
    "from sklearn.metrics import accuracy_score\n",
    "from sklearn.metrics import f1_score\n",
    "from sklearn.metrics import roc_auc_score\n",
    "\n",
    "import plotly.graph_objects as go\n",
    "from matplotlib import pyplot as plt\n",
    "import numpy as np\n",
    "\n",
    "import plotly.express as px\n",
    "\n",
    "import warnings\n",
    "warnings.filterwarnings(\"ignore\")"
   ]
  },
  {
   "cell_type": "code",
   "execution_count": null,
   "id": "2c05b93f",
   "metadata": {},
   "outputs": [],
   "source": [
    "def adaboost(X, y, n_estimators=10):\n",
    "\n",
    "    stumps = []\n",
    "    alphas = []\n",
    "    errors = []\n",
    "    ada = []\n",
    "\n",
    "    shape = X.shape[0]\n",
    "    weights = np.zeros(shape=(n_estimators, shape))\n",
    "\n",
    "    #Inicialização dos pesos como sendo 1/m\n",
    "    weights[0] = [1/shape] *shape\n",
    "    \n",
    "    for i in range(n_estimators):\n",
    "\n",
    "        # stump\n",
    "        stump = DecisionTreeClassifier(max_depth=1)\n",
    "        stump.fit(X, y, sample_weight=weights[i])\n",
    "        pred = stump.predict(X)\n",
    "\n",
    "        #Calculo do erro\n",
    "        error = sum(weights[i][(pred != y)])\n",
    "\n",
    "        #Calculando alpha t\n",
    "        alpha = 1/2 * np.log((1 - error) / error) \n",
    "\n",
    "        # Atualização dos pesos\n",
    "        new_weights = (weights[i] * np.exp(-alpha * y * pred))\n",
    "        new_weights = new_weights/new_weights.sum()\n",
    "\n",
    "        if i+1 < n_estimators:\n",
    "            weights[i+1] = new_weights\n",
    "\n",
    "        stumps.append(stump)\n",
    "        errors.append(error)\n",
    "        alphas.append(alpha)\n",
    "        ada.append(np.prod(((errors[i]*(1-errors[i]))**1/2)))\n",
    "\n",
    "    return ada, errors, stumps, alphas"
   ]
  },
  {
   "cell_type": "code",
   "execution_count": null,
   "id": "c5a2bdff",
   "metadata": {},
   "outputs": [],
   "source": [
    "def predict(X, alphas, stumps):\n",
    "    return np.sign(np.dot(alphas, np.array([stump.predict(X) for stump in stumps])))"
   ]
  }
 ],
 "metadata": {
  "kernelspec": {
   "display_name": "Python 3",
   "language": "python",
   "name": "python3"
  },
  "language_info": {
   "codemirror_mode": {
    "name": "ipython",
    "version": 3
   },
   "file_extension": ".py",
   "mimetype": "text/x-python",
   "name": "python",
   "nbconvert_exporter": "python",
   "pygments_lexer": "ipython3",
   "version": "3.8.8"
  }
 },
 "nbformat": 4,
 "nbformat_minor": 5
}
