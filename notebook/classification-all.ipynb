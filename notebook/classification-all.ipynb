{
 "cells": [
  {
   "cell_type": "code",
   "execution_count": 1,
   "metadata": {},
   "outputs": [],
   "source": [
    "import sys\n",
    "sys.path.insert(1, '/scratch/cinthiasouza/mv-text-summarizer')\n",
    "\n",
    "import pandas as pd\n",
    "import numpy as np\n",
    "import json\n",
    "import pickle\n",
    "import os\n",
    "import joblib\n",
    "from joblib import Parallel, delayed\n",
    "\n",
    "import warnings\n",
    "warnings.filterwarnings(\"ignore\")\n",
    "\n",
    "path_base = \"/scratch/cinthiasouza/mv-text-summarizer\"\n",
    "path_to_read=\"/scratch/cinthiasouza/mv-text-summarizer/result/{}/{}_*.csv\""
   ]
  },
  {
   "cell_type": "code",
   "execution_count": 11,
   "metadata": {},
   "outputs": [
    {
     "name": "stdout",
     "output_type": "stream",
     "text": [
      "The autoreload extension is already loaded. To reload it, use:\n",
      "  %reload_ext autoreload\n"
     ]
    }
   ],
   "source": [
    "%load_ext autoreload\n",
    "%autoreload 2\n",
    "\n",
    "from src import classifiers"
   ]
  },
  {
   "cell_type": "code",
   "execution_count": 12,
   "metadata": {},
   "outputs": [],
   "source": [
    "def create_directories(path):\n",
    "    \n",
    "    if not os.path.exists(path):\n",
    "        os.makedirs(path)\n",
    "        os.makedirs(\"{}/summaries\".format(path))\n",
    "        os.makedirs(\"{}/predictions\".format(path))"
   ]
  },
  {
   "cell_type": "markdown",
   "metadata": {},
   "source": [
    "## Load data"
   ]
  },
  {
   "cell_type": "code",
   "execution_count": 13,
   "metadata": {},
   "outputs": [],
   "source": [
    "with open('autoencoder_64dim/dataset_{}.pkl'.format('features'), 'rb') as fp:\n",
    "    dataset = pickle.load(fp)"
   ]
  },
  {
   "cell_type": "code",
   "execution_count": 14,
   "metadata": {},
   "outputs": [],
   "source": [
    "with open('mv_tunning/parameters.pkl', 'rb') as fp:\n",
    "    parameters = pickle.load(fp)"
   ]
  },
  {
   "cell_type": "markdown",
   "metadata": {},
   "source": [
    "## Train Models"
   ]
  },
  {
   "cell_type": "code",
   "execution_count": 15,
   "metadata": {},
   "outputs": [],
   "source": [
    "tests = {'mv_models_64dim':'mv'}"
   ]
  },
  {
   "cell_type": "code",
   "execution_count": 16,
   "metadata": {},
   "outputs": [],
   "source": [
    "sections=['introduction', 'materials', 'conclusion']\n",
    "name_models = ['mlp']"
   ]
  },
  {
   "cell_type": "code",
   "execution_count": 17,
   "metadata": {},
   "outputs": [],
   "source": [
    "def main(dataset, parameters, sections, name_models, num_test):\n",
    "    \n",
    "    for name_test, approach in tests.items():\n",
    "    \n",
    "        if approach == 'sv':\n",
    "            index_Xtrain=0\n",
    "            index_ytrain=2\n",
    "        elif approach == 'mv':\n",
    "            index_Xtrain=-2\n",
    "            index_ytrain=2\n",
    "\n",
    "        print(approach)\n",
    "\n",
    "        path_to_save = \"/scratch/cinthiasouza/mv-text-summarizer/notebook/{}\".format(name_test)\n",
    "        create_directories(path_to_save)\n",
    "        \n",
    "        if not os.path.exists(\"{}/test_{}\".format(path_to_save, num_test)):\n",
    "            os.makedirs(\"{}/test_{}\".format(path_to_save, num_test))\n",
    "\n",
    "        for name_model in name_models: \n",
    "\n",
    "            classifiers.pipeline_classifiers(\n",
    "                dataset, parameters, sections, [name_model], index_Xtrain, index_ytrain, num_test, path_to_save)"
   ]
  },
  {
   "cell_type": "code",
   "execution_count": null,
   "metadata": {},
   "outputs": [],
   "source": [
    "\n",
    "from joblib import Parallel, delayed\n",
    "\n",
    "Parallel(n_jobs=5)(delayed(main)(dataset, parameters, sections, name_models, num_test) for num_test in range(1, 31))\n",
    " "
   ]
  },
  {
   "cell_type": "code",
   "execution_count": null,
   "metadata": {},
   "outputs": [],
   "source": []
  }
 ],
 "metadata": {
  "interpreter": {
   "hash": "5dd7fce1a8cb8d97b2536bbe54fd7faa274378c3acb961864d5bd989f2d52777"
  },
  "kernelspec": {
   "display_name": "Python 3",
   "language": "python",
   "name": "python3"
  }
 },
 "nbformat": 4,
 "nbformat_minor": 4
}
