{
 "cells": [
  {
   "cell_type": "code",
   "execution_count": 297,
   "id": "45b27135",
   "metadata": {},
   "outputs": [],
   "source": [
    "from sklearn.model_selection import StratifiedKFold\n",
    "from sklearn.model_selection import cross_val_score\n",
    "from sklearn.metrics import classification_report\n",
    "from sklearn.model_selection import train_test_split\n",
    "\n",
    "import pickle\n",
    "from tensorflow.keras.optimizers import Adadelta\n",
    "from tensorflow.keras.models import Model\n",
    "from tensorflow.keras.layers import Dense, Flatten, concatenate, Dropout, Input"
   ]
  },
  {
   "cell_type": "code",
   "execution_count": 298,
   "id": "1960e3ee",
   "metadata": {},
   "outputs": [],
   "source": [
    "from tensorflow import keras\n",
    "from tensorflow.keras.optimizers import Adam\n",
    "from tensorflow.keras.layers import Dense, Flatten, Dropout, InputLayer, Embedding\n",
    "from tensorflow.keras.models import Sequential\n",
    "from tensorflow.keras.models import model_from_json\n",
    "import numpy as np\n",
    "import pandas as pd\n",
    "\n",
    "from tensorflow.keras.utils import to_categorical\n",
    "from tensorflow.keras.callbacks import EarlyStopping, LearningRateScheduler\n",
    "\n",
    "from sklearn.manifold import TSNE\n",
    "import plotly.express as px"
   ]
  },
  {
   "cell_type": "code",
   "execution_count": 299,
   "id": "596521eb",
   "metadata": {},
   "outputs": [],
   "source": [
    "import sys\n",
    "sys.path.insert(1, '/scratch/cinthiasouza/mv-text-summarizer')\n",
    "\n",
    "from src import summarization\n",
    "import numpy as np\n",
    "import re\n",
    "import pickle\n",
    "\n",
    "import itertools"
   ]
  },
  {
   "cell_type": "code",
   "execution_count": 300,
   "id": "d15b4ca6",
   "metadata": {},
   "outputs": [],
   "source": [
    "def remove_ascii(text):\n",
    "    \n",
    "    return re.sub(r'[^\\x00-\\x7F]+', '', str(text))\n"
   ]
  },
  {
   "cell_type": "code",
   "execution_count": 320,
   "id": "65342d6c",
   "metadata": {},
   "outputs": [],
   "source": [
    "def pipeline_summarization(\n",
    "    features, scores, references, predictions, section, name_models,\n",
    "    summ_items, k=3, sort_scores=True, proba=False, ascending=False):\n",
    "    \n",
    "    X_test = features\n",
    "    y_test = scores\n",
    "    \n",
    "    #X_test['sentences'] = X_test['sentences'].str\n",
    "    vfunc = np.vectorize(remove_ascii)\n",
    "    X_test['sentences'] = vfunc(X_test['sentences'])\n",
    "    #X_test['sentences'] = X_test['sentences'].apply(remove_ascii)\n",
    "    \n",
    "    df_proba = summarization.create_df(name_models, X_test, y_test['rouge_1'], predictions, section, proba=proba)\n",
    "    \n",
    "    if proba:\n",
    "        df = summarization.binarize_proba(df_proba.copy(), name_models, k, sort_scores, ascending)\n",
    "    else:\n",
    "        df = df_proba.copy()\n",
    "        \n",
    "    summaries = summarization.create_summaries(df, references, summ_items, name_models)\n",
    "    \n",
    "    result = summarization.evaluate_summaries(summaries, name_models)\n",
    "    \n",
    "    return df_proba, df, summaries, result"
   ]
  },
  {
   "cell_type": "markdown",
   "id": "a7402b3e",
   "metadata": {},
   "source": [
    "# MV"
   ]
  },
  {
   "cell_type": "code",
   "execution_count": 302,
   "id": "8a293e9e",
   "metadata": {},
   "outputs": [],
   "source": [
    "def load_mlp(path_to_save, name_model, section):\n",
    "    \n",
    "    json_file = open('{}/{}_{}.json'.format(path_to_save, name_model, section), 'r')\n",
    "    model = json_file.read()\n",
    "    json_file.close()\n",
    "    model = model_from_json(model)\n",
    "    model.load_weights('{}/{}_{}.h5'.format(path_to_save, name_model, section))\n",
    "    print(\"Loaded model from disk\")\n",
    "    model.compile(loss='categorical_crossentropy', optimizer=keras.optimizers.Adam(\n",
    "                            learning_rate=0.001), metrics=[keras.metrics.Precision()])\n",
    "    \n",
    "    return model"
   ]
  },
  {
   "cell_type": "code",
   "execution_count": 303,
   "id": "706bc8e2",
   "metadata": {},
   "outputs": [],
   "source": [
    "def load_models(dataset, sections, name_models, columns, path_to_save, embed_path):\n",
    "     \n",
    "    predictions_proba = {}\n",
    "    models = {}\n",
    "\n",
    "    for section in sections:\n",
    "\n",
    "        aux = {}\n",
    "        aux_models = {}\n",
    "        for name_model in name_models:\n",
    "\n",
    "            model = load_mlp(path_to_save, name_model, section)\n",
    "            \n",
    "            if (name_model == 'mv_mlp_bert') or (name_model == 'mv_mlp'):\n",
    "                X_test_embed = pd.read_csv(\"{}_{}_test.csv\".format(embed_path, section))\n",
    "\n",
    "                y_test_embed = X_test_embed['label']\n",
    "                X_test_embed = X_test_embed[columns]\n",
    "            \n",
    "            X_test_features = dataset[section][1]\n",
    "            y_test_features = to_categorical(dataset[section][3])\n",
    "\n",
    "            if (name_model == 'mv_mlp_bert') or (name_model == 'mv_mlp'):\n",
    "                y_pred = model.predict([X_test_embed, X_test_features])\n",
    "            elif name_model == \"mlp\":\n",
    "                y_pred = model.predict(X_test_features)\n",
    "\n",
    "            aux[name_model] = y_pred\n",
    "            aux_models[name_model] = model\n",
    "\n",
    "        predictions_proba[section]= aux\n",
    "        models[section] = aux_models\n",
    "        \n",
    "    return predictions_proba, models"
   ]
  },
  {
   "cell_type": "code",
   "execution_count": 315,
   "id": "ebe71fbf",
   "metadata": {},
   "outputs": [],
   "source": [
    "X_test_embed = pd.read_csv(\"dataset/embed_bert_{}_test.csv\".format( section))\n",
    "\n",
    "y_test_embed = X_test_embed['label']\n",
    "X_test_embed = X_test_embed[columns]\n",
    "\n",
    "X_test_features = dataset[section][1]\n",
    "#y_test_features = to_categorical(dataset[section][3])"
   ]
  },
  {
   "cell_type": "code",
   "execution_count": 313,
   "id": "6f11205a",
   "metadata": {},
   "outputs": [],
   "source": [
    "folder_to_save = 'models_v1'\n",
    "path_to_save = \"/scratch/cinthiasouza/mv-text-summarizer/notebook/{}\".format(folder_to_save)\n",
    "\n",
    "sections=['introduction', 'materials', 'conclusion']\n",
    "name_models = ['mv_mlp_bert']"
   ]
  },
  {
   "cell_type": "code",
   "execution_count": 306,
   "id": "d1c23d79",
   "metadata": {},
   "outputs": [],
   "source": [
    "summ_items = pd.read_csv(\"dataset/indices_summ.csv\")['summ']"
   ]
  },
  {
   "cell_type": "code",
   "execution_count": 308,
   "id": "5a2d58db",
   "metadata": {},
   "outputs": [],
   "source": [
    "features_intro = pd.read_csv('dataset/dataset_introduction.csv')\n",
    "features_mat = pd.read_csv('dataset/dataset_materials.csv')\n",
    "features_conc = pd.read_csv('dataset/dataset_conclusion.csv')"
   ]
  },
  {
   "cell_type": "code",
   "execution_count": 309,
   "id": "7da09553",
   "metadata": {},
   "outputs": [],
   "source": [
    "references_df= pd.read_csv('dataset/references_df.csv')"
   ]
  },
  {
   "cell_type": "code",
   "execution_count": 310,
   "id": "0f3aa798",
   "metadata": {},
   "outputs": [],
   "source": [
    "columns = list(range(0, 383))\n",
    "columns = list(map(str, columns))"
   ]
  },
  {
   "cell_type": "code",
   "execution_count": 311,
   "id": "1c8da2de",
   "metadata": {},
   "outputs": [],
   "source": [
    "with open('dataset/dataset_{}.pkl'.format('features'), 'rb') as fp:\n",
    "    dataset = pickle.load(fp)"
   ]
  },
  {
   "cell_type": "code",
   "execution_count": 317,
   "id": "c1b0791d",
   "metadata": {},
   "outputs": [
    {
     "name": "stdout",
     "output_type": "stream",
     "text": [
      "Loaded model from disk\n",
      "Loaded model from disk\n",
      "Loaded model from disk\n"
     ]
    }
   ],
   "source": [
    "embed_path = 'dataset/embed_bert'\n",
    "predictions_proba, models = load_models(dataset, sections, name_models, columns, path_to_save, embed_path)"
   ]
  },
  {
   "cell_type": "code",
   "execution_count": 321,
   "id": "dfe9afa2",
   "metadata": {},
   "outputs": [],
   "source": [
    "def create_summaries(df, references, articles, name_models):\n",
    "\n",
    "    df_summaries = pd.DataFrame()\n",
    "\n",
    "    \n",
    "    for name_model in name_models:\n",
    "        \n",
    "        summaries = []\n",
    "        articles_list = []\n",
    "\n",
    "        for article in articles:\n",
    "        \n",
    "            try: \n",
    "                text = df.loc[df['articles'] == article]\n",
    "                summaries.append(' '.join(text.loc[text[name_model] == 1]['sentences'].values))\n",
    "                articles_list.append(article)\n",
    "            except TypeError:\n",
    "                summaries.append(\"\")\n",
    "        \n",
    "        \n",
    "        df_summaries[name_model] = summaries\n",
    "    \n",
    "    df_summaries['articles'] = articles\n",
    "    \n",
    "    df_summaries = df_summaries.merge(references, on='articles')\n",
    "    \n",
    "    return  df_summaries\n"
   ]
  },
  {
   "cell_type": "code",
   "execution_count": 319,
   "id": "d4da7640",
   "metadata": {},
   "outputs": [],
   "source": [
    "def binarize_proba(df, name_models, k=3, sort_scores=True, ascending=False):\n",
    "    \n",
    "    grouped_df = df.groupby('articles')\n",
    "    len(grouped_df)\n",
    "    \n",
    "    for name_model in name_models:\n",
    "\n",
    "        labels = []\n",
    "        j = 0\n",
    "        for idx, group in grouped_df:\n",
    "\n",
    "            labels.append(summarization.create_label(group.reset_index(drop=True), name_model, k, sort_scores, ascending))    \n",
    "      \n",
    "        merged = list(itertools.chain(*labels))\n",
    "        df[name_model] = merged\n",
    "        \n",
    "    return df"
   ]
  },
  {
   "cell_type": "code",
   "execution_count": 191,
   "id": "cca5a346",
   "metadata": {},
   "outputs": [],
   "source": [
    "import itertools"
   ]
  },
  {
   "cell_type": "code",
   "execution_count": 322,
   "id": "48007484",
   "metadata": {},
   "outputs": [
    {
     "name": "stderr",
     "output_type": "stream",
     "text": [
      "<ipython-input-320-ea1cacbe455d>:10: SettingWithCopyWarning: \n",
      "A value is trying to be set on a copy of a slice from a DataFrame.\n",
      "Try using .loc[row_indexer,col_indexer] = value instead\n",
      "\n",
      "See the caveats in the documentation: https://pandas.pydata.org/pandas-docs/stable/user_guide/indexing.html#returning-a-view-versus-a-copy\n",
      "  X_test['sentences'] = vfunc(X_test['sentences'])\n"
     ]
    }
   ],
   "source": [
    "section = 'introduction'\n",
    "\n",
    "df = dataset[section][5].reset_index(drop=True)\n",
    "features_intro = df[['sentences', 'articles']]\n",
    "scores_intro = pd.DataFrame()\n",
    "scores_intro['rouge_1'] = df['rouge_1']\n",
    "\n",
    "proba_intro_ex1, df_intro_ex1, summaries_intro_ex1, result_intro_ex1 = pipeline_summarization(\n",
    "    features_intro, scores_intro, references_df, predictions_proba, section, name_models,\n",
    "    summ_items, sort_scores=True, proba=True, ascending=False)"
   ]
  },
  {
   "cell_type": "code",
   "execution_count": 323,
   "id": "74fadea4",
   "metadata": {},
   "outputs": [
    {
     "name": "stderr",
     "output_type": "stream",
     "text": [
      "<ipython-input-320-ea1cacbe455d>:10: SettingWithCopyWarning: \n",
      "A value is trying to be set on a copy of a slice from a DataFrame.\n",
      "Try using .loc[row_indexer,col_indexer] = value instead\n",
      "\n",
      "See the caveats in the documentation: https://pandas.pydata.org/pandas-docs/stable/user_guide/indexing.html#returning-a-view-versus-a-copy\n",
      "  X_test['sentences'] = vfunc(X_test['sentences'])\n"
     ]
    }
   ],
   "source": [
    "section = 'materials'\n",
    "\n",
    "df = dataset[section][5].reset_index(drop=True)\n",
    "features_mat = df[['sentences', 'articles']]\n",
    "scores_mat = pd.DataFrame()\n",
    "scores_mat['rouge_1'] = df['rouge_1']\n",
    "\n",
    "proba_mat_ex1, df_mat_ex1, summaries_mat_ex1, result_mat_ex1 = pipeline_summarization(\n",
    "    features_mat, scores_mat, references_df, predictions_proba, section, name_models,\n",
    "    summ_items, sort_scores=True, proba=True, ascending=False)"
   ]
  },
  {
   "cell_type": "code",
   "execution_count": 324,
   "id": "0c08da92",
   "metadata": {},
   "outputs": [
    {
     "name": "stderr",
     "output_type": "stream",
     "text": [
      "<ipython-input-320-ea1cacbe455d>:10: SettingWithCopyWarning: \n",
      "A value is trying to be set on a copy of a slice from a DataFrame.\n",
      "Try using .loc[row_indexer,col_indexer] = value instead\n",
      "\n",
      "See the caveats in the documentation: https://pandas.pydata.org/pandas-docs/stable/user_guide/indexing.html#returning-a-view-versus-a-copy\n",
      "  X_test['sentences'] = vfunc(X_test['sentences'])\n"
     ]
    }
   ],
   "source": [
    "section = 'conclusion'\n",
    "\n",
    "df = dataset[section][5].reset_index(drop=True)\n",
    "features_conc = df[['sentences', 'articles']]\n",
    "scores_conc = pd.DataFrame()\n",
    "scores_conc['rouge_1'] = df['rouge_1']\n",
    "\n",
    "df_proba_conc_ex1, df_conc_ex1, summaries_conc_ex1, result_conc_ex1 = pipeline_summarization(\n",
    "    features_conc, scores_conc, references_df, predictions_proba, section, name_models,\n",
    "    summ_items, sort_scores=True, proba=True, ascending=False)"
   ]
  },
  {
   "cell_type": "code",
   "execution_count": 325,
   "id": "924ee565",
   "metadata": {},
   "outputs": [
    {
     "data": {
      "text/html": [
       "<div>\n",
       "<style scoped>\n",
       "    .dataframe tbody tr th:only-of-type {\n",
       "        vertical-align: middle;\n",
       "    }\n",
       "\n",
       "    .dataframe tbody tr th {\n",
       "        vertical-align: top;\n",
       "    }\n",
       "\n",
       "    .dataframe thead th {\n",
       "        text-align: right;\n",
       "    }\n",
       "</style>\n",
       "<table border=\"1\" class=\"dataframe\">\n",
       "  <thead>\n",
       "    <tr style=\"text-align: right;\">\n",
       "      <th></th>\n",
       "      <th>mv_mlp_bert_r1</th>\n",
       "      <th>mv_mlp_bert_r2</th>\n",
       "      <th>mv_mlp_bert_rl</th>\n",
       "    </tr>\n",
       "  </thead>\n",
       "  <tbody>\n",
       "    <tr>\n",
       "      <th>count</th>\n",
       "      <td>171.000000</td>\n",
       "      <td>171.000000</td>\n",
       "      <td>171.000000</td>\n",
       "    </tr>\n",
       "    <tr>\n",
       "      <th>mean</th>\n",
       "      <td>0.262703</td>\n",
       "      <td>0.099953</td>\n",
       "      <td>0.171134</td>\n",
       "    </tr>\n",
       "    <tr>\n",
       "      <th>std</th>\n",
       "      <td>0.081910</td>\n",
       "      <td>0.058081</td>\n",
       "      <td>0.060759</td>\n",
       "    </tr>\n",
       "    <tr>\n",
       "      <th>min</th>\n",
       "      <td>0.071429</td>\n",
       "      <td>0.000000</td>\n",
       "      <td>0.038647</td>\n",
       "    </tr>\n",
       "    <tr>\n",
       "      <th>25%</th>\n",
       "      <td>0.215716</td>\n",
       "      <td>0.053909</td>\n",
       "      <td>0.129650</td>\n",
       "    </tr>\n",
       "    <tr>\n",
       "      <th>50%</th>\n",
       "      <td>0.257426</td>\n",
       "      <td>0.093897</td>\n",
       "      <td>0.168831</td>\n",
       "    </tr>\n",
       "    <tr>\n",
       "      <th>75%</th>\n",
       "      <td>0.318940</td>\n",
       "      <td>0.139535</td>\n",
       "      <td>0.208396</td>\n",
       "    </tr>\n",
       "    <tr>\n",
       "      <th>max</th>\n",
       "      <td>0.471545</td>\n",
       "      <td>0.271429</td>\n",
       "      <td>0.354839</td>\n",
       "    </tr>\n",
       "  </tbody>\n",
       "</table>\n",
       "</div>"
      ],
      "text/plain": [
       "       mv_mlp_bert_r1  mv_mlp_bert_r2  mv_mlp_bert_rl\n",
       "count      171.000000      171.000000      171.000000\n",
       "mean         0.262703        0.099953        0.171134\n",
       "std          0.081910        0.058081        0.060759\n",
       "min          0.071429        0.000000        0.038647\n",
       "25%          0.215716        0.053909        0.129650\n",
       "50%          0.257426        0.093897        0.168831\n",
       "75%          0.318940        0.139535        0.208396\n",
       "max          0.471545        0.271429        0.354839"
      ]
     },
     "execution_count": 325,
     "metadata": {},
     "output_type": "execute_result"
    }
   ],
   "source": [
    "summaries_intro_ex1.describe()"
   ]
  },
  {
   "cell_type": "code",
   "execution_count": 326,
   "id": "e0b79c47",
   "metadata": {},
   "outputs": [
    {
     "data": {
      "text/html": [
       "<div>\n",
       "<style scoped>\n",
       "    .dataframe tbody tr th:only-of-type {\n",
       "        vertical-align: middle;\n",
       "    }\n",
       "\n",
       "    .dataframe tbody tr th {\n",
       "        vertical-align: top;\n",
       "    }\n",
       "\n",
       "    .dataframe thead th {\n",
       "        text-align: right;\n",
       "    }\n",
       "</style>\n",
       "<table border=\"1\" class=\"dataframe\">\n",
       "  <thead>\n",
       "    <tr style=\"text-align: right;\">\n",
       "      <th></th>\n",
       "      <th>mv_mlp_bert_r1</th>\n",
       "      <th>mv_mlp_bert_r2</th>\n",
       "      <th>mv_mlp_bert_rl</th>\n",
       "    </tr>\n",
       "  </thead>\n",
       "  <tbody>\n",
       "    <tr>\n",
       "      <th>count</th>\n",
       "      <td>171.000000</td>\n",
       "      <td>171.000000</td>\n",
       "      <td>171.000000</td>\n",
       "    </tr>\n",
       "    <tr>\n",
       "      <th>mean</th>\n",
       "      <td>0.205834</td>\n",
       "      <td>0.098120</td>\n",
       "      <td>0.152740</td>\n",
       "    </tr>\n",
       "    <tr>\n",
       "      <th>std</th>\n",
       "      <td>0.138334</td>\n",
       "      <td>0.137775</td>\n",
       "      <td>0.132108</td>\n",
       "    </tr>\n",
       "    <tr>\n",
       "      <th>min</th>\n",
       "      <td>0.000000</td>\n",
       "      <td>0.000000</td>\n",
       "      <td>0.000000</td>\n",
       "    </tr>\n",
       "    <tr>\n",
       "      <th>25%</th>\n",
       "      <td>0.110601</td>\n",
       "      <td>0.018738</td>\n",
       "      <td>0.073903</td>\n",
       "    </tr>\n",
       "    <tr>\n",
       "      <th>50%</th>\n",
       "      <td>0.163743</td>\n",
       "      <td>0.047431</td>\n",
       "      <td>0.114754</td>\n",
       "    </tr>\n",
       "    <tr>\n",
       "      <th>75%</th>\n",
       "      <td>0.269312</td>\n",
       "      <td>0.107018</td>\n",
       "      <td>0.176408</td>\n",
       "    </tr>\n",
       "    <tr>\n",
       "      <th>max</th>\n",
       "      <td>0.818182</td>\n",
       "      <td>0.815385</td>\n",
       "      <td>0.818182</td>\n",
       "    </tr>\n",
       "  </tbody>\n",
       "</table>\n",
       "</div>"
      ],
      "text/plain": [
       "       mv_mlp_bert_r1  mv_mlp_bert_r2  mv_mlp_bert_rl\n",
       "count      171.000000      171.000000      171.000000\n",
       "mean         0.205834        0.098120        0.152740\n",
       "std          0.138334        0.137775        0.132108\n",
       "min          0.000000        0.000000        0.000000\n",
       "25%          0.110601        0.018738        0.073903\n",
       "50%          0.163743        0.047431        0.114754\n",
       "75%          0.269312        0.107018        0.176408\n",
       "max          0.818182        0.815385        0.818182"
      ]
     },
     "execution_count": 326,
     "metadata": {},
     "output_type": "execute_result"
    }
   ],
   "source": [
    "summaries_mat_ex1.describe()"
   ]
  },
  {
   "cell_type": "code",
   "execution_count": 327,
   "id": "bfda59ce",
   "metadata": {},
   "outputs": [
    {
     "data": {
      "text/html": [
       "<div>\n",
       "<style scoped>\n",
       "    .dataframe tbody tr th:only-of-type {\n",
       "        vertical-align: middle;\n",
       "    }\n",
       "\n",
       "    .dataframe tbody tr th {\n",
       "        vertical-align: top;\n",
       "    }\n",
       "\n",
       "    .dataframe thead th {\n",
       "        text-align: right;\n",
       "    }\n",
       "</style>\n",
       "<table border=\"1\" class=\"dataframe\">\n",
       "  <thead>\n",
       "    <tr style=\"text-align: right;\">\n",
       "      <th></th>\n",
       "      <th>mv_mlp_bert_r1</th>\n",
       "      <th>mv_mlp_bert_r2</th>\n",
       "      <th>mv_mlp_bert_rl</th>\n",
       "    </tr>\n",
       "  </thead>\n",
       "  <tbody>\n",
       "    <tr>\n",
       "      <th>count</th>\n",
       "      <td>171.000000</td>\n",
       "      <td>171.000000</td>\n",
       "      <td>171.000000</td>\n",
       "    </tr>\n",
       "    <tr>\n",
       "      <th>mean</th>\n",
       "      <td>0.278160</td>\n",
       "      <td>0.128414</td>\n",
       "      <td>0.190985</td>\n",
       "    </tr>\n",
       "    <tr>\n",
       "      <th>std</th>\n",
       "      <td>0.105228</td>\n",
       "      <td>0.114344</td>\n",
       "      <td>0.102635</td>\n",
       "    </tr>\n",
       "    <tr>\n",
       "      <th>min</th>\n",
       "      <td>0.035398</td>\n",
       "      <td>0.000000</td>\n",
       "      <td>0.017699</td>\n",
       "    </tr>\n",
       "    <tr>\n",
       "      <th>25%</th>\n",
       "      <td>0.211465</td>\n",
       "      <td>0.052760</td>\n",
       "      <td>0.120606</td>\n",
       "    </tr>\n",
       "    <tr>\n",
       "      <th>50%</th>\n",
       "      <td>0.274510</td>\n",
       "      <td>0.092715</td>\n",
       "      <td>0.164179</td>\n",
       "    </tr>\n",
       "    <tr>\n",
       "      <th>75%</th>\n",
       "      <td>0.335768</td>\n",
       "      <td>0.160317</td>\n",
       "      <td>0.220789</td>\n",
       "    </tr>\n",
       "    <tr>\n",
       "      <th>max</th>\n",
       "      <td>0.578431</td>\n",
       "      <td>0.574257</td>\n",
       "      <td>0.578431</td>\n",
       "    </tr>\n",
       "  </tbody>\n",
       "</table>\n",
       "</div>"
      ],
      "text/plain": [
       "       mv_mlp_bert_r1  mv_mlp_bert_r2  mv_mlp_bert_rl\n",
       "count      171.000000      171.000000      171.000000\n",
       "mean         0.278160        0.128414        0.190985\n",
       "std          0.105228        0.114344        0.102635\n",
       "min          0.035398        0.000000        0.017699\n",
       "25%          0.211465        0.052760        0.120606\n",
       "50%          0.274510        0.092715        0.164179\n",
       "75%          0.335768        0.160317        0.220789\n",
       "max          0.578431        0.574257        0.578431"
      ]
     },
     "execution_count": 327,
     "metadata": {},
     "output_type": "execute_result"
    }
   ],
   "source": [
    "summaries_conc_ex1.describe()"
   ]
  },
  {
   "cell_type": "code",
   "execution_count": 328,
   "id": "424f9d81",
   "metadata": {},
   "outputs": [],
   "source": [
    "summaries_comb_ex1 = summarization.combine_three_summ(summaries_intro_ex1, summaries_mat_ex1, summaries_conc_ex1, references_df, name_models)"
   ]
  },
  {
   "cell_type": "code",
   "execution_count": 329,
   "id": "cb255256",
   "metadata": {},
   "outputs": [],
   "source": [
    "result_comb_ex1 = summarization.evaluate_summaries(summaries_comb_ex1, name_models)"
   ]
  },
  {
   "cell_type": "code",
   "execution_count": 330,
   "id": "5759a501",
   "metadata": {},
   "outputs": [
    {
     "data": {
      "text/html": [
       "<div>\n",
       "<style scoped>\n",
       "    .dataframe tbody tr th:only-of-type {\n",
       "        vertical-align: middle;\n",
       "    }\n",
       "\n",
       "    .dataframe tbody tr th {\n",
       "        vertical-align: top;\n",
       "    }\n",
       "\n",
       "    .dataframe thead th {\n",
       "        text-align: right;\n",
       "    }\n",
       "</style>\n",
       "<table border=\"1\" class=\"dataframe\">\n",
       "  <thead>\n",
       "    <tr style=\"text-align: right;\">\n",
       "      <th></th>\n",
       "      <th>mv_mlp_bert_r1</th>\n",
       "      <th>mv_mlp_bert_r2</th>\n",
       "      <th>mv_mlp_bert_rl</th>\n",
       "    </tr>\n",
       "  </thead>\n",
       "  <tbody>\n",
       "    <tr>\n",
       "      <th>count</th>\n",
       "      <td>171.000000</td>\n",
       "      <td>171.000000</td>\n",
       "      <td>171.000000</td>\n",
       "    </tr>\n",
       "    <tr>\n",
       "      <th>mean</th>\n",
       "      <td>0.380520</td>\n",
       "      <td>0.176018</td>\n",
       "      <td>0.230729</td>\n",
       "    </tr>\n",
       "    <tr>\n",
       "      <th>std</th>\n",
       "      <td>0.092544</td>\n",
       "      <td>0.101517</td>\n",
       "      <td>0.082924</td>\n",
       "    </tr>\n",
       "    <tr>\n",
       "      <th>min</th>\n",
       "      <td>0.106904</td>\n",
       "      <td>0.013423</td>\n",
       "      <td>0.066815</td>\n",
       "    </tr>\n",
       "    <tr>\n",
       "      <th>25%</th>\n",
       "      <td>0.310167</td>\n",
       "      <td>0.096272</td>\n",
       "      <td>0.166786</td>\n",
       "    </tr>\n",
       "    <tr>\n",
       "      <th>50%</th>\n",
       "      <td>0.378641</td>\n",
       "      <td>0.150685</td>\n",
       "      <td>0.213018</td>\n",
       "    </tr>\n",
       "    <tr>\n",
       "      <th>75%</th>\n",
       "      <td>0.443461</td>\n",
       "      <td>0.252142</td>\n",
       "      <td>0.283366</td>\n",
       "    </tr>\n",
       "    <tr>\n",
       "      <th>max</th>\n",
       "      <td>0.583691</td>\n",
       "      <td>0.476596</td>\n",
       "      <td>0.490706</td>\n",
       "    </tr>\n",
       "  </tbody>\n",
       "</table>\n",
       "</div>"
      ],
      "text/plain": [
       "       mv_mlp_bert_r1  mv_mlp_bert_r2  mv_mlp_bert_rl\n",
       "count      171.000000      171.000000      171.000000\n",
       "mean         0.380520        0.176018        0.230729\n",
       "std          0.092544        0.101517        0.082924\n",
       "min          0.106904        0.013423        0.066815\n",
       "25%          0.310167        0.096272        0.166786\n",
       "50%          0.378641        0.150685        0.213018\n",
       "75%          0.443461        0.252142        0.283366\n",
       "max          0.583691        0.476596        0.490706"
      ]
     },
     "execution_count": 330,
     "metadata": {},
     "output_type": "execute_result"
    }
   ],
   "source": [
    "result_comb_ex1.describe()"
   ]
  },
  {
   "cell_type": "code",
   "execution_count": null,
   "id": "8e94cd35",
   "metadata": {},
   "outputs": [],
   "source": []
  }
 ],
 "metadata": {
  "kernelspec": {
   "display_name": "Python 3",
   "language": "python",
   "name": "python3"
  },
  "language_info": {
   "codemirror_mode": {
    "name": "ipython",
    "version": 3
   },
   "file_extension": ".py",
   "mimetype": "text/x-python",
   "name": "python",
   "nbconvert_exporter": "python",
   "pygments_lexer": "ipython3",
   "version": "3.8.8"
  }
 },
 "nbformat": 4,
 "nbformat_minor": 5
}
